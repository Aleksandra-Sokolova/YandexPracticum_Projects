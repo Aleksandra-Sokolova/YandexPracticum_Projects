{
 "cells": [
  {
   "cell_type": "markdown",
   "metadata": {
    "id": "E0vqbgi9ay0H"
   },
   "source": [
    "# Проект: Яндекс.Музыка"
   ]
  },
  {
   "cell_type": "markdown",
   "metadata": {
    "id": "VUC88oWjTJw2"
   },
   "source": [
    "**Цель исследования**:\n",
    "\n",
    "Сравнить музыкальные предпочтения пользователей Москвы и Петербурга\n",
    "\n",
    "**Задачи** — проверьте три гипотезы:\n",
    "1. Активность пользователей зависит от дня недели. Причём в Москве и Петербурге это проявляется по-разному.\n",
    "2. В понедельник утром в Москве преобладают одни жанры, а в Петербурге — другие. Так же и вечером пятницы преобладают разные жанры — в зависимости от города. \n",
    "3. Москва и Петербург предпочитают разные жанры музыки. В Москве чаще слушают поп-музыку, в Петербурге — русский рэп.\n",
    "\n",
    "**Этапы выполнения**\n",
    " 1. Знакомство с данными. \n",
    " 2. Предобработка данных.\n",
    " 3. Проверка гипотез. "
   ]
  },
  {
   "cell_type": "markdown",
   "metadata": {},
   "source": [
    "**Описание данных:**\n",
    "\n",
    "**Датасет yandex_music_project.csv**\n",
    "\n",
    "Описание колонок:\n",
    "- userID — идентификатор пользователя;\n",
    "- Track — название трека;\n",
    "- artist — имя исполнителя;\n",
    "- genre — название жанра;\n",
    "- City — город пользователя;\n",
    "- time — время начала прослушивания;\n",
    "- Day — день недели."
   ]
  },
  {
   "cell_type": "markdown",
   "metadata": {},
   "source": [
    "<hr style=\"border: 2px solid green;\" />"
   ]
  },
  {
   "cell_type": "markdown",
   "metadata": {},
   "source": [
    "### Итоги исследования\n",
    "\n",
    "1. День недели по-разному влияет на активность пользователей в Москве и Петербурге. \n",
    "\n",
    "Первая гипотеза полностью подтвердилась.\n",
    "\n",
    "2. Музыкальные предпочтения не сильно меняются в течение недели — будь то Москва или Петербург. Небольшие различия заметны в начале недели, по понедельникам:\n",
    "* в Москве слушают музыку жанра “world”,\n",
    "* в Петербурге — джаз и классику.\n",
    "\n",
    "Таким образом, вторая гипотеза подтвердилась лишь отчасти. Этот результат мог оказаться иным, если бы не пропуски в данных.\n",
    "\n",
    "3. Во вкусах пользователей Москвы и Петербурга больше общего чем различий. Вопреки ожиданиям, предпочтения жанров в Петербурге напоминают московские.\n",
    "\n",
    "Третья гипотеза не подтвердилась. Если различия в предпочтениях и существуют, на основной массе пользователей они незаметны.\n",
    "\n",
    "**В данной работе не проводилась проверка статистических гипотез.**"
   ]
  },
  {
   "cell_type": "markdown",
   "metadata": {},
   "source": [
    "<hr style=\"border: 2px solid green;\" />"
   ]
  },
  {
   "cell_type": "markdown",
   "metadata": {
    "id": "Ml1hmfXC_Zcs"
   },
   "source": [
    "## Этап 1: Знакомство с данными"
   ]
  },
  {
   "cell_type": "code",
   "execution_count": 1,
   "metadata": {
    "id": "AXN7PHPN_Zcs"
   },
   "outputs": [],
   "source": [
    "# Импорт библиотек\n",
    "\n",
    "import pandas as pd\n",
    "import numpy as np\n",
    "import matplotlib.pyplot as plt\n",
    "import seaborn as sns\n",
    "import plotly.express as px\n",
    "import datetime"
   ]
  },
  {
   "cell_type": "code",
   "execution_count": 112,
   "metadata": {
    "id": "fFVu7vqh_Zct"
   },
   "outputs": [],
   "source": [
    "df = pd.read_csv(r'C:\\Users\\mirra\\Desktop\\Yandex.praktikum\\Проекты\\DA_Проекты\\DA_Final_versions\\Музыка_больших_городов_1\\yandex_music_project.csv') "
   ]
  },
  {
   "cell_type": "code",
   "execution_count": 113,
   "metadata": {},
   "outputs": [],
   "source": [
    "# Cбросим ограничения на количество выводимых столбцов\n",
    "\n",
    "pd.set_option('display.max_columns', None)\n",
    "\n",
    "# Настроим вывод всего текста\n",
    "\n",
    "pd.set_option('display.float_format', lambda x: '%.2f' % x)"
   ]
  },
  {
   "cell_type": "code",
   "execution_count": 114,
   "metadata": {},
   "outputs": [
    {
     "name": "stdout",
     "output_type": "stream",
     "text": [
      "\n",
      "\u001b[1;30;46m_____________ДАТАСЕТ:  DF_____________\u001b[0;0m\n",
      " \n",
      "\u001b[2;30;47m Вывод первых строк: \u001b[0;0m\n"
     ]
    },
    {
     "data": {
      "text/html": [
       "<div>\n",
       "<style scoped>\n",
       "    .dataframe tbody tr th:only-of-type {\n",
       "        vertical-align: middle;\n",
       "    }\n",
       "\n",
       "    .dataframe tbody tr th {\n",
       "        vertical-align: top;\n",
       "    }\n",
       "\n",
       "    .dataframe thead th {\n",
       "        text-align: right;\n",
       "    }\n",
       "</style>\n",
       "<table border=\"1\" class=\"dataframe\">\n",
       "  <thead>\n",
       "    <tr style=\"text-align: right;\">\n",
       "      <th></th>\n",
       "      <th>userID</th>\n",
       "      <th>Track</th>\n",
       "      <th>artist</th>\n",
       "      <th>genre</th>\n",
       "      <th>City</th>\n",
       "      <th>time</th>\n",
       "      <th>Day</th>\n",
       "    </tr>\n",
       "  </thead>\n",
       "  <tbody>\n",
       "    <tr>\n",
       "      <th>0</th>\n",
       "      <td>FFB692EC</td>\n",
       "      <td>Kamigata To Boots</td>\n",
       "      <td>The Mass Missile</td>\n",
       "      <td>rock</td>\n",
       "      <td>Saint-Petersburg</td>\n",
       "      <td>20:28:33</td>\n",
       "      <td>Wednesday</td>\n",
       "    </tr>\n",
       "    <tr>\n",
       "      <th>1</th>\n",
       "      <td>55204538</td>\n",
       "      <td>Delayed Because of Accident</td>\n",
       "      <td>Andreas Rönnberg</td>\n",
       "      <td>rock</td>\n",
       "      <td>Moscow</td>\n",
       "      <td>14:07:09</td>\n",
       "      <td>Friday</td>\n",
       "    </tr>\n",
       "    <tr>\n",
       "      <th>2</th>\n",
       "      <td>20EC38</td>\n",
       "      <td>Funiculì funiculà</td>\n",
       "      <td>Mario Lanza</td>\n",
       "      <td>pop</td>\n",
       "      <td>Saint-Petersburg</td>\n",
       "      <td>20:58:07</td>\n",
       "      <td>Wednesday</td>\n",
       "    </tr>\n",
       "  </tbody>\n",
       "</table>\n",
       "</div>"
      ],
      "text/plain": [
       "     userID                        Track            artist genre  \\\n",
       "0  FFB692EC            Kamigata To Boots  The Mass Missile  rock   \n",
       "1  55204538  Delayed Because of Accident  Andreas Rönnberg  rock   \n",
       "2    20EC38            Funiculì funiculà       Mario Lanza   pop   \n",
       "\n",
       "             City        time        Day  \n",
       "0  Saint-Petersburg  20:28:33  Wednesday  \n",
       "1            Moscow  14:07:09     Friday  \n",
       "2  Saint-Petersburg  20:58:07  Wednesday  "
      ]
     },
     "metadata": {},
     "output_type": "display_data"
    },
    {
     "name": "stdout",
     "output_type": "stream",
     "text": [
      "\n",
      "\u001b[2;30;47m Общая информация: \u001b[0;0m\n",
      "<class 'pandas.core.frame.DataFrame'>\n",
      "RangeIndex: 65079 entries, 0 to 65078\n",
      "Data columns (total 7 columns):\n",
      " #   Column    Non-Null Count  Dtype \n",
      "---  ------    --------------  ----- \n",
      " 0     userID  65079 non-null  object\n",
      " 1   Track     63848 non-null  object\n",
      " 2   artist    57876 non-null  object\n",
      " 3   genre     63881 non-null  object\n",
      " 4     City    65079 non-null  object\n",
      " 5   time      65079 non-null  object\n",
      " 6   Day       65079 non-null  object\n",
      "dtypes: object(7)\n",
      "memory usage: 29.1 MB\n"
     ]
    },
    {
     "data": {
      "text/plain": [
       "None"
      ]
     },
     "metadata": {},
     "output_type": "display_data"
    },
    {
     "name": "stdout",
     "output_type": "stream",
     "text": [
      "\u001b[2;30;47m Подсчет доли пропусков в %: \u001b[0;0m\n"
     ]
    },
    {
     "data": {
      "text/plain": [
       "  userID    0.00\n",
       "Track       1.89\n",
       "artist     11.07\n",
       "genre       1.84\n",
       "  City      0.00\n",
       "time        0.00\n",
       "Day         0.00\n",
       "dtype: float64"
      ]
     },
     "metadata": {},
     "output_type": "display_data"
    },
    {
     "name": "stdout",
     "output_type": "stream",
     "text": [
      "\u001b[2;30;47m Подсчет дубликатов\u001b[0;0m    5.879  %\n",
      "\n",
      "\u001b[2;30;47m Общая сводка строковых значений: \u001b[0;0m\n"
     ]
    },
    {
     "data": {
      "text/html": [
       "<div>\n",
       "<style scoped>\n",
       "    .dataframe tbody tr th:only-of-type {\n",
       "        vertical-align: middle;\n",
       "    }\n",
       "\n",
       "    .dataframe tbody tr th {\n",
       "        vertical-align: top;\n",
       "    }\n",
       "\n",
       "    .dataframe thead th {\n",
       "        text-align: right;\n",
       "    }\n",
       "</style>\n",
       "<table border=\"1\" class=\"dataframe\">\n",
       "  <thead>\n",
       "    <tr style=\"text-align: right;\">\n",
       "      <th></th>\n",
       "      <th>count</th>\n",
       "      <th>unique</th>\n",
       "      <th>top</th>\n",
       "      <th>freq</th>\n",
       "    </tr>\n",
       "  </thead>\n",
       "  <tbody>\n",
       "    <tr>\n",
       "      <th>userID</th>\n",
       "      <td>65079</td>\n",
       "      <td>41748</td>\n",
       "      <td>A8AE9169</td>\n",
       "      <td>76</td>\n",
       "    </tr>\n",
       "    <tr>\n",
       "      <th>Track</th>\n",
       "      <td>63848</td>\n",
       "      <td>47245</td>\n",
       "      <td>Intro</td>\n",
       "      <td>34</td>\n",
       "    </tr>\n",
       "    <tr>\n",
       "      <th>artist</th>\n",
       "      <td>57876</td>\n",
       "      <td>43605</td>\n",
       "      <td>Koala</td>\n",
       "      <td>6</td>\n",
       "    </tr>\n",
       "    <tr>\n",
       "      <th>genre</th>\n",
       "      <td>63881</td>\n",
       "      <td>289</td>\n",
       "      <td>pop</td>\n",
       "      <td>8850</td>\n",
       "    </tr>\n",
       "    <tr>\n",
       "      <th>City</th>\n",
       "      <td>65079</td>\n",
       "      <td>2</td>\n",
       "      <td>Moscow</td>\n",
       "      <td>45360</td>\n",
       "    </tr>\n",
       "    <tr>\n",
       "      <th>time</th>\n",
       "      <td>65079</td>\n",
       "      <td>20392</td>\n",
       "      <td>21:51:22</td>\n",
       "      <td>14</td>\n",
       "    </tr>\n",
       "    <tr>\n",
       "      <th>Day</th>\n",
       "      <td>65079</td>\n",
       "      <td>3</td>\n",
       "      <td>Friday</td>\n",
       "      <td>23149</td>\n",
       "    </tr>\n",
       "  </tbody>\n",
       "</table>\n",
       "</div>"
      ],
      "text/plain": [
       "          count unique       top   freq\n",
       "  userID  65079  41748  A8AE9169     76\n",
       "Track     63848  47245     Intro     34\n",
       "artist    57876  43605     Koala      6\n",
       "genre     63881    289       pop   8850\n",
       "  City    65079      2    Moscow  45360\n",
       "time      65079  20392  21:51:22     14\n",
       "Day       65079      3    Friday  23149"
      ]
     },
     "metadata": {},
     "output_type": "display_data"
    },
    {
     "name": "stdout",
     "output_type": "stream",
     "text": [
      "\n",
      "\u001b[2;30;47m Сводка числовых значений, включая даты: \u001b[0;0m\n"
     ]
    },
    {
     "data": {
      "text/html": [
       "<div>\n",
       "<style scoped>\n",
       "    .dataframe tbody tr th:only-of-type {\n",
       "        vertical-align: middle;\n",
       "    }\n",
       "\n",
       "    .dataframe tbody tr th {\n",
       "        vertical-align: top;\n",
       "    }\n",
       "\n",
       "    .dataframe thead th {\n",
       "        text-align: right;\n",
       "    }\n",
       "</style>\n",
       "<table border=\"1\" class=\"dataframe\">\n",
       "  <thead>\n",
       "    <tr style=\"text-align: right;\">\n",
       "      <th></th>\n",
       "      <th>count</th>\n",
       "      <th>unique</th>\n",
       "      <th>top</th>\n",
       "      <th>freq</th>\n",
       "    </tr>\n",
       "  </thead>\n",
       "  <tbody>\n",
       "    <tr>\n",
       "      <th>userID</th>\n",
       "      <td>65079</td>\n",
       "      <td>41748</td>\n",
       "      <td>A8AE9169</td>\n",
       "      <td>76</td>\n",
       "    </tr>\n",
       "    <tr>\n",
       "      <th>Track</th>\n",
       "      <td>63848</td>\n",
       "      <td>47245</td>\n",
       "      <td>Intro</td>\n",
       "      <td>34</td>\n",
       "    </tr>\n",
       "    <tr>\n",
       "      <th>artist</th>\n",
       "      <td>57876</td>\n",
       "      <td>43605</td>\n",
       "      <td>Koala</td>\n",
       "      <td>6</td>\n",
       "    </tr>\n",
       "    <tr>\n",
       "      <th>genre</th>\n",
       "      <td>63881</td>\n",
       "      <td>289</td>\n",
       "      <td>pop</td>\n",
       "      <td>8850</td>\n",
       "    </tr>\n",
       "    <tr>\n",
       "      <th>City</th>\n",
       "      <td>65079</td>\n",
       "      <td>2</td>\n",
       "      <td>Moscow</td>\n",
       "      <td>45360</td>\n",
       "    </tr>\n",
       "    <tr>\n",
       "      <th>time</th>\n",
       "      <td>65079</td>\n",
       "      <td>20392</td>\n",
       "      <td>21:51:22</td>\n",
       "      <td>14</td>\n",
       "    </tr>\n",
       "    <tr>\n",
       "      <th>Day</th>\n",
       "      <td>65079</td>\n",
       "      <td>3</td>\n",
       "      <td>Friday</td>\n",
       "      <td>23149</td>\n",
       "    </tr>\n",
       "  </tbody>\n",
       "</table>\n",
       "</div>"
      ],
      "text/plain": [
       "          count unique       top   freq\n",
       "  userID  65079  41748  A8AE9169     76\n",
       "Track     63848  47245     Intro     34\n",
       "artist    57876  43605     Koala      6\n",
       "genre     63881    289       pop   8850\n",
       "  City    65079      2    Moscow  45360\n",
       "time      65079  20392  21:51:22     14\n",
       "Day       65079      3    Friday  23149"
      ]
     },
     "metadata": {},
     "output_type": "display_data"
    },
    {
     "name": "stdout",
     "output_type": "stream",
     "text": [
      "\n",
      "\u001b[01;30;46m_____________ОКОНЧАНИЕ ОТЧЕТА ПО ДАТАСЕТУ_____________\u001b[0;0m\n",
      "\n",
      "\n"
     ]
    }
   ],
   "source": [
    "# Выведем необходимые данные с общей информацией по всем датасетам\n",
    "\n",
    "tables = [df]\n",
    "names = ['df']\n",
    "\n",
    "for name, table in zip(names, tables):\n",
    "    print(\n",
    "        f'\\n\\033[1;30;46m_____________ДАТАСЕТ:  {name.upper()}_____________\\033[0;0m\\n',\n",
    "        '\\n\\033[2;30;47m Вывод первых строк: \\033[0;0m',\n",
    "        )\n",
    "    display(table.head(3))\n",
    "    print('\\n\\033[2;30;47m Общая информация: \\033[0;0m')\n",
    "    display(table.info(memory_usage='deep'))\n",
    "    print('\\033[2;30;47m Подсчет доли пропусков в %: \\033[0;0m')\n",
    "    display(round(table.isnull().mean() * 100, 2))\n",
    "    print(\n",
    "        '\\033[2;30;47m Подсчет дубликатов\\033[0;0m', \n",
    "        '  ', round(table.duplicated().mean() * 100, 4),  ' %'\n",
    "        )\n",
    "    print('\\n\\033[2;30;47m Общая сводка строковых значений: \\033[0;0m')\n",
    "    try:\n",
    "        display(table.describe(include=['object']).T)\n",
    "    except:\n",
    "        print('Датасет не содержит строковых значений')\n",
    "    print('\\n\\033[2;30;47m Сводка числовых значений, включая даты: \\033[0;0m')\n",
    "    try:\n",
    "        display(table.describe(datetime_is_numeric=True).T)\n",
    "    except:\n",
    "        print('Датасет не содержит числовых значений')\n",
    "    print ('\\n\\033[01;30;46m_____________ОКОНЧАНИЕ ОТЧЕТА ПО ДАТАСЕТУ_____________\\033[0;0m\\n\\n')"
   ]
  },
  {
   "cell_type": "code",
   "execution_count": 115,
   "metadata": {},
   "outputs": [
    {
     "name": "stdout",
     "output_type": "stream",
     "text": [
      "Количество пропусков: 3826\n"
     ]
    }
   ],
   "source": [
    "print(\"Количество пропусков: {}\".format(df.duplicated().sum()))"
   ]
  },
  {
   "cell_type": "markdown",
   "metadata": {},
   "source": [
    "### Выводы:\n",
    "\n",
    "1. Датасет содержит 65079 записей о прослушанных треках с Яндекс Музыки;\n",
    "2. Семь (7) колонок датасета содержат данные о названии трека, имени артиста, жанре, городе, времени начала прослушивания, дне недели и ID пользователя;\n",
    "3. Пропуски в данных присутствуют:\n",
    "   - artist (11.07%), в этой колонке содержится информация о имени артиста;\n",
    "   - Track (1.89%), в этой колонке содержится информация о названии трека;\n",
    "   - genre (1.84%), в этой колонке содержится информация о жанре;      \n",
    "4. Дубликаты в данных - 3826 (5.87%);\n",
    "5. Ошибок в строковых значениях нет. Датасет содержит:\n",
    "   - 41748 уникальных ID пользователей;\n",
    "   - 47245 трека;\n",
    "   - 43605 артиста;\n",
    "   - 289 - жанра.\n",
    "6. Датасет не содержит числовых значений, все колонки, в т.ч. время прослушивания, имеет тип object. \n",
    "\n",
    "\n",
    "Предварительно можно утверждать, что, данных достаточно для проверки гипотез. Но встречаются пропуски в данных, а в названиях колонок — расхождения с хорошим стилем.\n",
    "\n",
    "Чтобы двигаться дальше, нужно устранить проблемы в данных."
   ]
  },
  {
   "cell_type": "markdown",
   "metadata": {},
   "source": [
    "## Внесение корректировок в датасеты (план для раздела Предобработки)\n",
    "\n",
    "**_Что нужно скорректировать:_**\n",
    "\n",
    "1. Названия колонок \n",
    "     - привести все к одному стандарту (сейчас верблюжий регистр)\n",
    "\n",
    "\n",
    "2. Проработать пропуски\n",
    "    - Не все пропущенные значения влияют на исследование. В `track` и `artist` пропуски не важны для целей исследования, заменим их явными обозначениями.\n",
    "    - Пропуски в genre могут помешать сравнению музыкальных вкусов в Москве и Санкт-Петербурге. Было бы правильно установить причину и восстановить данные, но такой возможности нет в учебном проекте. Поэтому заполню пропуски явными обозначениями и оценю, насколько они повлияют на расчёты.\n",
    "    \n",
    "    \n",
    "3. Проработать дубликаты\n",
    "    - Удалить явные дубликаты\n",
    "    - Проверить наличие неявных дубликатов и скорректировать"
   ]
  },
  {
   "cell_type": "markdown",
   "metadata": {
    "id": "SjYF6Ub9_Zct"
   },
   "source": [
    "## Этап 2: Предобработка данных\n",
    "\n",
    "**Задачи:**\n",
    "1. Исправить стиль в заголовках столбцов\n",
    "2. Проработака пропусков\n",
    "2. Проработака явных и неявных дубликатов"
   ]
  },
  {
   "cell_type": "markdown",
   "metadata": {},
   "source": [
    "#### Задача 1: Исправить стиль в заголовках столбцов\n",
    "\n",
    "Приведём названия в соответствие с общепринятым стилем:\n",
    "- несколько слов в названии запишем в «змеином_регистре»,\n",
    "- все символы сделаем строчными,\n",
    "- устраним пробелы.\n",
    "\n",
    "* `'  userID'` → `'user_id'`;\n",
    "* `'Track'` → `'track'`;\n",
    "* `'  City  '` → `'city'`;\n",
    "* `'Day'` → `'day'`."
   ]
  },
  {
   "cell_type": "code",
   "execution_count": 116,
   "metadata": {
    "id": "oKOTdF_Q_Zct"
   },
   "outputs": [
    {
     "data": {
      "text/plain": [
       "Index(['  userID', 'Track', 'artist', 'genre', '  City  ', 'time', 'Day'], dtype='object')"
      ]
     },
     "metadata": {},
     "output_type": "display_data"
    }
   ],
   "source": [
    "# Перечень названий столбцов таблицы df\n",
    "\n",
    "display(df.columns)"
   ]
  },
  {
   "cell_type": "code",
   "execution_count": 117,
   "metadata": {
    "id": "ISlFqs5y_Zct"
   },
   "outputs": [
    {
     "data": {
      "text/plain": [
       "Index(['user_id', 'track', 'artist', 'genre', 'city', 'time', 'day'], dtype='object')"
      ]
     },
     "metadata": {},
     "output_type": "display_data"
    }
   ],
   "source": [
    "# Преобразование к общепринятому стилю\n",
    "\n",
    "df.columns = df.columns.str.lower().str.strip()\n",
    "df = df.rename(columns={'userid' : 'user_id'}) \n",
    "\n",
    "display(df.columns)"
   ]
  },
  {
   "cell_type": "markdown",
   "metadata": {
    "id": "5ISfbcfY_Zct"
   },
   "source": [
    "#### Задача 2: Проработака пропусков\n",
    "\n",
    "Пропуски в данных присутствуют:\n",
    "  - artist (11.07%), в этой колонке содержится информация о имени артиста;\n",
    "  - Track (1.89%), в этой колонке содержится информация о названии трека;\n",
    "  - genre (1.84%), в этой колонке содержится информация о жанре; "
   ]
  },
  {
   "cell_type": "code",
   "execution_count": 118,
   "metadata": {
    "id": "RskX29qr_Zct"
   },
   "outputs": [
    {
     "data": {
      "text/plain": [
       "user_id       0\n",
       "track      1231\n",
       "artist     7203\n",
       "genre      1198\n",
       "city          0\n",
       "time          0\n",
       "day           0\n",
       "dtype: int64"
      ]
     },
     "execution_count": 118,
     "metadata": {},
     "output_type": "execute_result"
    }
   ],
   "source": [
    "# Подсчёт количества пропусков\n",
    "\n",
    "df.isna().sum()"
   ]
  },
  {
   "cell_type": "code",
   "execution_count": 119,
   "metadata": {
    "id": "KplB5qWs_Zct"
   },
   "outputs": [],
   "source": [
    "# Заменим пропущенные значения в столбцах track, artist и genre на строку 'unknown'\n",
    "\n",
    "columns_to_replace = ['track', 'artist', 'genre']\n",
    "\n",
    "for col in columns_to_replace:\n",
    "    df[col] = df[col].fillna('unknown') "
   ]
  },
  {
   "cell_type": "code",
   "execution_count": 120,
   "metadata": {
    "id": "Tq4nYRX4_Zct"
   },
   "outputs": [
    {
     "data": {
      "text/plain": [
       "user_id    0\n",
       "track      0\n",
       "artist     0\n",
       "genre      0\n",
       "city       0\n",
       "time       0\n",
       "day        0\n",
       "dtype: int64"
      ]
     },
     "execution_count": 120,
     "metadata": {},
     "output_type": "execute_result"
    }
   ],
   "source": [
    "# Проверка отсутсвия пропусков\n",
    "\n",
    "df.isna().sum()"
   ]
  },
  {
   "cell_type": "markdown",
   "metadata": {
    "id": "BWKRtBJ3_Zct"
   },
   "source": [
    "#### Задача 3: Исключить дубликаты\n",
    "\n",
    "Явных дубликатов в данных - 3826 (5.87%)"
   ]
  },
  {
   "cell_type": "code",
   "execution_count": 121,
   "metadata": {},
   "outputs": [
    {
     "name": "stdout",
     "output_type": "stream",
     "text": [
      "Количество пропусков: 3826\n"
     ]
    }
   ],
   "source": [
    "print(\"Количество пропусков: {}\".format(df.duplicated().sum()))"
   ]
  },
  {
   "cell_type": "code",
   "execution_count": 122,
   "metadata": {
    "id": "exFHq6tt_Zct"
   },
   "outputs": [],
   "source": [
    "# Удаление явных дубликатов (с удалением старых индексов и формированием новых)\n",
    "\n",
    "df = df.drop_duplicates().reset_index(drop=True)"
   ]
  },
  {
   "cell_type": "code",
   "execution_count": 123,
   "metadata": {
    "id": "-8PuNWQ0_Zct"
   },
   "outputs": [
    {
     "data": {
      "text/plain": [
       "0"
      ]
     },
     "execution_count": 123,
     "metadata": {},
     "output_type": "execute_result"
    }
   ],
   "source": [
    "# Проверка на отсутствие явных дубликатов\n",
    "    \n",
    "df.duplicated().sum()"
   ]
  },
  {
   "cell_type": "code",
   "execution_count": 136,
   "metadata": {
    "id": "JIUcqzZN_Zct"
   },
   "outputs": [
    {
     "data": {
      "text/plain": [
       "['acid',\n",
       " 'acoustic',\n",
       " 'action',\n",
       " 'adult',\n",
       " 'africa',\n",
       " 'afrikaans',\n",
       " 'alternative',\n",
       " 'alternativepunk',\n",
       " 'ambient',\n",
       " 'americana',\n",
       " 'animated',\n",
       " 'anime',\n",
       " 'arabesk',\n",
       " 'arabic',\n",
       " 'arena',\n",
       " 'argentinetango',\n",
       " 'art',\n",
       " 'audiobook',\n",
       " 'author',\n",
       " 'avantgarde',\n",
       " 'axé',\n",
       " 'baile',\n",
       " 'balkan',\n",
       " 'beats',\n",
       " 'bigroom',\n",
       " 'black',\n",
       " 'bluegrass',\n",
       " 'blues',\n",
       " 'bollywood',\n",
       " 'bossa',\n",
       " 'brazilian',\n",
       " 'breakbeat',\n",
       " 'breaks',\n",
       " 'broadway',\n",
       " 'cantautori',\n",
       " 'cantopop',\n",
       " 'canzone',\n",
       " 'caribbean',\n",
       " 'caucasian',\n",
       " 'celtic',\n",
       " 'chamber',\n",
       " 'chanson',\n",
       " 'children',\n",
       " 'chill',\n",
       " 'chinese',\n",
       " 'choral',\n",
       " 'christian',\n",
       " 'christmas',\n",
       " 'classical',\n",
       " 'classicmetal',\n",
       " 'club',\n",
       " 'colombian',\n",
       " 'comedy',\n",
       " 'conjazz',\n",
       " 'contemporary',\n",
       " 'country',\n",
       " 'cuban',\n",
       " 'dance',\n",
       " 'dancehall',\n",
       " 'dancepop',\n",
       " 'dark',\n",
       " 'death',\n",
       " 'deep',\n",
       " 'deutschrock',\n",
       " 'deutschspr',\n",
       " 'dirty',\n",
       " 'disco',\n",
       " 'dnb',\n",
       " 'documentary',\n",
       " 'downbeat',\n",
       " 'downtempo',\n",
       " 'drum',\n",
       " 'dub',\n",
       " 'dubstep',\n",
       " 'eastern',\n",
       " 'easy',\n",
       " 'electronic',\n",
       " 'electropop',\n",
       " 'emo',\n",
       " 'entehno',\n",
       " 'epicmetal',\n",
       " 'estrada',\n",
       " 'ethnic',\n",
       " 'eurofolk',\n",
       " 'european',\n",
       " 'experimental',\n",
       " 'extrememetal',\n",
       " 'fado',\n",
       " 'fairytail',\n",
       " 'film',\n",
       " 'fitness',\n",
       " 'flamenco',\n",
       " 'folk',\n",
       " 'folklore',\n",
       " 'folkmetal',\n",
       " 'folkrock',\n",
       " 'folktronica',\n",
       " 'forró',\n",
       " 'frankreich',\n",
       " 'französisch',\n",
       " 'french',\n",
       " 'funk',\n",
       " 'future',\n",
       " 'gangsta',\n",
       " 'garage',\n",
       " 'german',\n",
       " 'ghazal',\n",
       " 'gitarre',\n",
       " 'glitch',\n",
       " 'gospel',\n",
       " 'gothic',\n",
       " 'grime',\n",
       " 'grunge',\n",
       " 'gypsy',\n",
       " 'handsup',\n",
       " \"hard'n'heavy\",\n",
       " 'hardcore',\n",
       " 'hardstyle',\n",
       " 'hardtechno',\n",
       " 'hiphop',\n",
       " 'historisch',\n",
       " 'holiday',\n",
       " 'horror',\n",
       " 'house',\n",
       " 'hymn',\n",
       " 'idm',\n",
       " 'independent',\n",
       " 'indian',\n",
       " 'indie',\n",
       " 'indipop',\n",
       " 'industrial',\n",
       " 'inspirational',\n",
       " 'instrumental',\n",
       " 'international',\n",
       " 'irish',\n",
       " 'jam',\n",
       " 'japanese',\n",
       " 'jazz',\n",
       " 'jewish',\n",
       " 'jpop',\n",
       " 'jungle',\n",
       " 'k-pop',\n",
       " 'karadeniz',\n",
       " 'karaoke',\n",
       " 'kayokyoku',\n",
       " 'korean',\n",
       " 'laiko',\n",
       " 'latin',\n",
       " 'latino',\n",
       " 'leftfield',\n",
       " 'local',\n",
       " 'lounge',\n",
       " 'loungeelectronic',\n",
       " 'lovers',\n",
       " 'malaysian',\n",
       " 'mandopop',\n",
       " 'marschmusik',\n",
       " 'meditative',\n",
       " 'mediterranean',\n",
       " 'melodic',\n",
       " 'metal',\n",
       " 'metalcore',\n",
       " 'mexican',\n",
       " 'middle',\n",
       " 'minimal',\n",
       " 'miscellaneous',\n",
       " 'modern',\n",
       " 'mood',\n",
       " 'mpb',\n",
       " 'muslim',\n",
       " 'native',\n",
       " 'neoklassik',\n",
       " 'neue',\n",
       " 'new',\n",
       " 'newage',\n",
       " 'newwave',\n",
       " 'nu',\n",
       " 'nujazz',\n",
       " 'numetal',\n",
       " 'oceania',\n",
       " 'old',\n",
       " 'opera',\n",
       " 'orchestral',\n",
       " 'other',\n",
       " 'piano',\n",
       " 'podcasts',\n",
       " 'pop',\n",
       " 'popdance',\n",
       " 'popelectronic',\n",
       " 'popeurodance',\n",
       " 'poprussian',\n",
       " 'post',\n",
       " 'posthardcore',\n",
       " 'postrock',\n",
       " 'power',\n",
       " 'progmetal',\n",
       " 'progressive',\n",
       " 'psychedelic',\n",
       " 'punjabi',\n",
       " 'punk',\n",
       " 'quebecois',\n",
       " 'ragga',\n",
       " 'ram',\n",
       " 'rancheras',\n",
       " 'rap',\n",
       " 'rave',\n",
       " 'reggae',\n",
       " 'reggaeton',\n",
       " 'regional',\n",
       " 'relax',\n",
       " 'religious',\n",
       " 'retro',\n",
       " 'rhythm',\n",
       " 'rnb',\n",
       " 'rnr',\n",
       " 'rock',\n",
       " 'rockabilly',\n",
       " 'rockalternative',\n",
       " 'rockindie',\n",
       " 'rockother',\n",
       " 'romance',\n",
       " 'roots',\n",
       " 'ruspop',\n",
       " 'rusrap',\n",
       " 'rusrock',\n",
       " 'russian',\n",
       " 'salsa',\n",
       " 'samba',\n",
       " 'scenic',\n",
       " 'schlager',\n",
       " 'self',\n",
       " 'sertanejo',\n",
       " 'shanson',\n",
       " 'shoegazing',\n",
       " 'showtunes',\n",
       " 'singer',\n",
       " 'ska',\n",
       " 'skarock',\n",
       " 'slow',\n",
       " 'smooth',\n",
       " 'soft',\n",
       " 'soul',\n",
       " 'soulful',\n",
       " 'sound',\n",
       " 'soundtrack',\n",
       " 'southern',\n",
       " 'specialty',\n",
       " 'speech',\n",
       " 'spiritual',\n",
       " 'sport',\n",
       " 'stonerrock',\n",
       " 'surf',\n",
       " 'swing',\n",
       " 'synthpop',\n",
       " 'synthrock',\n",
       " 'sängerportrait',\n",
       " 'tango',\n",
       " 'tanzorchester',\n",
       " 'taraftar',\n",
       " 'tatar',\n",
       " 'tech',\n",
       " 'techno',\n",
       " 'teen',\n",
       " 'thrash',\n",
       " 'top',\n",
       " 'traditional',\n",
       " 'tradjazz',\n",
       " 'trance',\n",
       " 'tribal',\n",
       " 'trip',\n",
       " 'triphop',\n",
       " 'tropical',\n",
       " 'türk',\n",
       " 'türkçe',\n",
       " 'ukrrock',\n",
       " 'unknown',\n",
       " 'urban',\n",
       " 'uzbek',\n",
       " 'variété',\n",
       " 'vi',\n",
       " 'videogame',\n",
       " 'vocal',\n",
       " 'western',\n",
       " 'world',\n",
       " 'worldbeat',\n",
       " 'ïîï',\n",
       " 'электроника']"
      ]
     },
     "execution_count": 136,
     "metadata": {},
     "output_type": "execute_result"
    }
   ],
   "source": [
    "# Просмотр уникальных названий жанров для проверки неявных дубликатов\n",
    "    \n",
    "sorted(df['genre'].unique())\n",
    "#df['genre'].value_counts()"
   ]
  },
  {
   "cell_type": "markdown",
   "metadata": {},
   "source": [
    "**Комментарии:**\n",
    "\n",
    "- Есть неявные дубликаты жанра hiphop:\n",
    "   -  *hip*,\n",
    "   -  *hop*,\n",
    "   - *hip-hop*.\n",
    "\n",
    "Чтобы очистить от них таблицу, напишем функцию `replace_wrong_genres()` с двумя параметрами: \n",
    "* `wrong_genres` — список дубликатов,\n",
    "* `correct_genre` — строка с правильным значением.\n",
    "\n",
    "Функция должна исправить колонку `genre` в таблице `df`: заменить каждое значение из списка `wrong_genres` на значение из `correct_genre`."
   ]
  },
  {
   "cell_type": "code",
   "execution_count": 127,
   "metadata": {},
   "outputs": [
    {
     "data": {
      "text/plain": [
       "290"
      ]
     },
     "execution_count": 127,
     "metadata": {},
     "output_type": "execute_result"
    }
   ],
   "source": [
    "# Количество уникальных элементов в столбце genre\n",
    "len(df['genre'].unique())"
   ]
  },
  {
   "cell_type": "code",
   "execution_count": 132,
   "metadata": {
    "id": "ErNDkmns_Zct"
   },
   "outputs": [
    {
     "data": {
      "text/plain": [
       "287"
      ]
     },
     "execution_count": 132,
     "metadata": {},
     "output_type": "execute_result"
    }
   ],
   "source": [
    "# Функция для преобразования названий жанров (замены неявных дубликатов)\n",
    "\n",
    "def replace_wrong_genres(wrong_genres, correct_genre):\n",
    "    for genre_name in wrong_genres:\n",
    "        df['genre'] = df['genre'].replace(wrong_genres, correct_genre)\n",
    "     \n",
    "    \n",
    "# Устранение неявных дубликатов\n",
    "duplicates = ['hip', 'hop', 'hip-hop']\n",
    "name = 'hiphop'\n",
    "replace_wrong_genres(duplicates, name)       \n",
    "\n",
    "# Проверям количество уникальных элементов в столбце genre после применения функции\n",
    "len(df['genre'].unique())"
   ]
  },
  {
   "cell_type": "markdown",
   "metadata": {
    "id": "jz6a9-7HQUDd"
   },
   "source": [
    "### Выводы:\n",
    "\n",
    "В процессе предобработки исправлены ранее выявленные проблемы в данных:\n",
    "\n",
    "1. Названия колонок приведены к единому стилю\n",
    "2. Пропуски в колонках track, artist и genre заполнены заглушкой 'unknown'\n",
    "2. Явные дубликаты удалены, а неявные скорректированы:\n",
    "- после замены разных написаний одного жанра hiphop, количество уникальных названий жанров в колонке genre уменьшилось с 290 до 287"
   ]
  },
  {
   "cell_type": "markdown",
   "metadata": {
    "id": "WttZHXH0SqKk"
   },
   "source": [
    "## Этап 3: Проверка гипотез\n",
    "\n",
    "\n",
    "**Задачи** — проверьте три гипотезы:\n",
    "\n",
    "1. Активность пользователей зависит от дня недели. Причём в Москве и Петербурге это проявляется по-разному.\n",
    "2. В понедельник утром в Москве преобладают одни жанры, а в Петербурге — другие. Так же и вечером пятницы преобладают разные жанры — в зависимости от города. \n",
    "3. Москва и Петербург предпочитают разные жанры музыки. В Москве чаще слушают поп-музыку, в Петербурге — русский рэп."
   ]
  },
  {
   "cell_type": "markdown",
   "metadata": {
    "id": "Im936VVi_Zcu"
   },
   "source": [
    "### Задача 1: Сравнение поведения пользователей двух столиц\n",
    "\n",
    "Первая гипотеза утверждает, что пользователи по-разному слушают музыку в Москве и Санкт-Петербурге. Проверьте это предположение по данным о трёх днях недели — понедельнике, среде и пятнице. Для этого:\n",
    "\n",
    "* Разделите пользователей Москвы и Санкт-Петербурга\n",
    "* Сравните, сколько треков послушала каждая группа пользователей в понедельник, среду и пятницу."
   ]
  },
  {
   "cell_type": "code",
   "execution_count": 154,
   "metadata": {},
   "outputs": [
    {
     "name": "stdout",
     "output_type": "stream",
     "text": [
      "Всего прослушиваний: 61253\n"
     ]
    }
   ],
   "source": [
    "print('Всего прослушиваний:', df.shape[0])"
   ]
  },
  {
   "cell_type": "code",
   "execution_count": 177,
   "metadata": {
    "id": "0_Qs96oh_Zcu"
   },
   "outputs": [
    {
     "data": {
      "image/png": "[encoded data removed]",
      "text/plain": [
       "<Figure size 576x288 with 1 Axes>"
      ]
     },
     "metadata": {
      "needs_background": "light"
     },
     "output_type": "display_data"
    },
    {
     "data": {
      "text/html": [
       "<div>\n",
       "<style scoped>\n",
       "    .dataframe tbody tr th:only-of-type {\n",
       "        vertical-align: middle;\n",
       "    }\n",
       "\n",
       "    .dataframe tbody tr th {\n",
       "        vertical-align: top;\n",
       "    }\n",
       "\n",
       "    .dataframe thead th {\n",
       "        text-align: right;\n",
       "    }\n",
       "</style>\n",
       "<table border=\"1\" class=\"dataframe\">\n",
       "  <thead>\n",
       "    <tr style=\"text-align: right;\">\n",
       "      <th></th>\n",
       "      <th>city</th>\n",
       "      <th>listening_count</th>\n",
       "      <th>share</th>\n",
       "    </tr>\n",
       "  </thead>\n",
       "  <tbody>\n",
       "    <tr>\n",
       "      <th>0</th>\n",
       "      <td>Saint-Petersburg</td>\n",
       "      <td>18512</td>\n",
       "      <td>30.22</td>\n",
       "    </tr>\n",
       "    <tr>\n",
       "      <th>1</th>\n",
       "      <td>Moscow</td>\n",
       "      <td>42741</td>\n",
       "      <td>69.78</td>\n",
       "    </tr>\n",
       "  </tbody>\n",
       "</table>\n",
       "</div>"
      ],
      "text/plain": [
       "               city  listening_count  share\n",
       "0  Saint-Petersburg            18512  30.22\n",
       "1            Moscow            42741  69.78"
      ]
     },
     "execution_count": 177,
     "metadata": {},
     "output_type": "execute_result"
    }
   ],
   "source": [
    "# Подсчёт прослушиваний в каждом городе\n",
    "\n",
    "user_activity = (\n",
    "    df.groupby('city')['user_id'].count()\n",
    "    .to_frame()\n",
    "    .rename(columns={'user_id':'listening_count'})\n",
    "    .sort_values(by='listening_count')\n",
    "    .reset_index()\n",
    ")\n",
    "\n",
    "user_activity['share'] = user_activity['listening_count'] / user_activity['listening_count'].sum() * 100\n",
    "\n",
    "plt.figure(figsize=(8, 4))\n",
    "plt.grid(True)\n",
    "sns.barplot(y='listening_count', x='city', data=user_activity, color=\"darkturquoise\",  palette=\"magma\", saturation=.5)\n",
    "#plt.xticks(rotation=70)\n",
    "plt.title('Количество прослушиваний в каждом городе')\n",
    "plt.xlabel('Город')\n",
    "plt.ylabel('Количество прослушиваний')\n",
    "plt.show()\n",
    "\n",
    "user_activity"
   ]
  },
  {
   "cell_type": "markdown",
   "metadata": {},
   "source": [
    "**Комментарии к графику:**\n",
    "\n",
    "- Доля прослушиваний:\n",
    "    - В Москве: 69.78%\n",
    "    - В Санкт-Петербурге: 30.22%\n",
    "- В Москве прослушиваний больше, чем в Петербурге. Из этого не следует, что московские пользователи чаще слушают музыку. Просто самих пользователей в Москве больше."
   ]
  },
  {
   "cell_type": "code",
   "execution_count": 176,
   "metadata": {
    "id": "uZMKjiJz_Zcu"
   },
   "outputs": [
    {
     "data": {
      "image/png": "[encoded data removed]",
      "text/plain": [
       "<Figure size 576x288 with 1 Axes>"
      ]
     },
     "metadata": {
      "needs_background": "light"
     },
     "output_type": "display_data"
    },
    {
     "data": {
      "text/html": [
       "<div>\n",
       "<style scoped>\n",
       "    .dataframe tbody tr th:only-of-type {\n",
       "        vertical-align: middle;\n",
       "    }\n",
       "\n",
       "    .dataframe tbody tr th {\n",
       "        vertical-align: top;\n",
       "    }\n",
       "\n",
       "    .dataframe thead th {\n",
       "        text-align: right;\n",
       "    }\n",
       "</style>\n",
       "<table border=\"1\" class=\"dataframe\">\n",
       "  <thead>\n",
       "    <tr style=\"text-align: right;\">\n",
       "      <th></th>\n",
       "      <th>day</th>\n",
       "      <th>listening_count</th>\n",
       "      <th>share</th>\n",
       "    </tr>\n",
       "  </thead>\n",
       "  <tbody>\n",
       "    <tr>\n",
       "      <th>0</th>\n",
       "      <td>Wednesday</td>\n",
       "      <td>18059</td>\n",
       "      <td>29.48</td>\n",
       "    </tr>\n",
       "    <tr>\n",
       "      <th>1</th>\n",
       "      <td>Monday</td>\n",
       "      <td>21354</td>\n",
       "      <td>34.86</td>\n",
       "    </tr>\n",
       "    <tr>\n",
       "      <th>2</th>\n",
       "      <td>Friday</td>\n",
       "      <td>21840</td>\n",
       "      <td>35.66</td>\n",
       "    </tr>\n",
       "  </tbody>\n",
       "</table>\n",
       "</div>"
      ],
      "text/plain": [
       "         day  listening_count  share\n",
       "0  Wednesday            18059  29.48\n",
       "1     Monday            21354  34.86\n",
       "2     Friday            21840  35.66"
      ]
     },
     "execution_count": 176,
     "metadata": {},
     "output_type": "execute_result"
    }
   ],
   "source": [
    "# Подсчёт прослушиваний в каждый из трёх дней\n",
    "\n",
    "weekday = (\n",
    "    df.groupby('day')['user_id'].count()\n",
    "    .to_frame()\n",
    "    .rename(columns={'user_id':'listening_count'})\n",
    "    .sort_values(by='listening_count')\n",
    "    .reset_index()\n",
    ")\n",
    "\n",
    "weekday['share'] = weekday['listening_count'] / weekday['listening_count'].sum() * 100\n",
    "\n",
    "plt.figure(figsize=(8, 4))\n",
    "plt.grid(True)\n",
    "sns.barplot(y='listening_count', x='day', data=weekday, color=\"darkturquoise\",  palette=\"magma\", saturation=.5)\n",
    "#plt.xticks(rotation=70)\n",
    "plt.title('Количество прослушиваний треков по дням')\n",
    "plt.xlabel('День недели')\n",
    "plt.ylabel('Количество прослушиваний')\n",
    "plt.show()\n",
    "\n",
    "weekday"
   ]
  },
  {
   "cell_type": "markdown",
   "metadata": {},
   "source": [
    "**Комментарии к графику:**\n",
    "\n",
    "- Доля прослушиваний:\n",
    "    - По понедельникам: 29.48%\n",
    "    - По средам: 34.86%\n",
    "    - По пятницам: 35.66%\n",
    "- В среднем пользователи из двух городов менее активны по средам. Но картина может измениться, если рассмотреть каждый город в отдельности."
   ]
  },
  {
   "cell_type": "code",
   "execution_count": 175,
   "metadata": {},
   "outputs": [
    {
     "data": {
      "image/png": "[encoded data removed]",
      "text/plain": [
       "<Figure size 576x288 with 1 Axes>"
      ]
     },
     "metadata": {
      "needs_background": "light"
     },
     "output_type": "display_data"
    },
    {
     "data": {
      "text/html": [
       "<div>\n",
       "<style scoped>\n",
       "    .dataframe tbody tr th:only-of-type {\n",
       "        vertical-align: middle;\n",
       "    }\n",
       "\n",
       "    .dataframe tbody tr th {\n",
       "        vertical-align: top;\n",
       "    }\n",
       "\n",
       "    .dataframe thead th {\n",
       "        text-align: right;\n",
       "    }\n",
       "</style>\n",
       "<table border=\"1\" class=\"dataframe\">\n",
       "  <thead>\n",
       "    <tr style=\"text-align: right;\">\n",
       "      <th></th>\n",
       "      <th>city</th>\n",
       "      <th>day</th>\n",
       "      <th>listening_count</th>\n",
       "    </tr>\n",
       "  </thead>\n",
       "  <tbody>\n",
       "    <tr>\n",
       "      <th>0</th>\n",
       "      <td>Saint-Petersburg</td>\n",
       "      <td>Monday</td>\n",
       "      <td>5614</td>\n",
       "    </tr>\n",
       "    <tr>\n",
       "      <th>1</th>\n",
       "      <td>Saint-Petersburg</td>\n",
       "      <td>Friday</td>\n",
       "      <td>5895</td>\n",
       "    </tr>\n",
       "    <tr>\n",
       "      <th>2</th>\n",
       "      <td>Saint-Petersburg</td>\n",
       "      <td>Wednesday</td>\n",
       "      <td>7003</td>\n",
       "    </tr>\n",
       "    <tr>\n",
       "      <th>3</th>\n",
       "      <td>Moscow</td>\n",
       "      <td>Wednesday</td>\n",
       "      <td>11056</td>\n",
       "    </tr>\n",
       "    <tr>\n",
       "      <th>4</th>\n",
       "      <td>Moscow</td>\n",
       "      <td>Monday</td>\n",
       "      <td>15740</td>\n",
       "    </tr>\n",
       "    <tr>\n",
       "      <th>5</th>\n",
       "      <td>Moscow</td>\n",
       "      <td>Friday</td>\n",
       "      <td>15945</td>\n",
       "    </tr>\n",
       "  </tbody>\n",
       "</table>\n",
       "</div>"
      ],
      "text/plain": [
       "               city        day  listening_count\n",
       "0  Saint-Petersburg     Monday             5614\n",
       "1  Saint-Petersburg     Friday             5895\n",
       "2  Saint-Petersburg  Wednesday             7003\n",
       "3            Moscow  Wednesday            11056\n",
       "4            Moscow     Monday            15740\n",
       "5            Moscow     Friday            15945"
      ]
     },
     "execution_count": 175,
     "metadata": {},
     "output_type": "execute_result"
    }
   ],
   "source": [
    "city_day = (\n",
    "    df.groupby(['city', 'day'])['user_id'].count()\n",
    "    .to_frame()\n",
    "    .rename(columns={'user_id':'listening_count'})\n",
    "    .sort_values(by='listening_count')\n",
    "    .reset_index()\n",
    ")\n",
    "\n",
    "plt.figure(figsize=(8, 4))\n",
    "plt.grid(True)\n",
    "sns.barplot(y='listening_count', x='city', data=city_day, hue='day', color=\"darkturquoise\",  palette=\"magma\", saturation=.5)\n",
    "#plt.xticks(rotation=70)\n",
    "plt.title('Количество прослушиваний треков по городам и дням')\n",
    "plt.xlabel('Город')\n",
    "plt.ylabel('Количество прослушиваний')\n",
    "plt.show()\n",
    "\n",
    "city_day"
   ]
  },
  {
   "cell_type": "code",
   "execution_count": 178,
   "metadata": {
    "id": "Nz3GdQB1_Zcu"
   },
   "outputs": [],
   "source": [
    "def number_tracks(day, city):\n",
    "    track_list = df[df['day'] == day]\n",
    "    track_list = track_list[track_list['city'] == city]\n",
    "    track_list_count = track_list['user_id'].count()\n",
    "    return track_list_count                  \n",
    "                                  \n",
    "# print(number_tracks('Monday', 'Moscow'))\n",
    "# print(number_tracks('Monday', 'Saint-Petersburg'))\n",
    "# print(number_tracks('Wednesday', 'Moscow'))\n",
    "# print(number_tracks('Wednesday', 'Saint-Petersburg'))\n",
    "# print(number_tracks('Friday', 'Moscow'))\n",
    "# print(number_tracks('Friday', 'Saint-Petersburg'))\n",
    "\n",
    "data = [\n",
    "    ['Moscow', 15740, 11056, 15945],\n",
    "    ['Saint-Petersburg', 5614, 7003, 5895]\n",
    "]\n",
    "columns = ['city', 'monday', 'wednesday', 'friday']\n",
    "city_day = pd.DataFrame(data=data, columns=columns)\n",
    "display(city_day)"
   ]
  },
  {
   "cell_type": "markdown",
   "metadata": {},
   "source": [
    "### Выводы по первой задаче:\n",
    "\n",
    "Данные показывают разницу поведения пользователей:\n",
    "- В Москве пик прослушиваний приходится на понедельник и пятницу, а в среду заметен спад.\n",
    "- В Петербурге, наоборот, больше слушают музыку по средам. Активность в понедельник и пятницу здесь почти в равной мере уступает среде.\n",
    "\n",
    "Значит, данные говорят в пользу первой гипотезы."
   ]
  },
  {
   "cell_type": "markdown",
   "metadata": {
    "id": "atZAxtq4_Zcu"
   },
   "source": [
    "### Задача 2: Музыка в начале и в конце недели\n",
    "\n",
    "Согласно второй гипотезе, утром в понедельник в Москве преобладают одни жанры, а в Петербурге — другие. Так же и вечером пятницы преобладают разные жанры — в зависимости от города."
   ]
  },
  {
   "cell_type": "markdown",
   "metadata": {
    "id": "S8UcW6Hw_Zcu"
   },
   "source": [
    "Сохраните таблицы с данными в две переменные:\n",
    "* по Москве — в `moscow_general`;\n",
    "* по Санкт-Петербургу — в `spb_general`."
   ]
  },
  {
   "cell_type": "code",
   "execution_count": 186,
   "metadata": {
    "id": "qeaFfM_P_Zcu"
   },
   "outputs": [],
   "source": [
    "moscow_general = df[df['city'] == 'Moscow']\n",
    "spb_general = df[df['city'] == 'Saint-Petersburg']\n",
    "#spb_general.head()"
   ]
  },
  {
   "cell_type": "code",
   "execution_count": 195,
   "metadata": {
    "id": "laJT9BYl_Zcu"
   },
   "outputs": [
    {
     "name": "stdout",
     "output_type": "stream",
     "text": [
      "Москва, понедельник с 7:00 до 11:00, Топ-10 популярных жанров: genre\n",
      "pop            781\n",
      "dance          549\n",
      "electronic     480\n",
      "rock           474\n",
      "hiphop         286\n",
      "ruspop         186\n",
      "world          181\n",
      "rusrap         175\n",
      "alternative    164\n",
      "unknown        161\n",
      "Name: genre, dtype: int64\n",
      "\n",
      "Москва, пятница с 17:00 до 23:00, Топ-10 популярных жанров: genre\n",
      "pop            713\n",
      "rock           517\n",
      "dance          495\n",
      "electronic     482\n",
      "hiphop         273\n",
      "world          208\n",
      "ruspop         170\n",
      "alternative    163\n",
      "classical      163\n",
      "rusrap         142\n",
      "Name: genre, dtype: int64\n",
      "\n",
      "Санкт-Петербург, понедельник с 7:00 до 11:00, Топ-10 популярных жанров: genre\n",
      "pop            218\n",
      "dance          182\n",
      "rock           162\n",
      "electronic     147\n",
      "hiphop          80\n",
      "ruspop          64\n",
      "alternative     58\n",
      "rusrap          55\n",
      "jazz            44\n",
      "classical       40\n",
      "Name: genre, dtype: int64\n",
      "\n",
      "Санкт-Петербург, пятница с 17:00 до 23:00, Топ-10 популярных жанров: genre\n",
      "pop            256\n",
      "electronic     216\n",
      "rock           216\n",
      "dance          210\n",
      "hiphop          97\n",
      "alternative     63\n",
      "jazz            61\n",
      "classical       60\n",
      "rusrap          59\n",
      "world           54\n",
      "Name: genre, dtype: int64\n"
     ]
    }
   ],
   "source": [
    "# Объявление функции genre_weekday() с параметрами table, day, time1, time2,\n",
    "# которая возвращает информацию о самых популярных жанрах в указанный день в заданное время\n",
    "\n",
    "def genre_weekday(table, day, time1, time2):\n",
    "    genre_df = table[(table['day'] == day) & (table['time'] > time1) & (table['time'] < time2)]\n",
    "    genre_df_count = genre_df.groupby('genre')['genre'].count()\n",
    "    genre_df_sorted = genre_df_count.sort_values(ascending=False)\n",
    "    genre_df_sorted.head(10)\n",
    "    return genre_df_sorted\n",
    "\n",
    "print('Москва, понедельник с 7:00 до 11:00, Топ-10 популярных жанров:', genre_weekday(moscow_general, 'Monday', '07:00', '11:00').head(10))\n",
    "print()\n",
    "print('Москва, пятница с 17:00 до 23:00, Топ-10 популярных жанров:', genre_weekday(moscow_general, 'Friday', '17:00', '23:00').head(10))\n",
    "print()\n",
    "print('Санкт-Петербург, понедельник с 7:00 до 11:00, Топ-10 популярных жанров:', genre_weekday(spb_general, 'Monday', '07:00', '11:00').head(10))\n",
    "print()\n",
    "print('Санкт-Петербург, пятница с 17:00 до 23:00, Топ-10 популярных жанров:', genre_weekday(spb_general, 'Friday', '17:00', '23:00').head(10))"
   ]
  },
  {
   "cell_type": "markdown",
   "metadata": {
    "id": "wrCe4MNX_Zcu"
   },
   "source": [
    "### Выводы по второй задаче:\n",
    "\n",
    "Если сравнить топ-10 жанров в понедельник утром, можно сделать такие выводы:\n",
    "\n",
    "1. В Москве и Петербурге слушают похожую музыку. Единственное отличие — в московский рейтинг вошёл жанр “world”, а в петербургский — джаз и классика.\n",
    "\n",
    "2. В Москве пропущенных значений оказалось так много, что значение `'unknown'` заняло десятое место среди самых популярных жанров. Значит, пропущенные значения занимают существенную долю в данных и угрожают достоверности исследования.\n",
    "\n",
    "Вечер пятницы не меняет эту картину. Некоторые жанры поднимаются немного выше, другие спускаются, но в целом топ-10 остаётся тем же самым.\n",
    "\n",
    "Таким образом, вторая гипотеза подтвердилась лишь частично:\n",
    "* Пользователи слушают похожую музыку в начале недели и в конце.\n",
    "* Разница между Москвой и Петербургом не слишком выражена. В Москве чаще слушают русскую популярную музыку, в Петербурге — джаз.\n",
    "\n",
    "Однако пропуски в данных ставят под сомнение этот результат. В Москве их так много, что рейтинг топ-10 мог бы выглядеть иначе, если бы не утерянные  данные о жанрах."
   ]
  },
  {
   "cell_type": "markdown",
   "metadata": {
    "id": "JolODAqr_Zcu"
   },
   "source": [
    "### Задача 3: Жанровые предпочтения в Москве и Петербурге\n",
    "\n",
    "Гипотеза: Петербург — столица рэпа, музыку этого жанра там слушают чаще, чем в Москве. А Москва — город контрастов, в котором, тем не менее, преобладает поп-музыка."
   ]
  },
  {
   "cell_type": "markdown",
   "metadata": {
    "id": "DlegSvaT_Zcu"
   },
   "source": [
    "Сгруппируйте таблицу `moscow_general` по жанру и посчитайте прослушивания треков каждого жанра методом `count()`. Затем отсортируйте результат в порядке убывания и сохраните его в таблице `moscow_genres`."
   ]
  },
  {
   "cell_type": "code",
   "execution_count": 206,
   "metadata": {
    "id": "r19lIPke_Zcu"
   },
   "outputs": [
    {
     "data": {
      "image/png": "[encoded data removed]",
      "text/plain": [
       "<Figure size 576x288 with 1 Axes>"
      ]
     },
     "metadata": {
      "needs_background": "light"
     },
     "output_type": "display_data"
    },
    {
     "data": {
      "text/html": [
       "<div>\n",
       "<style scoped>\n",
       "    .dataframe tbody tr th:only-of-type {\n",
       "        vertical-align: middle;\n",
       "    }\n",
       "\n",
       "    .dataframe tbody tr th {\n",
       "        vertical-align: top;\n",
       "    }\n",
       "\n",
       "    .dataframe thead th {\n",
       "        text-align: right;\n",
       "    }\n",
       "</style>\n",
       "<table border=\"1\" class=\"dataframe\">\n",
       "  <thead>\n",
       "    <tr style=\"text-align: right;\">\n",
       "      <th></th>\n",
       "      <th>genre</th>\n",
       "      <th>listening_count</th>\n",
       "    </tr>\n",
       "  </thead>\n",
       "  <tbody>\n",
       "    <tr>\n",
       "      <th>0</th>\n",
       "      <td>pop</td>\n",
       "      <td>5892</td>\n",
       "    </tr>\n",
       "    <tr>\n",
       "      <th>1</th>\n",
       "      <td>dance</td>\n",
       "      <td>4435</td>\n",
       "    </tr>\n",
       "    <tr>\n",
       "      <th>2</th>\n",
       "      <td>rock</td>\n",
       "      <td>3965</td>\n",
       "    </tr>\n",
       "    <tr>\n",
       "      <th>3</th>\n",
       "      <td>electronic</td>\n",
       "      <td>3786</td>\n",
       "    </tr>\n",
       "    <tr>\n",
       "      <th>4</th>\n",
       "      <td>hiphop</td>\n",
       "      <td>2096</td>\n",
       "    </tr>\n",
       "    <tr>\n",
       "      <th>5</th>\n",
       "      <td>classical</td>\n",
       "      <td>1616</td>\n",
       "    </tr>\n",
       "    <tr>\n",
       "      <th>6</th>\n",
       "      <td>world</td>\n",
       "      <td>1432</td>\n",
       "    </tr>\n",
       "    <tr>\n",
       "      <th>7</th>\n",
       "      <td>alternative</td>\n",
       "      <td>1379</td>\n",
       "    </tr>\n",
       "    <tr>\n",
       "      <th>8</th>\n",
       "      <td>ruspop</td>\n",
       "      <td>1372</td>\n",
       "    </tr>\n",
       "    <tr>\n",
       "      <th>9</th>\n",
       "      <td>rusrap</td>\n",
       "      <td>1161</td>\n",
       "    </tr>\n",
       "  </tbody>\n",
       "</table>\n",
       "</div>"
      ],
      "text/plain": [
       "         genre  listening_count\n",
       "0          pop             5892\n",
       "1        dance             4435\n",
       "2         rock             3965\n",
       "3   electronic             3786\n",
       "4       hiphop             2096\n",
       "5    classical             1616\n",
       "6        world             1432\n",
       "7  alternative             1379\n",
       "8       ruspop             1372\n",
       "9       rusrap             1161"
      ]
     },
     "execution_count": 206,
     "metadata": {},
     "output_type": "execute_result"
    }
   ],
   "source": [
    "moscow_genres = (\n",
    "    moscow_general.groupby('genre')['genre'].count()\n",
    "    .sort_values(ascending=False).head(10)\n",
    "    .to_frame()\n",
    "    .rename(columns={'genre':'listening_count'})\n",
    "    .reset_index()\n",
    ")\n",
    "\n",
    "plt.figure(figsize=(8, 4))\n",
    "plt.grid(True)\n",
    "sns.barplot(y='listening_count', x='genre', data=moscow_genres, color=\"darkturquoise\",  palette=\"magma\", saturation=.5)\n",
    "plt.xticks(rotation=70)\n",
    "plt.title('Количество прослушиваний ТОП-10 жанров в Москве')\n",
    "plt.xlabel('Жанр')\n",
    "plt.ylabel('Количество прослушиваний')\n",
    "plt.show()\n",
    "\n",
    "moscow_genres"
   ]
  },
  {
   "cell_type": "code",
   "execution_count": 207,
   "metadata": {
    "id": "gluLIpE7_Zcv"
   },
   "outputs": [
    {
     "data": {
      "image/png": "[encoded data removed]",
      "text/plain": [
       "<Figure size 576x288 with 1 Axes>"
      ]
     },
     "metadata": {
      "needs_background": "light"
     },
     "output_type": "display_data"
    },
    {
     "data": {
      "text/html": [
       "<div>\n",
       "<style scoped>\n",
       "    .dataframe tbody tr th:only-of-type {\n",
       "        vertical-align: middle;\n",
       "    }\n",
       "\n",
       "    .dataframe tbody tr th {\n",
       "        vertical-align: top;\n",
       "    }\n",
       "\n",
       "    .dataframe thead th {\n",
       "        text-align: right;\n",
       "    }\n",
       "</style>\n",
       "<table border=\"1\" class=\"dataframe\">\n",
       "  <thead>\n",
       "    <tr style=\"text-align: right;\">\n",
       "      <th></th>\n",
       "      <th>genre</th>\n",
       "      <th>listening_count</th>\n",
       "    </tr>\n",
       "  </thead>\n",
       "  <tbody>\n",
       "    <tr>\n",
       "      <th>0</th>\n",
       "      <td>pop</td>\n",
       "      <td>2431</td>\n",
       "    </tr>\n",
       "    <tr>\n",
       "      <th>1</th>\n",
       "      <td>dance</td>\n",
       "      <td>1932</td>\n",
       "    </tr>\n",
       "    <tr>\n",
       "      <th>2</th>\n",
       "      <td>rock</td>\n",
       "      <td>1879</td>\n",
       "    </tr>\n",
       "    <tr>\n",
       "      <th>3</th>\n",
       "      <td>electronic</td>\n",
       "      <td>1736</td>\n",
       "    </tr>\n",
       "    <tr>\n",
       "      <th>4</th>\n",
       "      <td>hiphop</td>\n",
       "      <td>960</td>\n",
       "    </tr>\n",
       "    <tr>\n",
       "      <th>5</th>\n",
       "      <td>alternative</td>\n",
       "      <td>649</td>\n",
       "    </tr>\n",
       "    <tr>\n",
       "      <th>6</th>\n",
       "      <td>classical</td>\n",
       "      <td>646</td>\n",
       "    </tr>\n",
       "    <tr>\n",
       "      <th>7</th>\n",
       "      <td>rusrap</td>\n",
       "      <td>564</td>\n",
       "    </tr>\n",
       "    <tr>\n",
       "      <th>8</th>\n",
       "      <td>ruspop</td>\n",
       "      <td>538</td>\n",
       "    </tr>\n",
       "    <tr>\n",
       "      <th>9</th>\n",
       "      <td>world</td>\n",
       "      <td>515</td>\n",
       "    </tr>\n",
       "  </tbody>\n",
       "</table>\n",
       "</div>"
      ],
      "text/plain": [
       "         genre  listening_count\n",
       "0          pop             2431\n",
       "1        dance             1932\n",
       "2         rock             1879\n",
       "3   electronic             1736\n",
       "4       hiphop              960\n",
       "5  alternative              649\n",
       "6    classical              646\n",
       "7       rusrap              564\n",
       "8       ruspop              538\n",
       "9        world              515"
      ]
     },
     "execution_count": 207,
     "metadata": {},
     "output_type": "execute_result"
    }
   ],
   "source": [
    "spb_genres = (\n",
    "    spb_general.groupby('genre')['genre'].count()\n",
    "    .sort_values(ascending=False).head(10)\n",
    "    .to_frame()\n",
    "    .rename(columns={'genre':'listening_count'})\n",
    "    .reset_index()\n",
    ")\n",
    "\n",
    "plt.figure(figsize=(8, 4))\n",
    "plt.grid(True)\n",
    "sns.barplot(y='listening_count', x='genre', data=spb_genres, color=\"darkturquoise\",  palette=\"magma\", saturation=.5)\n",
    "plt.xticks(rotation=70)\n",
    "plt.title('Количество прослушиваний ТОП-10 жанров в Петербурге')\n",
    "plt.xlabel('Жанр')\n",
    "plt.ylabel('Количество прослушиваний')\n",
    "plt.show()\n",
    "\n",
    "spb_genres"
   ]
  },
  {
   "cell_type": "markdown",
   "metadata": {
    "id": "RY51YJYu_Zcv"
   },
   "source": [
    "### Выводы по третьей задаче:\n",
    "\n",
    "Гипотеза частично подтвердилась:\n",
    "* Поп-музыка — самый популярный жанр в Москве, как и предполагала гипотеза. Более того, в топ-10 жанров встречается близкий жанр — русская популярная музыка.\n",
    "* Вопреки ожиданиям, рэп одинаково популярен в Москве и Петербурге. "
   ]
  },
  {
   "cell_type": "markdown",
   "metadata": {
    "id": "ykKQ0N65_Zcv"
   },
   "source": [
    "## Итоги исследования"
   ]
  },
  {
   "cell_type": "markdown",
   "metadata": {
    "id": "tjUwbHb3_Zcv"
   },
   "source": [
    "1. День недели по-разному влияет на активность пользователей в Москве и Петербурге. \n",
    "\n",
    "Первая гипотеза полностью подтвердилась.\n",
    "\n",
    "2. Музыкальные предпочтения не сильно меняются в течение недели — будь то Москва или Петербург. Небольшие различия заметны в начале недели, по понедельникам:\n",
    "* в Москве слушают музыку жанра “world”,\n",
    "* в Петербурге — джаз и классику.\n",
    "\n",
    "Таким образом, вторая гипотеза подтвердилась лишь отчасти. Этот результат мог оказаться иным, если бы не пропуски в данных.\n",
    "\n",
    "3. Во вкусах пользователей Москвы и Петербурга больше общего чем различий. Вопреки ожиданиям, предпочтения жанров в Петербурге напоминают московские.\n",
    "\n",
    "Третья гипотеза не подтвердилась. Если различия в предпочтениях и существуют, на основной массе пользователей они незаметны.\n",
    "\n",
    "**В данной работе не проводилась проверка статистических гипотез.**"
   ]
  }
 ],
 "metadata": {
  "ExecuteTimeLog": [
   {
    "duration": 351,
    "start_time": "2021-06-27T14:38:42.579Z"
   },
   {
    "duration": 280,
    "start_time": "2021-06-27T14:40:26.113Z"
   },
   {
    "duration": 670,
    "start_time": "2021-06-27T14:40:32.833Z"
   },
   {
    "duration": 4,
    "start_time": "2021-06-27T14:40:47.317Z"
   },
   {
    "duration": 178,
    "start_time": "2021-06-27T14:41:08.707Z"
   },
   {
    "duration": 173,
    "start_time": "2021-06-27T14:41:12.649Z"
   },
   {
    "duration": 176,
    "start_time": "2021-06-27T14:41:17.588Z"
   },
   {
    "duration": 25,
    "start_time": "2021-06-27T14:41:32.472Z"
   },
   {
    "duration": 11,
    "start_time": "2021-06-27T14:42:14.554Z"
   },
   {
    "duration": 33,
    "start_time": "2021-06-27T14:46:23.128Z"
   },
   {
    "duration": 5,
    "start_time": "2021-06-27T14:47:46.674Z"
   },
   {
    "duration": 30,
    "start_time": "2021-06-27T14:51:01.271Z"
   },
   {
    "duration": 6,
    "start_time": "2021-06-27T14:51:23.709Z"
   },
   {
    "duration": 30,
    "start_time": "2021-06-27T14:52:55.645Z"
   },
   {
    "duration": 308,
    "start_time": "2021-06-27T15:11:11.544Z"
   },
   {
    "duration": 22,
    "start_time": "2021-06-27T15:13:06.160Z"
   },
   {
    "duration": 12,
    "start_time": "2021-06-27T15:13:16.709Z"
   },
   {
    "duration": 31,
    "start_time": "2021-06-27T15:13:21.671Z"
   },
   {
    "duration": 400,
    "start_time": "2021-06-27T20:19:36.154Z"
   },
   {
    "duration": 298,
    "start_time": "2021-06-27T20:20:09.812Z"
   },
   {
    "duration": 288,
    "start_time": "2021-06-27T20:20:33.412Z"
   },
   {
    "duration": 452,
    "start_time": "2021-06-28T06:42:15.527Z"
   },
   {
    "duration": 350,
    "start_time": "2021-06-28T06:42:21.480Z"
   },
   {
    "duration": 311,
    "start_time": "2021-06-28T06:42:27.661Z"
   },
   {
    "duration": 297,
    "start_time": "2021-06-28T06:42:39.501Z"
   },
   {
    "duration": 776,
    "start_time": "2021-06-28T06:42:48.059Z"
   },
   {
    "duration": 186,
    "start_time": "2021-06-28T06:42:54.999Z"
   },
   {
    "duration": 26,
    "start_time": "2021-06-28T06:42:59.641Z"
   },
   {
    "duration": 35,
    "start_time": "2021-06-28T06:43:03.938Z"
   },
   {
    "duration": 5,
    "start_time": "2021-06-28T06:43:07.855Z"
   },
   {
    "duration": 25,
    "start_time": "2021-06-28T06:43:12.423Z"
   },
   {
    "duration": 27,
    "start_time": "2021-06-28T06:43:19.315Z"
   },
   {
    "duration": 5,
    "start_time": "2021-06-28T06:43:24.926Z"
   },
   {
    "duration": 107,
    "start_time": "2021-06-28T06:43:30.485Z"
   },
   {
    "duration": 6,
    "start_time": "2021-06-28T06:43:37.087Z"
   },
   {
    "duration": 30,
    "start_time": "2021-06-28T06:43:40.594Z"
   },
   {
    "duration": 24,
    "start_time": "2021-06-28T06:43:45.151Z"
   },
   {
    "duration": 22,
    "start_time": "2021-06-28T06:43:50.808Z"
   },
   {
    "duration": 33,
    "start_time": "2021-06-28T06:43:53.660Z"
   },
   {
    "duration": 82,
    "start_time": "2021-06-28T06:43:57.570Z"
   },
   {
    "duration": 110,
    "start_time": "2021-06-28T06:44:50.674Z"
   },
   {
    "duration": 88,
    "start_time": "2021-06-28T06:46:04.302Z"
   },
   {
    "duration": 76,
    "start_time": "2021-06-28T06:46:13.353Z"
   },
   {
    "duration": 79,
    "start_time": "2021-06-28T06:46:52.371Z"
   },
   {
    "duration": 364,
    "start_time": "2021-06-28T06:47:10.029Z"
   },
   {
    "duration": 341,
    "start_time": "2021-06-28T06:47:25.284Z"
   },
   {
    "duration": 343,
    "start_time": "2021-06-28T06:47:29.855Z"
   },
   {
    "duration": 300,
    "start_time": "2021-06-28T06:47:36.087Z"
   },
   {
    "duration": 316,
    "start_time": "2021-06-28T06:47:55.102Z"
   },
   {
    "duration": 315,
    "start_time": "2021-06-28T06:48:22.131Z"
   },
   {
    "duration": 301,
    "start_time": "2021-06-28T06:48:28.547Z"
   },
   {
    "duration": 434,
    "start_time": "2021-06-28T06:48:34.638Z"
   },
   {
    "duration": 311,
    "start_time": "2021-06-28T06:49:16.982Z"
   },
   {
    "duration": 312,
    "start_time": "2021-06-28T06:49:20.865Z"
   },
   {
    "duration": 3,
    "start_time": "2021-06-28T06:49:25.663Z"
   },
   {
    "duration": 188,
    "start_time": "2021-06-28T06:49:25.669Z"
   },
   {
    "duration": 15,
    "start_time": "2021-06-28T06:49:25.860Z"
   },
   {
    "duration": 32,
    "start_time": "2021-06-28T06:49:25.877Z"
   },
   {
    "duration": 5,
    "start_time": "2021-06-28T06:49:25.912Z"
   },
   {
    "duration": 58,
    "start_time": "2021-06-28T06:49:25.919Z"
   },
   {
    "duration": 5,
    "start_time": "2021-06-28T06:49:25.980Z"
   },
   {
    "duration": 33,
    "start_time": "2021-06-28T06:49:25.987Z"
   },
   {
    "duration": 51,
    "start_time": "2021-06-28T06:49:26.023Z"
   },
   {
    "duration": 31,
    "start_time": "2021-06-28T06:49:26.076Z"
   },
   {
    "duration": 105,
    "start_time": "2021-06-28T06:49:26.110Z"
   },
   {
    "duration": 115,
    "start_time": "2021-06-28T06:49:26.217Z"
   },
   {
    "duration": 96,
    "start_time": "2021-06-28T06:49:26.335Z"
   },
   {
    "duration": 3,
    "start_time": "2021-06-28T06:49:40.726Z"
   },
   {
    "duration": 189,
    "start_time": "2021-06-28T06:49:40.732Z"
   },
   {
    "duration": 15,
    "start_time": "2021-06-28T06:49:40.925Z"
   },
   {
    "duration": 45,
    "start_time": "2021-06-28T06:49:40.943Z"
   },
   {
    "duration": 6,
    "start_time": "2021-06-28T06:49:40.991Z"
   },
   {
    "duration": 20,
    "start_time": "2021-06-28T06:49:40.999Z"
   },
   {
    "duration": 5,
    "start_time": "2021-06-28T06:49:41.022Z"
   },
   {
    "duration": 63,
    "start_time": "2021-06-28T06:49:41.030Z"
   },
   {
    "duration": 31,
    "start_time": "2021-06-28T06:49:41.097Z"
   },
   {
    "duration": 44,
    "start_time": "2021-06-28T06:49:41.130Z"
   },
   {
    "duration": 100,
    "start_time": "2021-06-28T06:49:41.176Z"
   },
   {
    "duration": 82,
    "start_time": "2021-06-28T06:49:46.152Z"
   },
   {
    "duration": 78,
    "start_time": "2021-06-28T06:51:21.652Z"
   },
   {
    "duration": 92,
    "start_time": "2021-06-28T06:52:17.536Z"
   },
   {
    "duration": 94,
    "start_time": "2021-06-28T06:52:24.544Z"
   },
   {
    "duration": 76,
    "start_time": "2021-06-28T06:52:27.285Z"
   },
   {
    "duration": 87,
    "start_time": "2021-06-28T06:52:41.123Z"
   },
   {
    "duration": 92,
    "start_time": "2021-06-28T06:52:43.733Z"
   },
   {
    "duration": 76,
    "start_time": "2021-06-28T06:52:46.541Z"
   },
   {
    "duration": 4,
    "start_time": "2021-06-28T06:52:56.088Z"
   },
   {
    "duration": 200,
    "start_time": "2021-06-28T06:52:56.094Z"
   },
   {
    "duration": 15,
    "start_time": "2021-06-28T06:52:56.297Z"
   },
   {
    "duration": 52,
    "start_time": "2021-06-28T06:52:56.315Z"
   },
   {
    "duration": 5,
    "start_time": "2021-06-28T06:52:56.369Z"
   },
   {
    "duration": 26,
    "start_time": "2021-06-28T06:52:56.377Z"
   },
   {
    "duration": 5,
    "start_time": "2021-06-28T06:52:56.406Z"
   },
   {
    "duration": 72,
    "start_time": "2021-06-28T06:52:56.414Z"
   },
   {
    "duration": 30,
    "start_time": "2021-06-28T06:52:56.488Z"
   },
   {
    "duration": 47,
    "start_time": "2021-06-28T06:52:56.520Z"
   },
   {
    "duration": 97,
    "start_time": "2021-06-28T06:52:56.570Z"
   },
   {
    "duration": 105,
    "start_time": "2021-06-28T06:52:56.669Z"
   },
   {
    "duration": 10,
    "start_time": "2021-06-28T06:57:48.715Z"
   },
   {
    "duration": 14,
    "start_time": "2021-06-28T06:58:30.003Z"
   },
   {
    "duration": 4,
    "start_time": "2021-06-28T07:07:17.424Z"
   },
   {
    "duration": 4,
    "start_time": "2021-06-28T07:07:20.271Z"
   },
   {
    "duration": 16,
    "start_time": "2021-06-28T07:10:15.799Z"
   },
   {
    "duration": 21,
    "start_time": "2021-06-28T07:11:06.188Z"
   },
   {
    "duration": 15,
    "start_time": "2021-06-28T07:11:10.269Z"
   },
   {
    "duration": 46,
    "start_time": "2021-06-28T07:16:17.329Z"
   },
   {
    "duration": 45,
    "start_time": "2021-06-28T07:17:35.767Z"
   },
   {
    "duration": 89,
    "start_time": "2021-06-28T07:46:33.600Z"
   },
   {
    "duration": 96,
    "start_time": "2021-06-28T07:46:57.971Z"
   },
   {
    "duration": 130,
    "start_time": "2021-06-28T07:50:17.202Z"
   },
   {
    "duration": 5,
    "start_time": "2021-06-28T07:51:10.572Z"
   },
   {
    "duration": 5,
    "start_time": "2021-06-28T07:51:14.423Z"
   },
   {
    "duration": 620,
    "start_time": "2021-06-28T07:51:17.299Z"
   },
   {
    "duration": 589,
    "start_time": "2021-06-28T07:51:18.325Z"
   },
   {
    "duration": 5,
    "start_time": "2021-06-28T07:51:43.908Z"
   },
   {
    "duration": 103,
    "start_time": "2021-06-28T07:52:33.359Z"
   },
   {
    "duration": 114,
    "start_time": "2021-06-28T07:52:43.906Z"
   },
   {
    "duration": 111,
    "start_time": "2021-06-28T07:52:50.185Z"
   },
   {
    "duration": 118,
    "start_time": "2021-06-28T07:52:57.535Z"
   },
   {
    "duration": 111,
    "start_time": "2021-06-28T07:53:17.727Z"
   },
   {
    "duration": 6,
    "start_time": "2021-06-28T07:53:23.437Z"
   },
   {
    "duration": 582,
    "start_time": "2021-06-28T07:53:27.146Z"
   },
   {
    "duration": 331,
    "start_time": "2021-06-28T12:28:11.284Z"
   },
   {
    "duration": 620,
    "start_time": "2021-06-28T12:28:28.214Z"
   },
   {
    "duration": 22,
    "start_time": "2021-06-28T12:28:44.236Z"
   },
   {
    "duration": 14,
    "start_time": "2021-06-28T12:28:51.468Z"
   },
   {
    "duration": 5,
    "start_time": "2021-06-28T12:33:21.809Z"
   },
   {
    "duration": 18,
    "start_time": "2021-06-28T12:33:25.821Z"
   },
   {
    "duration": 17,
    "start_time": "2021-06-28T12:33:33.768Z"
   },
   {
    "duration": 16,
    "start_time": "2021-06-28T12:33:36.018Z"
   },
   {
    "duration": 18,
    "start_time": "2021-06-28T12:33:39.957Z"
   },
   {
    "duration": 17,
    "start_time": "2021-06-28T12:33:43.080Z"
   },
   {
    "duration": 5,
    "start_time": "2021-06-28T12:33:52.644Z"
   },
   {
    "duration": 222,
    "start_time": "2021-06-28T12:33:52.652Z"
   },
   {
    "duration": 16,
    "start_time": "2021-06-28T12:33:52.877Z"
   },
   {
    "duration": 40,
    "start_time": "2021-06-28T12:33:52.895Z"
   },
   {
    "duration": 29,
    "start_time": "2021-06-28T12:33:52.937Z"
   },
   {
    "duration": 24,
    "start_time": "2021-06-28T12:33:52.969Z"
   },
   {
    "duration": 6,
    "start_time": "2021-06-28T12:33:52.995Z"
   },
   {
    "duration": 63,
    "start_time": "2021-06-28T12:33:53.004Z"
   },
   {
    "duration": 23,
    "start_time": "2021-06-28T12:33:53.072Z"
   },
   {
    "duration": 35,
    "start_time": "2021-06-28T12:33:53.098Z"
   },
   {
    "duration": 113,
    "start_time": "2021-06-28T12:33:53.136Z"
   },
   {
    "duration": 108,
    "start_time": "2021-06-28T12:33:53.251Z"
   },
   {
    "duration": 77,
    "start_time": "2021-06-28T12:33:53.367Z"
   },
   {
    "duration": 28,
    "start_time": "2021-06-28T12:33:53.446Z"
   },
   {
    "duration": 5,
    "start_time": "2021-06-28T12:33:53.477Z"
   },
   {
    "duration": 27,
    "start_time": "2021-06-28T12:33:53.486Z"
   },
   {
    "duration": 17,
    "start_time": "2021-06-28T12:33:53.515Z"
   },
   {
    "duration": 46,
    "start_time": "2021-06-28T12:33:53.568Z"
   },
   {
    "duration": 75,
    "start_time": "2021-06-28T12:33:53.617Z"
   },
   {
    "duration": 5,
    "start_time": "2021-06-28T12:33:53.695Z"
   },
   {
    "duration": 24,
    "start_time": "2021-06-28T12:33:53.704Z"
   },
   {
    "duration": 43,
    "start_time": "2021-06-28T12:33:53.731Z"
   },
   {
    "duration": 23,
    "start_time": "2021-06-28T12:33:53.777Z"
   },
   {
    "duration": 23,
    "start_time": "2021-06-28T12:33:53.803Z"
   },
   {
    "duration": 40,
    "start_time": "2021-06-28T12:33:53.828Z"
   },
   {
    "duration": 756,
    "start_time": "2021-06-28T12:34:58.471Z"
   },
   {
    "duration": 791,
    "start_time": "2021-06-28T12:35:17.544Z"
   },
   {
    "duration": 707,
    "start_time": "2021-06-28T12:36:10.489Z"
   },
   {
    "duration": 5,
    "start_time": "2021-06-28T12:36:50.980Z"
   },
   {
    "duration": 639,
    "start_time": "2021-06-28T12:36:53.987Z"
   },
   {
    "duration": 5,
    "start_time": "2021-06-28T12:37:48.747Z"
   },
   {
    "duration": 647,
    "start_time": "2021-06-28T12:37:52.181Z"
   },
   {
    "duration": 895,
    "start_time": "2021-06-28T12:44:55.314Z"
   },
   {
    "duration": 600,
    "start_time": "2021-06-28T12:45:04.323Z"
   },
   {
    "duration": 5,
    "start_time": "2021-06-28T12:45:07.472Z"
   },
   {
    "duration": 604,
    "start_time": "2021-06-28T12:45:10.575Z"
   },
   {
    "duration": 5,
    "start_time": "2021-06-28T12:45:42.749Z"
   },
   {
    "duration": 665,
    "start_time": "2021-06-28T12:45:46.346Z"
   },
   {
    "duration": 88,
    "start_time": "2021-06-28T12:47:55.996Z"
   },
   {
    "duration": 120,
    "start_time": "2021-06-28T12:49:07.869Z"
   },
   {
    "duration": 90,
    "start_time": "2021-06-28T12:50:17.053Z"
   },
   {
    "duration": 5,
    "start_time": "2021-06-28T12:50:31.450Z"
   },
   {
    "duration": 5,
    "start_time": "2021-06-28T12:50:36.868Z"
   },
   {
    "duration": 732,
    "start_time": "2021-06-28T12:50:39.913Z"
   },
   {
    "duration": 5,
    "start_time": "2021-06-28T12:54:36.709Z"
   },
   {
    "duration": 34,
    "start_time": "2021-06-28T12:54:39.793Z"
   },
   {
    "duration": 24,
    "start_time": "2021-06-28T12:54:50.435Z"
   },
   {
    "duration": 30,
    "start_time": "2021-06-28T12:54:55.687Z"
   },
   {
    "duration": 25,
    "start_time": "2021-06-28T12:55:00.640Z"
   },
   {
    "duration": 30,
    "start_time": "2021-06-28T12:55:04.501Z"
   },
   {
    "duration": 26,
    "start_time": "2021-06-28T12:55:07.019Z"
   },
   {
    "duration": 27,
    "start_time": "2021-06-28T12:55:36.698Z"
   },
   {
    "duration": 31,
    "start_time": "2021-06-28T12:55:52.385Z"
   },
   {
    "duration": 25,
    "start_time": "2021-06-28T12:56:09.574Z"
   },
   {
    "duration": 31,
    "start_time": "2021-06-28T12:56:12.715Z"
   },
   {
    "duration": 5,
    "start_time": "2021-06-28T12:56:51.069Z"
   },
   {
    "duration": 23,
    "start_time": "2021-06-28T12:56:54.724Z"
   },
   {
    "duration": 20,
    "start_time": "2021-06-28T12:56:58.245Z"
   },
   {
    "duration": 21,
    "start_time": "2021-06-28T12:57:00.871Z"
   },
   {
    "duration": 19,
    "start_time": "2021-06-28T12:57:04.617Z"
   },
   {
    "duration": 21,
    "start_time": "2021-06-28T12:57:07.795Z"
   },
   {
    "duration": 19,
    "start_time": "2021-06-28T12:57:10.267Z"
   },
   {
    "duration": 21,
    "start_time": "2021-06-28T12:58:22.495Z"
   },
   {
    "duration": 21,
    "start_time": "2021-06-28T12:58:39.073Z"
   },
   {
    "duration": 22,
    "start_time": "2021-06-28T12:58:52.570Z"
   },
   {
    "duration": 3,
    "start_time": "2021-06-28T12:59:03.899Z"
   },
   {
    "duration": 191,
    "start_time": "2021-06-28T12:59:03.905Z"
   },
   {
    "duration": 16,
    "start_time": "2021-06-28T12:59:04.099Z"
   },
   {
    "duration": 50,
    "start_time": "2021-06-28T12:59:04.117Z"
   },
   {
    "duration": 5,
    "start_time": "2021-06-28T12:59:04.169Z"
   },
   {
    "duration": 16,
    "start_time": "2021-06-28T12:59:04.176Z"
   },
   {
    "duration": 5,
    "start_time": "2021-06-28T12:59:04.195Z"
   },
   {
    "duration": 66,
    "start_time": "2021-06-28T12:59:04.202Z"
   },
   {
    "duration": 25,
    "start_time": "2021-06-28T12:59:04.272Z"
   },
   {
    "duration": 34,
    "start_time": "2021-06-28T12:59:04.300Z"
   },
   {
    "duration": 101,
    "start_time": "2021-06-28T12:59:04.337Z"
   },
   {
    "duration": 103,
    "start_time": "2021-06-28T12:59:04.440Z"
   },
   {
    "duration": 90,
    "start_time": "2021-06-28T12:59:04.545Z"
   },
   {
    "duration": 14,
    "start_time": "2021-06-28T12:59:04.637Z"
   },
   {
    "duration": 16,
    "start_time": "2021-06-28T12:59:04.653Z"
   },
   {
    "duration": 25,
    "start_time": "2021-06-28T12:59:04.671Z"
   },
   {
    "duration": 21,
    "start_time": "2021-06-28T12:59:04.698Z"
   },
   {
    "duration": 77,
    "start_time": "2021-06-28T12:59:04.721Z"
   },
   {
    "duration": 42,
    "start_time": "2021-06-28T12:59:04.800Z"
   },
   {
    "duration": 5,
    "start_time": "2021-06-28T12:59:04.844Z"
   },
   {
    "duration": 21,
    "start_time": "2021-06-28T12:59:04.867Z"
   },
   {
    "duration": 20,
    "start_time": "2021-06-28T12:59:04.890Z"
   },
   {
    "duration": 54,
    "start_time": "2021-06-28T12:59:04.912Z"
   },
   {
    "duration": 17,
    "start_time": "2021-06-28T12:59:04.969Z"
   },
   {
    "duration": 21,
    "start_time": "2021-06-28T12:59:04.988Z"
   },
   {
    "duration": 6,
    "start_time": "2021-06-28T13:04:50.411Z"
   },
   {
    "duration": 14,
    "start_time": "2021-06-28T13:05:11.418Z"
   },
   {
    "duration": 12,
    "start_time": "2021-06-28T13:07:49.584Z"
   },
   {
    "duration": 6,
    "start_time": "2021-06-28T13:40:55.690Z"
   },
   {
    "duration": 5,
    "start_time": "2021-06-28T13:40:58.905Z"
   },
   {
    "duration": 359,
    "start_time": "2021-06-28T13:41:09.913Z"
   },
   {
    "duration": 302,
    "start_time": "2021-06-28T13:41:55.888Z"
   },
   {
    "duration": 359,
    "start_time": "2021-06-28T13:42:28.988Z"
   },
   {
    "duration": 305,
    "start_time": "2021-06-28T13:42:36.849Z"
   },
   {
    "duration": 306,
    "start_time": "2021-06-28T13:42:52.300Z"
   },
   {
    "duration": 5,
    "start_time": "2021-06-28T14:51:34.825Z"
   },
   {
    "duration": 6,
    "start_time": "2021-06-28T14:51:38.494Z"
   },
   {
    "duration": 345,
    "start_time": "2021-06-28T14:52:54.797Z"
   },
   {
    "duration": 3,
    "start_time": "2021-06-28T14:53:38.436Z"
   },
   {
    "duration": 213,
    "start_time": "2021-06-28T14:53:38.442Z"
   },
   {
    "duration": 15,
    "start_time": "2021-06-28T14:53:38.667Z"
   },
   {
    "duration": 31,
    "start_time": "2021-06-28T14:53:38.685Z"
   },
   {
    "duration": 6,
    "start_time": "2021-06-28T14:53:38.718Z"
   },
   {
    "duration": 47,
    "start_time": "2021-06-28T14:53:38.727Z"
   },
   {
    "duration": 7,
    "start_time": "2021-06-28T14:53:38.776Z"
   },
   {
    "duration": 30,
    "start_time": "2021-06-28T14:53:38.785Z"
   },
   {
    "duration": 61,
    "start_time": "2021-06-28T14:53:38.820Z"
   },
   {
    "duration": 32,
    "start_time": "2021-06-28T14:53:38.885Z"
   },
   {
    "duration": 109,
    "start_time": "2021-06-28T14:53:38.920Z"
   },
   {
    "duration": 104,
    "start_time": "2021-06-28T14:53:39.031Z"
   },
   {
    "duration": 85,
    "start_time": "2021-06-28T14:53:39.138Z"
   },
   {
    "duration": 15,
    "start_time": "2021-06-28T14:53:39.226Z"
   },
   {
    "duration": 5,
    "start_time": "2021-06-28T14:53:39.243Z"
   },
   {
    "duration": 36,
    "start_time": "2021-06-28T14:53:39.250Z"
   },
   {
    "duration": 14,
    "start_time": "2021-06-28T14:53:39.288Z"
   },
   {
    "duration": 76,
    "start_time": "2021-06-28T14:53:39.304Z"
   },
   {
    "duration": 43,
    "start_time": "2021-06-28T14:53:39.382Z"
   },
   {
    "duration": 4,
    "start_time": "2021-06-28T14:53:39.428Z"
   },
   {
    "duration": 48,
    "start_time": "2021-06-28T14:53:39.435Z"
   },
   {
    "duration": 19,
    "start_time": "2021-06-28T14:53:39.485Z"
   },
   {
    "duration": 20,
    "start_time": "2021-06-28T14:53:39.506Z"
   },
   {
    "duration": 48,
    "start_time": "2021-06-28T14:53:39.528Z"
   },
   {
    "duration": 22,
    "start_time": "2021-06-28T14:53:39.578Z"
   },
   {
    "duration": 20,
    "start_time": "2021-06-28T14:53:39.602Z"
   },
   {
    "duration": 45,
    "start_time": "2021-06-28T14:53:39.627Z"
   },
   {
    "duration": 15,
    "start_time": "2021-06-28T14:53:39.675Z"
   },
   {
    "duration": 13,
    "start_time": "2021-06-28T14:53:39.692Z"
   },
   {
    "duration": 6,
    "start_time": "2021-06-28T14:53:39.707Z"
   },
   {
    "duration": 5,
    "start_time": "2021-06-28T14:55:49.218Z"
   },
   {
    "duration": 585,
    "start_time": "2021-06-28T14:55:53.157Z"
   },
   {
    "duration": 659,
    "start_time": "2021-06-28T14:58:09.448Z"
   },
   {
    "duration": 3,
    "start_time": "2021-06-28T14:59:28.419Z"
   },
   {
    "duration": 205,
    "start_time": "2021-06-28T14:59:28.426Z"
   },
   {
    "duration": 16,
    "start_time": "2021-06-28T14:59:28.633Z"
   },
   {
    "duration": 46,
    "start_time": "2021-06-28T14:59:28.651Z"
   },
   {
    "duration": 5,
    "start_time": "2021-06-28T14:59:28.700Z"
   },
   {
    "duration": 17,
    "start_time": "2021-06-28T14:59:28.707Z"
   },
   {
    "duration": 6,
    "start_time": "2021-06-28T14:59:28.727Z"
   },
   {
    "duration": 31,
    "start_time": "2021-06-28T14:59:28.767Z"
   },
   {
    "duration": 24,
    "start_time": "2021-06-28T14:59:28.800Z"
   },
   {
    "duration": 56,
    "start_time": "2021-06-28T14:59:28.826Z"
   },
   {
    "duration": 99,
    "start_time": "2021-06-28T14:59:28.885Z"
   },
   {
    "duration": 104,
    "start_time": "2021-06-28T14:59:28.986Z"
   },
   {
    "duration": 90,
    "start_time": "2021-06-28T14:59:29.093Z"
   },
   {
    "duration": 16,
    "start_time": "2021-06-28T14:59:29.185Z"
   },
   {
    "duration": 5,
    "start_time": "2021-06-28T14:59:29.204Z"
   },
   {
    "duration": 32,
    "start_time": "2021-06-28T14:59:29.212Z"
   },
   {
    "duration": 16,
    "start_time": "2021-06-28T14:59:29.266Z"
   },
   {
    "duration": 47,
    "start_time": "2021-06-28T14:59:29.285Z"
   },
   {
    "duration": 75,
    "start_time": "2021-06-28T14:59:29.337Z"
   },
   {
    "duration": 4,
    "start_time": "2021-06-28T14:59:29.416Z"
   },
   {
    "duration": 51,
    "start_time": "2021-06-28T14:59:29.423Z"
   },
   {
    "duration": 21,
    "start_time": "2021-06-28T14:59:29.477Z"
   },
   {
    "duration": 22,
    "start_time": "2021-06-28T14:59:29.500Z"
   },
   {
    "duration": 52,
    "start_time": "2021-06-28T14:59:29.524Z"
   },
   {
    "duration": 22,
    "start_time": "2021-06-28T14:59:29.578Z"
   },
   {
    "duration": 20,
    "start_time": "2021-06-28T14:59:29.602Z"
   },
   {
    "duration": 48,
    "start_time": "2021-06-28T14:59:29.624Z"
   },
   {
    "duration": 23,
    "start_time": "2021-06-28T14:59:29.674Z"
   },
   {
    "duration": 12,
    "start_time": "2021-06-28T14:59:29.699Z"
   },
   {
    "duration": 6,
    "start_time": "2021-06-28T14:59:29.713Z"
   },
   {
    "duration": 18,
    "start_time": "2021-06-28T14:59:57.331Z"
   },
   {
    "duration": 15,
    "start_time": "2021-06-28T14:59:58.493Z"
   },
   {
    "duration": 5,
    "start_time": "2021-06-28T15:00:01.508Z"
   },
   {
    "duration": 678,
    "start_time": "2021-06-28T15:00:04.252Z"
   },
   {
    "duration": 612,
    "start_time": "2021-06-28T15:00:05.234Z"
   },
   {
    "duration": 4,
    "start_time": "2021-06-28T15:00:16.186Z"
   },
   {
    "duration": 212,
    "start_time": "2021-06-28T15:00:16.193Z"
   },
   {
    "duration": 15,
    "start_time": "2021-06-28T15:00:16.408Z"
   },
   {
    "duration": 52,
    "start_time": "2021-06-28T15:00:16.426Z"
   },
   {
    "duration": 7,
    "start_time": "2021-06-28T15:00:16.480Z"
   },
   {
    "duration": 25,
    "start_time": "2021-06-28T15:00:16.490Z"
   },
   {
    "duration": 5,
    "start_time": "2021-06-28T15:00:16.519Z"
   },
   {
    "duration": 67,
    "start_time": "2021-06-28T15:00:16.527Z"
   },
   {
    "duration": 38,
    "start_time": "2021-06-28T15:00:16.597Z"
   },
   {
    "duration": 47,
    "start_time": "2021-06-28T15:00:16.637Z"
   },
   {
    "duration": 89,
    "start_time": "2021-06-28T15:00:16.687Z"
   },
   {
    "duration": 106,
    "start_time": "2021-06-28T15:00:16.779Z"
   },
   {
    "duration": 94,
    "start_time": "2021-06-28T15:00:16.887Z"
   },
   {
    "duration": 15,
    "start_time": "2021-06-28T15:00:16.983Z"
   },
   {
    "duration": 4,
    "start_time": "2021-06-28T15:00:17.001Z"
   },
   {
    "duration": 24,
    "start_time": "2021-06-28T15:00:17.008Z"
   },
   {
    "duration": 42,
    "start_time": "2021-06-28T15:00:17.034Z"
   },
   {
    "duration": 45,
    "start_time": "2021-06-28T15:00:17.079Z"
   },
   {
    "duration": 69,
    "start_time": "2021-06-28T15:00:17.128Z"
   },
   {
    "duration": 5,
    "start_time": "2021-06-28T15:00:17.200Z"
   },
   {
    "duration": 49,
    "start_time": "2021-06-28T15:00:17.207Z"
   },
   {
    "duration": 21,
    "start_time": "2021-06-28T15:00:17.258Z"
   },
   {
    "duration": 25,
    "start_time": "2021-06-28T15:00:17.281Z"
   },
   {
    "duration": 24,
    "start_time": "2021-06-28T15:00:17.309Z"
   },
   {
    "duration": 42,
    "start_time": "2021-06-28T15:00:17.335Z"
   },
   {
    "duration": 21,
    "start_time": "2021-06-28T15:00:17.380Z"
   },
   {
    "duration": 13,
    "start_time": "2021-06-28T15:00:17.403Z"
   },
   {
    "duration": 49,
    "start_time": "2021-06-28T15:00:17.419Z"
   },
   {
    "duration": 13,
    "start_time": "2021-06-28T15:00:17.471Z"
   },
   {
    "duration": 9,
    "start_time": "2021-06-28T15:00:17.486Z"
   },
   {
    "duration": 656,
    "start_time": "2021-06-28T15:00:17.497Z"
   },
   {
    "duration": -514,
    "start_time": "2021-06-28T15:00:18.669Z"
   },
   {
    "duration": -518,
    "start_time": "2021-06-28T15:00:18.674Z"
   },
   {
    "duration": 568,
    "start_time": "2021-06-28T15:01:00.024Z"
   },
   {
    "duration": 6,
    "start_time": "2021-06-28T15:14:03.024Z"
   },
   {
    "duration": 856,
    "start_time": "2021-06-28T15:14:07.730Z"
   },
   {
    "duration": 15,
    "start_time": "2021-06-28T15:15:00.504Z"
   },
   {
    "duration": 14,
    "start_time": "2021-06-28T15:15:01.034Z"
   },
   {
    "duration": 6,
    "start_time": "2021-06-28T15:15:04.908Z"
   },
   {
    "duration": 616,
    "start_time": "2021-06-28T15:15:08.803Z"
   },
   {
    "duration": 5,
    "start_time": "2021-06-28T15:17:20.757Z"
   },
   {
    "duration": 326,
    "start_time": "2021-06-28T15:17:40.897Z"
   },
   {
    "duration": 326,
    "start_time": "2021-06-28T15:18:03.527Z"
   },
   {
    "duration": 340,
    "start_time": "2021-06-28T15:18:25.122Z"
   },
   {
    "duration": 3,
    "start_time": "2021-06-28T15:18:38.659Z"
   },
   {
    "duration": 230,
    "start_time": "2021-06-28T15:18:38.665Z"
   },
   {
    "duration": 15,
    "start_time": "2021-06-28T15:18:38.898Z"
   },
   {
    "duration": 51,
    "start_time": "2021-06-28T15:18:38.916Z"
   },
   {
    "duration": 5,
    "start_time": "2021-06-28T15:18:38.970Z"
   },
   {
    "duration": 21,
    "start_time": "2021-06-28T15:18:38.977Z"
   },
   {
    "duration": 6,
    "start_time": "2021-06-28T15:18:39.001Z"
   },
   {
    "duration": 72,
    "start_time": "2021-06-28T15:18:39.011Z"
   },
   {
    "duration": 30,
    "start_time": "2021-06-28T15:18:39.085Z"
   },
   {
    "duration": 53,
    "start_time": "2021-06-28T15:18:39.118Z"
   },
   {
    "duration": 94,
    "start_time": "2021-06-28T15:18:39.174Z"
   },
   {
    "duration": 104,
    "start_time": "2021-06-28T15:18:39.271Z"
   },
   {
    "duration": 123,
    "start_time": "2021-06-28T15:18:39.378Z"
   },
   {
    "duration": 22,
    "start_time": "2021-06-28T15:18:39.504Z"
   },
   {
    "duration": 5,
    "start_time": "2021-06-28T15:18:39.529Z"
   },
   {
    "duration": 62,
    "start_time": "2021-06-28T15:18:39.537Z"
   },
   {
    "duration": 22,
    "start_time": "2021-06-28T15:18:39.602Z"
   },
   {
    "duration": 70,
    "start_time": "2021-06-28T15:18:39.627Z"
   },
   {
    "duration": 64,
    "start_time": "2021-06-28T15:18:39.702Z"
   },
   {
    "duration": 5,
    "start_time": "2021-06-28T15:18:39.769Z"
   },
   {
    "duration": 73,
    "start_time": "2021-06-28T15:18:39.776Z"
   },
   {
    "duration": 32,
    "start_time": "2021-06-28T15:18:39.852Z"
   },
   {
    "duration": 21,
    "start_time": "2021-06-28T15:18:39.887Z"
   },
   {
    "duration": 20,
    "start_time": "2021-06-28T15:18:39.910Z"
   },
   {
    "duration": 49,
    "start_time": "2021-06-28T15:18:39.932Z"
   },
   {
    "duration": 19,
    "start_time": "2021-06-28T15:18:39.984Z"
   },
   {
    "duration": 13,
    "start_time": "2021-06-28T15:18:40.005Z"
   },
   {
    "duration": 52,
    "start_time": "2021-06-28T15:18:40.020Z"
   },
   {
    "duration": 13,
    "start_time": "2021-06-28T15:18:40.075Z"
   },
   {
    "duration": 5,
    "start_time": "2021-06-28T15:19:14.058Z"
   },
   {
    "duration": 645,
    "start_time": "2021-06-28T15:19:18.106Z"
   },
   {
    "duration": 6,
    "start_time": "2021-06-28T15:20:23.132Z"
   },
   {
    "duration": 6,
    "start_time": "2021-06-28T15:20:26.719Z"
   },
   {
    "duration": 5,
    "start_time": "2021-06-28T15:20:30.800Z"
   },
   {
    "duration": 1315,
    "start_time": "2021-06-28T15:20:37.162Z"
   },
   {
    "duration": 279,
    "start_time": "2021-06-28T15:20:52.788Z"
   },
   {
    "duration": 3,
    "start_time": "2021-06-28T15:21:09.280Z"
   },
   {
    "duration": 233,
    "start_time": "2021-06-28T15:21:09.285Z"
   },
   {
    "duration": 18,
    "start_time": "2021-06-28T15:21:09.521Z"
   },
   {
    "duration": 49,
    "start_time": "2021-06-28T15:21:09.542Z"
   },
   {
    "duration": 29,
    "start_time": "2021-06-28T15:21:09.593Z"
   },
   {
    "duration": 41,
    "start_time": "2021-06-28T15:21:09.624Z"
   },
   {
    "duration": 6,
    "start_time": "2021-06-28T15:21:09.669Z"
   },
   {
    "duration": 50,
    "start_time": "2021-06-28T15:21:09.679Z"
   },
   {
    "duration": 73,
    "start_time": "2021-06-28T15:21:09.733Z"
   },
   {
    "duration": 42,
    "start_time": "2021-06-28T15:21:09.809Z"
   },
   {
    "duration": 98,
    "start_time": "2021-06-28T15:21:09.854Z"
   },
   {
    "duration": 112,
    "start_time": "2021-06-28T15:21:09.955Z"
   },
   {
    "duration": 81,
    "start_time": "2021-06-28T15:21:10.069Z"
   },
   {
    "duration": 26,
    "start_time": "2021-06-28T15:21:10.152Z"
   },
   {
    "duration": 11,
    "start_time": "2021-06-28T15:21:10.180Z"
   },
   {
    "duration": 31,
    "start_time": "2021-06-28T15:21:10.193Z"
   },
   {
    "duration": 28,
    "start_time": "2021-06-28T15:21:10.226Z"
   },
   {
    "duration": 73,
    "start_time": "2021-06-28T15:21:10.257Z"
   },
   {
    "duration": 45,
    "start_time": "2021-06-28T15:21:10.334Z"
   },
   {
    "duration": 5,
    "start_time": "2021-06-28T15:21:10.381Z"
   },
   {
    "duration": 45,
    "start_time": "2021-06-28T15:21:10.388Z"
   },
   {
    "duration": 21,
    "start_time": "2021-06-28T15:21:10.435Z"
   },
   {
    "duration": 35,
    "start_time": "2021-06-28T15:21:10.459Z"
   },
   {
    "duration": 58,
    "start_time": "2021-06-28T15:21:10.496Z"
   },
   {
    "duration": 26,
    "start_time": "2021-06-28T15:21:10.556Z"
   },
   {
    "duration": 20,
    "start_time": "2021-06-28T15:21:10.586Z"
   },
   {
    "duration": 14,
    "start_time": "2021-06-28T15:21:10.609Z"
   },
   {
    "duration": 50,
    "start_time": "2021-06-28T15:21:10.625Z"
   },
   {
    "duration": 13,
    "start_time": "2021-06-28T15:21:10.677Z"
   },
   {
    "duration": 292,
    "start_time": "2021-06-28T15:21:52.712Z"
   },
   {
    "duration": 365,
    "start_time": "2021-06-28T15:22:30.231Z"
   },
   {
    "duration": 5,
    "start_time": "2021-06-28T15:23:08.592Z"
   },
   {
    "duration": 629,
    "start_time": "2021-06-28T15:23:13.164Z"
   },
   {
    "duration": 5,
    "start_time": "2021-06-28T15:24:29.665Z"
   },
   {
    "duration": 690,
    "start_time": "2021-06-28T15:24:32.544Z"
   },
   {
    "duration": 13,
    "start_time": "2021-06-28T15:29:30.733Z"
   },
   {
    "duration": 5,
    "start_time": "2021-06-28T15:29:34.273Z"
   },
   {
    "duration": 642,
    "start_time": "2021-06-28T15:29:36.822Z"
   },
   {
    "duration": 35,
    "start_time": "2021-06-28T15:32:43.880Z"
   },
   {
    "duration": 30,
    "start_time": "2021-06-28T15:32:56.155Z"
   },
   {
    "duration": 24,
    "start_time": "2021-06-28T15:33:21.702Z"
   },
   {
    "duration": 24,
    "start_time": "2021-06-28T15:33:43.657Z"
   },
   {
    "duration": 6,
    "start_time": "2021-06-28T15:50:44.431Z"
   },
   {
    "duration": 612,
    "start_time": "2021-06-28T15:50:48.044Z"
   },
   {
    "duration": 601,
    "start_time": "2021-06-28T15:56:03.794Z"
   },
   {
    "duration": 11,
    "start_time": "2021-06-28T15:56:10.780Z"
   },
   {
    "duration": 7,
    "start_time": "2021-06-28T19:16:17.645Z"
   },
   {
    "duration": 362,
    "start_time": "2021-06-28T19:16:20.870Z"
   },
   {
    "duration": 760,
    "start_time": "2021-06-28T19:16:28.540Z"
   },
   {
    "duration": 293,
    "start_time": "2021-06-28T19:16:29.302Z"
   },
   {
    "duration": 26,
    "start_time": "2021-06-28T19:16:29.598Z"
   },
   {
    "duration": 36,
    "start_time": "2021-06-28T19:16:29.627Z"
   },
   {
    "duration": 23,
    "start_time": "2021-06-28T19:16:29.665Z"
   },
   {
    "duration": 27,
    "start_time": "2021-06-28T19:16:29.691Z"
   },
   {
    "duration": 6,
    "start_time": "2021-06-28T19:16:29.721Z"
   },
   {
    "duration": 64,
    "start_time": "2021-06-28T19:16:29.729Z"
   },
   {
    "duration": 23,
    "start_time": "2021-06-28T19:16:29.798Z"
   },
   {
    "duration": 34,
    "start_time": "2021-06-28T19:16:29.824Z"
   },
   {
    "duration": 112,
    "start_time": "2021-06-28T19:16:29.860Z"
   },
   {
    "duration": 121,
    "start_time": "2021-06-28T19:16:29.986Z"
   },
   {
    "duration": 90,
    "start_time": "2021-06-28T19:16:30.109Z"
   },
   {
    "duration": 14,
    "start_time": "2021-06-28T19:16:30.202Z"
   },
   {
    "duration": 4,
    "start_time": "2021-06-28T19:16:30.218Z"
   },
   {
    "duration": 46,
    "start_time": "2021-06-28T19:16:30.224Z"
   },
   {
    "duration": 25,
    "start_time": "2021-06-28T19:16:30.272Z"
   },
   {
    "duration": 47,
    "start_time": "2021-06-28T19:16:30.301Z"
   },
   {
    "duration": 66,
    "start_time": "2021-06-28T19:16:30.352Z"
   },
   {
    "duration": 6,
    "start_time": "2021-06-28T19:16:30.420Z"
   },
   {
    "duration": 42,
    "start_time": "2021-06-28T19:16:30.428Z"
   },
   {
    "duration": 26,
    "start_time": "2021-06-28T19:16:30.472Z"
   },
   {
    "duration": 23,
    "start_time": "2021-06-28T19:16:30.501Z"
   },
   {
    "duration": 21,
    "start_time": "2021-06-28T19:16:30.527Z"
   },
   {
    "duration": 51,
    "start_time": "2021-06-28T19:16:30.551Z"
   },
   {
    "duration": 20,
    "start_time": "2021-06-28T19:16:30.604Z"
   },
   {
    "duration": 13,
    "start_time": "2021-06-28T19:16:30.628Z"
   },
   {
    "duration": 52,
    "start_time": "2021-06-28T19:16:30.643Z"
   },
   {
    "duration": 24,
    "start_time": "2021-06-28T19:16:30.698Z"
   },
   {
    "duration": 12,
    "start_time": "2021-06-28T19:16:30.725Z"
   },
   {
    "duration": 662,
    "start_time": "2021-06-28T19:16:38.461Z"
   },
   {
    "duration": 896,
    "start_time": "2021-06-28T19:16:42.310Z"
   },
   {
    "duration": 770,
    "start_time": "2021-06-28T19:16:45.914Z"
   },
   {
    "duration": 5,
    "start_time": "2021-06-28T19:17:30.705Z"
   },
   {
    "duration": 627,
    "start_time": "2021-06-28T19:17:34.427Z"
   },
   {
    "duration": 3,
    "start_time": "2021-06-28T19:18:23.533Z"
   },
   {
    "duration": 265,
    "start_time": "2021-06-28T19:18:23.540Z"
   },
   {
    "duration": 21,
    "start_time": "2021-06-28T19:18:23.809Z"
   },
   {
    "duration": 52,
    "start_time": "2021-06-28T19:18:23.833Z"
   },
   {
    "duration": 5,
    "start_time": "2021-06-28T19:18:23.888Z"
   },
   {
    "duration": 44,
    "start_time": "2021-06-28T19:18:23.896Z"
   },
   {
    "duration": 7,
    "start_time": "2021-06-28T19:18:23.945Z"
   },
   {
    "duration": 71,
    "start_time": "2021-06-28T19:18:23.956Z"
   },
   {
    "duration": 33,
    "start_time": "2021-06-28T19:18:24.030Z"
   },
   {
    "duration": 32,
    "start_time": "2021-06-28T19:18:24.086Z"
   },
   {
    "duration": 100,
    "start_time": "2021-06-28T19:18:24.120Z"
   },
   {
    "duration": 105,
    "start_time": "2021-06-28T19:18:24.223Z"
   },
   {
    "duration": 85,
    "start_time": "2021-06-28T19:18:24.330Z"
   },
   {
    "duration": 17,
    "start_time": "2021-06-28T19:18:24.417Z"
   },
   {
    "duration": 7,
    "start_time": "2021-06-28T19:18:24.436Z"
   },
   {
    "duration": 50,
    "start_time": "2021-06-28T19:18:24.446Z"
   },
   {
    "duration": 15,
    "start_time": "2021-06-28T19:18:24.499Z"
   },
   {
    "duration": 44,
    "start_time": "2021-06-28T19:18:24.517Z"
   },
   {
    "duration": 44,
    "start_time": "2021-06-28T19:18:24.585Z"
   },
   {
    "duration": 5,
    "start_time": "2021-06-28T19:18:24.631Z"
   },
   {
    "duration": 50,
    "start_time": "2021-06-28T19:18:24.639Z"
   },
   {
    "duration": 21,
    "start_time": "2021-06-28T19:18:24.691Z"
   },
   {
    "duration": 18,
    "start_time": "2021-06-28T19:18:24.715Z"
   },
   {
    "duration": 51,
    "start_time": "2021-06-28T19:18:24.736Z"
   },
   {
    "duration": 22,
    "start_time": "2021-06-28T19:18:24.789Z"
   },
   {
    "duration": 19,
    "start_time": "2021-06-28T19:18:24.813Z"
   },
   {
    "duration": 12,
    "start_time": "2021-06-28T19:18:24.834Z"
   },
   {
    "duration": 48,
    "start_time": "2021-06-28T19:18:24.849Z"
   },
   {
    "duration": 22,
    "start_time": "2021-06-28T19:18:24.900Z"
   },
   {
    "duration": 6,
    "start_time": "2021-06-28T19:18:24.925Z"
   },
   {
    "duration": 650,
    "start_time": "2021-06-28T19:18:28.182Z"
   },
   {
    "duration": 6,
    "start_time": "2021-06-28T19:20:20.694Z"
   },
   {
    "duration": 25,
    "start_time": "2021-06-28T19:20:22.817Z"
   },
   {
    "duration": 18,
    "start_time": "2021-06-28T19:25:08.228Z"
   },
   {
    "duration": 31,
    "start_time": "2021-06-28T19:25:13.284Z"
   },
   {
    "duration": 17,
    "start_time": "2021-06-28T19:25:15.131Z"
   },
   {
    "duration": 1402,
    "start_time": "2021-06-28T19:34:43.811Z"
   },
   {
    "duration": 30,
    "start_time": "2021-06-28T19:37:37.061Z"
   },
   {
    "duration": 31,
    "start_time": "2021-06-28T19:37:54.910Z"
   },
   {
    "duration": 11,
    "start_time": "2021-06-28T19:37:57.095Z"
   },
   {
    "duration": 30,
    "start_time": "2021-06-28T19:40:05.702Z"
   },
   {
    "duration": 11,
    "start_time": "2021-06-28T19:41:13.345Z"
   },
   {
    "duration": 6,
    "start_time": "2021-06-28T19:41:15.278Z"
   },
   {
    "duration": 10,
    "start_time": "2021-06-28T19:41:55.853Z"
   },
   {
    "duration": 8,
    "start_time": "2021-06-28T19:42:14.071Z"
   },
   {
    "duration": 702,
    "start_time": "2021-06-28T20:11:05.289Z"
   },
   {
    "duration": 182,
    "start_time": "2021-06-28T20:11:05.993Z"
   },
   {
    "duration": 26,
    "start_time": "2021-06-28T20:11:06.178Z"
   },
   {
    "duration": 52,
    "start_time": "2021-06-28T20:11:06.207Z"
   },
   {
    "duration": 11,
    "start_time": "2021-06-28T20:11:06.261Z"
   },
   {
    "duration": 29,
    "start_time": "2021-06-28T20:11:06.276Z"
   },
   {
    "duration": 13,
    "start_time": "2021-06-28T20:11:06.308Z"
   },
   {
    "duration": 50,
    "start_time": "2021-06-28T20:11:06.324Z"
   },
   {
    "duration": 35,
    "start_time": "2021-06-28T20:11:06.378Z"
   },
   {
    "duration": 37,
    "start_time": "2021-06-28T20:11:06.417Z"
   },
   {
    "duration": 81,
    "start_time": "2021-06-28T20:11:06.457Z"
   },
   {
    "duration": 119,
    "start_time": "2021-06-28T20:11:06.540Z"
   },
   {
    "duration": 78,
    "start_time": "2021-06-28T20:11:06.662Z"
   },
   {
    "duration": 13,
    "start_time": "2021-06-28T20:11:06.755Z"
   },
   {
    "duration": 4,
    "start_time": "2021-06-28T20:11:06.771Z"
   },
   {
    "duration": 27,
    "start_time": "2021-06-28T20:11:06.777Z"
   },
   {
    "duration": 14,
    "start_time": "2021-06-28T20:11:06.807Z"
   },
   {
    "duration": 46,
    "start_time": "2021-06-28T20:11:06.855Z"
   },
   {
    "duration": 65,
    "start_time": "2021-06-28T20:11:06.903Z"
   },
   {
    "duration": 5,
    "start_time": "2021-06-28T20:11:06.970Z"
   },
   {
    "duration": 27,
    "start_time": "2021-06-28T20:11:06.977Z"
   },
   {
    "duration": 51,
    "start_time": "2021-06-28T20:11:07.006Z"
   },
   {
    "duration": 21,
    "start_time": "2021-06-28T20:11:07.060Z"
   },
   {
    "duration": 18,
    "start_time": "2021-06-28T20:11:07.083Z"
   },
   {
    "duration": 55,
    "start_time": "2021-06-28T20:11:07.103Z"
   },
   {
    "duration": 20,
    "start_time": "2021-06-28T20:11:07.160Z"
   },
   {
    "duration": 12,
    "start_time": "2021-06-28T20:11:07.185Z"
   },
   {
    "duration": 16,
    "start_time": "2021-06-28T20:11:07.200Z"
   },
   {
    "duration": 53,
    "start_time": "2021-06-28T20:11:07.218Z"
   },
   {
    "duration": 6,
    "start_time": "2021-06-28T20:11:07.273Z"
   },
   {
    "duration": 33,
    "start_time": "2021-06-28T20:11:07.282Z"
   },
   {
    "duration": 48,
    "start_time": "2021-06-28T20:11:07.318Z"
   },
   {
    "duration": 24,
    "start_time": "2021-06-28T20:11:07.369Z"
   },
   {
    "duration": 18,
    "start_time": "2021-06-28T20:11:07.395Z"
   },
   {
    "duration": 45,
    "start_time": "2021-06-28T20:11:07.415Z"
   },
   {
    "duration": 6,
    "start_time": "2021-06-28T20:11:07.463Z"
   },
   {
    "duration": 8,
    "start_time": "2021-06-28T20:11:07.471Z"
   },
   {
    "duration": 6,
    "start_time": "2021-06-28T20:11:07.482Z"
   },
   {
    "duration": 75,
    "start_time": "2021-06-28T20:12:21.095Z"
   }
  ],
  "colab": {
   "collapsed_sections": [
    "E0vqbgi9ay0H",
    "VUC88oWjTJw2"
   ],
   "name": "yandex_music_project_2021.2.ipynb",
   "provenance": []
  },
  "kernelspec": {
   "display_name": "Python 3 (ipykernel)",
   "language": "python",
   "name": "python3"
  },
  "language_info": {
   "codemirror_mode": {
    "name": "ipython",
    "version": 3
   },
   "file_extension": ".py",
   "mimetype": "text/x-python",
   "name": "python",
   "nbconvert_exporter": "python",
   "pygments_lexer": "ipython3",
   "version": "3.8.13"
  },
  "toc": {
   "base_numbering": 1,
   "nav_menu": {},
   "number_sections": true,
   "sideBar": true,
   "skip_h1_title": true,
   "title_cell": "Table of Contents",
   "title_sidebar": "Contents",
   "toc_cell": false,
   "toc_position": {
    "height": "calc(100% - 180px)",
    "left": "10px",
    "top": "150px",
    "width": "290px"
   },
   "toc_section_display": true,
   "toc_window_display": true
  }
 },
 "nbformat": 4,
 "nbformat_minor": 1
}
