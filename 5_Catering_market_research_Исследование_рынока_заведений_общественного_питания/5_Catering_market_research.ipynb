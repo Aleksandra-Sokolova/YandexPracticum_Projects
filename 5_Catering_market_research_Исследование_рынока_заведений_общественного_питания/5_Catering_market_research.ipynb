{
 "cells": [
  {
   "cell_type": "markdown",
   "metadata": {},
   "source": [
    "# Проект: \n",
    "# Исследование рынка заведений общественного питания Москвы"
   ]
  },
  {
   "cell_type": "markdown",
   "metadata": {},
   "source": [
    "<hr style=\"border: 2px solid green;\" />"
   ]
  },
  {
   "cell_type": "markdown",
   "metadata": {},
   "source": [
    "**Цель исследования**:\n",
    "\n",
    "- Поиск подходящего места (района) для открытия кафе в Москве\n",
    " \n",
    "**Задачи**: \n",
    "1. Исследовать соотношение видов объектов общественного питания по количеству. Построить график.\n",
    "2. Исследовать соотношение сетевых и несетевых заведений по количеству. Построить график.\n",
    "3. Проверить, для какого вида объекта общественного питания характерно сетевое распространение.\n",
    "4. Проверить, что характерно для сетевых заведений: много заведений с небольшим числом посадочных мест в каждом или мало заведений с большим количеством посадочных мест.\n",
    "5. Для каждого вида объекта общественного питания описать среднее количество посадочных мест. Определить, какой вид предоставляет в среднем самое большое количество посадочных мест. Постройте графики.\n",
    "6. Построить график топ-10 улиц по количеству объектов общественного питания и проверить в каких районах Москвы находятся эти улицы.\n",
    "7. Найти число улиц с одним объектом общественного питания и проверить в каких районах Москвы находятся эти улицы.\n",
    "8. Сделать общий вывод и дать рекомендации о виде заведения, количестве посадочных мест, а также районе расположения и возможности развития сети. \n",
    "\n",
    "**Этапы выполнения проекта**:\n",
    " 1. Знакомство с данными\n",
    " 2. Предобработка данных\n",
    " 3. Исследовательски анализ данных (EDA)\n",
    " 4. Подготовка презентации"
   ]
  },
  {
   "cell_type": "markdown",
   "metadata": {},
   "source": [
    "**Описание данных**\n",
    "\n",
    "\n",
    "**Таблица rest_data:**\n",
    "- id — идентификатор объекта;\n",
    "- object_name — название объекта общественного питания;\n",
    "- chain — сетевой ресторан;\n",
    "- object_type — тип объекта общественного питания;\n",
    "- address — адрес;\n",
    "- number — количество посадочных мест."
   ]
  },
  {
   "cell_type": "markdown",
   "metadata": {},
   "source": [
    "<hr style=\"border: 2px solid green;\" />"
   ]
  },
  {
   "cell_type": "markdown",
   "metadata": {},
   "source": [
    "## Этап 1: Знакомство с данными"
   ]
  },
  {
   "cell_type": "code",
   "execution_count": 1217,
   "metadata": {},
   "outputs": [],
   "source": [
    "#!pip install bokeh"
   ]
  },
  {
   "cell_type": "code",
   "execution_count": 1218,
   "metadata": {},
   "outputs": [],
   "source": [
    "#!pip install folium"
   ]
  },
  {
   "cell_type": "code",
   "execution_count": 1219,
   "metadata": {},
   "outputs": [],
   "source": [
    "#!pip install geopandas"
   ]
  },
  {
   "cell_type": "code",
   "execution_count": 1220,
   "metadata": {},
   "outputs": [],
   "source": [
    "#!pip install pyyaml"
   ]
  },
  {
   "cell_type": "code",
   "execution_count": 1221,
   "metadata": {
    "scrolled": true
   },
   "outputs": [],
   "source": [
    "# Импорт библиотек\n",
    "\n",
    "import pandas as pd\n",
    "import numpy as np\n",
    "import matplotlib.pyplot as plt\n",
    "import seaborn as sns\n",
    "import seaborn as sns\n",
    "import datetime\n",
    "import math\n",
    "from scipy import stats as st\n",
    "from io import BytesIO\n",
    "import requests as r\n",
    "import plotly.express as px"
   ]
  },
  {
   "cell_type": "code",
   "execution_count": 1222,
   "metadata": {},
   "outputs": [],
   "source": [
    "# Загрузка датасета\n",
    "\n",
    "df = pd.read_csv(r'C:\\Users\\mirra\\Desktop\\Yandex.praktikum\\Проекты\\DA_Проекты\\DA_Final_versions\\5_Рынок_заведений_общественного_питания_Москвы\\rest_data.csv')"
   ]
  },
  {
   "cell_type": "code",
   "execution_count": 1223,
   "metadata": {},
   "outputs": [],
   "source": [
    "# Cбросим ограничения на количество выводимых столбцов\n",
    "\n",
    "pd.set_option('display.max_columns', None)\n",
    "\n",
    "# Настроим вывод всего текста\n",
    "\n",
    "pd.set_option('display.float_format', lambda x: '%.2f' % x)"
   ]
  },
  {
   "cell_type": "code",
   "execution_count": 1224,
   "metadata": {},
   "outputs": [
    {
     "name": "stdout",
     "output_type": "stream",
     "text": [
      "\n",
      "\u001b[1;30;46m_____________ДАТАСЕТ:  DF_____________\u001b[0;0m\n",
      " \n",
      "\u001b[2;30;47m Вывод первых строк: \u001b[0;0m\n"
     ]
    },
    {
     "data": {
      "text/html": [
       "<div>\n",
       "<style scoped>\n",
       "    .dataframe tbody tr th:only-of-type {\n",
       "        vertical-align: middle;\n",
       "    }\n",
       "\n",
       "    .dataframe tbody tr th {\n",
       "        vertical-align: top;\n",
       "    }\n",
       "\n",
       "    .dataframe thead th {\n",
       "        text-align: right;\n",
       "    }\n",
       "</style>\n",
       "<table border=\"1\" class=\"dataframe\">\n",
       "  <thead>\n",
       "    <tr style=\"text-align: right;\">\n",
       "      <th></th>\n",
       "      <th>id</th>\n",
       "      <th>object_name</th>\n",
       "      <th>chain</th>\n",
       "      <th>object_type</th>\n",
       "      <th>address</th>\n",
       "      <th>number</th>\n",
       "    </tr>\n",
       "  </thead>\n",
       "  <tbody>\n",
       "    <tr>\n",
       "      <th>0</th>\n",
       "      <td>151635</td>\n",
       "      <td>СМЕТАНА</td>\n",
       "      <td>нет</td>\n",
       "      <td>кафе</td>\n",
       "      <td>город Москва, улица Егора Абакумова, дом 9</td>\n",
       "      <td>48</td>\n",
       "    </tr>\n",
       "    <tr>\n",
       "      <th>1</th>\n",
       "      <td>77874</td>\n",
       "      <td>Родник</td>\n",
       "      <td>нет</td>\n",
       "      <td>кафе</td>\n",
       "      <td>город Москва, улица Талалихина, дом 2/1, корпус 1</td>\n",
       "      <td>35</td>\n",
       "    </tr>\n",
       "    <tr>\n",
       "      <th>2</th>\n",
       "      <td>24309</td>\n",
       "      <td>Кафе «Академия»</td>\n",
       "      <td>нет</td>\n",
       "      <td>кафе</td>\n",
       "      <td>город Москва, Абельмановская улица, дом 6</td>\n",
       "      <td>95</td>\n",
       "    </tr>\n",
       "  </tbody>\n",
       "</table>\n",
       "</div>"
      ],
      "text/plain": [
       "       id      object_name chain object_type  \\\n",
       "0  151635          СМЕТАНА   нет        кафе   \n",
       "1   77874           Родник   нет        кафе   \n",
       "2   24309  Кафе «Академия»   нет        кафе   \n",
       "\n",
       "                                             address  number  \n",
       "0         город Москва, улица Егора Абакумова, дом 9      48  \n",
       "1  город Москва, улица Талалихина, дом 2/1, корпус 1      35  \n",
       "2          город Москва, Абельмановская улица, дом 6      95  "
      ]
     },
     "metadata": {},
     "output_type": "display_data"
    },
    {
     "name": "stdout",
     "output_type": "stream",
     "text": [
      "\n",
      "\u001b[2;30;47m Общая информация: \u001b[0;0m\n",
      "<class 'pandas.core.frame.DataFrame'>\n",
      "RangeIndex: 15366 entries, 0 to 15365\n",
      "Data columns (total 6 columns):\n",
      " #   Column       Non-Null Count  Dtype \n",
      "---  ------       --------------  ----- \n",
      " 0   id           15366 non-null  int64 \n",
      " 1   object_name  15366 non-null  object\n",
      " 2   chain        15366 non-null  object\n",
      " 3   object_type  15366 non-null  object\n",
      " 4   address      15366 non-null  object\n",
      " 5   number       15366 non-null  int64 \n",
      "dtypes: int64(2), object(4)\n",
      "memory usage: 7.1 MB\n"
     ]
    },
    {
     "data": {
      "text/plain": [
       "None"
      ]
     },
     "metadata": {},
     "output_type": "display_data"
    },
    {
     "name": "stdout",
     "output_type": "stream",
     "text": [
      "\u001b[2;30;47m Подсчет доли пропусков в %: \u001b[0;0m\n"
     ]
    },
    {
     "data": {
      "text/plain": [
       "id            0.00\n",
       "object_name   0.00\n",
       "chain         0.00\n",
       "object_type   0.00\n",
       "address       0.00\n",
       "number        0.00\n",
       "dtype: float64"
      ]
     },
     "metadata": {},
     "output_type": "display_data"
    },
    {
     "name": "stdout",
     "output_type": "stream",
     "text": [
      "\u001b[2;30;47m Подсчет дубликатов\u001b[0;0m    0.0  %\n",
      "\n",
      "\u001b[2;30;47m Общая сводка строковых значений: \u001b[0;0m\n"
     ]
    },
    {
     "data": {
      "text/html": [
       "<div>\n",
       "<style scoped>\n",
       "    .dataframe tbody tr th:only-of-type {\n",
       "        vertical-align: middle;\n",
       "    }\n",
       "\n",
       "    .dataframe tbody tr th {\n",
       "        vertical-align: top;\n",
       "    }\n",
       "\n",
       "    .dataframe thead th {\n",
       "        text-align: right;\n",
       "    }\n",
       "</style>\n",
       "<table border=\"1\" class=\"dataframe\">\n",
       "  <thead>\n",
       "    <tr style=\"text-align: right;\">\n",
       "      <th></th>\n",
       "      <th>count</th>\n",
       "      <th>unique</th>\n",
       "      <th>top</th>\n",
       "      <th>freq</th>\n",
       "    </tr>\n",
       "  </thead>\n",
       "  <tbody>\n",
       "    <tr>\n",
       "      <th>object_name</th>\n",
       "      <td>15366</td>\n",
       "      <td>10393</td>\n",
       "      <td>Столовая</td>\n",
       "      <td>267</td>\n",
       "    </tr>\n",
       "    <tr>\n",
       "      <th>chain</th>\n",
       "      <td>15366</td>\n",
       "      <td>2</td>\n",
       "      <td>нет</td>\n",
       "      <td>12398</td>\n",
       "    </tr>\n",
       "    <tr>\n",
       "      <th>object_type</th>\n",
       "      <td>15366</td>\n",
       "      <td>9</td>\n",
       "      <td>кафе</td>\n",
       "      <td>6099</td>\n",
       "    </tr>\n",
       "    <tr>\n",
       "      <th>address</th>\n",
       "      <td>15366</td>\n",
       "      <td>9108</td>\n",
       "      <td>город Москва, Ходынский бульвар, дом 4</td>\n",
       "      <td>95</td>\n",
       "    </tr>\n",
       "  </tbody>\n",
       "</table>\n",
       "</div>"
      ],
      "text/plain": [
       "             count unique                                     top   freq\n",
       "object_name  15366  10393                                Столовая    267\n",
       "chain        15366      2                                     нет  12398\n",
       "object_type  15366      9                                    кафе   6099\n",
       "address      15366   9108  город Москва, Ходынский бульвар, дом 4     95"
      ]
     },
     "metadata": {},
     "output_type": "display_data"
    },
    {
     "name": "stdout",
     "output_type": "stream",
     "text": [
      "\n",
      "\u001b[2;30;47m Сводка числовых значений, включая даты: \u001b[0;0m\n"
     ]
    },
    {
     "data": {
      "text/html": [
       "<div>\n",
       "<style scoped>\n",
       "    .dataframe tbody tr th:only-of-type {\n",
       "        vertical-align: middle;\n",
       "    }\n",
       "\n",
       "    .dataframe tbody tr th {\n",
       "        vertical-align: top;\n",
       "    }\n",
       "\n",
       "    .dataframe thead th {\n",
       "        text-align: right;\n",
       "    }\n",
       "</style>\n",
       "<table border=\"1\" class=\"dataframe\">\n",
       "  <thead>\n",
       "    <tr style=\"text-align: right;\">\n",
       "      <th></th>\n",
       "      <th>count</th>\n",
       "      <th>mean</th>\n",
       "      <th>std</th>\n",
       "      <th>min</th>\n",
       "      <th>25%</th>\n",
       "      <th>50%</th>\n",
       "      <th>75%</th>\n",
       "      <th>max</th>\n",
       "    </tr>\n",
       "  </thead>\n",
       "  <tbody>\n",
       "    <tr>\n",
       "      <th>id</th>\n",
       "      <td>15366.00</td>\n",
       "      <td>119720.07</td>\n",
       "      <td>73036.13</td>\n",
       "      <td>838.00</td>\n",
       "      <td>28524.00</td>\n",
       "      <td>144974.50</td>\n",
       "      <td>184262.25</td>\n",
       "      <td>223439.00</td>\n",
       "    </tr>\n",
       "    <tr>\n",
       "      <th>number</th>\n",
       "      <td>15366.00</td>\n",
       "      <td>59.55</td>\n",
       "      <td>74.74</td>\n",
       "      <td>0.00</td>\n",
       "      <td>12.00</td>\n",
       "      <td>40.00</td>\n",
       "      <td>80.00</td>\n",
       "      <td>1700.00</td>\n",
       "    </tr>\n",
       "  </tbody>\n",
       "</table>\n",
       "</div>"
      ],
      "text/plain": [
       "          count      mean      std    min      25%       50%       75%  \\\n",
       "id     15366.00 119720.07 73036.13 838.00 28524.00 144974.50 184262.25   \n",
       "number 15366.00     59.55    74.74   0.00    12.00     40.00     80.00   \n",
       "\n",
       "             max  \n",
       "id     223439.00  \n",
       "number   1700.00  "
      ]
     },
     "metadata": {},
     "output_type": "display_data"
    },
    {
     "name": "stdout",
     "output_type": "stream",
     "text": [
      "\n",
      "\u001b[01;30;46m_____________ОКОНЧАНИЕ ОТЧЕТА ПО ДАТАСЕТУ_____________\u001b[0;0m\n",
      "\n",
      "\n"
     ]
    }
   ],
   "source": [
    "# Выведем необходимые данные с общей информацией по всем датасетам\n",
    "\n",
    "tables = [df]\n",
    "names = ['df']\n",
    "\n",
    "for name, table in zip(names, tables):\n",
    "    print(\n",
    "        f'\\n\\033[1;30;46m_____________ДАТАСЕТ:  {name.upper()}_____________\\033[0;0m\\n',\n",
    "        '\\n\\033[2;30;47m Вывод первых строк: \\033[0;0m',\n",
    "        )\n",
    "    display(table.head(3))\n",
    "    print('\\n\\033[2;30;47m Общая информация: \\033[0;0m')\n",
    "    display(table.info(memory_usage='deep'))\n",
    "    print('\\033[2;30;47m Подсчет доли пропусков в %: \\033[0;0m')\n",
    "    display(round(table.isnull().mean() * 100, 2))\n",
    "    print(\n",
    "        '\\033[2;30;47m Подсчет дубликатов\\033[0;0m', \n",
    "        '  ', round(table.duplicated().mean() * 100, 4),  ' %'\n",
    "        )\n",
    "    print('\\n\\033[2;30;47m Общая сводка строковых значений: \\033[0;0m')\n",
    "    try:\n",
    "        display(table.describe(include=['object']).T)\n",
    "    except:\n",
    "        print('Датасет не содержит строковых значений')\n",
    "    print('\\n\\033[2;30;47m Сводка числовых значений, включая даты: \\033[0;0m')\n",
    "    try:\n",
    "        display(table.describe(datetime_is_numeric=True).T)\n",
    "    except:\n",
    "        print('Датасет не содержит числовых значений')\n",
    "    print ('\\n\\033[01;30;46m_____________ОКОНЧАНИЕ ОТЧЕТА ПО ДАТАСЕТУ_____________\\033[0;0m\\n\\n')"
   ]
  },
  {
   "cell_type": "code",
   "execution_count": 1225,
   "metadata": {},
   "outputs": [],
   "source": [
    "# Для детальной проверки дубликатов приведет названия сети в нижнему регистру\n",
    "df['object_name'] =  df['object_name'].str.lower()"
   ]
  },
  {
   "cell_type": "code",
   "execution_count": 1226,
   "metadata": {},
   "outputs": [
    {
     "name": "stdout",
     "output_type": "stream",
     "text": [
      "Количество полных дубликатов: 0\n",
      "Количество неполных дубликатов: 85\n",
      "Количество дубликатов по колонке: 5442\n"
     ]
    }
   ],
   "source": [
    "# Проверим наличие полных дубликатов\n",
    "print(\"Количество полных дубликатов: {}\".format(df.duplicated().sum()))\n",
    "\n",
    "# Проверим наличие неполных дубликатов, без столбца ID \n",
    "print(\"Количество неполных дубликатов: {}\".format(df.drop('id', axis=1).duplicated().sum()))\n",
    "\n",
    "# Проверим наличие неполных дубликатов по столбцу с названием объекта\n",
    "print(\"Количество дубликатов по колонке: {}\".format(df['object_name'].duplicated().sum()))"
   ]
  },
  {
   "cell_type": "code",
   "execution_count": 1227,
   "metadata": {
    "scrolled": true
   },
   "outputs": [
    {
     "data": {
      "text/plain": [
       "<AxesSubplot:xlabel='number'>"
      ]
     },
     "execution_count": 1227,
     "metadata": {},
     "output_type": "execute_result"
    },
    {
     "data": {
      "image/png": "[encoded data removed]",
      "text/plain": [
       "<Figure size 432x288 with 1 Axes>"
      ]
     },
     "metadata": {},
     "output_type": "display_data"
    }
   ],
   "source": [
    "# Дополнительно изучим данные колонки с количеством мест в заведении\n",
    "\n",
    "sns.boxplot(x=df['number'])"
   ]
  },
  {
   "cell_type": "code",
   "execution_count": 1228,
   "metadata": {},
   "outputs": [
    {
     "name": "stdout",
     "output_type": "stream",
     "text": [
      "Количество заведений, где ноль посадочных мест: 1621\n"
     ]
    }
   ],
   "source": [
    "# Посчитаем количество объектов, где 0 посадочных мест\n",
    "\n",
    "print('Количество заведений, где ноль посадочных мест:', df[df[\"number\"] == 0]['object_name'].count())"
   ]
  },
  {
   "cell_type": "code",
   "execution_count": 1229,
   "metadata": {},
   "outputs": [
    {
     "data": {
      "text/html": [
       "<div>\n",
       "<style scoped>\n",
       "    .dataframe tbody tr th:only-of-type {\n",
       "        vertical-align: middle;\n",
       "    }\n",
       "\n",
       "    .dataframe tbody tr th {\n",
       "        vertical-align: top;\n",
       "    }\n",
       "\n",
       "    .dataframe thead th {\n",
       "        text-align: right;\n",
       "    }\n",
       "</style>\n",
       "<table border=\"1\" class=\"dataframe\">\n",
       "  <thead>\n",
       "    <tr style=\"text-align: right;\">\n",
       "      <th></th>\n",
       "      <th>id</th>\n",
       "      <th>object_name</th>\n",
       "      <th>chain</th>\n",
       "      <th>object_type</th>\n",
       "      <th>address</th>\n",
       "      <th>number</th>\n",
       "    </tr>\n",
       "  </thead>\n",
       "  <tbody>\n",
       "    <tr>\n",
       "      <th>12723</th>\n",
       "      <td>199696</td>\n",
       "      <td>arena by soho family</td>\n",
       "      <td>нет</td>\n",
       "      <td>бар</td>\n",
       "      <td>город Москва, Кутузовский проспект, дом 36, ст...</td>\n",
       "      <td>1700</td>\n",
       "    </tr>\n",
       "  </tbody>\n",
       "</table>\n",
       "</div>"
      ],
      "text/plain": [
       "           id           object_name chain object_type  \\\n",
       "12723  199696  arena by soho family   нет         бар   \n",
       "\n",
       "                                                 address  number  \n",
       "12723  город Москва, Кутузовский проспект, дом 36, ст...    1700  "
      ]
     },
     "execution_count": 1229,
     "metadata": {},
     "output_type": "execute_result"
    }
   ],
   "source": [
    "# Объект с наибольшим количеством посадочных мест\n",
    "\n",
    "df[df['number'] > 1500]"
   ]
  },
  {
   "cell_type": "markdown",
   "metadata": {},
   "source": [
    "### Выводы:\n",
    "\n",
    "**_Датасет df_**\n",
    "1. Датасет содержит 15366 записей о заведениях общественного питания Москвы;\n",
    "2. Шесть (6) колонок датасета содержат данные о названии объекта общественного питания, типе объекта общественного питания, адресе, количестве посадочных мест, принадлежности к сети и ID объекта;\n",
    "3. Пропуски в данных отсутствуют;     \n",
    "4. Дубликаты в данных:\n",
    "   - Полные дубликаты отсутствуют;\n",
    "   - Количество неполных дубликатов (без колонки ID) - 85 шт;\n",
    "   - Количество дубликатов по колонке с названием объекта (object_name) - 5442.\n",
    "5. Ошибок в строковых значениях нет. Датасет содержит:\n",
    "   - 15366 уникальных ID объектов общественного питания;\n",
    "   - 10393 уникальных название объекта;\n",
    "   - 9 типов объектов;\n",
    "   - 9108 - уникальных адреса.\n",
    "6. Датасет содержит числовые значения:\n",
    "   - ID объекта общественного питания;\n",
    "   - number - количестве посадочных мест. В данных есть 1621 заведения, где количество посадочных мест равно нулю, в основном они относятся к таким объектам, пекарня или кулинария."
   ]
  },
  {
   "cell_type": "markdown",
   "metadata": {},
   "source": [
    "### Внесение корректировок в датасеты (план для раздела Предобработки)\n",
    "\n",
    "**_Что нужно скорректировать:_**\n",
    "\n",
    "1. Выявить и исправить неявные дубликаты в названии объектов сети:\n",
    "- Скорректировать различные варианты написания названий объектов в колонке object_name (так как данные собраны из различных мест, есть вероятность, что одинаковые заведения могли попасть в данные под разными ID)\n",
    "\n",
    "2. Выделить название улицы\n",
    "- Для последующего исследования необходимо вынести в отдельный столбец информацию с названием улицы из столбца address.  "
   ]
  },
  {
   "cell_type": "markdown",
   "metadata": {},
   "source": [
    "<hr style=\"border: 2px solid green;\" />"
   ]
  },
  {
   "cell_type": "markdown",
   "metadata": {},
   "source": [
    "## Этап 2: Предобработка данных\n",
    "\n",
    "**Задачи в данном этапе:**\n",
    "- Провести предобработку колонки object_name\n",
    "- Выделить улицу из колонки address\n",
    "- Изучить данные колонки с количеством мест в заведении "
   ]
  },
  {
   "cell_type": "markdown",
   "metadata": {},
   "source": [
    "**_Задача 1: Провести предобработку колонки object_name_**"
   ]
  },
  {
   "cell_type": "code",
   "execution_count": 1230,
   "metadata": {},
   "outputs": [
    {
     "data": {
      "text/plain": [
       "9924"
      ]
     },
     "execution_count": 1230,
     "metadata": {},
     "output_type": "execute_result"
    }
   ],
   "source": [
    "# Проверим количество уникальных названий объектов в колонке object_name \n",
    "\n",
    "len(list(df['object_name'].unique()))"
   ]
  },
  {
   "cell_type": "code",
   "execution_count": 1231,
   "metadata": {},
   "outputs": [],
   "source": [
    "# Предобработка колонки object_name\n",
    "\n",
    "df['object_name'] =  df['object_name'].str.replace('«', ' ')\n",
    "df['object_name'] =  df['object_name'].str.replace('»', ' ')\n",
    "df['object_name'] =  df['object_name'].str.replace('ресторан ', '')\n",
    "df['object_name'] =  df['object_name'].str.replace('кальянная', '')\n",
    "df['object_name'] =  df['object_name'].str.replace('кальян-бар ', '')\n",
    "df['object_name'] =  df['object_name'].str.replace('кальян- бар ', '')\n",
    "df['object_name'] =  df['object_name'].str.replace('лаундж-бар ', '')\n",
    "df['object_name'] =  df['object_name'].str.replace('лаундж-бар ', '')\n",
    "df['object_name'] =  df['object_name'].str.replace('кафе ', '')\n",
    "df['object_name'] =  df['object_name'].str.replace('предприятие быстрого обслуживания ', '')\n",
    "df['object_name'] =  df['object_name'].str.replace('кальянный клуб', '')\n",
    "df['object_name'] =  df['object_name'].str.replace('бар ', '')\n",
    "df['object_name'] =  df['object_name'].str.replace('магазин готовой еды  ', '')\n",
    "df['object_name'] =  df['object_name'].str.replace('точка продажи готовой еды ', '')\n",
    "df['object_name'] =  df['object_name'].str.replace('готовые блюда ', '')\n",
    "df['object_name'] =  df['object_name'].str.replace(' готовые блюда для здорового питания', '')\n",
    "df['object_name'] =  df['object_name'].str.replace('закусочная ', '') \n",
    "df['object_name'] =  df['object_name'].str.replace('быстрого питания ', '')\n",
    "df['object_name'] =  df['object_name'].str.replace('пбо ', '')\n",
    "df['object_name'] =  df['object_name'].str.replace('кофейня ', '') \n",
    "df['object_name'] =  df['object_name'].str.replace('кафейня ', '') \n",
    "df['object_name'] =  df['object_name'].str.replace('пиццерия ', '') \n",
    "df['object_name'] =  df['object_name'].str.replace('бильярдный клуб ', '') \n",
    "df['object_name'] =  df['object_name'].str.replace(' кофейня', '')\n",
    "df['object_name'] =  df['object_name'].str.replace('буфет  ', '')\n",
    "df['object_name'] =  df['object_name'].str.replace('буфет - ', '')"
   ]
  },
  {
   "cell_type": "code",
   "execution_count": 1232,
   "metadata": {
    "scrolled": true
   },
   "outputs": [
    {
     "data": {
      "text/plain": [
       "мята lounge                  26\n",
       " мята lounge                  4\n",
       " мята lounge                  3\n",
       " мята lounge                  1\n",
       "мята lounge автозаводская     1\n",
       "мята lounge октябрьская       1\n",
       "мята lounge шаболовка         1\n",
       "  мята lounge                 1\n",
       "Name: object_name, dtype: int64"
      ]
     },
     "execution_count": 1232,
     "metadata": {},
     "output_type": "execute_result"
    }
   ],
   "source": [
    "myata = df[df['object_name'].str.contains('мята lounge')]\n",
    "myata['object_name'].value_counts()"
   ]
  },
  {
   "cell_type": "code",
   "execution_count": 1233,
   "metadata": {},
   "outputs": [],
   "source": [
    "df['object_name'] = df['object_name'].str.replace('мята lounge октябрьска', 'мята lounge')\n",
    "df['object_name'] = df['object_name'].str.replace('мята lounge шаболовка', 'мята lounge')\n",
    "df['object_name'] = df['object_name'].str.replace('мята lounge автозаводская', 'мята lounge')\n",
    "df['object_name'] = df['object_name'].str.replace(' мята lounge', 'мята lounge')\n",
    "df['object_name'] = df['object_name'].str.replace('  мята lounge', 'мята lounge')\n",
    "df['object_name'] = df['object_name'].str.replace('мята loungeя', 'мята lounge')\n",
    "df['object_name'] = df['object_name'].str.replace(' мята lounge', 'мята lounge')\n",
    "df['object_name'] = df['object_name'].str.replace('мята lounge ', 'мята lounge')\n",
    "df['object_name'] = df['object_name'].str.replace('мята lounge  ', 'мята lounge')"
   ]
  },
  {
   "cell_type": "code",
   "execution_count": 1234,
   "metadata": {},
   "outputs": [
    {
     "data": {
      "text/plain": [
       "макдоналдс             152\n",
       " макдоналдс             19\n",
       "москва - макдоналдс      1\n",
       "макдоналдс               1\n",
       "Name: object_name, dtype: int64"
      ]
     },
     "execution_count": 1234,
     "metadata": {},
     "output_type": "execute_result"
    }
   ],
   "source": [
    "macdonalds = df[df['object_name'].str.contains('макд')]\n",
    "macdonalds['object_name'].value_counts()"
   ]
  },
  {
   "cell_type": "code",
   "execution_count": 1235,
   "metadata": {},
   "outputs": [],
   "source": [
    "df['object_name'] = df['object_name'].str.replace(' макдоналдс', 'макдоналдс')\n",
    "df['object_name'] = df['object_name'].str.replace('макдоналдс ', 'макдоналдс')"
   ]
  },
  {
   "cell_type": "code",
   "execution_count": 1236,
   "metadata": {
    "scrolled": true
   },
   "outputs": [
    {
     "data": {
      "text/plain": [
       "милти                          76\n",
       "милти                           3\n",
       " милти                          3\n",
       "милти для здорового питания     1\n",
       "Name: object_name, dtype: int64"
      ]
     },
     "execution_count": 1236,
     "metadata": {},
     "output_type": "execute_result"
    }
   ],
   "source": [
    "milti = df[df['object_name'].str.contains('милти')]\n",
    "milti['object_name'].value_counts()"
   ]
  },
  {
   "cell_type": "code",
   "execution_count": 1237,
   "metadata": {},
   "outputs": [],
   "source": [
    "df['object_name'] = df['object_name'].str.replace(' милти', 'милти')\n",
    "df['object_name'] = df['object_name'].str.replace('милти ', 'милти')"
   ]
  },
  {
   "cell_type": "code",
   "execution_count": 1238,
   "metadata": {},
   "outputs": [
    {
     "data": {
      "text/plain": [
       "array(['сметана', 'родник', ' академия ', ..., 'movenpick', 'fridays kfc',\n",
       "       'marmalato'], dtype=object)"
      ]
     },
     "execution_count": 1238,
     "metadata": {},
     "output_type": "execute_result"
    }
   ],
   "source": [
    "df['object_name'].unique()"
   ]
  },
  {
   "cell_type": "code",
   "execution_count": 1239,
   "metadata": {
    "scrolled": false
   },
   "outputs": [
    {
     "data": {
      "text/plain": [
       "kfc                  160\n",
       " kfc                  18\n",
       "ростикс kfc            8\n",
       "fridays kfc            1\n",
       "kfc.                   1\n",
       " kfc покрышкина        1\n",
       "kfc волгоградский      1\n",
       "Name: object_name, dtype: int64"
      ]
     },
     "execution_count": 1239,
     "metadata": {},
     "output_type": "execute_result"
    }
   ],
   "source": [
    "kfc = df[df['object_name'].str.contains('kfc')]\n",
    "kfc['object_name'].value_counts()"
   ]
  },
  {
   "cell_type": "code",
   "execution_count": 1240,
   "metadata": {},
   "outputs": [
    {
     "name": "stderr",
     "output_type": "stream",
     "text": [
      "<ipython-input-1240-45a6e92992de>:3: FutureWarning:\n",
      "\n",
      "The default value of regex will change from True to False in a future version.\n",
      "\n"
     ]
    }
   ],
   "source": [
    "df['object_name'] = df['object_name'].str.replace(' kfc', 'kfc')\n",
    "df['object_name'] = df['object_name'].str.replace('ростиксkfc', 'kfc')\n",
    "df['object_name'] = df['object_name'].str.replace('kfc.', 'kfc')\n",
    "df['object_name'] = df['object_name'].str.replace('kfc волгоградский', 'kfc')\n",
    "df['object_name'] = df['object_name'].str.replace('kfcпокрышкина', 'kfc')\n",
    "df['object_name'] = df['object_name'].str.replace('kfcволгоградский', 'kfc')\n",
    "df['object_name'] = df['object_name'].str.replace('kfcлгоградский', 'kfc')\n",
    "df['object_name'] = df['object_name'].str.replace('kfcрышкина ', 'kfc')\n",
    "df['object_name'] = df['object_name'].str.replace('kfcшкина', 'kfc')"
   ]
  },
  {
   "cell_type": "code",
   "execution_count": 1241,
   "metadata": {},
   "outputs": [
    {
     "data": {
      "text/plain": [
       "kfc           188\n",
       "kfc             1\n",
       "fridayskfc      1\n",
       "Name: object_name, dtype: int64"
      ]
     },
     "execution_count": 1241,
     "metadata": {},
     "output_type": "execute_result"
    }
   ],
   "source": [
    "kfc = df[df['object_name'].str.contains('kfc')]\n",
    "kfc['object_name'].value_counts()"
   ]
  },
  {
   "cell_type": "code",
   "execution_count": 1242,
   "metadata": {
    "scrolled": true
   },
   "outputs": [
    {
     "data": {
      "text/plain": [
       "шоколадница              162\n",
       " шоколадница              24\n",
       "шоколадница экспресс       1\n",
       "шоколадница кофе хаус      1\n",
       "шоколадница кофемания      1\n",
       "Name: object_name, dtype: int64"
      ]
     },
     "execution_count": 1242,
     "metadata": {},
     "output_type": "execute_result"
    }
   ],
   "source": [
    "shokoladnitsa = df[df['object_name'].str.contains('шоколадница')]\n",
    "shokoladnitsa['object_name'].value_counts()"
   ]
  },
  {
   "cell_type": "code",
   "execution_count": 1243,
   "metadata": {},
   "outputs": [],
   "source": [
    "df['object_name'] = df['object_name'].str.replace(' шоколадница', 'шоколадница')\n",
    "df['object_name'] = df['object_name'].str.replace('шоколадница ', 'шоколадница')"
   ]
  },
  {
   "cell_type": "code",
   "execution_count": 1244,
   "metadata": {
    "scrolled": true
   },
   "outputs": [
    {
     "data": {
      "text/plain": [
       "домино'с пицца                   90\n",
       " домино'с пицца                   8\n",
       "доминос пицца                     1\n",
       "винотека кино вино и домино       1\n",
       "доминос                           1\n",
       "домино'с пицца domino,s pizza     1\n",
       "Name: object_name, dtype: int64"
      ]
     },
     "execution_count": 1244,
     "metadata": {},
     "output_type": "execute_result"
    }
   ],
   "source": [
    "domino_pizza = df[df['object_name'].str.contains('домино')]\n",
    "domino_pizza['object_name'].value_counts()"
   ]
  },
  {
   "cell_type": "code",
   "execution_count": 1245,
   "metadata": {},
   "outputs": [],
   "source": [
    "df['object_name'] = df['object_name'].str.replace(\" домино'с пицца\", 'доминос пицца')\n",
    "df['object_name'] = df['object_name'].str.replace(\"домино'с пицца\", 'доминос пицца')\n",
    "df['object_name'] = df['object_name'].str.replace(\"доминос пицца \", 'доминос пицца')\n",
    "df['object_name'] = df['object_name'].str.replace(\"доминос пицца domino,s pizza\", 'доминос пицца')"
   ]
  },
  {
   "cell_type": "code",
   "execution_count": 1246,
   "metadata": {
    "scrolled": true
   },
   "outputs": [
    {
     "data": {
      "text/plain": [
       "тануки      35\n",
       " тануки     12\n",
       "Name: object_name, dtype: int64"
      ]
     },
     "execution_count": 1246,
     "metadata": {},
     "output_type": "execute_result"
    }
   ],
   "source": [
    "tanuki = df[df['object_name'].str.contains('тануки')]\n",
    "tanuki['object_name'].value_counts()"
   ]
  },
  {
   "cell_type": "code",
   "execution_count": 1247,
   "metadata": {},
   "outputs": [],
   "source": [
    "df['object_name'] = df['object_name'].str.replace(' тануки', 'тануки')\n",
    "df['object_name'] = df['object_name'].str.replace('тануки ', 'тануки') "
   ]
  },
  {
   "cell_type": "code",
   "execution_count": 1248,
   "metadata": {
    "scrolled": false
   },
   "outputs": [
    {
     "data": {
      "text/plain": [
       "якитория                39\n",
       " якитория               10\n",
       "якитория и ян примус     1\n",
       "якитория и спорт бар     1\n",
       "Name: object_name, dtype: int64"
      ]
     },
     "execution_count": 1248,
     "metadata": {},
     "output_type": "execute_result"
    }
   ],
   "source": [
    "yakitoria = df[df['object_name'].str.contains('якитория')]\n",
    "yakitoria['object_name'].value_counts()"
   ]
  },
  {
   "cell_type": "code",
   "execution_count": 1249,
   "metadata": {},
   "outputs": [],
   "source": [
    "df['object_name'] = df['object_name'].str.replace(' якитория', 'якитория')\n",
    "df['object_name'] = df['object_name'].str.replace('якитория ', 'якитория') "
   ]
  },
  {
   "cell_type": "code",
   "execution_count": 1250,
   "metadata": {
    "scrolled": true
   },
   "outputs": [
    {
     "data": {
      "text/plain": [
       "азбука вкуса             16\n",
       " азбука вкуса             1\n",
       "ав-дейли азбука вкуса     1\n",
       "Name: object_name, dtype: int64"
      ]
     },
     "execution_count": 1250,
     "metadata": {},
     "output_type": "execute_result"
    }
   ],
   "source": [
    "azbuka_vkusa = df[df['object_name'].str.contains('азбука вкуса')]\n",
    "df['object_name'] = df['object_name'].str.replace(' азбука вкуса ', 'азбука вкуса') \n",
    "azbuka_vkusa['object_name'].value_counts()"
   ]
  },
  {
   "cell_type": "code",
   "execution_count": 1251,
   "metadata": {
    "scrolled": true
   },
   "outputs": [
    {
     "data": {
      "text/plain": [
       "даблби                        14\n",
       "дабл би                        6\n",
       " даблби                        4\n",
       " дабл би                       1\n",
       "дабл би-кофейня                1\n",
       "дабл капс                      1\n",
       "дабл би блэк                   1\n",
       " пробка и штопор и даблби      1\n",
       "Name: object_name, dtype: int64"
      ]
     },
     "execution_count": 1251,
     "metadata": {},
     "output_type": "execute_result"
    }
   ],
   "source": [
    "dablbi = df[df['object_name'].str.contains('дабл')]\n",
    "dablbi['object_name'].value_counts()"
   ]
  },
  {
   "cell_type": "code",
   "execution_count": 1252,
   "metadata": {},
   "outputs": [],
   "source": [
    "df['object_name'] = df['object_name'].str.replace('дабл би', 'даблби')\n",
    "df['object_name'] = df['object_name'].str.replace(' даблби', 'даблби')\n",
    "df['object_name'] = df['object_name'].str.replace(' дабл би', 'даблби')\n",
    "df['object_name'] = df['object_name'].str.replace('даблби ', 'даблби')"
   ]
  },
  {
   "cell_type": "code",
   "execution_count": 1253,
   "metadata": {},
   "outputs": [
    {
     "data": {
      "text/plain": [
       "прайм стар                     27\n",
       "прайм                          10\n",
       "прайм-кафе                      7\n",
       "prime прайм стар                5\n",
       "prime                           4\n",
       " prime  прайм стар              2\n",
       "prime прайм стар прайм-кафе     2\n",
       " prime mart                     1\n",
       "праймбифбар                     1\n",
       "праймстар                       1\n",
       "прайм стар кафе                 1\n",
       " праймбиф                       1\n",
       "black star burger prime         1\n",
       "deli by prime прайм-кафе        1\n",
       "прайм биф                       1\n",
       "прайм-прайм стар                1\n",
       "прайм биф улица                 1\n",
       "prime star прайм стар           1\n",
       " prime  (прайм стар)            1\n",
       " prime                          1\n",
       "prime cafe                      1\n",
       "prime beef                      1\n",
       " prime cafe                     1\n",
       "праймстар ресторантс групп      1\n",
       " прайм стар                     1\n",
       "праймпрайм стар                 1\n",
       " boston prime                   1\n",
       "чикаго прайм                    1\n",
       " prime star                     1\n",
       "Name: object_name, dtype: int64"
      ]
     },
     "execution_count": 1253,
     "metadata": {},
     "output_type": "execute_result"
    }
   ],
   "source": [
    "prime = df[df['object_name'].str.contains('prime|прайм')]\n",
    "prime['object_name'].value_counts()"
   ]
  },
  {
   "cell_type": "code",
   "execution_count": 1254,
   "metadata": {},
   "outputs": [],
   "source": [
    "df['object_name'] = df['object_name'].str.replace('prime прайм стар', 'прайм')\n",
    "df['object_name'] = df['object_name'].str.replace('прайм стар', 'прайм')\n",
    "df['object_name'] = df['object_name'].str.replace('прайм-кафе', 'прайм')\n",
    "df['object_name'] = df['object_name'].str.replace('прайм-кафе', 'прайм')\n",
    "df['object_name'] = df['object_name'].str.replace('prime', 'прайм')\n",
    "df['object_name'] = df['object_name'].str.replace(' prime  прайм стар', 'прайм')\n",
    "df['object_name'] = df['object_name'].str.replace(' прайм стар', 'прайм')\n",
    "df['object_name'] = df['object_name'].str.replace('prime cafe', 'прайм')\n",
    "df['object_name'] = df['object_name'].str.replace('прайм прайм', 'прайм')\n",
    "df['object_name'] = df['object_name'].str.replace(' прайм', 'прайм')\n",
    "df['object_name'] = df['object_name'].str.replace('прайм cafe', 'прайм')\n",
    "df['object_name'] = df['object_name'].str.replace('праймстар', 'прайм')\n",
    "df['object_name'] = df['object_name'].str.replace('прайм ', 'прайм')\n",
    "df['object_name'] = df['object_name'].str.replace('праймstarпрайм ', 'прайм')\n",
    "df['object_name'] = df['object_name'].str.replace('праймstarпрайм', 'прайм')\n",
    "df['object_name'] = df['object_name'].str.replace('праймstar', 'прайм')\n",
    "df['object_name'] = df['object_name'].str.replace('праймкафе', 'прайм')"
   ]
  },
  {
   "cell_type": "code",
   "execution_count": 1255,
   "metadata": {
    "scrolled": true
   },
   "outputs": [
    {
     "data": {
      "text/plain": [
       "хлеб насущный      33\n",
       " хлеб насущный      3\n",
       "Name: object_name, dtype: int64"
      ]
     },
     "execution_count": 1255,
     "metadata": {},
     "output_type": "execute_result"
    }
   ],
   "source": [
    "khleb = df[df['object_name'].str.contains('насущный')]\n",
    "khleb['object_name'].value_counts()"
   ]
  },
  {
   "cell_type": "code",
   "execution_count": 1256,
   "metadata": {},
   "outputs": [],
   "source": [
    "df['object_name'] = df['object_name'].str.replace(' хлеб насущный', 'хлеб насущный')\n",
    "df['object_name'] = df['object_name'].str.replace('хлеб насущный ', 'хлеб насущный')"
   ]
  },
  {
   "cell_type": "code",
   "execution_count": 1257,
   "metadata": {
    "scrolled": true
   },
   "outputs": [
    {
     "data": {
      "text/plain": [
       "subway                 34\n",
       "сабвей                 20\n",
       " subway                 4\n",
       "glowsubs sandwiches     3\n",
       " сабвей  старбакс       2\n",
       "сабвэй                  2\n",
       "сабвей subway           1\n",
       " сабвэй                 1\n",
       "сабвей сушивок          1\n",
       "Name: object_name, dtype: int64"
      ]
     },
     "execution_count": 1257,
     "metadata": {},
     "output_type": "execute_result"
    }
   ],
   "source": [
    "subway= df[df['object_name'].str.contains('сабв|sub')]\n",
    "subway['object_name'].value_counts()"
   ]
  },
  {
   "cell_type": "code",
   "execution_count": 1258,
   "metadata": {},
   "outputs": [],
   "source": [
    "df['object_name'] = df['object_name'].str.replace(' сабвэй', 'сабвей')\n",
    "df['object_name'] = df['object_name'].str.replace('сабвэй', 'сабвей')\n",
    "df['object_name'] = df['object_name'].str.replace(' сабвэй', 'сабвей')\n",
    "df['object_name'] = df['object_name'].str.replace('сабвей subway', 'сабвей')\n",
    "df['object_name'] = df['object_name'].str.replace('сабвей ', 'сабвей')\n",
    "df['object_name'] = df['object_name'].str.replace('subway', 'сабвей')\n",
    "df['object_name'] = df['object_name'].str.replace(' subway', 'сабвей')\n",
    "df['object_name'] = df['object_name'].str.replace(' сабвей', 'сабвей')"
   ]
  },
  {
   "cell_type": "code",
   "execution_count": 1259,
   "metadata": {
    "scrolled": true
   },
   "outputs": [
    {
     "data": {
      "text/plain": [
       "бургер кинг                 140\n",
       " бургер кинг                 13\n",
       "бургер кинг burger king       7\n",
       "донер кинг                    2\n",
       "би-би-кинг                    1\n",
       "two smocking barrels pub      1\n",
       " kings                        1\n",
       "лаки кинг                     1\n",
       "бурген кинг                   1\n",
       "kingberry                     1\n",
       "английский паб букингем       1\n",
       "шаурма кинг                   1\n",
       "кафе- бургер кинг             1\n",
       "im smoking                    1\n",
       "кебабкинг                     1\n",
       "вьет кинг                     1\n",
       "burgerking                    1\n",
       "Name: object_name, dtype: int64"
      ]
     },
     "execution_count": 1259,
     "metadata": {},
     "output_type": "execute_result"
    }
   ],
   "source": [
    "burgerking= df[df['object_name'].str.contains('кинг|king')]\n",
    "burgerking['object_name'].value_counts()"
   ]
  },
  {
   "cell_type": "code",
   "execution_count": 1260,
   "metadata": {},
   "outputs": [],
   "source": [
    "df['object_name'] = df['object_name'].str.replace(' бургер кинг', 'бургер кинг')\n",
    "df['object_name'] = df['object_name'].str.replace('бургер кинг burger king', 'бургер кинг')\n",
    "df['object_name'] = df['object_name'].str.replace('кафе- бургер кинг', 'бургер кинг')\n",
    "df['object_name'] = df['object_name'].str.replace('burgerking', 'бургер кинг')\n",
    "df['object_name'] = df['object_name'].str.replace('бурген кинг', 'бургер кинг')\n",
    "df['object_name'] = df['object_name'].str.replace('бургер кинг ', 'бургер кинг')\n",
    "df['object_name'] = df['object_name'].str.replace('кафе-бургер кинг', 'бургер кинг')"
   ]
  },
  {
   "cell_type": "code",
   "execution_count": 1261,
   "metadata": {
    "scrolled": true
   },
   "outputs": [
    {
     "data": {
      "text/plain": [
       "штолле              14\n",
       " штолле              4\n",
       "пироги штолле        1\n",
       "пироговая штолле     1\n",
       "Name: object_name, dtype: int64"
      ]
     },
     "execution_count": 1261,
     "metadata": {},
     "output_type": "execute_result"
    }
   ],
   "source": [
    "shtolle= df[df['object_name'].str.contains('штол')]\n",
    "shtolle['object_name'].value_counts()"
   ]
  },
  {
   "cell_type": "code",
   "execution_count": 1262,
   "metadata": {},
   "outputs": [],
   "source": [
    "df['object_name'] = df['object_name'].str.replace(' штолле', 'штолле')\n",
    "df['object_name'] = df['object_name'].str.replace('пироговаяштолле', 'штолле')\n",
    "df['object_name'] = df['object_name'].str.replace('штолле ', 'штолле')\n",
    "df['object_name'] = df['object_name'].str.replace('пирогиштолле', 'штолле')"
   ]
  },
  {
   "cell_type": "code",
   "execution_count": 1263,
   "metadata": {},
   "outputs": [
    {
     "data": {
      "text/plain": [
       "старбакс                    21\n",
       " старбакс                    6\n",
       "старбакс starbucks           3\n",
       "сабвей старбакс              2\n",
       "starbucks, старбакс кофе     1\n",
       " старбакс кофе               1\n",
       "starbucks старбакс           1\n",
       "старбагс                     1\n",
       "старбакс кофе                1\n",
       "Name: object_name, dtype: int64"
      ]
     },
     "execution_count": 1263,
     "metadata": {},
     "output_type": "execute_result"
    }
   ],
   "source": [
    "\n",
    "starbucks= df[df['object_name'].str.contains('старб')]\n",
    "starbucks['object_name'].value_counts()"
   ]
  },
  {
   "cell_type": "code",
   "execution_count": 1264,
   "metadata": {},
   "outputs": [],
   "source": [
    "df['object_name'] = df['object_name'].str.replace(' старбакс', 'старбакс')\n",
    "df['object_name'] = df['object_name'].str.replace('старбакс starbucks', 'старбакс')\n",
    "df['object_name'] = df['object_name'].str.replace('старбакс кофе', 'старбакс')\n",
    "df['object_name'] = df['object_name'].str.replace(' старбакс кофе', 'старбакс')\n",
    "df['object_name'] = df['object_name'].str.replace('starbucks старбакс', 'старбакс')\n",
    "df['object_name'] = df['object_name'].str.replace('старбагс', 'старбакс')\n",
    "df['object_name'] = df['object_name'].str.replace('starbucks, старбакс кофе', 'старбакс')\n",
    "df['object_name'] = df['object_name'].str.replace('старбакс ', 'старбакс')\n",
    "df['object_name'] = df['object_name'].str.replace('starbucks,старбакс', 'старбакс')\n",
    "df['object_name'] = df['object_name'].str.replace('starbucksстарбакс', 'старбакс')"
   ]
  },
  {
   "cell_type": "code",
   "execution_count": 1265,
   "metadata": {},
   "outputs": [
    {
     "data": {
      "text/plain": [
       "теремок              97\n",
       " теремок             14\n",
       "теремок-инвест        2\n",
       "теремок инвест        2\n",
       "восточный теремок     1\n",
       "терем                 1\n",
       "Name: object_name, dtype: int64"
      ]
     },
     "execution_count": 1265,
     "metadata": {},
     "output_type": "execute_result"
    }
   ],
   "source": [
    "teremok= df[df['object_name'].str.contains('терем')]\n",
    "teremok['object_name'].value_counts()"
   ]
  },
  {
   "cell_type": "code",
   "execution_count": 1266,
   "metadata": {},
   "outputs": [],
   "source": [
    "df['object_name'] = df['object_name'].str.replace(' теремок', 'теремок')\n",
    "df['object_name'] = df['object_name'].str.replace('теремок ', 'теремок')"
   ]
  },
  {
   "cell_type": "code",
   "execution_count": 1267,
   "metadata": {},
   "outputs": [
    {
     "data": {
      "text/plain": [
       "lambic                  4\n",
       "ламбик                  2\n",
       "lambic брассерия        1\n",
       "гриль хаус lamb cook    1\n",
       "brasserie lambic        1\n",
       "брассерия ламбик        1\n",
       "Name: object_name, dtype: int64"
      ]
     },
     "execution_count": 1267,
     "metadata": {},
     "output_type": "execute_result"
    }
   ],
   "source": [
    "lambic= df[df['object_name'].str.contains('ламб|lamb')]\n",
    "lambic['object_name'].value_counts()"
   ]
  },
  {
   "cell_type": "code",
   "execution_count": 1268,
   "metadata": {},
   "outputs": [],
   "source": [
    "df['object_name'] = df['object_name'].str.replace('lambic', 'ламбик')"
   ]
  },
  {
   "cell_type": "code",
   "execution_count": 1269,
   "metadata": {
    "scrolled": true
   },
   "outputs": [
    {
     "data": {
      "text/plain": [
       "9631"
      ]
     },
     "execution_count": 1269,
     "metadata": {},
     "output_type": "execute_result"
    }
   ],
   "source": [
    "# Количество уникальных названий объектов сократилось до 9631\n",
    "\n",
    "len(list(df['object_name'].unique()))"
   ]
  },
  {
   "cell_type": "markdown",
   "metadata": {},
   "source": [
    "**_Задача 2: Выделить улицу из колонки address_**"
   ]
  },
  {
   "cell_type": "code",
   "execution_count": 1270,
   "metadata": {},
   "outputs": [
    {
     "data": {
      "text/html": [
       "<div>\n",
       "<style scoped>\n",
       "    .dataframe tbody tr th:only-of-type {\n",
       "        vertical-align: middle;\n",
       "    }\n",
       "\n",
       "    .dataframe tbody tr th {\n",
       "        vertical-align: top;\n",
       "    }\n",
       "\n",
       "    .dataframe thead th {\n",
       "        text-align: right;\n",
       "    }\n",
       "</style>\n",
       "<table border=\"1\" class=\"dataframe\">\n",
       "  <thead>\n",
       "    <tr style=\"text-align: right;\">\n",
       "      <th></th>\n",
       "      <th>id</th>\n",
       "      <th>object_name</th>\n",
       "      <th>chain</th>\n",
       "      <th>object_type</th>\n",
       "      <th>address</th>\n",
       "      <th>number</th>\n",
       "      <th>street</th>\n",
       "    </tr>\n",
       "  </thead>\n",
       "  <tbody>\n",
       "    <tr>\n",
       "      <th>0</th>\n",
       "      <td>151635</td>\n",
       "      <td>сметана</td>\n",
       "      <td>нет</td>\n",
       "      <td>кафе</td>\n",
       "      <td>город Москва, улица Егора Абакумова, дом 9</td>\n",
       "      <td>48</td>\n",
       "      <td>улица Егора Абакумова</td>\n",
       "    </tr>\n",
       "    <tr>\n",
       "      <th>1</th>\n",
       "      <td>77874</td>\n",
       "      <td>родник</td>\n",
       "      <td>нет</td>\n",
       "      <td>кафе</td>\n",
       "      <td>город Москва, улица Талалихина, дом 2/1, корпус 1</td>\n",
       "      <td>35</td>\n",
       "      <td>улица Талалихина</td>\n",
       "    </tr>\n",
       "    <tr>\n",
       "      <th>2</th>\n",
       "      <td>24309</td>\n",
       "      <td>академия</td>\n",
       "      <td>нет</td>\n",
       "      <td>кафе</td>\n",
       "      <td>город Москва, Абельмановская улица, дом 6</td>\n",
       "      <td>95</td>\n",
       "      <td>Абельмановская улица</td>\n",
       "    </tr>\n",
       "    <tr>\n",
       "      <th>3</th>\n",
       "      <td>21894</td>\n",
       "      <td>пиццетория</td>\n",
       "      <td>да</td>\n",
       "      <td>кафе</td>\n",
       "      <td>город Москва, Абрамцевская улица, дом 1</td>\n",
       "      <td>40</td>\n",
       "      <td>Абрамцевская улица</td>\n",
       "    </tr>\n",
       "    <tr>\n",
       "      <th>4</th>\n",
       "      <td>119365</td>\n",
       "      <td>вишневая метель</td>\n",
       "      <td>нет</td>\n",
       "      <td>кафе</td>\n",
       "      <td>город Москва, Абрамцевская улица, дом 9, корпус 1</td>\n",
       "      <td>50</td>\n",
       "      <td>Абрамцевская улица</td>\n",
       "    </tr>\n",
       "  </tbody>\n",
       "</table>\n",
       "</div>"
      ],
      "text/plain": [
       "       id        object_name chain object_type  \\\n",
       "0  151635            сметана   нет        кафе   \n",
       "1   77874             родник   нет        кафе   \n",
       "2   24309          академия    нет        кафе   \n",
       "3   21894         пиццетория    да        кафе   \n",
       "4  119365   вишневая метель    нет        кафе   \n",
       "\n",
       "                                             address  number  \\\n",
       "0         город Москва, улица Егора Абакумова, дом 9      48   \n",
       "1  город Москва, улица Талалихина, дом 2/1, корпус 1      35   \n",
       "2          город Москва, Абельмановская улица, дом 6      95   \n",
       "3            город Москва, Абрамцевская улица, дом 1      40   \n",
       "4  город Москва, Абрамцевская улица, дом 9, корпус 1      50   \n",
       "\n",
       "                  street  \n",
       "0  улица Егора Абакумова  \n",
       "1       улица Талалихина  \n",
       "2   Абельмановская улица  \n",
       "3     Абрамцевская улица  \n",
       "4     Абрамцевская улица  "
      ]
     },
     "execution_count": 1270,
     "metadata": {},
     "output_type": "execute_result"
    }
   ],
   "source": [
    "# Выделяем название улицы из колокнки address\n",
    "\n",
    "df['street'] = df['address'].apply(lambda x: x.split(',')[1])\n",
    "df['street'] = df['street'].str.strip()\n",
    "df.head()"
   ]
  },
  {
   "cell_type": "code",
   "execution_count": 1271,
   "metadata": {},
   "outputs": [
    {
     "data": {
      "text/plain": [
       "False"
      ]
     },
     "execution_count": 1271,
     "metadata": {},
     "output_type": "execute_result"
    }
   ],
   "source": [
    "# Проверяем наличие пропусков в колонке street\n",
    "\n",
    "df['street'].isna().any()"
   ]
  },
  {
   "cell_type": "markdown",
   "metadata": {},
   "source": [
    "### Выводы:\n",
    "\n",
    "1. Скорректированы названия сетей в колонке object_name:\n",
    "- Текст приведен к нижнему регистру;\n",
    "- Удалены лишние пробелы, дефисы;\n",
    "- Названия в рамках одной сети приведены к общему стилю написания\n",
    "\n",
    "Итог: после проведения предобработки число уникальных названий сократилось на 3% (с 9924 до 9631). \n",
    "\n",
    "2. Название улицы выделено в отдельную колонку "
   ]
  },
  {
   "cell_type": "markdown",
   "metadata": {},
   "source": [
    "<hr style=\"border: 2px solid green;\" />"
   ]
  },
  {
   "cell_type": "markdown",
   "metadata": {},
   "source": [
    "## Этап 3: Исследовательский анализ данных\n",
    "\n",
    "**Задачи**: \n",
    "1. Исследовать соотношение видов объектов общественного питания по количеству. Построить график.\n",
    "2. Исследовать соотношение сетевых и несетевых заведений по количеству. Построить график.\n",
    "3. Проверить, для какого вида объекта общественного питания характерно сетевое распространение.\n",
    "4. Проверить, что характерно для сетевых заведений: много заведений с небольшим числом посадочных мест в каждом или мало заведений с большим количеством посадочных мест.\n",
    "5. Для каждого вида объекта общественного питания описать среднее количество посадочных мест. Определить, какой вид предоставляет в среднем самое большое количество посадочных мест. Постройте графики.\n",
    "6. Построить график топ-10 улиц по количеству объектов общественного питания и проверить в каких районах Москвы находятся эти улицы.\n",
    "7. Найти число улиц с одним объектом общественного питания и проверить в каких районах Москвы находятся эти улицы.\n",
    "8. Сделать общий вывод и дать рекомендации о виде заведения, количестве посадочных мест, а также районе расположения и возможности развития сети. "
   ]
  },
  {
   "cell_type": "markdown",
   "metadata": {},
   "source": [
    "### 1. Соотношение видов объектов общественного питания по количеству"
   ]
  },
  {
   "cell_type": "code",
   "execution_count": 1272,
   "metadata": {},
   "outputs": [
    {
     "data": {
      "image/png": "[encoded data removed]",
      "text/plain": [
       "<Figure size 720x360 with 1 Axes>"
      ]
     },
     "metadata": {},
     "output_type": "display_data"
    },
    {
     "data": {
      "text/html": [
       "<div>\n",
       "<style scoped>\n",
       "    .dataframe tbody tr th:only-of-type {\n",
       "        vertical-align: middle;\n",
       "    }\n",
       "\n",
       "    .dataframe tbody tr th {\n",
       "        vertical-align: top;\n",
       "    }\n",
       "\n",
       "    .dataframe thead th {\n",
       "        text-align: right;\n",
       "    }\n",
       "</style>\n",
       "<table border=\"1\" class=\"dataframe\">\n",
       "  <thead>\n",
       "    <tr style=\"text-align: right;\">\n",
       "      <th></th>\n",
       "      <th>object_type</th>\n",
       "      <th>quantity</th>\n",
       "      <th>share</th>\n",
       "    </tr>\n",
       "  </thead>\n",
       "  <tbody>\n",
       "    <tr>\n",
       "      <th>0</th>\n",
       "      <td>кафе</td>\n",
       "      <td>6099</td>\n",
       "      <td>0.40</td>\n",
       "    </tr>\n",
       "    <tr>\n",
       "      <th>1</th>\n",
       "      <td>столовая</td>\n",
       "      <td>2587</td>\n",
       "      <td>0.17</td>\n",
       "    </tr>\n",
       "    <tr>\n",
       "      <th>2</th>\n",
       "      <td>ресторан</td>\n",
       "      <td>2285</td>\n",
       "      <td>0.15</td>\n",
       "    </tr>\n",
       "    <tr>\n",
       "      <th>3</th>\n",
       "      <td>предприятие быстрого обслуживания</td>\n",
       "      <td>1923</td>\n",
       "      <td>0.13</td>\n",
       "    </tr>\n",
       "    <tr>\n",
       "      <th>4</th>\n",
       "      <td>бар</td>\n",
       "      <td>856</td>\n",
       "      <td>0.06</td>\n",
       "    </tr>\n",
       "    <tr>\n",
       "      <th>5</th>\n",
       "      <td>буфет</td>\n",
       "      <td>585</td>\n",
       "      <td>0.04</td>\n",
       "    </tr>\n",
       "    <tr>\n",
       "      <th>6</th>\n",
       "      <td>кафетерий</td>\n",
       "      <td>398</td>\n",
       "      <td>0.03</td>\n",
       "    </tr>\n",
       "    <tr>\n",
       "      <th>7</th>\n",
       "      <td>закусочная</td>\n",
       "      <td>360</td>\n",
       "      <td>0.02</td>\n",
       "    </tr>\n",
       "    <tr>\n",
       "      <th>8</th>\n",
       "      <td>магазин (отдел кулинарии)</td>\n",
       "      <td>273</td>\n",
       "      <td>0.02</td>\n",
       "    </tr>\n",
       "  </tbody>\n",
       "</table>\n",
       "</div>"
      ],
      "text/plain": [
       "                         object_type  quantity  share\n",
       "0                               кафе      6099   0.40\n",
       "1                           столовая      2587   0.17\n",
       "2                           ресторан      2285   0.15\n",
       "3  предприятие быстрого обслуживания      1923   0.13\n",
       "4                                бар       856   0.06\n",
       "5                              буфет       585   0.04\n",
       "6                          кафетерий       398   0.03\n",
       "7                         закусочная       360   0.02\n",
       "8          магазин (отдел кулинарии)       273   0.02"
      ]
     },
     "execution_count": 1272,
     "metadata": {},
     "output_type": "execute_result"
    }
   ],
   "source": [
    "# Подсчёт количества типов объектов\n",
    "\n",
    "object_type_count = (\n",
    "    df.groupby('object_type')['object_type'].count()\n",
    "    .to_frame()\n",
    "    .rename(columns={'index':'object_type', 'object_type':'quantity'})\n",
    "    .sort_values(by='quantity', ascending=False)\n",
    "    .reset_index()\n",
    ")\n",
    "\n",
    "object_type_count['share'] = object_type_count['quantity'] / object_type_count['quantity'].sum()\n",
    "\n",
    "plt.figure(figsize=(10, 5))\n",
    "plt.grid(True)\n",
    "sns.barplot(x='quantity', y='object_type', data=object_type_count, palette=\"magma\", saturation=.5)\n",
    "sns.set_style(\"whitegrid\")\n",
    "#plt.xticks(rotation=70)\n",
    "plt.title('Количество видов заведений', size=14)\n",
    "plt.xlabel('Количество', size=13)\n",
    "plt.ylabel('Вид заведения', size=13)\n",
    "plt.show()\n",
    "\n",
    "object_type_count"
   ]
  },
  {
   "cell_type": "markdown",
   "metadata": {},
   "source": [
    "**Выводы к задаче 1:**\n",
    "\n",
    "Самые многочисленные виды объектов общественного питания в Москве: \n",
    "* Кафе - 40%;\n",
    "* Столовая - 17%;\n",
    "* Ресторан - 15%;\n",
    "* Предприятие быстрого обслуживания - 13%.\n",
    "\n",
    "Наименее популярны (меньше 3% от всех заведений):\n",
    "* Кафетерий;\n",
    "* Закусочная;\n",
    "* Магазин (отдел кулинарии)."
   ]
  },
  {
   "cell_type": "markdown",
   "metadata": {},
   "source": [
    "### 2. Соотношение сетевых и несетевых заведений по количеству  "
   ]
  },
  {
   "cell_type": "code",
   "execution_count": 1273,
   "metadata": {},
   "outputs": [
    {
     "data": {
      "image/png": "[encoded data removed]",
      "text/plain": [
       "<Figure size 720x360 with 1 Axes>"
      ]
     },
     "metadata": {},
     "output_type": "display_data"
    },
    {
     "data": {
      "text/html": [
       "<div>\n",
       "<style scoped>\n",
       "    .dataframe tbody tr th:only-of-type {\n",
       "        vertical-align: middle;\n",
       "    }\n",
       "\n",
       "    .dataframe tbody tr th {\n",
       "        vertical-align: top;\n",
       "    }\n",
       "\n",
       "    .dataframe thead th {\n",
       "        text-align: right;\n",
       "    }\n",
       "</style>\n",
       "<table border=\"1\" class=\"dataframe\">\n",
       "  <thead>\n",
       "    <tr style=\"text-align: right;\">\n",
       "      <th></th>\n",
       "      <th>chain</th>\n",
       "      <th>quantity</th>\n",
       "      <th>share</th>\n",
       "    </tr>\n",
       "  </thead>\n",
       "  <tbody>\n",
       "    <tr>\n",
       "      <th>0</th>\n",
       "      <td>нет</td>\n",
       "      <td>12398</td>\n",
       "      <td>0.81</td>\n",
       "    </tr>\n",
       "    <tr>\n",
       "      <th>1</th>\n",
       "      <td>да</td>\n",
       "      <td>2968</td>\n",
       "      <td>0.19</td>\n",
       "    </tr>\n",
       "  </tbody>\n",
       "</table>\n",
       "</div>"
      ],
      "text/plain": [
       "  chain  quantity  share\n",
       "0   нет     12398   0.81\n",
       "1    да      2968   0.19"
      ]
     },
     "execution_count": 1273,
     "metadata": {},
     "output_type": "execute_result"
    }
   ],
   "source": [
    "# Подсчёт количества сетевых и несетевых объектов\n",
    "\n",
    "chain_count = (\n",
    "    df.groupby('chain')['chain'].count()\n",
    "    .to_frame()\n",
    "    .rename(columns={'index':'chain', 'chain':'quantity'})\n",
    "    .sort_values(by='quantity', ascending=False)\n",
    "    .reset_index()\n",
    ")\n",
    "\n",
    "chain_count['share'] = chain_count['quantity'] / chain_count['quantity'].sum()\n",
    "\n",
    "plt.figure(figsize=(10, 5))\n",
    "plt.grid(True)\n",
    "sns.barplot(y='chain', x='quantity', data=chain_count, palette=\"magma\", saturation=.5)\n",
    "sns.set_style(\"whitegrid\")\n",
    "#plt.xticks(rotation=70)\n",
    "plt.title('Количество сетевых и несетевых объектов', size=14)\n",
    "plt.xlabel('Количество', size=13)\n",
    "plt.ylabel('Принадлежность к сети', size=13)\n",
    "plt.show()\n",
    "\n",
    "chain_count"
   ]
  },
  {
   "cell_type": "markdown",
   "metadata": {},
   "source": [
    "**Выводы к задаче 2:**\n",
    "\n",
    "- В Москве преобладают несетевые объекты общественного питания - 81% против 19% сетевых."
   ]
  },
  {
   "cell_type": "markdown",
   "metadata": {},
   "source": [
    "### 3. Виды объектов общественного питания, для которых характерно сетевое распространение"
   ]
  },
  {
   "cell_type": "code",
   "execution_count": 1274,
   "metadata": {},
   "outputs": [
    {
     "data": {
      "image/png": "[encoded data removed]",
      "text/plain": [
       "<Figure size 792x504 with 1 Axes>"
      ]
     },
     "metadata": {},
     "output_type": "display_data"
    },
    {
     "data": {
      "text/html": [
       "<div>\n",
       "<style scoped>\n",
       "    .dataframe tbody tr th:only-of-type {\n",
       "        vertical-align: middle;\n",
       "    }\n",
       "\n",
       "    .dataframe tbody tr th {\n",
       "        vertical-align: top;\n",
       "    }\n",
       "\n",
       "    .dataframe thead th {\n",
       "        text-align: right;\n",
       "    }\n",
       "</style>\n",
       "<table border=\"1\" class=\"dataframe\">\n",
       "  <thead>\n",
       "    <tr style=\"text-align: right;\">\n",
       "      <th></th>\n",
       "      <th>object_type</th>\n",
       "      <th>chain</th>\n",
       "      <th>quantity</th>\n",
       "    </tr>\n",
       "  </thead>\n",
       "  <tbody>\n",
       "    <tr>\n",
       "      <th>15</th>\n",
       "      <td>бар</td>\n",
       "      <td>да</td>\n",
       "      <td>37</td>\n",
       "    </tr>\n",
       "    <tr>\n",
       "      <th>5</th>\n",
       "      <td>бар</td>\n",
       "      <td>нет</td>\n",
       "      <td>819</td>\n",
       "    </tr>\n",
       "    <tr>\n",
       "      <th>7</th>\n",
       "      <td>буфет</td>\n",
       "      <td>нет</td>\n",
       "      <td>574</td>\n",
       "    </tr>\n",
       "    <tr>\n",
       "      <th>16</th>\n",
       "      <td>буфет</td>\n",
       "      <td>да</td>\n",
       "      <td>11</td>\n",
       "    </tr>\n",
       "    <tr>\n",
       "      <th>10</th>\n",
       "      <td>закусочная</td>\n",
       "      <td>нет</td>\n",
       "      <td>304</td>\n",
       "    </tr>\n",
       "    <tr>\n",
       "      <th>13</th>\n",
       "      <td>закусочная</td>\n",
       "      <td>да</td>\n",
       "      <td>56</td>\n",
       "    </tr>\n",
       "    <tr>\n",
       "      <th>0</th>\n",
       "      <td>кафе</td>\n",
       "      <td>нет</td>\n",
       "      <td>4703</td>\n",
       "    </tr>\n",
       "    <tr>\n",
       "      <th>3</th>\n",
       "      <td>кафе</td>\n",
       "      <td>да</td>\n",
       "      <td>1396</td>\n",
       "    </tr>\n",
       "    <tr>\n",
       "      <th>14</th>\n",
       "      <td>кафетерий</td>\n",
       "      <td>да</td>\n",
       "      <td>52</td>\n",
       "    </tr>\n",
       "    <tr>\n",
       "      <th>9</th>\n",
       "      <td>кафетерий</td>\n",
       "      <td>нет</td>\n",
       "      <td>346</td>\n",
       "    </tr>\n",
       "    <tr>\n",
       "      <th>11</th>\n",
       "      <td>магазин (отдел кулинарии)</td>\n",
       "      <td>нет</td>\n",
       "      <td>195</td>\n",
       "    </tr>\n",
       "    <tr>\n",
       "      <th>12</th>\n",
       "      <td>магазин (отдел кулинарии)</td>\n",
       "      <td>да</td>\n",
       "      <td>78</td>\n",
       "    </tr>\n",
       "    <tr>\n",
       "      <th>4</th>\n",
       "      <td>предприятие быстрого обслуживания</td>\n",
       "      <td>нет</td>\n",
       "      <td>1132</td>\n",
       "    </tr>\n",
       "    <tr>\n",
       "      <th>6</th>\n",
       "      <td>предприятие быстрого обслуживания</td>\n",
       "      <td>да</td>\n",
       "      <td>791</td>\n",
       "    </tr>\n",
       "    <tr>\n",
       "      <th>8</th>\n",
       "      <td>ресторан</td>\n",
       "      <td>да</td>\n",
       "      <td>544</td>\n",
       "    </tr>\n",
       "    <tr>\n",
       "      <th>2</th>\n",
       "      <td>ресторан</td>\n",
       "      <td>нет</td>\n",
       "      <td>1741</td>\n",
       "    </tr>\n",
       "    <tr>\n",
       "      <th>1</th>\n",
       "      <td>столовая</td>\n",
       "      <td>нет</td>\n",
       "      <td>2584</td>\n",
       "    </tr>\n",
       "    <tr>\n",
       "      <th>17</th>\n",
       "      <td>столовая</td>\n",
       "      <td>да</td>\n",
       "      <td>3</td>\n",
       "    </tr>\n",
       "  </tbody>\n",
       "</table>\n",
       "</div>"
      ],
      "text/plain": [
       "                          object_type chain  quantity\n",
       "15                                бар    да        37\n",
       "5                                 бар   нет       819\n",
       "7                               буфет   нет       574\n",
       "16                              буфет    да        11\n",
       "10                         закусочная   нет       304\n",
       "13                         закусочная    да        56\n",
       "0                                кафе   нет      4703\n",
       "3                                кафе    да      1396\n",
       "14                          кафетерий    да        52\n",
       "9                           кафетерий   нет       346\n",
       "11          магазин (отдел кулинарии)   нет       195\n",
       "12          магазин (отдел кулинарии)    да        78\n",
       "4   предприятие быстрого обслуживания   нет      1132\n",
       "6   предприятие быстрого обслуживания    да       791\n",
       "8                            ресторан    да       544\n",
       "2                            ресторан   нет      1741\n",
       "1                            столовая   нет      2584\n",
       "17                           столовая    да         3"
      ]
     },
     "execution_count": 1274,
     "metadata": {},
     "output_type": "execute_result"
    }
   ],
   "source": [
    "# Подсчёт количества сетевых и несетевых заведений в рамках каждого вида\n",
    "\n",
    "chain_type_count = (\n",
    "    df.groupby(['object_type', 'chain'])['chain'].count()\n",
    "    .to_frame()\n",
    "    .rename(columns={'index':'chain', 'chain':'quantity'})\n",
    "    .sort_values(by='quantity', ascending=False)\n",
    "    .reset_index()\n",
    ")\n",
    "\n",
    "#chain_type_count['share'] = chain_type_count['quantity'] / chain_type_count['quantity'].sum()\n",
    "\n",
    "plt.figure(figsize=(11, 7))\n",
    "plt.grid(True)\n",
    "sns.barplot(y='object_type', x='quantity', data=chain_type_count, hue='chain', palette=\"magma\", saturation=.5)\n",
    "sns.set_style(\"whitegrid\")\n",
    "#plt.xticks(rotation=70)\n",
    "plt.title('Количество сетевых и несетевых объектов в рамках каждого вида заведения', size=14)\n",
    "plt.xlabel('Количество', size=13)\n",
    "plt.ylabel('Вид заведения', size=13)\n",
    "plt.show()\n",
    "\n",
    "chain_type_count.sort_values(by='object_type')"
   ]
  },
  {
   "cell_type": "code",
   "execution_count": 1275,
   "metadata": {
    "scrolled": false
   },
   "outputs": [
    {
     "data": {
      "image/png": "[encoded data removed]",
      "text/plain": [
       "<Figure size 720x360 with 1 Axes>"
      ]
     },
     "metadata": {},
     "output_type": "display_data"
    },
    {
     "data": {
      "text/html": [
       "<div>\n",
       "<style scoped>\n",
       "    .dataframe tbody tr th:only-of-type {\n",
       "        vertical-align: middle;\n",
       "    }\n",
       "\n",
       "    .dataframe tbody tr th {\n",
       "        vertical-align: top;\n",
       "    }\n",
       "\n",
       "    .dataframe thead th {\n",
       "        text-align: right;\n",
       "    }\n",
       "</style>\n",
       "<table border=\"1\" class=\"dataframe\">\n",
       "  <thead>\n",
       "    <tr style=\"text-align: right;\">\n",
       "      <th></th>\n",
       "      <th>object_type</th>\n",
       "      <th>chain</th>\n",
       "      <th>quantity</th>\n",
       "      <th>share</th>\n",
       "    </tr>\n",
       "  </thead>\n",
       "  <tbody>\n",
       "    <tr>\n",
       "      <th>0</th>\n",
       "      <td>кафе</td>\n",
       "      <td>нет</td>\n",
       "      <td>4703</td>\n",
       "      <td>0.38</td>\n",
       "    </tr>\n",
       "    <tr>\n",
       "      <th>1</th>\n",
       "      <td>столовая</td>\n",
       "      <td>нет</td>\n",
       "      <td>2584</td>\n",
       "      <td>0.21</td>\n",
       "    </tr>\n",
       "    <tr>\n",
       "      <th>2</th>\n",
       "      <td>ресторан</td>\n",
       "      <td>нет</td>\n",
       "      <td>1741</td>\n",
       "      <td>0.14</td>\n",
       "    </tr>\n",
       "    <tr>\n",
       "      <th>3</th>\n",
       "      <td>предприятие быстрого обслуживания</td>\n",
       "      <td>нет</td>\n",
       "      <td>1132</td>\n",
       "      <td>0.09</td>\n",
       "    </tr>\n",
       "    <tr>\n",
       "      <th>4</th>\n",
       "      <td>бар</td>\n",
       "      <td>нет</td>\n",
       "      <td>819</td>\n",
       "      <td>0.07</td>\n",
       "    </tr>\n",
       "    <tr>\n",
       "      <th>5</th>\n",
       "      <td>буфет</td>\n",
       "      <td>нет</td>\n",
       "      <td>574</td>\n",
       "      <td>0.05</td>\n",
       "    </tr>\n",
       "    <tr>\n",
       "      <th>6</th>\n",
       "      <td>кафетерий</td>\n",
       "      <td>нет</td>\n",
       "      <td>346</td>\n",
       "      <td>0.03</td>\n",
       "    </tr>\n",
       "    <tr>\n",
       "      <th>7</th>\n",
       "      <td>закусочная</td>\n",
       "      <td>нет</td>\n",
       "      <td>304</td>\n",
       "      <td>0.02</td>\n",
       "    </tr>\n",
       "    <tr>\n",
       "      <th>8</th>\n",
       "      <td>магазин (отдел кулинарии)</td>\n",
       "      <td>нет</td>\n",
       "      <td>195</td>\n",
       "      <td>0.02</td>\n",
       "    </tr>\n",
       "  </tbody>\n",
       "</table>\n",
       "</div>"
      ],
      "text/plain": [
       "                         object_type chain  quantity  share\n",
       "0                               кафе   нет      4703   0.38\n",
       "1                           столовая   нет      2584   0.21\n",
       "2                           ресторан   нет      1741   0.14\n",
       "3  предприятие быстрого обслуживания   нет      1132   0.09\n",
       "4                                бар   нет       819   0.07\n",
       "5                              буфет   нет       574   0.05\n",
       "6                          кафетерий   нет       346   0.03\n",
       "7                         закусочная   нет       304   0.02\n",
       "8          магазин (отдел кулинарии)   нет       195   0.02"
      ]
     },
     "execution_count": 1275,
     "metadata": {},
     "output_type": "execute_result"
    }
   ],
   "source": [
    "# Соотношение несетевых видов объектов общественного питания\n",
    "\n",
    "not_chain_type = df[df['chain'] == 'нет']\n",
    "\n",
    "not_chain_type_count = (\n",
    "    not_chain_type.groupby(['object_type', 'chain'])['chain'].count()\n",
    "    .to_frame()\n",
    "    .rename(columns={'index':'chain', 'chain':'quantity'})\n",
    "    .sort_values(by='quantity', ascending=False)\n",
    "    .reset_index()\n",
    ")\n",
    "\n",
    "not_chain_type_count['share'] = not_chain_type_count['quantity'] / not_chain_type_count['quantity'].sum()\n",
    "\n",
    "plt.figure(figsize=(10, 5))\n",
    "plt.grid(True)\n",
    "sns.barplot(y='object_type', x='quantity', data=not_chain_type_count, palette=\"magma\", saturation=.5)\n",
    "sns.set_style(\"whitegrid\")\n",
    "#plt.xticks(rotation=70)\n",
    "plt.title('Несетевые объекты общественного питания', size=14)\n",
    "plt.xlabel('Количество', size=13)\n",
    "plt.ylabel('Тип объекта', size=13)\n",
    "plt.show()\n",
    "\n",
    "not_chain_type_count"
   ]
  },
  {
   "cell_type": "code",
   "execution_count": 1276,
   "metadata": {
    "scrolled": false
   },
   "outputs": [
    {
     "data": {
      "image/png": "[encoded data removed]",
      "text/plain": [
       "<Figure size 720x360 with 1 Axes>"
      ]
     },
     "metadata": {},
     "output_type": "display_data"
    },
    {
     "data": {
      "text/html": [
       "<div>\n",
       "<style scoped>\n",
       "    .dataframe tbody tr th:only-of-type {\n",
       "        vertical-align: middle;\n",
       "    }\n",
       "\n",
       "    .dataframe tbody tr th {\n",
       "        vertical-align: top;\n",
       "    }\n",
       "\n",
       "    .dataframe thead th {\n",
       "        text-align: right;\n",
       "    }\n",
       "</style>\n",
       "<table border=\"1\" class=\"dataframe\">\n",
       "  <thead>\n",
       "    <tr style=\"text-align: right;\">\n",
       "      <th></th>\n",
       "      <th>object_type</th>\n",
       "      <th>chain</th>\n",
       "      <th>quantity</th>\n",
       "      <th>share</th>\n",
       "    </tr>\n",
       "  </thead>\n",
       "  <tbody>\n",
       "    <tr>\n",
       "      <th>0</th>\n",
       "      <td>кафе</td>\n",
       "      <td>да</td>\n",
       "      <td>1396</td>\n",
       "      <td>0.47</td>\n",
       "    </tr>\n",
       "    <tr>\n",
       "      <th>1</th>\n",
       "      <td>предприятие быстрого обслуживания</td>\n",
       "      <td>да</td>\n",
       "      <td>791</td>\n",
       "      <td>0.27</td>\n",
       "    </tr>\n",
       "    <tr>\n",
       "      <th>2</th>\n",
       "      <td>ресторан</td>\n",
       "      <td>да</td>\n",
       "      <td>544</td>\n",
       "      <td>0.18</td>\n",
       "    </tr>\n",
       "    <tr>\n",
       "      <th>3</th>\n",
       "      <td>магазин (отдел кулинарии)</td>\n",
       "      <td>да</td>\n",
       "      <td>78</td>\n",
       "      <td>0.03</td>\n",
       "    </tr>\n",
       "    <tr>\n",
       "      <th>4</th>\n",
       "      <td>закусочная</td>\n",
       "      <td>да</td>\n",
       "      <td>56</td>\n",
       "      <td>0.02</td>\n",
       "    </tr>\n",
       "    <tr>\n",
       "      <th>5</th>\n",
       "      <td>кафетерий</td>\n",
       "      <td>да</td>\n",
       "      <td>52</td>\n",
       "      <td>0.02</td>\n",
       "    </tr>\n",
       "    <tr>\n",
       "      <th>6</th>\n",
       "      <td>бар</td>\n",
       "      <td>да</td>\n",
       "      <td>37</td>\n",
       "      <td>0.01</td>\n",
       "    </tr>\n",
       "    <tr>\n",
       "      <th>7</th>\n",
       "      <td>буфет</td>\n",
       "      <td>да</td>\n",
       "      <td>11</td>\n",
       "      <td>0.00</td>\n",
       "    </tr>\n",
       "    <tr>\n",
       "      <th>8</th>\n",
       "      <td>столовая</td>\n",
       "      <td>да</td>\n",
       "      <td>3</td>\n",
       "      <td>0.00</td>\n",
       "    </tr>\n",
       "  </tbody>\n",
       "</table>\n",
       "</div>"
      ],
      "text/plain": [
       "                         object_type chain  quantity  share\n",
       "0                               кафе    да      1396   0.47\n",
       "1  предприятие быстрого обслуживания    да       791   0.27\n",
       "2                           ресторан    да       544   0.18\n",
       "3          магазин (отдел кулинарии)    да        78   0.03\n",
       "4                         закусочная    да        56   0.02\n",
       "5                          кафетерий    да        52   0.02\n",
       "6                                бар    да        37   0.01\n",
       "7                              буфет    да        11   0.00\n",
       "8                           столовая    да         3   0.00"
      ]
     },
     "execution_count": 1276,
     "metadata": {},
     "output_type": "execute_result"
    }
   ],
   "source": [
    "# Соотношение сетевых видов объектов общественного питания \n",
    "\n",
    "chain_type = df[df['chain'] == 'да']\n",
    "\n",
    "is_chain_type_count = (\n",
    "    chain_type.groupby(['object_type', 'chain'])['chain'].count()\n",
    "    .to_frame()\n",
    "    .rename(columns={'index':'chain', 'chain':'quantity'})\n",
    "    .sort_values(by='quantity', ascending=False)\n",
    "    .reset_index()\n",
    ")\n",
    "\n",
    "plt.figure(figsize=(10, 5))\n",
    "plt.grid(True)\n",
    "sns.barplot(y='object_type', x='quantity', data=is_chain_type_count, palette=\"magma\", saturation=.5)\n",
    "sns.set_style(\"whitegrid\")\n",
    "#plt.xticks(rotation=70)\n",
    "plt.title('Сетевые объекты общественного питания', size=14)\n",
    "plt.xlabel('Количество', size=13)\n",
    "plt.ylabel('Тип объекта', size=13)\n",
    "plt.show()\n",
    "\n",
    "\n",
    "is_chain_type_count['share'] = is_chain_type_count['quantity'] / is_chain_type_count['quantity'].sum()\n",
    "is_chain_type_count"
   ]
  },
  {
   "cell_type": "code",
   "execution_count": 1277,
   "metadata": {},
   "outputs": [
    {
     "data": {
      "image/png": "[encoded data removed]",
      "text/plain": [
       "<Figure size 720x360 with 1 Axes>"
      ]
     },
     "metadata": {},
     "output_type": "display_data"
    },
    {
     "data": {
      "text/html": [
       "<div>\n",
       "<style scoped>\n",
       "    .dataframe tbody tr th:only-of-type {\n",
       "        vertical-align: middle;\n",
       "    }\n",
       "\n",
       "    .dataframe tbody tr th {\n",
       "        vertical-align: top;\n",
       "    }\n",
       "\n",
       "    .dataframe thead th {\n",
       "        text-align: right;\n",
       "    }\n",
       "</style>\n",
       "<table border=\"1\" class=\"dataframe\">\n",
       "  <thead>\n",
       "    <tr style=\"text-align: right;\">\n",
       "      <th></th>\n",
       "      <th>object_name</th>\n",
       "      <th>quantity</th>\n",
       "      <th>share</th>\n",
       "    </tr>\n",
       "  </thead>\n",
       "  <tbody>\n",
       "    <tr>\n",
       "      <th>0</th>\n",
       "      <td>kfc</td>\n",
       "      <td>186</td>\n",
       "      <td>0.15</td>\n",
       "    </tr>\n",
       "    <tr>\n",
       "      <th>1</th>\n",
       "      <td>шоколадница</td>\n",
       "      <td>183</td>\n",
       "      <td>0.15</td>\n",
       "    </tr>\n",
       "    <tr>\n",
       "      <th>2</th>\n",
       "      <td>макдоналдс</td>\n",
       "      <td>172</td>\n",
       "      <td>0.14</td>\n",
       "    </tr>\n",
       "    <tr>\n",
       "      <th>3</th>\n",
       "      <td>бургер кинг</td>\n",
       "      <td>159</td>\n",
       "      <td>0.13</td>\n",
       "    </tr>\n",
       "    <tr>\n",
       "      <th>4</th>\n",
       "      <td>теремок</td>\n",
       "      <td>109</td>\n",
       "      <td>0.09</td>\n",
       "    </tr>\n",
       "    <tr>\n",
       "      <th>5</th>\n",
       "      <td>доминос пицца</td>\n",
       "      <td>98</td>\n",
       "      <td>0.08</td>\n",
       "    </tr>\n",
       "    <tr>\n",
       "      <th>6</th>\n",
       "      <td>крошка картошка</td>\n",
       "      <td>90</td>\n",
       "      <td>0.07</td>\n",
       "    </tr>\n",
       "    <tr>\n",
       "      <th>7</th>\n",
       "      <td>милти</td>\n",
       "      <td>81</td>\n",
       "      <td>0.07</td>\n",
       "    </tr>\n",
       "    <tr>\n",
       "      <th>8</th>\n",
       "      <td>суши wok</td>\n",
       "      <td>73</td>\n",
       "      <td>0.06</td>\n",
       "    </tr>\n",
       "    <tr>\n",
       "      <th>9</th>\n",
       "      <td>прайм</td>\n",
       "      <td>54</td>\n",
       "      <td>0.04</td>\n",
       "    </tr>\n",
       "  </tbody>\n",
       "</table>\n",
       "</div>"
      ],
      "text/plain": [
       "       object_name  quantity  share\n",
       "0              kfc       186   0.15\n",
       "1      шоколадница       183   0.15\n",
       "2       макдоналдс       172   0.14\n",
       "3      бургер кинг       159   0.13\n",
       "4          теремок       109   0.09\n",
       "5    доминос пицца        98   0.08\n",
       "6  крошка картошка        90   0.07\n",
       "7            милти        81   0.07\n",
       "8         суши wok        73   0.06\n",
       "9            прайм        54   0.04"
      ]
     },
     "execution_count": 1277,
     "metadata": {},
     "output_type": "execute_result"
    }
   ],
   "source": [
    "# Выделим ТОП-10 сетевых объектов общественного питания по количеству заведений\n",
    "\n",
    "chain_objects = (\n",
    "    chain_type.groupby('object_name')['id'].count()\n",
    "    .to_frame()\n",
    "    .rename(columns={'id':'quantity'})\n",
    "    .sort_values(by='quantity', ascending=False)\n",
    "    .reset_index()\n",
    "    .head(10)\n",
    ")\n",
    "\n",
    "\n",
    "plt.figure(figsize=(10, 5))\n",
    "plt.grid(True)\n",
    "sns.barplot(y='object_name', x='quantity', data=chain_objects, palette=\"magma\", saturation=.5)\n",
    "sns.set_style(\"whitegrid\")\n",
    "#plt.xticks(rotation=70)\n",
    "plt.title('ТОП-10 сетевых объектов общественного питания по количеству заведений', size=14)\n",
    "plt.xlabel('Количество заведений', size=13)\n",
    "plt.ylabel('Название сетевого объекта', size=13)\n",
    "plt.show()\n",
    "\n",
    "chain_objects['share'] = chain_objects['quantity'] / chain_objects['quantity'].sum()\n",
    "chain_objects"
   ]
  },
  {
   "cell_type": "markdown",
   "metadata": {},
   "source": [
    "**Выводы к задаче 3:**\n",
    "\n",
    "1. Топ-три несетевых объектов:\n",
    "- кафе (37%)\n",
    "- столовые (21%)\n",
    "- ресторан (14%)\n",
    "\n",
    "2. Топ-три сетевых объектов:\n",
    "- кафе (47%)\n",
    "- предприятия быстрого обслуживания (26.6%)\n",
    "- ресторан (18%)\n",
    "\n",
    "Таким образом, сетевое распределение характерно для кафе, ресторанов и предприятий быстрого обслуживания, в то время как, например, столовым и буфетам скорее не принадлежат определенной сети. \n",
    "\n",
    "3. ТОП-10 сетевых объектов общественного питания по количеству заведений:\n",
    "- KFS (15%)\n",
    "- Шоколадница (15%)\n",
    "- Макдональдс (14%)"
   ]
  },
  {
   "cell_type": "markdown",
   "metadata": {},
   "source": [
    "### 4. Что характерно для сетевых заведений: много заведений с небольшим числом посадочных мест в каждом или мало заведений с большим количеством посадочных мест?"
   ]
  },
  {
   "cell_type": "code",
   "execution_count": 1278,
   "metadata": {},
   "outputs": [
    {
     "data": {
      "image/png": "[encoded data removed]",
      "text/plain": [
       "<Figure size 864x576 with 1 Axes>"
      ]
     },
     "metadata": {},
     "output_type": "display_data"
    }
   ],
   "source": [
    "plt.figure(figsize=(12, 8))\n",
    "plt.grid(True)\n",
    "sns.boxplot(y=\"object_type\", x=\"number\", data=df, palette=\"magma\", saturation=.5)\n",
    "sns.set_style(\"whitegrid\")\n",
    "#plt.xticks(rotation=70)\n",
    "plt.title('Разброс количества посадочных мест в объектах общественного питания', size=14)\n",
    "plt.xlabel('Количество мест', size=14)\n",
    "plt.ylabel('Тип объекта', size=13)\n",
    "plt.xlim(-5, 800)\n",
    "plt.show();"
   ]
  },
  {
   "cell_type": "markdown",
   "metadata": {},
   "source": [
    "**Комментарии к графику:**\n",
    "\n",
    "Характерное количество посадочных мест в зависимости от типа заведения:\n",
    "- У столовых самый большой разброс по количеству посадочных мест (от 0 до 400), далее идут рестораны (от 0 до 220) и буфеты (от 0 до 180)\n",
    "- У кафе и баров разброс количества посадочных мест от 0 до 100, но есть довольно много нестандартных заведений этого типа, где количество мест превышает 100."
   ]
  },
  {
   "cell_type": "code",
   "execution_count": 1279,
   "metadata": {},
   "outputs": [
    {
     "name": "stderr",
     "output_type": "stream",
     "text": [
      "C:\\Users\\mirra\\anaconda3\\lib\\site-packages\\seaborn\\distributions.py:2557: FutureWarning:\n",
      "\n",
      "`distplot` is a deprecated function and will be removed in a future version. Please adapt your code to use either `displot` (a figure-level function with similar flexibility) or `histplot` (an axes-level function for histograms).\n",
      "\n"
     ]
    },
    {
     "data": {
      "image/png": "[encoded data removed]",
      "text/plain": [
       "<Figure size 1296x432 with 1 Axes>"
      ]
     },
     "metadata": {},
     "output_type": "display_data"
    }
   ],
   "source": [
    "plt.figure(figsize=(18,6))\n",
    "plt.grid(True)\n",
    "sns.distplot(df['number'], bins=100, color=\"r\")\n",
    "plt.title('Плотность распределения заведений по количеству посадочных мест', size=14)\n",
    "plt.xlabel(' ')\n",
    "plt.ylabel('Плотность')\n",
    "plt.xlim(-5, 500);"
   ]
  },
  {
   "cell_type": "markdown",
   "metadata": {},
   "source": [
    "**Комментарии к графику:**\n",
    "\n",
    "- Можно предположить, что в Москве преобладают заведения, где количество посадочных мест не превышает 50;\n",
    "- Далее плотность распределения снижается на шаге с 50 до 100 посадочных мест, однако таких заведений все еще относительно много;\n",
    "- Заведения, где более 100 посадочных мест - редкое явление в городе."
   ]
  },
  {
   "cell_type": "code",
   "execution_count": 1280,
   "metadata": {},
   "outputs": [
    {
     "name": "stdout",
     "output_type": "stream",
     "text": [
      "Количество заведений, где ноль посадочных мест: 1621\n"
     ]
    }
   ],
   "source": [
    "# Посчитаем количество объектов, где 0 посадочных мест\n",
    "\n",
    "print('Количество заведений, где ноль посадочных мест:', df[df[\"number\"] == 0]['object_name'].count())"
   ]
  },
  {
   "cell_type": "code",
   "execution_count": 1281,
   "metadata": {},
   "outputs": [
    {
     "data": {
      "image/png": "[encoded data removed]",
      "text/plain": [
       "<Figure size 720x360 with 1 Axes>"
      ]
     },
     "metadata": {},
     "output_type": "display_data"
    },
    {
     "data": {
      "text/html": [
       "<div>\n",
       "<style scoped>\n",
       "    .dataframe tbody tr th:only-of-type {\n",
       "        vertical-align: middle;\n",
       "    }\n",
       "\n",
       "    .dataframe tbody tr th {\n",
       "        vertical-align: top;\n",
       "    }\n",
       "\n",
       "    .dataframe thead th {\n",
       "        text-align: right;\n",
       "    }\n",
       "</style>\n",
       "<table border=\"1\" class=\"dataframe\">\n",
       "  <thead>\n",
       "    <tr style=\"text-align: right;\">\n",
       "      <th></th>\n",
       "      <th>object_type</th>\n",
       "      <th>quantity</th>\n",
       "      <th>share</th>\n",
       "    </tr>\n",
       "  </thead>\n",
       "  <tbody>\n",
       "    <tr>\n",
       "      <th>0</th>\n",
       "      <td>предприятие быстрого обслуживания</td>\n",
       "      <td>704</td>\n",
       "      <td>0.43</td>\n",
       "    </tr>\n",
       "    <tr>\n",
       "      <th>1</th>\n",
       "      <td>кафе</td>\n",
       "      <td>310</td>\n",
       "      <td>0.19</td>\n",
       "    </tr>\n",
       "    <tr>\n",
       "      <th>2</th>\n",
       "      <td>закусочная</td>\n",
       "      <td>189</td>\n",
       "      <td>0.12</td>\n",
       "    </tr>\n",
       "    <tr>\n",
       "      <th>3</th>\n",
       "      <td>магазин (отдел кулинарии)</td>\n",
       "      <td>145</td>\n",
       "      <td>0.09</td>\n",
       "    </tr>\n",
       "    <tr>\n",
       "      <th>4</th>\n",
       "      <td>кафетерий</td>\n",
       "      <td>113</td>\n",
       "      <td>0.07</td>\n",
       "    </tr>\n",
       "    <tr>\n",
       "      <th>5</th>\n",
       "      <td>буфет</td>\n",
       "      <td>68</td>\n",
       "      <td>0.04</td>\n",
       "    </tr>\n",
       "    <tr>\n",
       "      <th>6</th>\n",
       "      <td>ресторан</td>\n",
       "      <td>45</td>\n",
       "      <td>0.03</td>\n",
       "    </tr>\n",
       "    <tr>\n",
       "      <th>7</th>\n",
       "      <td>бар</td>\n",
       "      <td>28</td>\n",
       "      <td>0.02</td>\n",
       "    </tr>\n",
       "    <tr>\n",
       "      <th>8</th>\n",
       "      <td>столовая</td>\n",
       "      <td>19</td>\n",
       "      <td>0.01</td>\n",
       "    </tr>\n",
       "  </tbody>\n",
       "</table>\n",
       "</div>"
      ],
      "text/plain": [
       "                         object_type  quantity  share\n",
       "0  предприятие быстрого обслуживания       704   0.43\n",
       "1                               кафе       310   0.19\n",
       "2                         закусочная       189   0.12\n",
       "3          магазин (отдел кулинарии)       145   0.09\n",
       "4                          кафетерий       113   0.07\n",
       "5                              буфет        68   0.04\n",
       "6                           ресторан        45   0.03\n",
       "7                                бар        28   0.02\n",
       "8                           столовая        19   0.01"
      ]
     },
     "execution_count": 1281,
     "metadata": {},
     "output_type": "execute_result"
    }
   ],
   "source": [
    "# Исследуем заведения, где ноль посадочных мест\n",
    "\n",
    "zero_seat_object = (\n",
    "    df[df[\"number\"] == 0].groupby('object_type')['object_type'].count()\n",
    "    .to_frame()\n",
    "    .rename(columns={'index':'object_type', 'object_type':'quantity'})\n",
    "    .sort_values(by='quantity', ascending=False)\n",
    "    .reset_index()\n",
    ")\n",
    "\n",
    "zero_seat_object['share'] = zero_seat_object['quantity'] / zero_seat_object['quantity'].sum()\n",
    "\n",
    "plt.figure(figsize=(10, 5))\n",
    "plt.grid(True)\n",
    "sns.barplot(x='quantity', y='object_type', data=zero_seat_object, palette=\"magma\", saturation=.5)\n",
    "sns.set_style(\"whitegrid\")\n",
    "#plt.xticks(rotation=70)\n",
    "plt.title('Количество заведений, где ноль посадочных мест', size=14)\n",
    "plt.xlabel('Количество заведений', size=13)\n",
    "plt.ylabel('Вид заведения', size=13)\n",
    "plt.show()\n",
    "\n",
    "zero_seat_object"
   ]
  },
  {
   "cell_type": "markdown",
   "metadata": {},
   "source": [
    "**Выводы к задаче 4:**\n",
    "\n",
    "**Плотность распределения посадочных мест:**\n",
    "- Можно предположить, что в Москве преобладают заведения, где количество посадочных мест не превышает 50;\n",
    "- Далее плотность распределения снижается на шаге с 50 до 100 посадочных мест, однако таких заведений все еще относительно много;\n",
    "- Заведения, где более 100 посадочных мест - редкое явление в городе.\n",
    "\n",
    "**Характерное количество посадочных мест в зависимости от типа заведения:**\n",
    "- У столовых самый большой разброс по количеству посадочных мест (от 0 до 400), далее идут рестораны (от 0 до 220) и буфеты (от 0 до 180)\n",
    "- Для кафе и баров характерно от 0 до 100 посадочных мест, однако есть довольно много нестандартных заведений этого типа, где количество мест превышает 100.\n",
    "\n",
    "**Количество заведений, где ноль посадочных мест:**\n",
    "- В данных 1621 заведение, где ноль посадочных мест, среди них:\n",
    "     - 43% - предприятие быстрого обслуживания;\n",
    "     - 19% - кафе;\n",
    "     - 12% - закусочная;\n",
    "     - 9% - магазин (отдел кулинарии)\t"
   ]
  },
  {
   "cell_type": "markdown",
   "metadata": {},
   "source": [
    "### 5. Среднее количество посадочных мест для каждого вида объекта общественного питания. Какой вид предоставляет в среднем самое большое количество посадочных мест? Постройте графики."
   ]
  },
  {
   "cell_type": "code",
   "execution_count": 1282,
   "metadata": {},
   "outputs": [
    {
     "data": {
      "image/png": "[encoded data removed]",
      "text/plain": [
       "<Figure size 720x360 with 1 Axes>"
      ]
     },
     "metadata": {},
     "output_type": "display_data"
    },
    {
     "data": {
      "text/html": [
       "<div>\n",
       "<style scoped>\n",
       "    .dataframe tbody tr th:only-of-type {\n",
       "        vertical-align: middle;\n",
       "    }\n",
       "\n",
       "    .dataframe tbody tr th {\n",
       "        vertical-align: top;\n",
       "    }\n",
       "\n",
       "    .dataframe thead th {\n",
       "        text-align: right;\n",
       "    }\n",
       "</style>\n",
       "<table border=\"1\" class=\"dataframe\">\n",
       "  <thead>\n",
       "    <tr style=\"text-align: right;\">\n",
       "      <th></th>\n",
       "      <th>object_type</th>\n",
       "      <th>object_count</th>\n",
       "      <th>seats_sum</th>\n",
       "      <th>seats_mean</th>\n",
       "      <th>share</th>\n",
       "    </tr>\n",
       "  </thead>\n",
       "  <tbody>\n",
       "    <tr>\n",
       "      <th>8</th>\n",
       "      <td>столовая</td>\n",
       "      <td>3</td>\n",
       "      <td>337</td>\n",
       "      <td>112</td>\n",
       "      <td>0.89</td>\n",
       "    </tr>\n",
       "    <tr>\n",
       "      <th>2</th>\n",
       "      <td>ресторан</td>\n",
       "      <td>544</td>\n",
       "      <td>54527</td>\n",
       "      <td>100</td>\n",
       "      <td>1.00</td>\n",
       "    </tr>\n",
       "    <tr>\n",
       "      <th>6</th>\n",
       "      <td>бар</td>\n",
       "      <td>37</td>\n",
       "      <td>1962</td>\n",
       "      <td>53</td>\n",
       "      <td>1.89</td>\n",
       "    </tr>\n",
       "    <tr>\n",
       "      <th>0</th>\n",
       "      <td>кафе</td>\n",
       "      <td>1396</td>\n",
       "      <td>66208</td>\n",
       "      <td>47</td>\n",
       "      <td>2.11</td>\n",
       "    </tr>\n",
       "    <tr>\n",
       "      <th>1</th>\n",
       "      <td>предприятие быстрого обслуживания</td>\n",
       "      <td>791</td>\n",
       "      <td>31772</td>\n",
       "      <td>40</td>\n",
       "      <td>2.49</td>\n",
       "    </tr>\n",
       "    <tr>\n",
       "      <th>4</th>\n",
       "      <td>закусочная</td>\n",
       "      <td>56</td>\n",
       "      <td>805</td>\n",
       "      <td>14</td>\n",
       "      <td>6.96</td>\n",
       "    </tr>\n",
       "    <tr>\n",
       "      <th>5</th>\n",
       "      <td>кафетерий</td>\n",
       "      <td>52</td>\n",
       "      <td>638</td>\n",
       "      <td>12</td>\n",
       "      <td>8.15</td>\n",
       "    </tr>\n",
       "    <tr>\n",
       "      <th>7</th>\n",
       "      <td>буфет</td>\n",
       "      <td>11</td>\n",
       "      <td>140</td>\n",
       "      <td>12</td>\n",
       "      <td>7.86</td>\n",
       "    </tr>\n",
       "    <tr>\n",
       "      <th>3</th>\n",
       "      <td>магазин (отдел кулинарии)</td>\n",
       "      <td>78</td>\n",
       "      <td>677</td>\n",
       "      <td>8</td>\n",
       "      <td>11.52</td>\n",
       "    </tr>\n",
       "  </tbody>\n",
       "</table>\n",
       "</div>"
      ],
      "text/plain": [
       "                         object_type  object_count  seats_sum  seats_mean  \\\n",
       "8                           столовая             3        337         112   \n",
       "2                           ресторан           544      54527         100   \n",
       "6                                бар            37       1962          53   \n",
       "0                               кафе          1396      66208          47   \n",
       "1  предприятие быстрого обслуживания           791      31772          40   \n",
       "4                         закусочная            56        805          14   \n",
       "5                          кафетерий            52        638          12   \n",
       "7                              буфет            11        140          12   \n",
       "3          магазин (отдел кулинарии)            78        677           8   \n",
       "\n",
       "   share  \n",
       "8   0.89  \n",
       "2   1.00  \n",
       "6   1.89  \n",
       "0   2.11  \n",
       "1   2.49  \n",
       "4   6.96  \n",
       "5   8.15  \n",
       "7   7.86  \n",
       "3  11.52  "
      ]
     },
     "execution_count": 1282,
     "metadata": {},
     "output_type": "execute_result"
    }
   ],
   "source": [
    "chain_seats_count = (\n",
    "    chain_type.groupby('object_type').agg({'id': 'count', 'number': 'sum'})\n",
    "    .rename(columns={'id':'object_count', 'number':'seats_sum'})\n",
    "    .astype(int)        \n",
    "    .sort_values(by='object_count', ascending=False)\n",
    "    .reset_index()\n",
    ")\n",
    "    \n",
    "chain_seats_count['seats_mean'] =  (chain_seats_count['seats_sum'] / chain_seats_count['object_count']).astype(int)\n",
    "chain_seats_count['share'] =  (chain_seats_count['object_count'] / chain_seats_count['seats_sum']) * 100\n",
    "chain_seats_count\n",
    "\n",
    "plt.figure(figsize=(10, 5))\n",
    "plt.grid(True)\n",
    "sns.barplot(y='object_type', x='seats_mean', data=chain_seats_count.sort_values(by='seats_mean', ascending=False), palette=\"magma\", saturation=.5)\n",
    "sns.set_style(\"whitegrid\")\n",
    "#plt.xticks(rotation=70)\n",
    "plt.title('Среднее количество мест в объектах общественного питания', size=14)\n",
    "plt.xlabel('Среднее количество мест', size=13)\n",
    "plt.ylabel('Тип объекта', size=13)\n",
    "plt.show()\n",
    "\n",
    "chain_seats_count.sort_values(by='seats_mean', ascending=False)"
   ]
  },
  {
   "cell_type": "markdown",
   "metadata": {},
   "source": [
    "**Выводы к задаче 5:**\n",
    "\n",
    "1. Для столовых и ресторанов характерно иметь большое количество мест (в среднем 100-112) в одном заведении. \n",
    "2. Для кафе и предприятий быстрого обслуживания относительно много заведений со средним количеством мест (40-50).  \n",
    "3. Сетевых баров не очень много, но в среднем в заведении 53 места.\n",
    "4. Для закусочных, кафетериев, буфетов и отделов кулинарии характерно небольшое количество заведений с маленьким количеством посадочных мест (в среднем от 14 до 8). "
   ]
  },
  {
   "cell_type": "markdown",
   "metadata": {},
   "source": [
    "### 6. Топ-10 улиц по количеству объектов общественного питания."
   ]
  },
  {
   "cell_type": "code",
   "execution_count": 1283,
   "metadata": {
    "scrolled": false
   },
   "outputs": [
    {
     "data": {
      "image/png": "[encoded data removed]",
      "text/plain": [
       "<Figure size 720x360 with 1 Axes>"
      ]
     },
     "metadata": {},
     "output_type": "display_data"
    },
    {
     "data": {
      "text/html": [
       "<div>\n",
       "<style scoped>\n",
       "    .dataframe tbody tr th:only-of-type {\n",
       "        vertical-align: middle;\n",
       "    }\n",
       "\n",
       "    .dataframe tbody tr th {\n",
       "        vertical-align: top;\n",
       "    }\n",
       "\n",
       "    .dataframe thead th {\n",
       "        text-align: right;\n",
       "    }\n",
       "</style>\n",
       "<table border=\"1\" class=\"dataframe\">\n",
       "  <thead>\n",
       "    <tr style=\"text-align: right;\">\n",
       "      <th></th>\n",
       "      <th>street</th>\n",
       "      <th>object_count</th>\n",
       "    </tr>\n",
       "  </thead>\n",
       "  <tbody>\n",
       "    <tr>\n",
       "      <th>0</th>\n",
       "      <td>город Зеленоград</td>\n",
       "      <td>232</td>\n",
       "    </tr>\n",
       "    <tr>\n",
       "      <th>1</th>\n",
       "      <td>проспект Мира</td>\n",
       "      <td>204</td>\n",
       "    </tr>\n",
       "    <tr>\n",
       "      <th>2</th>\n",
       "      <td>Профсоюзная улица</td>\n",
       "      <td>182</td>\n",
       "    </tr>\n",
       "    <tr>\n",
       "      <th>3</th>\n",
       "      <td>Ленинградский проспект</td>\n",
       "      <td>171</td>\n",
       "    </tr>\n",
       "    <tr>\n",
       "      <th>4</th>\n",
       "      <td>Пресненская набережная</td>\n",
       "      <td>167</td>\n",
       "    </tr>\n",
       "    <tr>\n",
       "      <th>5</th>\n",
       "      <td>Варшавское шоссе</td>\n",
       "      <td>161</td>\n",
       "    </tr>\n",
       "    <tr>\n",
       "      <th>6</th>\n",
       "      <td>Ленинский проспект</td>\n",
       "      <td>147</td>\n",
       "    </tr>\n",
       "    <tr>\n",
       "      <th>7</th>\n",
       "      <td>поселение Сосенское</td>\n",
       "      <td>138</td>\n",
       "    </tr>\n",
       "    <tr>\n",
       "      <th>8</th>\n",
       "      <td>проспект Вернадского</td>\n",
       "      <td>132</td>\n",
       "    </tr>\n",
       "    <tr>\n",
       "      <th>9</th>\n",
       "      <td>Кутузовский проспект</td>\n",
       "      <td>114</td>\n",
       "    </tr>\n",
       "  </tbody>\n",
       "</table>\n",
       "</div>"
      ],
      "text/plain": [
       "                   street  object_count\n",
       "0        город Зеленоград           232\n",
       "1           проспект Мира           204\n",
       "2       Профсоюзная улица           182\n",
       "3  Ленинградский проспект           171\n",
       "4  Пресненская набережная           167\n",
       "5        Варшавское шоссе           161\n",
       "6      Ленинский проспект           147\n",
       "7     поселение Сосенское           138\n",
       "8    проспект Вернадского           132\n",
       "9    Кутузовский проспект           114"
      ]
     },
     "execution_count": 1283,
     "metadata": {},
     "output_type": "execute_result"
    }
   ],
   "source": [
    "top_10_streets = (\n",
    "    df.groupby('street')['object_name'].count()\n",
    "    .sort_values(ascending=False)\n",
    "    .head(10)\n",
    "    .to_frame()\n",
    "    .reset_index()\n",
    "    .rename(columns={'object_name': 'object_count'})\n",
    ")\n",
    "\n",
    "plt.figure(figsize=(10, 5))\n",
    "plt.grid(True)\n",
    "sns.barplot(x='object_count', y='street', data=top_10_streets, palette=\"magma\", saturation=.5)\n",
    "sns.set_style(\"whitegrid\")\n",
    "#plt.xticks(rotation=70)\n",
    "plt.title('Топ-10 улиц по количеству объектов общественного питания', size=14)\n",
    "plt.xlabel('Количество заведений', size=13)\n",
    "plt.ylabel('Название улицы', size=13)\n",
    "plt.show()\n",
    "\n",
    "top_10_streets"
   ]
  },
  {
   "cell_type": "markdown",
   "metadata": {},
   "source": [
    "**Комментарий:**\n",
    "\n",
    "Для ответа на вопрос в каких районах\\округах Москвы находятся эти улицы, воспользуемся внешней информацией. Обратимся к Яндекс.Картам через API и получим координаты заведений из Топ-10 улиц по количеству объектов общественного питания.\n",
    "Осуществим действия в несколько этапов:\n",
    "1. В отдельный датасет сохраним данные Топ-10 улиц (top10_streets_df)\n",
    "2. Воспользуемся геокодером для получения координат заведений\n",
    "   - Полученный датасет top10_streets_df содержит 1648 строк. При использовании геокодера существует лимит маршрутизации и геокодирования, но, в данном случае, мы его не превышаем.\n",
    "3. Визуализируем точки на карте с помощью plotly express\n",
    "4. Воспользуемся внешним датафреймом, где хранятся данные с названиями улиц и районов Москвы и объединим их с top10_streets_df"
   ]
  },
  {
   "cell_type": "code",
   "execution_count": 1284,
   "metadata": {},
   "outputs": [
    {
     "name": "stdout",
     "output_type": "stream",
     "text": [
      "(1648, 7)\n"
     ]
    }
   ],
   "source": [
    "# Сохраним датасет с данными топ-10 улиц по количеству объектов общественного питания \n",
    "\n",
    "top_10_streets_list = top_10_streets['street'].tolist()\n",
    "top10_streets_df = df.query('street == @top_10_streets_list')\n",
    "print(top10_streets_df.shape)\n",
    "#top10_streets_df.head()"
   ]
  },
  {
   "cell_type": "code",
   "execution_count": 1285,
   "metadata": {},
   "outputs": [],
   "source": [
    "# api = 'aaace069-3195-4fd5-8366-88627e4f0ece'\n",
    "# url = 'https://geocode-maps.yandex.ru/1.x/?format=json&apikey={}&geocode='.format(api)\n",
    "# url_formatted = url + 'город Москва, улица Егора Абакумова, дом 9'\n",
    "# response = r.get(url_formatted).json()\n",
    "# response"
   ]
  },
  {
   "cell_type": "code",
   "execution_count": 1286,
   "metadata": {},
   "outputs": [],
   "source": [
    "# Функция для получении координат и записи их в датафрейм\n",
    "\n",
    "# latitudes = []\n",
    "# longitudes = []\n",
    "\n",
    "# for rest_address in top10_streets_df['address']:\n",
    "#     if rest_address == rest_address: \n",
    "#         url_formatted = url + 'Москва, ' + rest_address  \n",
    "#                                                          \n",
    "#         response = r.get(url_formatted).json()\n",
    "#         try:  \n",
    "#             point = response['response']['GeoObjectCollection']['featureMember'][0]['GeoObject']['Point'].get('pos')\n",
    "#         except: \n",
    "#             pass\n",
    "#         if point is not None: \n",
    "#             latitude = float(point.split()[1].lstrip('('))\n",
    "#             longitude = float(point.split()[0].lstrip('('))\n",
    "#             latitudes.append(latitude)\n",
    "#             longitudes.append(longitude)\n",
    "#         else:  \n",
    "#             latitudes.append('')\n",
    "#             longitudes.append('')  \n",
    "#     else:  \n",
    "#         latitudes.append('')\n",
    "#         longitudes.append('') \n",
    "\n",
    "# top10_streets_df['latitude'] = latitudes\n",
    "# top10_streets_df['longitude'] = longitudes"
   ]
  },
  {
   "cell_type": "code",
   "execution_count": 1287,
   "metadata": {},
   "outputs": [
    {
     "name": "stdout",
     "output_type": "stream",
     "text": [
      "(1648, 9)\n"
     ]
    },
    {
     "data": {
      "text/html": [
       "<div>\n",
       "<style scoped>\n",
       "    .dataframe tbody tr th:only-of-type {\n",
       "        vertical-align: middle;\n",
       "    }\n",
       "\n",
       "    .dataframe tbody tr th {\n",
       "        vertical-align: top;\n",
       "    }\n",
       "\n",
       "    .dataframe thead th {\n",
       "        text-align: right;\n",
       "    }\n",
       "</style>\n",
       "<table border=\"1\" class=\"dataframe\">\n",
       "  <thead>\n",
       "    <tr style=\"text-align: right;\">\n",
       "      <th></th>\n",
       "      <th>id</th>\n",
       "      <th>object_name</th>\n",
       "      <th>chain</th>\n",
       "      <th>object_type</th>\n",
       "      <th>address</th>\n",
       "      <th>number</th>\n",
       "      <th>street</th>\n",
       "      <th>latitude</th>\n",
       "      <th>longitude</th>\n",
       "    </tr>\n",
       "  </thead>\n",
       "  <tbody>\n",
       "    <tr>\n",
       "      <th>151</th>\n",
       "      <td>155973</td>\n",
       "      <td>андерсон</td>\n",
       "      <td>да</td>\n",
       "      <td>кафе</td>\n",
       "      <td>город Москва, Варшавское шоссе, дом 2</td>\n",
       "      <td>150</td>\n",
       "      <td>Варшавское шоссе</td>\n",
       "      <td>55.70</td>\n",
       "      <td>37.62</td>\n",
       "    </tr>\n",
       "    <tr>\n",
       "      <th>152</th>\n",
       "      <td>23618</td>\n",
       "      <td>сабвей</td>\n",
       "      <td>да</td>\n",
       "      <td>кафе</td>\n",
       "      <td>город Москва, Варшавское шоссе, дом 7, корпус 1</td>\n",
       "      <td>36</td>\n",
       "      <td>Варшавское шоссе</td>\n",
       "      <td>55.70</td>\n",
       "      <td>37.62</td>\n",
       "    </tr>\n",
       "    <tr>\n",
       "      <th>153</th>\n",
       "      <td>155852</td>\n",
       "      <td>ламаджо</td>\n",
       "      <td>нет</td>\n",
       "      <td>кафе</td>\n",
       "      <td>город Москва, Варшавское шоссе, дом 29</td>\n",
       "      <td>30</td>\n",
       "      <td>Варшавское шоссе</td>\n",
       "      <td>55.69</td>\n",
       "      <td>37.62</td>\n",
       "    </tr>\n",
       "  </tbody>\n",
       "</table>\n",
       "</div>"
      ],
      "text/plain": [
       "         id object_name chain object_type  \\\n",
       "151  155973   андерсон     да        кафе   \n",
       "152   23618     сабвей     да        кафе   \n",
       "153  155852    ламаджо    нет        кафе   \n",
       "\n",
       "                                             address  number  \\\n",
       "151            город Москва, Варшавское шоссе, дом 2     150   \n",
       "152  город Москва, Варшавское шоссе, дом 7, корпус 1      36   \n",
       "153           город Москва, Варшавское шоссе, дом 29      30   \n",
       "\n",
       "               street  latitude  longitude  \n",
       "151  Варшавское шоссе     55.70      37.62  \n",
       "152  Варшавское шоссе     55.70      37.62  \n",
       "153  Варшавское шоссе     55.69      37.62  "
      ]
     },
     "execution_count": 1287,
     "metadata": {},
     "output_type": "execute_result"
    }
   ],
   "source": [
    "# Сохраним датасет с координатами и загрузим в ноутбук, чтобы повторно не обращаться к геокодеру и не превышать лимит обращений\n",
    "\n",
    "#top10_streets_df = top10_streets_df.to_csv(r'C:\\Users\\mirra\\Desktop\\Yandex.praktikum\\Проекты\\DA_Проекты\\DA_Final_versions\\5_Рынок_заведений_общественного_питания_Москвы\\top10_streets_df.csv', sep=';', encoding='utf-8-sig')\n",
    "top10_streets_df = pd.read_csv(r'C:\\Users\\mirra\\Desktop\\Yandex.praktikum\\Проекты\\DA_Проекты\\DA_Final_versions\\5_Рынок_заведений_общественного_питания_Москвы\\top10_streets_df.csv', index_col=0, sep=';', encoding='utf-8-sig')\n",
    "\n",
    "# Получили датафрейм с данными об улицах Москвы\n",
    "print(top10_streets_df.shape)\n",
    "top10_streets_df.head(3)"
   ]
  },
  {
   "cell_type": "code",
   "execution_count": 1288,
   "metadata": {},
   "outputs": [
    {
     "data": {
      "application/vnd.plotly.v1+json": {
       "config": {
        "plotlyServerURL": "https://plot.ly"
       },
       "data": [
        {
         "hovertemplate": "latitude=%{lat}<br>longitude=%{lon}<extra></extra>",
         "lat": [
          55.699949,
          55.700877,
          55.693079,
          55.656839,
          55.646233,
          55.583953,
          55.69076,
          55.688989,
          55.688989,
          55.688989,
          55.688989,
          55.687655,
          55.678402,
          55.660496,
          55.667132,
          55.667158,
          55.667158,
          55.663365,
          55.655478,
          55.723719,
          55.750717,
          55.750717,
          55.750717,
          55.750732,
          55.749177,
          55.746922,
          55.744977,
          55.74148,
          55.74148,
          55.738688,
          55.778644,
          55.779712,
          55.780416,
          55.780162,
          55.780162,
          55.782552,
          55.782552,
          55.787001,
          55.78732,
          55.790357,
          55.796157,
          55.796157,
          55.796157,
          55.798515,
          55.799689,
          55.80104,
          55.80104,
          55.80104,
          55.802761,
          55.802761,
          55.805133,
          55.805133,
          55.805133,
          55.806413,
          55.805214,
          55.806059,
          55.806059,
          55.728783,
          55.723207,
          55.722036,
          55.713451,
          55.707365,
          55.709956,
          55.709956,
          55.709956,
          55.709956,
          55.708628,
          55.704793,
          55.704793,
          55.69658,
          55.69658,
          55.69486,
          55.689141,
          55.689141,
          55.689141,
          55.689141,
          55.689141,
          55.680763,
          55.679351,
          55.676651,
          55.673976,
          55.668346,
          55.668346,
          55.655524,
          55.774224,
          55.779808,
          55.779808,
          55.780127,
          55.780122,
          55.782982,
          55.781909,
          55.783494,
          55.783494,
          55.783387,
          55.784045,
          55.785361,
          55.78813,
          55.789942,
          55.789952,
          55.805361,
          55.806894,
          55.809105,
          55.809105,
          55.809105,
          55.806762,
          55.808164,
          55.808973,
          55.810668,
          55.810668,
          55.810668,
          55.811771,
          55.815858,
          55.824405,
          55.829062,
          55.687477,
          55.682422,
          55.680554,
          55.679514,
          55.684275,
          55.684275,
          55.678458,
          55.679818,
          55.67194,
          55.675306,
          55.669412,
          55.649886,
          55.63131,
          55.631757,
          55.631285,
          55.998509,
          56.000401,
          55.995992,
          55.995589,
          55.993661,
          55.993661,
          55.979944,
          55.996993,
          55.984567,
          55.803995,
          55.805776,
          55.984612,
          55.984612,
          55.630116,
          55.655783,
          55.649251,
          55.780319,
          55.780319,
          55.820642,
          55.820642,
          55.667345,
          55.655254,
          55.745954,
          55.74147,
          55.744531,
          55.803681,
          55.803681,
          55.803681,
          55.979717,
          55.992936,
          55.700486,
          55.700486,
          55.591259,
          55.66932,
          55.647468,
          55.64192,
          55.64192,
          55.64192,
          55.64192,
          55.64192,
          55.64192,
          55.661333,
          55.674006,
          55.652659,
          55.992362,
          55.98008,
          56.004776,
          55.996596,
          55.569576,
          55.569576,
          55.569576,
          55.569499,
          55.54048,
          55.54048,
          55.983756,
          55.98364,
          55.807375,
          55.807956,
          55.807956,
          55.976398,
          55.727491,
          55.808235,
          55.774644,
          55.633709,
          55.724434,
          55.677935,
          55.674184,
          55.665309,
          55.706741,
          55.706533,
          55.680087,
          55.692064,
          55.692232,
          55.692232,
          55.728292,
          55.727136,
          55.727136,
          55.72416,
          55.681712,
          55.681712,
          55.681712,
          55.681712,
          55.681712,
          55.681712,
          55.724677,
          55.72961,
          55.72961,
          55.72961,
          55.718035,
          55.996983,
          55.996983,
          55.984909,
          55.974186,
          55.986526,
          55.976307,
          55.995594,
          55.984562,
          55.987357,
          55.985106,
          55.993253,
          55.987442,
          55.998619,
          55.995478,
          55.982638,
          56.000457,
          56.002279,
          56.002279,
          56.002279,
          56.002279,
          56.002279,
          55.983484,
          55.802659,
          55.678052,
          55.633922,
          55.661816,
          55.680311,
          55.587687,
          55.663918,
          55.697199,
          55.614378,
          55.655823,
          55.622416,
          55.624896,
          55.975461,
          55.630441,
          55.630614,
          55.622832,
          55.645258,
          55.687046,
          55.685437,
          55.635533,
          55.644094,
          55.624012,
          55.678148,
          55.666909,
          55.653705,
          55.667264,
          55.665705,
          55.67325,
          55.672082,
          55.67559,
          55.727136,
          55.727136,
          55.727136,
          55.727136,
          55.727465,
          55.704286,
          55.72888,
          55.681057,
          55.686203,
          55.671366,
          55.67127,
          55.673905,
          55.673905,
          55.67194,
          55.651186,
          55.651186,
          55.651186,
          55.651186,
          55.651186,
          55.651186,
          55.660968,
          55.660968,
          55.672372,
          55.653101,
          55.664299,
          55.663202,
          55.672808,
          55.675758,
          55.662882,
          56.00623,
          55.998876,
          55.982573,
          55.990695,
          56.005717,
          56.005717,
          56.005717,
          55.976997,
          55.999118,
          56.009914,
          55.981052,
          56.007765,
          56.007765,
          55.79512,
          55.794629,
          55.801369,
          55.798935,
          55.783463,
          55.783463,
          55.784111,
          55.799806,
          55.792736,
          55.799036,
          55.799036,
          55.799036,
          55.799036,
          55.799036,
          55.792007,
          55.790529,
          55.802315,
          55.802315,
          55.802315,
          55.782005,
          55.654035,
          55.785392,
          55.784622,
          55.784622,
          55.795909,
          55.784207,
          55.783165,
          55.783165,
          55.78198,
          55.780507,
          55.989688,
          55.989688,
          55.993656,
          55.984955,
          55.981263,
          56.009436,
          55.67995,
          55.684498,
          55.686284,
          55.837308,
          55.775069,
          55.780664,
          55.778527,
          55.77798,
          55.77798,
          55.77798,
          55.77798,
          55.77798,
          55.77798,
          55.822276,
          55.822276,
          55.822276,
          55.822276,
          55.822276,
          55.822276,
          55.822276,
          55.822276,
          55.822276,
          55.822276,
          55.822276,
          55.822276,
          55.822276,
          55.812044,
          55.802791,
          55.779246,
          55.777975,
          55.81871,
          55.782248,
          55.803646,
          55.787518,
          55.725737,
          55.751457,
          55.751457,
          55.751457,
          55.751457,
          55.751457,
          55.750038,
          55.743056,
          55.738743,
          55.738743,
          55.688649,
          55.666167,
          55.663994,
          55.662359,
          55.702399,
          55.985972,
          55.803621,
          55.997155,
          56.016245,
          55.79055,
          55.79055,
          55.79055,
          55.79055,
          55.785959,
          55.975456,
          55.781038,
          55.808548,
          55.808548,
          55.808548,
          55.808022,
          55.808022,
          55.781615,
          55.814148,
          55.814148,
          55.81514,
          55.800595,
          55.808174,
          55.822751,
          55.844041,
          55.82755,
          55.82755,
          55.82755,
          55.80102,
          55.812175,
          55.830392,
          55.845855,
          55.845855,
          55.845855,
          55.845855,
          55.845855,
          55.845855,
          55.845855,
          55.845855,
          55.845855,
          55.845855,
          55.845855,
          55.845855,
          55.845855,
          55.845855,
          55.845855,
          55.845855,
          55.845855,
          55.845855,
          55.845855,
          55.845855,
          55.845855,
          55.845855,
          55.845855,
          55.845855,
          55.845855,
          55.845855,
          55.845855,
          55.845855,
          55.845855,
          55.845855,
          55.845855,
          55.845855,
          55.845855,
          55.845855,
          55.845855,
          55.845855,
          55.845855,
          55.845855,
          55.845855,
          55.845855,
          55.845855,
          55.845855,
          55.845855,
          55.817861,
          55.692064,
          55.617729,
          55.642332,
          55.637642,
          55.662227,
          55.662557,
          55.632672,
          55.632672,
          55.63037,
          55.63037,
          55.63037,
          55.63037,
          55.63037,
          55.710575,
          55.668615,
          55.670021,
          55.670021,
          55.670021,
          55.670021,
          55.670021,
          55.670021,
          55.670021,
          55.670021,
          55.670021,
          55.670021,
          55.670021,
          55.670021,
          55.670021,
          55.656037,
          55.656037,
          55.656037,
          55.656037,
          55.656037,
          55.656037,
          55.656037,
          55.656037,
          55.656037,
          55.633597,
          55.643632,
          55.666883,
          55.61813,
          55.61813,
          55.61813,
          55.61813,
          55.61813,
          55.61813,
          55.61813,
          55.675514,
          55.663842,
          55.663842,
          55.663842,
          55.663842,
          55.663842,
          55.663842,
          55.663842,
          55.663842,
          55.663842,
          55.663842,
          55.663842,
          55.674331,
          55.636311,
          55.636311,
          55.529201,
          55.537088,
          55.659124,
          55.666487,
          55.666487,
          55.64985,
          55.647244,
          55.626721,
          55.657189,
          55.657189,
          55.657931,
          55.657931,
          55.657931,
          55.677737,
          55.677737,
          55.677737,
          55.677737,
          55.677737,
          55.66076,
          55.670138,
          55.663811,
          55.663811,
          55.657408,
          55.657408,
          55.657408,
          55.657408,
          55.657408,
          55.692714,
          55.661689,
          55.691963,
          55.691963,
          55.691963,
          55.691963,
          55.691963,
          55.691963,
          55.691963,
          55.691963,
          55.691963,
          55.691963,
          55.691963,
          55.691963,
          55.691963,
          55.691963,
          55.691963,
          55.691963,
          55.691963,
          55.691963,
          55.691963,
          55.691963,
          55.691963,
          55.691963,
          55.691963,
          55.691963,
          55.691963,
          55.741855,
          55.750352,
          55.750352,
          55.750352,
          55.750352,
          55.750352,
          55.740522,
          55.731718,
          55.731718,
          55.731718,
          55.731718,
          55.731718,
          55.731718,
          55.731718,
          55.731718,
          55.731718,
          55.731718,
          55.744531,
          55.752328,
          55.752328,
          55.752328,
          55.752328,
          55.752328,
          55.752328,
          55.752328,
          55.752328,
          55.752328,
          55.752328,
          55.752328,
          55.781545,
          55.781858,
          55.807956,
          55.777565,
          55.806793,
          55.808786,
          55.805837,
          55.801835,
          55.801835,
          55.791597,
          55.790221,
          55.78322,
          55.806945,
          55.806945,
          55.78359,
          55.78359,
          55.78359,
          55.78359,
          55.78359,
          55.78359,
          55.78359,
          55.78359,
          55.78359,
          55.78359,
          55.78359,
          55.79303,
          55.79303,
          55.80525,
          55.80525,
          55.805533,
          55.805791,
          55.805791,
          55.793186,
          55.978543,
          55.99801,
          55.979551,
          55.995282,
          55.993006,
          55.98008,
          55.997895,
          55.998066,
          56.014313,
          55.977843,
          55.973496,
          55.983383,
          55.981711,
          55.982346,
          55.982034,
          55.982034,
          56.014494,
          56.015681,
          56.015681,
          56.013231,
          55.984033,
          55.99076,
          55.99076,
          56.011892,
          56.01317,
          56.01317,
          55.98016,
          55.98496,
          55.971884,
          55.976005,
          55.98224,
          55.983469,
          55.996213,
          55.996213,
          55.996213,
          55.976554,
          56.009844,
          55.991037,
          55.991254,
          55.977949,
          56.009119,
          56.009119,
          55.977894,
          55.999017,
          55.999017,
          55.973113,
          55.973129,
          55.982668,
          55.982668,
          55.982668,
          55.982668,
          55.982668,
          55.982668,
          55.982668,
          55.982668,
          55.982668,
          55.982668,
          55.986621,
          55.981616,
          55.973547,
          55.998604,
          55.998846,
          55.998846,
          55.983675,
          56.008953,
          56.008797,
          56.008797,
          56.008797,
          56.008797,
          55.713212,
          55.692389,
          55.646894,
          55.622497,
          55.616747,
          55.591671,
          55.684503,
          55.684503,
          55.62945,
          55.656539,
          55.682783,
          55.611806,
          55.653644,
          55.653644,
          55.577551,
          55.596335,
          55.633226,
          55.633226,
          55.633226,
          55.629567,
          55.679138,
          55.618872,
          55.640274,
          55.640274,
          55.640274,
          55.640274,
          55.720905,
          55.720905,
          55.621211,
          55.661034,
          55.631773,
          55.594514,
          55.699467,
          55.699467,
          55.699467,
          55.699467,
          55.650246,
          55.650246,
          55.582991,
          55.582991,
          55.582991,
          55.696022,
          55.696022,
          55.700035,
          55.700035,
          55.700035,
          55.703129,
          55.703129,
          55.703129,
          55.703129,
          55.703129,
          55.703129,
          55.703129,
          55.703129,
          55.793186,
          55.777272,
          55.777267,
          55.777307,
          55.727592,
          55.791223,
          55.728935,
          55.72961,
          55.72961,
          55.749633,
          55.773429,
          55.78978,
          55.746593,
          55.746593,
          55.746593,
          55.746593,
          55.747115,
          55.747115,
          55.747115,
          55.747115,
          55.747115,
          55.791263,
          55.774968,
          55.748179,
          55.749162,
          55.749162,
          55.749162,
          55.749162,
          55.749162,
          55.749162,
          55.749162,
          55.749162,
          55.749162,
          55.749162,
          55.749162,
          55.749162,
          55.749162,
          55.749162,
          55.749162,
          55.749162,
          55.749162,
          55.749162,
          55.60101,
          55.60101,
          55.60101,
          55.60101,
          55.60101,
          55.60101,
          55.60101,
          55.60101,
          55.60101,
          55.60101,
          55.60101,
          55.60101,
          55.60101,
          55.60101,
          55.60101,
          55.60101,
          55.60101,
          55.60101,
          55.60101,
          55.60101,
          55.60101,
          55.60101,
          55.60101,
          55.60101,
          55.60101,
          55.60101,
          55.55086,
          55.585204,
          55.567214,
          55.567647,
          55.569713,
          55.571805,
          55.571805,
          55.557724,
          55.590556,
          55.560856,
          55.663024,
          55.663024,
          55.663024,
          55.663024,
          55.663024,
          55.663024,
          55.663024,
          55.663024,
          55.663024,
          55.663024,
          55.727932,
          55.727932,
          55.727932,
          55.727932,
          55.727932,
          55.727932,
          55.727932,
          55.727932,
          55.727932,
          55.727932,
          55.727932,
          55.727932,
          55.727932,
          55.727932,
          55.727932,
          55.727932,
          55.727932,
          55.967809,
          55.970766,
          55.980709,
          55.964524,
          55.964524,
          55.964524,
          55.673976,
          55.740026,
          55.983383,
          55.980301,
          55.583953,
          55.670021,
          55.808174,
          55.727932,
          55.661689,
          55.845855,
          55.793232,
          55.552042,
          55.746922,
          55.802761,
          56.008797,
          55.995538,
          55.682803,
          55.820642,
          55.806762,
          55.660272,
          55.691521,
          55.782562,
          56.002279,
          55.665142,
          55.660968,
          55.672372,
          55.77798,
          55.78727,
          55.649992,
          55.99646,
          55.657931,
          55.790757,
          55.803282,
          55.994376,
          55.970882,
          55.631773,
          55.748179,
          55.571805,
          55.835008,
          55.980709,
          55.980709,
          55.779246,
          55.78116,
          55.80483,
          55.700877,
          55.66076,
          55.746593,
          55.750352,
          55.748924,
          55.748924,
          55.748924,
          55.748924,
          55.748924,
          55.748924,
          55.749162,
          55.749162,
          55.748179,
          55.774644,
          55.747115,
          55.747115,
          55.747115,
          55.747115,
          55.747115,
          55.747115,
          55.747115,
          55.747115,
          55.747115,
          55.747115,
          55.652679,
          55.79098,
          55.789547,
          55.746593,
          55.746593,
          55.746593,
          55.746593,
          55.746593,
          55.746593,
          55.746593,
          55.746593,
          55.746593,
          55.746593,
          55.748179,
          55.748179,
          55.748179,
          55.748179,
          55.701318,
          55.994013,
          55.790221,
          55.666883,
          55.688553,
          55.581444,
          55.580136,
          55.800595,
          55.657408,
          55.676301,
          55.651186,
          55.651186,
          55.651186,
          55.569128,
          55.625532,
          55.643713,
          55.806762,
          55.836544,
          55.790838,
          55.780162,
          55.636311,
          55.707451,
          55.687497,
          55.571805,
          55.789942,
          55.633226,
          55.78732,
          55.78732,
          55.737076,
          55.994552,
          55.680834,
          55.739625,
          55.67655,
          55.748924,
          55.778036,
          55.750352,
          55.750352,
          55.603791,
          55.983675,
          55.581139,
          55.622832,
          55.77917,
          55.806059,
          55.687477,
          55.837197,
          55.676149,
          55.750352,
          55.569942,
          55.750352,
          55.79098,
          55.589203,
          55.785959,
          55.785579,
          55.662882,
          55.686269,
          55.620901,
          55.801566,
          55.799163,
          55.996983,
          55.680554,
          55.630441,
          55.632672,
          55.787189,
          55.679514,
          55.808973,
          55.77798,
          55.790221,
          55.691521,
          55.632672,
          55.700877,
          55.700877,
          55.700877,
          55.661471,
          55.746791,
          55.781038,
          55.790357,
          55.80399,
          55.680834,
          55.654802,
          55.690374,
          55.773322,
          55.810693,
          55.810693,
          55.687477,
          55.624352,
          55.679514,
          55.996787,
          55.994496,
          55.988731,
          55.989124,
          55.995538,
          55.983454,
          55.666675,
          55.744531,
          55.663674,
          55.970751,
          55.567423,
          55.570843,
          55.588415,
          55.999833,
          55.568685,
          55.570339,
          55.571261,
          55.575414,
          55.574925,
          55.569942,
          55.982089,
          55.714171,
          56.002279,
          55.998564,
          55.994743,
          55.994602,
          55.99799,
          55.69351,
          55.65178,
          55.583566,
          55.680311,
          55.630985,
          55.630985,
          55.630441,
          55.656702,
          55.720154,
          55.720154,
          55.651186,
          56.006265,
          56.011026,
          55.993489,
          55.991108,
          55.994245,
          56.005848,
          55.986279,
          55.99718,
          55.994104,
          56.004947,
          55.794629,
          55.790529,
          55.979364,
          55.978433,
          55.978433,
          55.67995,
          55.675641,
          55.981011,
          55.975536,
          55.988434,
          55.972448,
          55.987442,
          55.975189,
          55.800595,
          55.800595,
          55.802169,
          55.632672,
          55.632672,
          55.632672,
          55.632672,
          55.631168,
          55.63037,
          55.63037,
          55.63037,
          55.63037,
          55.63037,
          55.626904,
          55.670021,
          55.651674,
          55.643632,
          55.643632,
          55.678895,
          55.750352,
          55.781545,
          55.79428,
          55.790717,
          55.791602,
          55.803282,
          55.796567,
          55.987759,
          55.979903,
          55.975184,
          55.990061,
          55.981958,
          55.984033,
          55.981968,
          55.978886,
          55.978886,
          55.996983,
          55.977949,
          56.002853,
          55.991037,
          55.977894,
          55.982668,
          55.61327,
          55.625532,
          55.651288,
          55.651039,
          55.720905,
          55.61934,
          55.604102,
          55.604102,
          55.581139,
          55.581139,
          55.580757,
          55.700035,
          55.749633,
          55.749633,
          55.749633,
          55.749633,
          55.749633,
          55.747115,
          55.746593,
          55.746593,
          55.748179,
          55.748179,
          55.748179,
          55.748179,
          55.748179,
          55.748179,
          55.748179,
          55.748179,
          55.786045,
          55.747622,
          55.747622,
          55.747622,
          55.747622,
          55.747622,
          55.749162,
          55.749162,
          55.749162,
          55.60101,
          55.60101,
          55.60101,
          55.60101,
          55.566573,
          55.566573,
          55.566573,
          55.748924,
          55.748924,
          55.749162,
          55.749162,
          55.749162,
          55.749162,
          55.749162,
          55.749162,
          55.749162,
          55.749162,
          55.749162,
          55.749162,
          55.749162,
          55.749162,
          55.749162,
          55.749162,
          55.749162,
          55.749162,
          55.749162,
          55.749162,
          55.749162,
          55.749162,
          55.749162,
          55.540954,
          55.540954,
          55.540954,
          55.792108,
          55.569164,
          55.57833,
          55.558931,
          55.558931,
          55.591264,
          55.590836,
          55.590618,
          55.541244,
          55.749162,
          55.656037,
          55.991037,
          55.691755,
          55.626904,
          55.651978,
          55.749162,
          55.700035,
          56.006422,
          55.805837,
          55.749162,
          55.803282,
          55.79889,
          55.749162,
          55.749162,
          55.666624,
          55.801835,
          55.749162,
          55.749162,
          55.791248,
          55.683909,
          55.636311,
          55.749162,
          55.749162,
          55.979717,
          55.749162,
          55.749162,
          55.749162,
          55.749162,
          55.65178,
          55.663674,
          55.590918,
          55.571261,
          55.749162,
          55.749162,
          55.749162,
          55.748924,
          55.806762,
          55.986047,
          55.749162,
          55.749162,
          55.749162,
          55.680747,
          55.699949,
          55.79473,
          55.805133,
          55.717295,
          55.68698,
          55.79098,
          55.814345,
          55.649063,
          55.649886,
          55.623631,
          55.687477,
          55.683696,
          55.679514,
          55.687477,
          55.820642,
          55.980467,
          55.996611,
          55.979717,
          55.64192,
          55.64192,
          55.560408,
          55.569576,
          55.569499,
          55.54672,
          55.569942,
          55.807956,
          55.697914,
          55.697914,
          55.644623,
          55.66076,
          55.980805,
          55.983479,
          55.673905,
          55.662359,
          55.741987,
          55.677433,
          55.800595,
          55.800595,
          55.800595,
          55.844041,
          55.685731,
          55.670021,
          55.670021,
          55.656037,
          55.656037,
          55.656037,
          55.656037,
          55.656037,
          55.656037,
          55.656037,
          55.656037,
          55.656037,
          55.656037,
          55.656037,
          55.656037,
          55.656037,
          55.656037,
          55.656037,
          55.670021,
          55.670021,
          55.632901,
          55.61813,
          55.61813,
          55.61813,
          55.61813,
          55.61813,
          55.663842,
          55.663842,
          55.663842,
          55.663842,
          55.653136,
          55.666487,
          55.663842,
          55.663842,
          55.636311,
          55.691963,
          55.749836,
          55.750352,
          55.750352,
          55.804951,
          55.994376,
          55.972872,
          55.971144,
          55.983675,
          55.983675,
          55.69488,
          55.653644,
          55.633226,
          55.650002,
          55.582991,
          55.582991,
          55.580757,
          55.747115,
          55.748179,
          55.747622,
          55.747622,
          55.747622,
          55.747622,
          55.747622,
          55.548558,
          55.548558,
          55.569652,
          55.54102,
          55.557724,
          55.571805,
          55.566654,
          55.540954,
          55.540954,
          55.835008,
          55.57264,
          55.568156,
          55.573973,
          55.58931,
          55.791248,
          55.791248,
          55.540541,
          55.540541,
          55.540541,
          55.620926,
          55.620926,
          55.557689,
          55.553106,
          55.540231,
          55.540231,
          55.570548,
          55.570548,
          55.58991,
          55.540424,
          55.56109,
          55.543104,
          55.591996,
          55.805791,
          55.66076,
          55.632901,
          55.543104,
          55.687477,
          55.653644,
          55.571805,
          55.806059,
          55.805133,
          55.61813,
          55.61813,
          55.791248,
          55.670021,
          55.791248,
          55.663842,
          55.582991,
          55.663842,
          55.663024,
          55.66076,
          55.643632,
          55.801835,
          55.791248,
          55.77874,
          55.77874,
          55.787001,
          55.804956,
          55.687497,
          55.687497,
          55.688553,
          55.685782,
          55.802998,
          55.726142,
          55.707451,
          55.69658,
          55.838369,
          55.687477,
          55.680554,
          55.679514,
          55.996993,
          55.803681,
          55.591259,
          55.64192,
          55.64192,
          55.651516,
          55.992362,
          55.588415,
          55.588415,
          55.589203,
          55.560408,
          55.569214,
          55.572253,
          55.569871,
          55.569871,
          55.681712,
          55.72961,
          55.986485,
          55.655823,
          55.633013,
          55.633013,
          55.633922,
          55.674504,
          55.655772,
          55.987865,
          55.791248,
          55.791248,
          55.791248,
          55.791248,
          55.844576,
          55.684498,
          55.77798,
          55.812388,
          55.666167,
          55.578574,
          55.971572,
          55.800595,
          55.801566,
          55.845855,
          55.845855,
          55.845855,
          55.845855,
          55.845855,
          55.845855,
          55.845855,
          55.845855,
          55.845855,
          55.845855,
          55.663842,
          55.661689,
          55.661689,
          55.661689,
          55.662242,
          55.662242,
          55.662242,
          55.662242,
          55.691963,
          55.691963,
          55.691963,
          55.750352,
          55.725595,
          55.78359,
          55.997895,
          55.970816,
          56.0085,
          56.009914,
          55.974368,
          55.992749,
          56.008797,
          55.579653,
          55.579653,
          55.579653,
          55.622085,
          55.653644,
          55.640274,
          55.640274,
          55.60102,
          55.594514,
          55.582991,
          55.683909,
          55.683909,
          55.683909,
          55.749633,
          55.749633,
          55.749633,
          55.749633,
          55.749633,
          55.749633,
          55.749633,
          55.749633,
          55.749633,
          55.749633,
          55.749633,
          55.749633,
          55.749633,
          55.749633,
          55.749633,
          55.749633,
          55.749633,
          55.747622,
          55.747622,
          55.747622,
          55.748924,
          55.748924,
          55.749162,
          55.749162,
          55.749162,
          55.60101,
          55.60101,
          55.60101,
          55.60101,
          55.60101,
          55.582345,
          55.566573,
          55.567647,
          55.569713,
          55.568319,
          55.571805,
          55.663024,
          55.663024,
          55.663024,
          55.663024,
          55.663024,
          55.663024,
          55.727932,
          55.727932,
          55.727932,
          55.727932,
          55.727932,
          55.727932,
          55.727932,
          55.727932,
          55.727932,
          55.727932,
          55.727932,
          55.727932,
          55.727932,
          55.727932,
          55.727932,
          55.573332,
          55.573973,
          55.58931,
          55.588649,
          55.787958,
          55.787189,
          55.620316,
          55.620316,
          55.591472,
          55.543104,
          55.591793,
          55.591793,
          55.569952,
          55.593787,
          55.691963,
          55.683909,
          55.727932,
          55.727932,
          55.727932,
          55.73811,
          55.801835,
          55.845855,
          55.60101,
          55.727932,
          55.653644,
          55.540541,
          55.971904,
          55.691521,
          55.78646,
          55.791248,
          55.845855,
          55.845855,
          55.653644,
          55.60101,
          56.008797,
          55.970816,
          55.695829,
          55.780122,
          55.791248,
          55.749633,
          55.653644,
          55.60101,
          55.845855,
          55.845855,
          55.653644,
          55.791248,
          55.845855,
          55.594514,
          55.801835,
          55.727932,
          55.801835,
          55.727932,
          55.727932,
          55.748924,
          55.78359,
          55.683909,
          55.742889,
          55.740026,
          55.749633,
          55.807956,
          55.625486,
          55.653644
         ],
         "legendgroup": "",
         "lon": [
          37.619683,
          37.622405,
          37.622801,
          37.618767,
          37.618821,
          37.599157,
          37.53252,
          37.529358,
          37.529358,
          37.529358,
          37.529358,
          37.527678,
          37.511751,
          37.474543,
          37.495141,
          37.491386,
          37.491386,
          37.492671,
          37.482035,
          37.452103,
          37.564913,
          37.564913,
          37.564913,
          37.562272,
          37.560547,
          37.556864,
          37.549866,
          37.535835,
          37.535835,
          37.531038,
          37.582709,
          37.579933,
          37.573932,
          37.578855,
          37.578855,
          37.573708,
          37.573708,
          37.560781,
          37.559829,
          37.55328,
          37.543488,
          37.543488,
          37.543488,
          37.537955,
          37.535359,
          37.533391,
          37.533391,
          37.533391,
          37.526007,
          37.526007,
          37.516952,
          37.516952,
          37.516952,
          37.51688,
          37.508185,
          37.513305,
          37.513305,
          37.610988,
          37.603945,
          37.602085,
          37.588575,
          37.57775,
          37.585691,
          37.585691,
          37.585691,
          37.585691,
          37.586634,
          37.576286,
          37.576286,
          37.561553,
          37.561553,
          37.558517,
          37.545833,
          37.545833,
          37.545833,
          37.545833,
          37.545833,
          37.533499,
          37.533751,
          37.529789,
          37.525872,
          37.518353,
          37.518353,
          37.493039,
          37.631927,
          37.63252,
          37.63252,
          37.632601,
          37.633634,
          37.63385,
          37.634362,
          37.633859,
          37.633859,
          37.635045,
          37.635341,
          37.63606,
          37.635269,
          37.634299,
          37.633733,
          37.635287,
          37.635593,
          37.636338,
          37.636338,
          37.636338,
          37.637569,
          37.638377,
          37.637982,
          37.638305,
          37.638305,
          37.638305,
          37.639303,
          37.639572,
          37.64604,
          37.650909,
          37.572378,
          37.568875,
          37.566467,
          37.565335,
          37.568938,
          37.568938,
          37.564257,
          37.564141,
          37.557233,
          37.558032,
          37.552355,
          37.520141,
          37.520294,
          37.507789,
          37.505319,
          37.225098,
          37.208776,
          37.211471,
          37.211318,
          37.21298,
          37.21298,
          37.176284,
          37.189696,
          37.156413,
          37.637048,
          37.506091,
          37.159818,
          37.159818,
          37.504025,
          37.498222,
          37.484406,
          37.632098,
          37.632098,
          37.642042,
          37.642042,
          37.475603,
          37.473123,
          37.549273,
          37.540784,
          37.545267,
          37.517338,
          37.517338,
          37.517338,
          37.162692,
          37.24726,
          37.621678,
          37.621678,
          37.598348,
          37.550423,
          37.527831,
          37.523465,
          37.523465,
          37.523465,
          37.523465,
          37.523465,
          37.523465,
          37.509352,
          37.562667,
          37.475513,
          37.254824,
          37.184027,
          37.206476,
          37.220086,
          37.491584,
          37.491584,
          37.491584,
          37.469764,
          37.492644,
          37.492644,
          37.219897,
          37.22084,
          37.511409,
          37.511508,
          37.511508,
          37.1787,
          37.608886,
          37.634964,
          37.632646,
          37.518111,
          37.603451,
          37.531631,
          37.528163,
          37.513395,
          37.57484,
          37.583697,
          37.539329,
          37.557197,
          37.55487,
          37.55487,
          37.609461,
          37.609901,
          37.609901,
          37.605508,
          37.516449,
          37.516449,
          37.516449,
          37.516449,
          37.516449,
          37.516449,
          37.601304,
          37.611051,
          37.611051,
          37.611051,
          37.593102,
          37.215891,
          37.215891,
          37.177649,
          37.196748,
          37.155066,
          37.190765,
          37.202272,
          37.186138,
          37.176518,
          37.189938,
          37.192696,
          37.175341,
          37.177811,
          37.178934,
          37.232168,
          37.205749,
          37.211004,
          37.211004,
          37.211004,
          37.211004,
          37.211004,
          37.233965,
          37.519764,
          37.623995,
          37.617204,
          37.617572,
          37.623492,
          37.595168,
          37.621579,
          37.619665,
          37.614096,
          37.62051,
          37.619513,
          37.614428,
          37.151365,
          37.51529,
          37.514715,
          37.506262,
          37.529699,
          37.571857,
          37.570123,
          37.52616,
          37.482223,
          37.498995,
          37.568426,
          37.5092,
          37.485619,
          37.477049,
          37.488556,
          37.502292,
          37.48817,
          37.506038,
          37.606909,
          37.606909,
          37.606909,
          37.606909,
          37.608086,
          37.568614,
          37.609946,
          37.517455,
          37.54427,
          37.525163,
          37.523249,
          37.559541,
          37.559541,
          37.557233,
          37.483104,
          37.483104,
          37.483104,
          37.483104,
          37.483104,
          37.483104,
          37.476088,
          37.476088,
          37.479097,
          37.483616,
          37.49162,
          37.490371,
          37.504483,
          37.495455,
          37.48561,
          37.206512,
          37.222996,
          37.182384,
          37.214768,
          37.205874,
          37.205874,
          37.205874,
          37.19081,
          37.222053,
          37.199164,
          37.250898,
          37.194529,
          37.194529,
          37.535924,
          37.542842,
          37.525612,
          37.531199,
          37.574588,
          37.574588,
          37.560727,
          37.530822,
          37.538422,
          37.532601,
          37.532601,
          37.532601,
          37.532601,
          37.532601,
          37.546605,
          37.539949,
          37.529259,
          37.529259,
          37.529259,
          37.570779,
          37.482304,
          37.562146,
          37.56945,
          37.56945,
          37.545159,
          37.570231,
          37.569225,
          37.569225,
          37.574983,
          37.574624,
          37.219906,
          37.219906,
          37.245544,
          37.192328,
          37.248266,
          37.198239,
          37.625289,
          37.624085,
          37.624022,
          37.660314,
          37.631272,
          37.633769,
          37.631577,
          37.633158,
          37.633158,
          37.633158,
          37.633158,
          37.633158,
          37.633158,
          37.647037,
          37.647037,
          37.647037,
          37.647037,
          37.647037,
          37.647037,
          37.647037,
          37.647037,
          37.647037,
          37.647037,
          37.647037,
          37.647037,
          37.647037,
          37.635287,
          37.636823,
          37.633347,
          37.633499,
          37.636841,
          37.634497,
          37.635107,
          37.635826,
          37.455408,
          37.565461,
          37.565461,
          37.565461,
          37.565461,
          37.565461,
          37.561257,
          37.538952,
          37.526187,
          37.526187,
          37.62342,
          37.619854,
          37.489715,
          37.48587,
          37.545644,
          37.160581,
          37.524327,
          37.186147,
          37.194753,
          37.547387,
          37.547387,
          37.547387,
          37.547387,
          37.634479,
          37.161058,
          37.632368,
          37.512398,
          37.512398,
          37.512398,
          37.635916,
          37.635916,
          37.632637,
          37.634281,
          37.634281,
          37.63747,
          37.63668,
          37.637991,
          37.639752,
          37.66265,
          37.64242,
          37.64242,
          37.64242,
          37.636778,
          37.638782,
          37.649606,
          37.662093,
          37.662093,
          37.662093,
          37.662093,
          37.662093,
          37.662093,
          37.662093,
          37.662093,
          37.662093,
          37.662093,
          37.662093,
          37.662093,
          37.662093,
          37.662093,
          37.662093,
          37.662093,
          37.662093,
          37.662093,
          37.662093,
          37.662093,
          37.662093,
          37.662093,
          37.662093,
          37.662093,
          37.662093,
          37.662093,
          37.662093,
          37.662093,
          37.662093,
          37.662093,
          37.662093,
          37.662093,
          37.662093,
          37.662093,
          37.662093,
          37.662093,
          37.662093,
          37.662093,
          37.662093,
          37.662093,
          37.662093,
          37.662093,
          37.662093,
          37.640336,
          37.557197,
          37.49347,
          37.479106,
          37.516656,
          37.50867,
          37.544566,
          37.518587,
          37.518587,
          37.516853,
          37.516853,
          37.516853,
          37.516853,
          37.516853,
          37.577561,
          37.547117,
          37.55248,
          37.55248,
          37.55248,
          37.55248,
          37.55248,
          37.55248,
          37.55248,
          37.55248,
          37.55248,
          37.55248,
          37.55248,
          37.55248,
          37.55248,
          37.541512,
          37.541512,
          37.541512,
          37.541512,
          37.541512,
          37.541512,
          37.541512,
          37.541512,
          37.541512,
          37.518587,
          37.526259,
          37.551879,
          37.507484,
          37.507484,
          37.507484,
          37.507484,
          37.507484,
          37.507484,
          37.507484,
          37.561284,
          37.511445,
          37.511445,
          37.511445,
          37.511445,
          37.511445,
          37.511445,
          37.511445,
          37.511445,
          37.511445,
          37.511445,
          37.511445,
          37.564994,
          37.521138,
          37.521138,
          37.579789,
          37.581721,
          37.54065,
          37.547414,
          37.547414,
          37.525001,
          37.524004,
          37.504295,
          37.481909,
          37.481909,
          37.476052,
          37.476052,
          37.476052,
          37.506891,
          37.506891,
          37.506891,
          37.506891,
          37.506891,
          37.480265,
          37.493641,
          37.484864,
          37.484864,
          37.497656,
          37.497656,
          37.497656,
          37.497656,
          37.497656,
          37.53393,
          37.481469,
          37.527965,
          37.527965,
          37.527965,
          37.527965,
          37.527965,
          37.527965,
          37.527965,
          37.527965,
          37.527965,
          37.527965,
          37.527965,
          37.527965,
          37.527965,
          37.527965,
          37.527965,
          37.527965,
          37.527965,
          37.527965,
          37.527965,
          37.527965,
          37.527965,
          37.527965,
          37.527965,
          37.527965,
          37.527965,
          37.525396,
          37.556388,
          37.556388,
          37.556388,
          37.556388,
          37.556388,
          37.528972,
          37.487362,
          37.487362,
          37.487362,
          37.487362,
          37.487362,
          37.487362,
          37.487362,
          37.487362,
          37.487362,
          37.487362,
          37.545267,
          37.566773,
          37.566773,
          37.566773,
          37.566773,
          37.566773,
          37.566773,
          37.566773,
          37.566773,
          37.566773,
          37.566773,
          37.566773,
          37.572082,
          37.571929,
          37.511508,
          37.578424,
          37.517796,
          37.511086,
          37.515164,
          37.532107,
          37.532107,
          37.536023,
          37.544638,
          37.573771,
          37.516934,
          37.516934,
          37.56017,
          37.56017,
          37.56017,
          37.56017,
          37.56017,
          37.56017,
          37.56017,
          37.56017,
          37.56017,
          37.56017,
          37.56017,
          37.552193,
          37.552193,
          37.519863,
          37.519863,
          37.521336,
          37.520348,
          37.520348,
          37.546731,
          37.183012,
          37.231602,
          37.168487,
          37.202524,
          37.171244,
          37.182015,
          37.191079,
          37.236139,
          37.205192,
          37.215262,
          37.181458,
          37.208453,
          37.205084,
          37.20574,
          37.249856,
          37.249856,
          37.204302,
          37.193047,
          37.193047,
          37.162746,
          37.213205,
          37.222412,
          37.222412,
          37.199425,
          37.191897,
          37.191897,
          37.17173,
          37.151706,
          37.149865,
          37.157024,
          37.214274,
          37.203494,
          37.216942,
          37.216942,
          37.216942,
          37.157563,
          37.195229,
          37.217247,
          37.216259,
          37.15503,
          37.202919,
          37.202919,
          37.153673,
          37.223832,
          37.223832,
          37.165747,
          37.202551,
          37.175008,
          37.175008,
          37.175008,
          37.175008,
          37.175008,
          37.175008,
          37.175008,
          37.175008,
          37.175008,
          37.175008,
          37.224371,
          37.252488,
          37.1704,
          37.212261,
          37.210025,
          37.210025,
          37.173697,
          37.190486,
          37.200044,
          37.200044,
          37.200044,
          37.200044,
          37.589877,
          37.622738,
          37.620707,
          37.621525,
          37.61088,
          37.596336,
          37.621947,
          37.621947,
          37.621723,
          37.621202,
          37.622549,
          37.611464,
          37.620698,
          37.620698,
          37.597172,
          37.602885,
          37.624256,
          37.624256,
          37.624256,
          37.616521,
          37.630131,
          37.612829,
          37.621947,
          37.621947,
          37.621947,
          37.621947,
          37.600729,
          37.600729,
          37.616396,
          37.621507,
          37.618031,
          37.599166,
          37.625594,
          37.625594,
          37.625594,
          37.625594,
          37.618821,
          37.618821,
          37.595249,
          37.595249,
          37.595249,
          37.619764,
          37.619764,
          37.62369,
          37.62369,
          37.62369,
          37.623313,
          37.623313,
          37.623313,
          37.623313,
          37.623313,
          37.623313,
          37.623313,
          37.623313,
          37.635754,
          37.635781,
          37.63641,
          37.634416,
          37.605903,
          37.633832,
          37.608643,
          37.611051,
          37.611051,
          37.537434,
          37.632682,
          37.634326,
          37.53738,
          37.53738,
          37.53738,
          37.53738,
          37.539087,
          37.539087,
          37.539087,
          37.539087,
          37.539087,
          37.635161,
          37.63305,
          37.540245,
          37.539742,
          37.539742,
          37.539742,
          37.539742,
          37.539742,
          37.539742,
          37.539742,
          37.539742,
          37.539742,
          37.539742,
          37.539742,
          37.539742,
          37.539742,
          37.539742,
          37.539742,
          37.539742,
          37.539742,
          37.539742,
          37.471102,
          37.471102,
          37.471102,
          37.471102,
          37.471102,
          37.471102,
          37.471102,
          37.471102,
          37.471102,
          37.471102,
          37.471102,
          37.471102,
          37.471102,
          37.471102,
          37.471102,
          37.471102,
          37.471102,
          37.471102,
          37.471102,
          37.471102,
          37.471102,
          37.471102,
          37.471102,
          37.471102,
          37.471102,
          37.471102,
          37.426096,
          37.465847,
          37.480265,
          37.487532,
          37.490389,
          37.445168,
          37.445168,
          37.433642,
          37.465326,
          37.439409,
          37.481001,
          37.481001,
          37.481001,
          37.481001,
          37.481001,
          37.481001,
          37.481001,
          37.481001,
          37.481001,
          37.481001,
          37.476169,
          37.476169,
          37.476169,
          37.476169,
          37.476169,
          37.476169,
          37.476169,
          37.476169,
          37.476169,
          37.476169,
          37.476169,
          37.476169,
          37.476169,
          37.476169,
          37.476169,
          37.476169,
          37.476169,
          37.191151,
          37.160959,
          37.171253,
          37.187109,
          37.187109,
          37.187109,
          37.525872,
          37.526295,
          37.208453,
          37.170427,
          37.599157,
          37.55248,
          37.637991,
          37.476169,
          37.481469,
          37.662093,
          37.636365,
          37.43269,
          37.556864,
          37.526007,
          37.200044,
          37.190801,
          37.617941,
          37.642042,
          37.637569,
          37.482744,
          37.552741,
          37.633697,
          37.211004,
          37.478603,
          37.476088,
          37.479097,
          37.633158,
          37.635817,
          37.471533,
          37.211201,
          37.476052,
          37.552453,
          37.512766,
          37.190064,
          37.159836,
          37.618031,
          37.540245,
          37.445168,
          37.658347,
          37.171253,
          37.171253,
          37.633347,
          37.631847,
          37.510502,
          37.622405,
          37.54356,
          37.53738,
          37.556388,
          37.542949,
          37.542949,
          37.542949,
          37.542949,
          37.542949,
          37.542949,
          37.539742,
          37.539742,
          37.540245,
          37.632646,
          37.539087,
          37.539087,
          37.539087,
          37.539087,
          37.539087,
          37.539087,
          37.539087,
          37.539087,
          37.539087,
          37.539087,
          37.476411,
          37.634182,
          37.635224,
          37.53738,
          37.53738,
          37.53738,
          37.53738,
          37.53738,
          37.53738,
          37.53738,
          37.53738,
          37.53738,
          37.53738,
          37.540245,
          37.540245,
          37.540245,
          37.540245,
          37.567159,
          37.171658,
          37.544638,
          37.551879,
          37.547405,
          37.590542,
          37.594063,
          37.63668,
          37.497656,
          37.504555,
          37.483104,
          37.483104,
          37.483104,
          37.489239,
          37.618543,
          37.480849,
          37.637569,
          37.656362,
          37.550459,
          37.578855,
          37.521138,
          37.582826,
          37.543327,
          37.445168,
          37.634299,
          37.624256,
          37.559829,
          37.559829,
          37.525863,
          37.20759,
          37.535871,
          37.527417,
          37.525872,
          37.542949,
          37.632143,
          37.556388,
          37.556388,
          37.604241,
          37.173697,
          37.597998,
          37.506262,
          37.577903,
          37.513305,
          37.572378,
          37.657682,
          37.526259,
          37.556388,
          37.487622,
          37.556388,
          37.634182,
          37.602714,
          37.634479,
          37.635593,
          37.48561,
          37.511472,
          37.610449,
          37.636671,
          37.536544,
          37.215891,
          37.566467,
          37.51529,
          37.518587,
          37.566386,
          37.565335,
          37.637982,
          37.633158,
          37.544638,
          37.552741,
          37.518587,
          37.622405,
          37.622405,
          37.622405,
          37.483714,
          37.552184,
          37.5736,
          37.55328,
          37.516,
          37.535871,
          37.491485,
          37.550657,
          37.631936,
          37.63676,
          37.63676,
          37.572378,
          37.508292,
          37.565335,
          37.204249,
          37.206108,
          37.22932,
          37.235474,
          37.190801,
          37.160366,
          37.510511,
          37.545267,
          37.486733,
          37.162773,
          37.475486,
          37.473635,
          37.601807,
          37.216735,
          37.492778,
          37.491763,
          37.490712,
          37.473258,
          37.473581,
          37.487622,
          37.16572,
          37.590865,
          37.211004,
          37.22994,
          37.209055,
          37.21855,
          37.22093,
          37.622082,
          37.618767,
          37.600118,
          37.623492,
          37.515632,
          37.515632,
          37.51529,
          37.5425,
          37.599983,
          37.599983,
          37.483104,
          37.210968,
          37.190352,
          37.205632,
          37.233543,
          37.222386,
          37.211821,
          37.232599,
          37.205506,
          37.203494,
          37.200925,
          37.542842,
          37.539949,
          37.154787,
          37.155551,
          37.155551,
          37.625289,
          37.626951,
          37.153691,
          37.153332,
          37.150035,
          37.155156,
          37.155614,
          37.154913,
          37.63668,
          37.63668,
          37.638611,
          37.518587,
          37.518587,
          37.518587,
          37.518587,
          37.517383,
          37.516853,
          37.516853,
          37.516853,
          37.516853,
          37.516853,
          37.511014,
          37.55248,
          37.490551,
          37.526259,
          37.526259,
          37.51149,
          37.556388,
          37.572082,
          37.543533,
          37.54215,
          37.541251,
          37.512766,
          37.536931,
          37.152263,
          37.1537,
          37.159171,
          37.255327,
          37.156296,
          37.213205,
          37.175089,
          37.171532,
          37.171532,
          37.215891,
          37.15503,
          37.200152,
          37.217247,
          37.153673,
          37.175008,
          37.60779,
          37.618543,
          37.620447,
          37.620339,
          37.600729,
          37.609128,
          37.607862,
          37.607862,
          37.597998,
          37.597998,
          37.595339,
          37.62369,
          37.537434,
          37.537434,
          37.537434,
          37.537434,
          37.537434,
          37.539087,
          37.53738,
          37.53738,
          37.540245,
          37.540245,
          37.540245,
          37.540245,
          37.540245,
          37.540245,
          37.540245,
          37.540245,
          37.635575,
          37.535071,
          37.535071,
          37.535071,
          37.535071,
          37.535071,
          37.539742,
          37.539742,
          37.539742,
          37.471102,
          37.471102,
          37.471102,
          37.471102,
          37.485646,
          37.485646,
          37.485646,
          37.542949,
          37.542949,
          37.539742,
          37.539742,
          37.539742,
          37.539742,
          37.539742,
          37.539742,
          37.539742,
          37.539742,
          37.539742,
          37.539742,
          37.539742,
          37.539742,
          37.539742,
          37.539742,
          37.539742,
          37.539742,
          37.539742,
          37.539742,
          37.539742,
          37.539742,
          37.539742,
          37.486553,
          37.486553,
          37.486553,
          37.540757,
          37.473402,
          37.465892,
          37.438233,
          37.438233,
          37.453612,
          37.451447,
          37.452309,
          37.479897,
          37.539742,
          37.541512,
          37.217247,
          37.622378,
          37.511014,
          37.486005,
          37.539742,
          37.62369,
          37.204653,
          37.515164,
          37.539742,
          37.512766,
          37.533858,
          37.539742,
          37.539742,
          37.51573,
          37.532107,
          37.539742,
          37.539742,
          37.559388,
          37.621552,
          37.521138,
          37.539742,
          37.539742,
          37.162692,
          37.539742,
          37.539742,
          37.539742,
          37.539742,
          37.618767,
          37.486733,
          37.452947,
          37.490712,
          37.539742,
          37.539742,
          37.539742,
          37.542949,
          37.637569,
          37.158722,
          37.539742,
          37.539742,
          37.539742,
          37.514563,
          37.619683,
          37.546803,
          37.516952,
          37.595097,
          37.544997,
          37.634182,
          37.639357,
          37.533966,
          37.520141,
          37.507017,
          37.572378,
          37.56989,
          37.565335,
          37.572378,
          37.642042,
          37.17667,
          37.180991,
          37.162692,
          37.523465,
          37.523465,
          37.439472,
          37.491584,
          37.469764,
          37.494952,
          37.487622,
          37.511508,
          37.560377,
          37.560377,
          37.618965,
          37.54356,
          37.249155,
          37.171119,
          37.559541,
          37.48587,
          37.526726,
          37.50946,
          37.63668,
          37.63668,
          37.63668,
          37.66265,
          37.572396,
          37.55248,
          37.55248,
          37.541512,
          37.541512,
          37.541512,
          37.541512,
          37.541512,
          37.541512,
          37.541512,
          37.541512,
          37.541512,
          37.541512,
          37.541512,
          37.541512,
          37.541512,
          37.541512,
          37.541512,
          37.55248,
          37.55248,
          37.519872,
          37.507484,
          37.507484,
          37.507484,
          37.507484,
          37.507484,
          37.511445,
          37.511445,
          37.511445,
          37.511445,
          37.537973,
          37.547414,
          37.511445,
          37.511445,
          37.521138,
          37.527965,
          37.55778,
          37.556388,
          37.556388,
          37.520842,
          37.190064,
          37.183659,
          37.168127,
          37.173697,
          37.173697,
          37.622306,
          37.620698,
          37.624256,
          37.618776,
          37.595249,
          37.595249,
          37.595339,
          37.539087,
          37.540245,
          37.535071,
          37.535071,
          37.535071,
          37.535071,
          37.535071,
          37.50522,
          37.50522,
          37.475486,
          37.493263,
          37.433642,
          37.445168,
          37.481954,
          37.486553,
          37.486553,
          37.658347,
          37.485807,
          37.474641,
          37.488943,
          37.454034,
          37.559388,
          37.559388,
          37.484577,
          37.484577,
          37.484577,
          37.609425,
          37.609425,
          37.436445,
          37.432322,
          37.482493,
          37.482493,
          37.476636,
          37.476636,
          37.452534,
          37.483319,
          37.441763,
          37.487793,
          37.45584,
          37.520348,
          37.54356,
          37.519872,
          37.487793,
          37.572378,
          37.620698,
          37.445168,
          37.513305,
          37.516952,
          37.507484,
          37.507484,
          37.559388,
          37.55248,
          37.559388,
          37.511445,
          37.595249,
          37.511445,
          37.481001,
          37.54356,
          37.526259,
          37.532107,
          37.559388,
          37.582125,
          37.582125,
          37.560781,
          37.512344,
          37.543327,
          37.543327,
          37.547405,
          37.543201,
          37.519467,
          37.608185,
          37.582826,
          37.561553,
          37.659245,
          37.572378,
          37.566467,
          37.565335,
          37.189696,
          37.517338,
          37.598348,
          37.523465,
          37.523465,
          37.488727,
          37.254824,
          37.601807,
          37.601807,
          37.602714,
          37.439472,
          37.471911,
          37.476519,
          37.484729,
          37.484729,
          37.516449,
          37.611051,
          37.146675,
          37.62051,
          37.521569,
          37.521569,
          37.617204,
          37.504564,
          37.481397,
          37.233992,
          37.559388,
          37.559388,
          37.559388,
          37.559388,
          37.67016,
          37.624085,
          37.633158,
          37.640156,
          37.619854,
          37.602579,
          37.153278,
          37.63668,
          37.636671,
          37.662093,
          37.662093,
          37.662093,
          37.662093,
          37.662093,
          37.662093,
          37.662093,
          37.662093,
          37.662093,
          37.662093,
          37.511445,
          37.481469,
          37.481469,
          37.481469,
          37.48031,
          37.48031,
          37.48031,
          37.48031,
          37.527965,
          37.527965,
          37.527965,
          37.556388,
          37.449677,
          37.56017,
          37.191079,
          37.152191,
          37.168361,
          37.199164,
          37.149712,
          37.256899,
          37.200044,
          37.591072,
          37.591072,
          37.591072,
          37.621354,
          37.620698,
          37.621947,
          37.621947,
          37.602526,
          37.599166,
          37.595249,
          37.621552,
          37.621552,
          37.621552,
          37.537434,
          37.537434,
          37.537434,
          37.537434,
          37.537434,
          37.537434,
          37.537434,
          37.537434,
          37.537434,
          37.537434,
          37.537434,
          37.537434,
          37.537434,
          37.537434,
          37.537434,
          37.537434,
          37.537434,
          37.535071,
          37.535071,
          37.535071,
          37.542949,
          37.542949,
          37.539742,
          37.539742,
          37.539742,
          37.471102,
          37.471102,
          37.471102,
          37.471102,
          37.471102,
          37.473716,
          37.485646,
          37.487532,
          37.490389,
          37.443057,
          37.492895,
          37.481001,
          37.481001,
          37.481001,
          37.481001,
          37.481001,
          37.481001,
          37.476169,
          37.476169,
          37.476169,
          37.476169,
          37.476169,
          37.476169,
          37.476169,
          37.476169,
          37.476169,
          37.476169,
          37.476169,
          37.476169,
          37.476169,
          37.476169,
          37.476169,
          37.490515,
          37.488943,
          37.454034,
          37.604448,
          37.567042,
          37.566386,
          37.608922,
          37.608922,
          37.452651,
          37.487793,
          37.454861,
          37.454861,
          37.492895,
          37.458903,
          37.527965,
          37.621552,
          37.476169,
          37.476169,
          37.476169,
          37.528855,
          37.532107,
          37.662093,
          37.471102,
          37.476169,
          37.620698,
          37.484577,
          37.186201,
          37.552741,
          37.560484,
          37.559388,
          37.662093,
          37.662093,
          37.620698,
          37.471102,
          37.200044,
          37.152191,
          37.557682,
          37.633634,
          37.559388,
          37.537434,
          37.620698,
          37.471102,
          37.662093,
          37.662093,
          37.620698,
          37.559388,
          37.662093,
          37.599166,
          37.532107,
          37.476169,
          37.532107,
          37.476169,
          37.476169,
          37.542949,
          37.56017,
          37.621552,
          37.526618,
          37.526295,
          37.537434,
          37.511508,
          37.509343,
          37.620698
         ],
         "marker": {
          "color": "#636efa"
         },
         "mode": "markers",
         "name": "",
         "showlegend": false,
         "subplot": "mapbox",
         "type": "scattermapbox"
        }
       ],
       "layout": {
        "legend": {
         "tracegroupgap": 0
        },
        "mapbox": {
         "center": {
          "lat": 55.747786900485195,
          "lon": 37.50138960740286
         },
         "domain": {
          "x": [
           0,
           1
          ],
          "y": [
           0,
           1
          ]
         },
         "style": "open-street-map",
         "zoom": 11
        },
        "margin": {
         "b": 0,
         "l": 0,
         "r": 0,
         "t": 0
        },
        "template": {
         "data": {
          "bar": [
           {
            "error_x": {
             "color": "#2a3f5f"
            },
            "error_y": {
             "color": "#2a3f5f"
            },
            "marker": {
             "line": {
              "color": "#E5ECF6",
              "width": 0.5
             },
             "pattern": {
              "fillmode": "overlay",
              "size": 10,
              "solidity": 0.2
             }
            },
            "type": "bar"
           }
          ],
          "barpolar": [
           {
            "marker": {
             "line": {
              "color": "#E5ECF6",
              "width": 0.5
             },
             "pattern": {
              "fillmode": "overlay",
              "size": 10,
              "solidity": 0.2
             }
            },
            "type": "barpolar"
           }
          ],
          "carpet": [
           {
            "aaxis": {
             "endlinecolor": "#2a3f5f",
             "gridcolor": "white",
             "linecolor": "white",
             "minorgridcolor": "white",
             "startlinecolor": "#2a3f5f"
            },
            "baxis": {
             "endlinecolor": "#2a3f5f",
             "gridcolor": "white",
             "linecolor": "white",
             "minorgridcolor": "white",
             "startlinecolor": "#2a3f5f"
            },
            "type": "carpet"
           }
          ],
          "choropleth": [
           {
            "colorbar": {
             "outlinewidth": 0,
             "ticks": ""
            },
            "type": "choropleth"
           }
          ],
          "contour": [
           {
            "colorbar": {
             "outlinewidth": 0,
             "ticks": ""
            },
            "colorscale": [
             [
              0,
              "#0d0887"
             ],
             [
              0.1111111111111111,
              "#46039f"
             ],
             [
              0.2222222222222222,
              "#7201a8"
             ],
             [
              0.3333333333333333,
              "#9c179e"
             ],
             [
              0.4444444444444444,
              "#bd3786"
             ],
             [
              0.5555555555555556,
              "#d8576b"
             ],
             [
              0.6666666666666666,
              "#ed7953"
             ],
             [
              0.7777777777777778,
              "#fb9f3a"
             ],
             [
              0.8888888888888888,
              "#fdca26"
             ],
             [
              1,
              "#f0f921"
             ]
            ],
            "type": "contour"
           }
          ],
          "contourcarpet": [
           {
            "colorbar": {
             "outlinewidth": 0,
             "ticks": ""
            },
            "type": "contourcarpet"
           }
          ],
          "heatmap": [
           {
            "colorbar": {
             "outlinewidth": 0,
             "ticks": ""
            },
            "colorscale": [
             [
              0,
              "#0d0887"
             ],
             [
              0.1111111111111111,
              "#46039f"
             ],
             [
              0.2222222222222222,
              "#7201a8"
             ],
             [
              0.3333333333333333,
              "#9c179e"
             ],
             [
              0.4444444444444444,
              "#bd3786"
             ],
             [
              0.5555555555555556,
              "#d8576b"
             ],
             [
              0.6666666666666666,
              "#ed7953"
             ],
             [
              0.7777777777777778,
              "#fb9f3a"
             ],
             [
              0.8888888888888888,
              "#fdca26"
             ],
             [
              1,
              "#f0f921"
             ]
            ],
            "type": "heatmap"
           }
          ],
          "heatmapgl": [
           {
            "colorbar": {
             "outlinewidth": 0,
             "ticks": ""
            },
            "colorscale": [
             [
              0,
              "#0d0887"
             ],
             [
              0.1111111111111111,
              "#46039f"
             ],
             [
              0.2222222222222222,
              "#7201a8"
             ],
             [
              0.3333333333333333,
              "#9c179e"
             ],
             [
              0.4444444444444444,
              "#bd3786"
             ],
             [
              0.5555555555555556,
              "#d8576b"
             ],
             [
              0.6666666666666666,
              "#ed7953"
             ],
             [
              0.7777777777777778,
              "#fb9f3a"
             ],
             [
              0.8888888888888888,
              "#fdca26"
             ],
             [
              1,
              "#f0f921"
             ]
            ],
            "type": "heatmapgl"
           }
          ],
          "histogram": [
           {
            "marker": {
             "pattern": {
              "fillmode": "overlay",
              "size": 10,
              "solidity": 0.2
             }
            },
            "type": "histogram"
           }
          ],
          "histogram2d": [
           {
            "colorbar": {
             "outlinewidth": 0,
             "ticks": ""
            },
            "colorscale": [
             [
              0,
              "#0d0887"
             ],
             [
              0.1111111111111111,
              "#46039f"
             ],
             [
              0.2222222222222222,
              "#7201a8"
             ],
             [
              0.3333333333333333,
              "#9c179e"
             ],
             [
              0.4444444444444444,
              "#bd3786"
             ],
             [
              0.5555555555555556,
              "#d8576b"
             ],
             [
              0.6666666666666666,
              "#ed7953"
             ],
             [
              0.7777777777777778,
              "#fb9f3a"
             ],
             [
              0.8888888888888888,
              "#fdca26"
             ],
             [
              1,
              "#f0f921"
             ]
            ],
            "type": "histogram2d"
           }
          ],
          "histogram2dcontour": [
           {
            "colorbar": {
             "outlinewidth": 0,
             "ticks": ""
            },
            "colorscale": [
             [
              0,
              "#0d0887"
             ],
             [
              0.1111111111111111,
              "#46039f"
             ],
             [
              0.2222222222222222,
              "#7201a8"
             ],
             [
              0.3333333333333333,
              "#9c179e"
             ],
             [
              0.4444444444444444,
              "#bd3786"
             ],
             [
              0.5555555555555556,
              "#d8576b"
             ],
             [
              0.6666666666666666,
              "#ed7953"
             ],
             [
              0.7777777777777778,
              "#fb9f3a"
             ],
             [
              0.8888888888888888,
              "#fdca26"
             ],
             [
              1,
              "#f0f921"
             ]
            ],
            "type": "histogram2dcontour"
           }
          ],
          "mesh3d": [
           {
            "colorbar": {
             "outlinewidth": 0,
             "ticks": ""
            },
            "type": "mesh3d"
           }
          ],
          "parcoords": [
           {
            "line": {
             "colorbar": {
              "outlinewidth": 0,
              "ticks": ""
             }
            },
            "type": "parcoords"
           }
          ],
          "pie": [
           {
            "automargin": true,
            "type": "pie"
           }
          ],
          "scatter": [
           {
            "marker": {
             "colorbar": {
              "outlinewidth": 0,
              "ticks": ""
             }
            },
            "type": "scatter"
           }
          ],
          "scatter3d": [
           {
            "line": {
             "colorbar": {
              "outlinewidth": 0,
              "ticks": ""
             }
            },
            "marker": {
             "colorbar": {
              "outlinewidth": 0,
              "ticks": ""
             }
            },
            "type": "scatter3d"
           }
          ],
          "scattercarpet": [
           {
            "marker": {
             "colorbar": {
              "outlinewidth": 0,
              "ticks": ""
             }
            },
            "type": "scattercarpet"
           }
          ],
          "scattergeo": [
           {
            "marker": {
             "colorbar": {
              "outlinewidth": 0,
              "ticks": ""
             }
            },
            "type": "scattergeo"
           }
          ],
          "scattergl": [
           {
            "marker": {
             "colorbar": {
              "outlinewidth": 0,
              "ticks": ""
             }
            },
            "type": "scattergl"
           }
          ],
          "scattermapbox": [
           {
            "marker": {
             "colorbar": {
              "outlinewidth": 0,
              "ticks": ""
             }
            },
            "type": "scattermapbox"
           }
          ],
          "scatterpolar": [
           {
            "marker": {
             "colorbar": {
              "outlinewidth": 0,
              "ticks": ""
             }
            },
            "type": "scatterpolar"
           }
          ],
          "scatterpolargl": [
           {
            "marker": {
             "colorbar": {
              "outlinewidth": 0,
              "ticks": ""
             }
            },
            "type": "scatterpolargl"
           }
          ],
          "scatterternary": [
           {
            "marker": {
             "colorbar": {
              "outlinewidth": 0,
              "ticks": ""
             }
            },
            "type": "scatterternary"
           }
          ],
          "surface": [
           {
            "colorbar": {
             "outlinewidth": 0,
             "ticks": ""
            },
            "colorscale": [
             [
              0,
              "#0d0887"
             ],
             [
              0.1111111111111111,
              "#46039f"
             ],
             [
              0.2222222222222222,
              "#7201a8"
             ],
             [
              0.3333333333333333,
              "#9c179e"
             ],
             [
              0.4444444444444444,
              "#bd3786"
             ],
             [
              0.5555555555555556,
              "#d8576b"
             ],
             [
              0.6666666666666666,
              "#ed7953"
             ],
             [
              0.7777777777777778,
              "#fb9f3a"
             ],
             [
              0.8888888888888888,
              "#fdca26"
             ],
             [
              1,
              "#f0f921"
             ]
            ],
            "type": "surface"
           }
          ],
          "table": [
           {
            "cells": {
             "fill": {
              "color": "#EBF0F8"
             },
             "line": {
              "color": "white"
             }
            },
            "header": {
             "fill": {
              "color": "#C8D4E3"
             },
             "line": {
              "color": "white"
             }
            },
            "type": "table"
           }
          ]
         },
         "layout": {
          "annotationdefaults": {
           "arrowcolor": "#2a3f5f",
           "arrowhead": 0,
           "arrowwidth": 1
          },
          "autotypenumbers": "strict",
          "coloraxis": {
           "colorbar": {
            "outlinewidth": 0,
            "ticks": ""
           }
          },
          "colorscale": {
           "diverging": [
            [
             0,
             "#8e0152"
            ],
            [
             0.1,
             "#c51b7d"
            ],
            [
             0.2,
             "#de77ae"
            ],
            [
             0.3,
             "#f1b6da"
            ],
            [
             0.4,
             "#fde0ef"
            ],
            [
             0.5,
             "#f7f7f7"
            ],
            [
             0.6,
             "#e6f5d0"
            ],
            [
             0.7,
             "#b8e186"
            ],
            [
             0.8,
             "#7fbc41"
            ],
            [
             0.9,
             "#4d9221"
            ],
            [
             1,
             "#276419"
            ]
           ],
           "sequential": [
            [
             0,
             "#0d0887"
            ],
            [
             0.1111111111111111,
             "#46039f"
            ],
            [
             0.2222222222222222,
             "#7201a8"
            ],
            [
             0.3333333333333333,
             "#9c179e"
            ],
            [
             0.4444444444444444,
             "#bd3786"
            ],
            [
             0.5555555555555556,
             "#d8576b"
            ],
            [
             0.6666666666666666,
             "#ed7953"
            ],
            [
             0.7777777777777778,
             "#fb9f3a"
            ],
            [
             0.8888888888888888,
             "#fdca26"
            ],
            [
             1,
             "#f0f921"
            ]
           ],
           "sequentialminus": [
            [
             0,
             "#0d0887"
            ],
            [
             0.1111111111111111,
             "#46039f"
            ],
            [
             0.2222222222222222,
             "#7201a8"
            ],
            [
             0.3333333333333333,
             "#9c179e"
            ],
            [
             0.4444444444444444,
             "#bd3786"
            ],
            [
             0.5555555555555556,
             "#d8576b"
            ],
            [
             0.6666666666666666,
             "#ed7953"
            ],
            [
             0.7777777777777778,
             "#fb9f3a"
            ],
            [
             0.8888888888888888,
             "#fdca26"
            ],
            [
             1,
             "#f0f921"
            ]
           ]
          },
          "colorway": [
           "#636efa",
           "#EF553B",
           "#00cc96",
           "#ab63fa",
           "#FFA15A",
           "#19d3f3",
           "#FF6692",
           "#B6E880",
           "#FF97FF",
           "#FECB52"
          ],
          "font": {
           "color": "#2a3f5f"
          },
          "geo": {
           "bgcolor": "white",
           "lakecolor": "white",
           "landcolor": "#E5ECF6",
           "showlakes": true,
           "showland": true,
           "subunitcolor": "white"
          },
          "hoverlabel": {
           "align": "left"
          },
          "hovermode": "closest",
          "mapbox": {
           "style": "light"
          },
          "paper_bgcolor": "white",
          "plot_bgcolor": "#E5ECF6",
          "polar": {
           "angularaxis": {
            "gridcolor": "white",
            "linecolor": "white",
            "ticks": ""
           },
           "bgcolor": "#E5ECF6",
           "radialaxis": {
            "gridcolor": "white",
            "linecolor": "white",
            "ticks": ""
           }
          },
          "scene": {
           "xaxis": {
            "backgroundcolor": "#E5ECF6",
            "gridcolor": "white",
            "gridwidth": 2,
            "linecolor": "white",
            "showbackground": true,
            "ticks": "",
            "zerolinecolor": "white"
           },
           "yaxis": {
            "backgroundcolor": "#E5ECF6",
            "gridcolor": "white",
            "gridwidth": 2,
            "linecolor": "white",
            "showbackground": true,
            "ticks": "",
            "zerolinecolor": "white"
           },
           "zaxis": {
            "backgroundcolor": "#E5ECF6",
            "gridcolor": "white",
            "gridwidth": 2,
            "linecolor": "white",
            "showbackground": true,
            "ticks": "",
            "zerolinecolor": "white"
           }
          },
          "shapedefaults": {
           "line": {
            "color": "#2a3f5f"
           }
          },
          "ternary": {
           "aaxis": {
            "gridcolor": "white",
            "linecolor": "white",
            "ticks": ""
           },
           "baxis": {
            "gridcolor": "white",
            "linecolor": "white",
            "ticks": ""
           },
           "bgcolor": "#E5ECF6",
           "caxis": {
            "gridcolor": "white",
            "linecolor": "white",
            "ticks": ""
           }
          },
          "title": {
           "x": 0.05
          },
          "xaxis": {
           "automargin": true,
           "gridcolor": "white",
           "linecolor": "white",
           "ticks": "",
           "title": {
            "standoff": 15
           },
           "zerolinecolor": "white",
           "zerolinewidth": 2
          },
          "yaxis": {
           "automargin": true,
           "gridcolor": "white",
           "linecolor": "white",
           "ticks": "",
           "title": {
            "standoff": 15
           },
           "zerolinecolor": "white",
           "zerolinewidth": 2
          }
         }
        }
       }
      },
      "text/html": [
       "<div>                            <div id=\"70283e9d-bce6-4b2f-bae9-60ce791e4594\" class=\"plotly-graph-div\" style=\"height:525px; width:100%;\"></div>            <script type=\"text/javascript\">                require([\"plotly\"], function(Plotly) {                    window.PLOTLYENV=window.PLOTLYENV || {};                                    if (document.getElementById(\"70283e9d-bce6-4b2f-bae9-60ce791e4594\")) {                    Plotly.newPlot(                        \"70283e9d-bce6-4b2f-bae9-60ce791e4594\",                        [{\"hovertemplate\":\"latitude=%{lat}<br>longitude=%{lon}<extra></extra>\",\"lat\":[55.699949,55.700877,55.693079,55.656839,55.646233,55.583953,55.69076,55.688989,55.688989,55.688989,55.688989,55.687655,55.678402,55.660496,55.667132,55.667158,55.667158,55.663365,55.655478,55.723719,55.750717,55.750717,55.750717,55.750732,55.749177,55.746922,55.744977,55.74148,55.74148,55.738688,55.778644,55.779712,55.780416,55.780162,55.780162,55.782552,55.782552,55.787001,55.78732,55.790357,55.796157,55.796157,55.796157,55.798515,55.799689,55.80104,55.80104,55.80104,55.802761,55.802761,55.805133,55.805133,55.805133,55.806413,55.805214,55.806059,55.806059,55.728783,55.723207,55.722036,55.713451,55.707365,55.709956,55.709956,55.709956,55.709956,55.708628,55.704793,55.704793,55.69658,55.69658,55.69486,55.689141,55.689141,55.689141,55.689141,55.689141,55.680763,55.679351,55.676651,55.673976,55.668346,55.668346,55.655524,55.774224,55.779808,55.779808,55.780127,55.780122,55.782982,55.781909,55.783494,55.783494,55.783387,55.784045,55.785361,55.78813,55.789942,55.789952,55.805361,55.806894,55.809105,55.809105,55.809105,55.806762,55.808164,55.808973,55.810668,55.810668,55.810668,55.811771,55.815858,55.824405,55.829062,55.687477,55.682422,55.680554,55.679514,55.684275,55.684275,55.678458,55.679818,55.67194,55.675306,55.669412,55.649886,55.63131,55.631757,55.631285,55.998509,56.000401,55.995992,55.995589,55.993661,55.993661,55.979944,55.996993,55.984567,55.803995,55.805776,55.984612,55.984612,55.630116,55.655783,55.649251,55.780319,55.780319,55.820642,55.820642,55.667345,55.655254,55.745954,55.74147,55.744531,55.803681,55.803681,55.803681,55.979717,55.992936,55.700486,55.700486,55.591259,55.66932,55.647468,55.64192,55.64192,55.64192,55.64192,55.64192,55.64192,55.661333,55.674006,55.652659,55.992362,55.98008,56.004776,55.996596,55.569576,55.569576,55.569576,55.569499,55.54048,55.54048,55.983756,55.98364,55.807375,55.807956,55.807956,55.976398,55.727491,55.808235,55.774644,55.633709,55.724434,55.677935,55.674184,55.665309,55.706741,55.706533,55.680087,55.692064,55.692232,55.692232,55.728292,55.727136,55.727136,55.72416,55.681712,55.681712,55.681712,55.681712,55.681712,55.681712,55.724677,55.72961,55.72961,55.72961,55.718035,55.996983,55.996983,55.984909,55.974186,55.986526,55.976307,55.995594,55.984562,55.987357,55.985106,55.993253,55.987442,55.998619,55.995478,55.982638,56.000457,56.002279,56.002279,56.002279,56.002279,56.002279,55.983484,55.802659,55.678052,55.633922,55.661816,55.680311,55.587687,55.663918,55.697199,55.614378,55.655823,55.622416,55.624896,55.975461,55.630441,55.630614,55.622832,55.645258,55.687046,55.685437,55.635533,55.644094,55.624012,55.678148,55.666909,55.653705,55.667264,55.665705,55.67325,55.672082,55.67559,55.727136,55.727136,55.727136,55.727136,55.727465,55.704286,55.72888,55.681057,55.686203,55.671366,55.67127,55.673905,55.673905,55.67194,55.651186,55.651186,55.651186,55.651186,55.651186,55.651186,55.660968,55.660968,55.672372,55.653101,55.664299,55.663202,55.672808,55.675758,55.662882,56.00623,55.998876,55.982573,55.990695,56.005717,56.005717,56.005717,55.976997,55.999118,56.009914,55.981052,56.007765,56.007765,55.79512,55.794629,55.801369,55.798935,55.783463,55.783463,55.784111,55.799806,55.792736,55.799036,55.799036,55.799036,55.799036,55.799036,55.792007,55.790529,55.802315,55.802315,55.802315,55.782005,55.654035,55.785392,55.784622,55.784622,55.795909,55.784207,55.783165,55.783165,55.78198,55.780507,55.989688,55.989688,55.993656,55.984955,55.981263,56.009436,55.67995,55.684498,55.686284,55.837308,55.775069,55.780664,55.778527,55.77798,55.77798,55.77798,55.77798,55.77798,55.77798,55.822276,55.822276,55.822276,55.822276,55.822276,55.822276,55.822276,55.822276,55.822276,55.822276,55.822276,55.822276,55.822276,55.812044,55.802791,55.779246,55.777975,55.81871,55.782248,55.803646,55.787518,55.725737,55.751457,55.751457,55.751457,55.751457,55.751457,55.750038,55.743056,55.738743,55.738743,55.688649,55.666167,55.663994,55.662359,55.702399,55.985972,55.803621,55.997155,56.016245,55.79055,55.79055,55.79055,55.79055,55.785959,55.975456,55.781038,55.808548,55.808548,55.808548,55.808022,55.808022,55.781615,55.814148,55.814148,55.81514,55.800595,55.808174,55.822751,55.844041,55.82755,55.82755,55.82755,55.80102,55.812175,55.830392,55.845855,55.845855,55.845855,55.845855,55.845855,55.845855,55.845855,55.845855,55.845855,55.845855,55.845855,55.845855,55.845855,55.845855,55.845855,55.845855,55.845855,55.845855,55.845855,55.845855,55.845855,55.845855,55.845855,55.845855,55.845855,55.845855,55.845855,55.845855,55.845855,55.845855,55.845855,55.845855,55.845855,55.845855,55.845855,55.845855,55.845855,55.845855,55.845855,55.845855,55.845855,55.845855,55.845855,55.817861,55.692064,55.617729,55.642332,55.637642,55.662227,55.662557,55.632672,55.632672,55.63037,55.63037,55.63037,55.63037,55.63037,55.710575,55.668615,55.670021,55.670021,55.670021,55.670021,55.670021,55.670021,55.670021,55.670021,55.670021,55.670021,55.670021,55.670021,55.670021,55.656037,55.656037,55.656037,55.656037,55.656037,55.656037,55.656037,55.656037,55.656037,55.633597,55.643632,55.666883,55.61813,55.61813,55.61813,55.61813,55.61813,55.61813,55.61813,55.675514,55.663842,55.663842,55.663842,55.663842,55.663842,55.663842,55.663842,55.663842,55.663842,55.663842,55.663842,55.674331,55.636311,55.636311,55.529201,55.537088,55.659124,55.666487,55.666487,55.64985,55.647244,55.626721,55.657189,55.657189,55.657931,55.657931,55.657931,55.677737,55.677737,55.677737,55.677737,55.677737,55.66076,55.670138,55.663811,55.663811,55.657408,55.657408,55.657408,55.657408,55.657408,55.692714,55.661689,55.691963,55.691963,55.691963,55.691963,55.691963,55.691963,55.691963,55.691963,55.691963,55.691963,55.691963,55.691963,55.691963,55.691963,55.691963,55.691963,55.691963,55.691963,55.691963,55.691963,55.691963,55.691963,55.691963,55.691963,55.691963,55.741855,55.750352,55.750352,55.750352,55.750352,55.750352,55.740522,55.731718,55.731718,55.731718,55.731718,55.731718,55.731718,55.731718,55.731718,55.731718,55.731718,55.744531,55.752328,55.752328,55.752328,55.752328,55.752328,55.752328,55.752328,55.752328,55.752328,55.752328,55.752328,55.781545,55.781858,55.807956,55.777565,55.806793,55.808786,55.805837,55.801835,55.801835,55.791597,55.790221,55.78322,55.806945,55.806945,55.78359,55.78359,55.78359,55.78359,55.78359,55.78359,55.78359,55.78359,55.78359,55.78359,55.78359,55.79303,55.79303,55.80525,55.80525,55.805533,55.805791,55.805791,55.793186,55.978543,55.99801,55.979551,55.995282,55.993006,55.98008,55.997895,55.998066,56.014313,55.977843,55.973496,55.983383,55.981711,55.982346,55.982034,55.982034,56.014494,56.015681,56.015681,56.013231,55.984033,55.99076,55.99076,56.011892,56.01317,56.01317,55.98016,55.98496,55.971884,55.976005,55.98224,55.983469,55.996213,55.996213,55.996213,55.976554,56.009844,55.991037,55.991254,55.977949,56.009119,56.009119,55.977894,55.999017,55.999017,55.973113,55.973129,55.982668,55.982668,55.982668,55.982668,55.982668,55.982668,55.982668,55.982668,55.982668,55.982668,55.986621,55.981616,55.973547,55.998604,55.998846,55.998846,55.983675,56.008953,56.008797,56.008797,56.008797,56.008797,55.713212,55.692389,55.646894,55.622497,55.616747,55.591671,55.684503,55.684503,55.62945,55.656539,55.682783,55.611806,55.653644,55.653644,55.577551,55.596335,55.633226,55.633226,55.633226,55.629567,55.679138,55.618872,55.640274,55.640274,55.640274,55.640274,55.720905,55.720905,55.621211,55.661034,55.631773,55.594514,55.699467,55.699467,55.699467,55.699467,55.650246,55.650246,55.582991,55.582991,55.582991,55.696022,55.696022,55.700035,55.700035,55.700035,55.703129,55.703129,55.703129,55.703129,55.703129,55.703129,55.703129,55.703129,55.793186,55.777272,55.777267,55.777307,55.727592,55.791223,55.728935,55.72961,55.72961,55.749633,55.773429,55.78978,55.746593,55.746593,55.746593,55.746593,55.747115,55.747115,55.747115,55.747115,55.747115,55.791263,55.774968,55.748179,55.749162,55.749162,55.749162,55.749162,55.749162,55.749162,55.749162,55.749162,55.749162,55.749162,55.749162,55.749162,55.749162,55.749162,55.749162,55.749162,55.749162,55.749162,55.60101,55.60101,55.60101,55.60101,55.60101,55.60101,55.60101,55.60101,55.60101,55.60101,55.60101,55.60101,55.60101,55.60101,55.60101,55.60101,55.60101,55.60101,55.60101,55.60101,55.60101,55.60101,55.60101,55.60101,55.60101,55.60101,55.55086,55.585204,55.567214,55.567647,55.569713,55.571805,55.571805,55.557724,55.590556,55.560856,55.663024,55.663024,55.663024,55.663024,55.663024,55.663024,55.663024,55.663024,55.663024,55.663024,55.727932,55.727932,55.727932,55.727932,55.727932,55.727932,55.727932,55.727932,55.727932,55.727932,55.727932,55.727932,55.727932,55.727932,55.727932,55.727932,55.727932,55.967809,55.970766,55.980709,55.964524,55.964524,55.964524,55.673976,55.740026,55.983383,55.980301,55.583953,55.670021,55.808174,55.727932,55.661689,55.845855,55.793232,55.552042,55.746922,55.802761,56.008797,55.995538,55.682803,55.820642,55.806762,55.660272,55.691521,55.782562,56.002279,55.665142,55.660968,55.672372,55.77798,55.78727,55.649992,55.99646,55.657931,55.790757,55.803282,55.994376,55.970882,55.631773,55.748179,55.571805,55.835008,55.980709,55.980709,55.779246,55.78116,55.80483,55.700877,55.66076,55.746593,55.750352,55.748924,55.748924,55.748924,55.748924,55.748924,55.748924,55.749162,55.749162,55.748179,55.774644,55.747115,55.747115,55.747115,55.747115,55.747115,55.747115,55.747115,55.747115,55.747115,55.747115,55.652679,55.79098,55.789547,55.746593,55.746593,55.746593,55.746593,55.746593,55.746593,55.746593,55.746593,55.746593,55.746593,55.748179,55.748179,55.748179,55.748179,55.701318,55.994013,55.790221,55.666883,55.688553,55.581444,55.580136,55.800595,55.657408,55.676301,55.651186,55.651186,55.651186,55.569128,55.625532,55.643713,55.806762,55.836544,55.790838,55.780162,55.636311,55.707451,55.687497,55.571805,55.789942,55.633226,55.78732,55.78732,55.737076,55.994552,55.680834,55.739625,55.67655,55.748924,55.778036,55.750352,55.750352,55.603791,55.983675,55.581139,55.622832,55.77917,55.806059,55.687477,55.837197,55.676149,55.750352,55.569942,55.750352,55.79098,55.589203,55.785959,55.785579,55.662882,55.686269,55.620901,55.801566,55.799163,55.996983,55.680554,55.630441,55.632672,55.787189,55.679514,55.808973,55.77798,55.790221,55.691521,55.632672,55.700877,55.700877,55.700877,55.661471,55.746791,55.781038,55.790357,55.80399,55.680834,55.654802,55.690374,55.773322,55.810693,55.810693,55.687477,55.624352,55.679514,55.996787,55.994496,55.988731,55.989124,55.995538,55.983454,55.666675,55.744531,55.663674,55.970751,55.567423,55.570843,55.588415,55.999833,55.568685,55.570339,55.571261,55.575414,55.574925,55.569942,55.982089,55.714171,56.002279,55.998564,55.994743,55.994602,55.99799,55.69351,55.65178,55.583566,55.680311,55.630985,55.630985,55.630441,55.656702,55.720154,55.720154,55.651186,56.006265,56.011026,55.993489,55.991108,55.994245,56.005848,55.986279,55.99718,55.994104,56.004947,55.794629,55.790529,55.979364,55.978433,55.978433,55.67995,55.675641,55.981011,55.975536,55.988434,55.972448,55.987442,55.975189,55.800595,55.800595,55.802169,55.632672,55.632672,55.632672,55.632672,55.631168,55.63037,55.63037,55.63037,55.63037,55.63037,55.626904,55.670021,55.651674,55.643632,55.643632,55.678895,55.750352,55.781545,55.79428,55.790717,55.791602,55.803282,55.796567,55.987759,55.979903,55.975184,55.990061,55.981958,55.984033,55.981968,55.978886,55.978886,55.996983,55.977949,56.002853,55.991037,55.977894,55.982668,55.61327,55.625532,55.651288,55.651039,55.720905,55.61934,55.604102,55.604102,55.581139,55.581139,55.580757,55.700035,55.749633,55.749633,55.749633,55.749633,55.749633,55.747115,55.746593,55.746593,55.748179,55.748179,55.748179,55.748179,55.748179,55.748179,55.748179,55.748179,55.786045,55.747622,55.747622,55.747622,55.747622,55.747622,55.749162,55.749162,55.749162,55.60101,55.60101,55.60101,55.60101,55.566573,55.566573,55.566573,55.748924,55.748924,55.749162,55.749162,55.749162,55.749162,55.749162,55.749162,55.749162,55.749162,55.749162,55.749162,55.749162,55.749162,55.749162,55.749162,55.749162,55.749162,55.749162,55.749162,55.749162,55.749162,55.749162,55.540954,55.540954,55.540954,55.792108,55.569164,55.57833,55.558931,55.558931,55.591264,55.590836,55.590618,55.541244,55.749162,55.656037,55.991037,55.691755,55.626904,55.651978,55.749162,55.700035,56.006422,55.805837,55.749162,55.803282,55.79889,55.749162,55.749162,55.666624,55.801835,55.749162,55.749162,55.791248,55.683909,55.636311,55.749162,55.749162,55.979717,55.749162,55.749162,55.749162,55.749162,55.65178,55.663674,55.590918,55.571261,55.749162,55.749162,55.749162,55.748924,55.806762,55.986047,55.749162,55.749162,55.749162,55.680747,55.699949,55.79473,55.805133,55.717295,55.68698,55.79098,55.814345,55.649063,55.649886,55.623631,55.687477,55.683696,55.679514,55.687477,55.820642,55.980467,55.996611,55.979717,55.64192,55.64192,55.560408,55.569576,55.569499,55.54672,55.569942,55.807956,55.697914,55.697914,55.644623,55.66076,55.980805,55.983479,55.673905,55.662359,55.741987,55.677433,55.800595,55.800595,55.800595,55.844041,55.685731,55.670021,55.670021,55.656037,55.656037,55.656037,55.656037,55.656037,55.656037,55.656037,55.656037,55.656037,55.656037,55.656037,55.656037,55.656037,55.656037,55.656037,55.670021,55.670021,55.632901,55.61813,55.61813,55.61813,55.61813,55.61813,55.663842,55.663842,55.663842,55.663842,55.653136,55.666487,55.663842,55.663842,55.636311,55.691963,55.749836,55.750352,55.750352,55.804951,55.994376,55.972872,55.971144,55.983675,55.983675,55.69488,55.653644,55.633226,55.650002,55.582991,55.582991,55.580757,55.747115,55.748179,55.747622,55.747622,55.747622,55.747622,55.747622,55.548558,55.548558,55.569652,55.54102,55.557724,55.571805,55.566654,55.540954,55.540954,55.835008,55.57264,55.568156,55.573973,55.58931,55.791248,55.791248,55.540541,55.540541,55.540541,55.620926,55.620926,55.557689,55.553106,55.540231,55.540231,55.570548,55.570548,55.58991,55.540424,55.56109,55.543104,55.591996,55.805791,55.66076,55.632901,55.543104,55.687477,55.653644,55.571805,55.806059,55.805133,55.61813,55.61813,55.791248,55.670021,55.791248,55.663842,55.582991,55.663842,55.663024,55.66076,55.643632,55.801835,55.791248,55.77874,55.77874,55.787001,55.804956,55.687497,55.687497,55.688553,55.685782,55.802998,55.726142,55.707451,55.69658,55.838369,55.687477,55.680554,55.679514,55.996993,55.803681,55.591259,55.64192,55.64192,55.651516,55.992362,55.588415,55.588415,55.589203,55.560408,55.569214,55.572253,55.569871,55.569871,55.681712,55.72961,55.986485,55.655823,55.633013,55.633013,55.633922,55.674504,55.655772,55.987865,55.791248,55.791248,55.791248,55.791248,55.844576,55.684498,55.77798,55.812388,55.666167,55.578574,55.971572,55.800595,55.801566,55.845855,55.845855,55.845855,55.845855,55.845855,55.845855,55.845855,55.845855,55.845855,55.845855,55.663842,55.661689,55.661689,55.661689,55.662242,55.662242,55.662242,55.662242,55.691963,55.691963,55.691963,55.750352,55.725595,55.78359,55.997895,55.970816,56.0085,56.009914,55.974368,55.992749,56.008797,55.579653,55.579653,55.579653,55.622085,55.653644,55.640274,55.640274,55.60102,55.594514,55.582991,55.683909,55.683909,55.683909,55.749633,55.749633,55.749633,55.749633,55.749633,55.749633,55.749633,55.749633,55.749633,55.749633,55.749633,55.749633,55.749633,55.749633,55.749633,55.749633,55.749633,55.747622,55.747622,55.747622,55.748924,55.748924,55.749162,55.749162,55.749162,55.60101,55.60101,55.60101,55.60101,55.60101,55.582345,55.566573,55.567647,55.569713,55.568319,55.571805,55.663024,55.663024,55.663024,55.663024,55.663024,55.663024,55.727932,55.727932,55.727932,55.727932,55.727932,55.727932,55.727932,55.727932,55.727932,55.727932,55.727932,55.727932,55.727932,55.727932,55.727932,55.573332,55.573973,55.58931,55.588649,55.787958,55.787189,55.620316,55.620316,55.591472,55.543104,55.591793,55.591793,55.569952,55.593787,55.691963,55.683909,55.727932,55.727932,55.727932,55.73811,55.801835,55.845855,55.60101,55.727932,55.653644,55.540541,55.971904,55.691521,55.78646,55.791248,55.845855,55.845855,55.653644,55.60101,56.008797,55.970816,55.695829,55.780122,55.791248,55.749633,55.653644,55.60101,55.845855,55.845855,55.653644,55.791248,55.845855,55.594514,55.801835,55.727932,55.801835,55.727932,55.727932,55.748924,55.78359,55.683909,55.742889,55.740026,55.749633,55.807956,55.625486,55.653644],\"legendgroup\":\"\",\"lon\":[37.619683,37.622405,37.622801,37.618767,37.618821,37.599157,37.53252,37.529358,37.529358,37.529358,37.529358,37.527678,37.511751,37.474543,37.495141,37.491386,37.491386,37.492671,37.482035,37.452103,37.564913,37.564913,37.564913,37.562272,37.560547,37.556864,37.549866,37.535835,37.535835,37.531038,37.582709,37.579933,37.573932,37.578855,37.578855,37.573708,37.573708,37.560781,37.559829,37.55328,37.543488,37.543488,37.543488,37.537955,37.535359,37.533391,37.533391,37.533391,37.526007,37.526007,37.516952,37.516952,37.516952,37.51688,37.508185,37.513305,37.513305,37.610988,37.603945,37.602085,37.588575,37.57775,37.585691,37.585691,37.585691,37.585691,37.586634,37.576286,37.576286,37.561553,37.561553,37.558517,37.545833,37.545833,37.545833,37.545833,37.545833,37.533499,37.533751,37.529789,37.525872,37.518353,37.518353,37.493039,37.631927,37.63252,37.63252,37.632601,37.633634,37.63385,37.634362,37.633859,37.633859,37.635045,37.635341,37.63606,37.635269,37.634299,37.633733,37.635287,37.635593,37.636338,37.636338,37.636338,37.637569,37.638377,37.637982,37.638305,37.638305,37.638305,37.639303,37.639572,37.64604,37.650909,37.572378,37.568875,37.566467,37.565335,37.568938,37.568938,37.564257,37.564141,37.557233,37.558032,37.552355,37.520141,37.520294,37.507789,37.505319,37.225098,37.208776,37.211471,37.211318,37.21298,37.21298,37.176284,37.189696,37.156413,37.637048,37.506091,37.159818,37.159818,37.504025,37.498222,37.484406,37.632098,37.632098,37.642042,37.642042,37.475603,37.473123,37.549273,37.540784,37.545267,37.517338,37.517338,37.517338,37.162692,37.24726,37.621678,37.621678,37.598348,37.550423,37.527831,37.523465,37.523465,37.523465,37.523465,37.523465,37.523465,37.509352,37.562667,37.475513,37.254824,37.184027,37.206476,37.220086,37.491584,37.491584,37.491584,37.469764,37.492644,37.492644,37.219897,37.22084,37.511409,37.511508,37.511508,37.1787,37.608886,37.634964,37.632646,37.518111,37.603451,37.531631,37.528163,37.513395,37.57484,37.583697,37.539329,37.557197,37.55487,37.55487,37.609461,37.609901,37.609901,37.605508,37.516449,37.516449,37.516449,37.516449,37.516449,37.516449,37.601304,37.611051,37.611051,37.611051,37.593102,37.215891,37.215891,37.177649,37.196748,37.155066,37.190765,37.202272,37.186138,37.176518,37.189938,37.192696,37.175341,37.177811,37.178934,37.232168,37.205749,37.211004,37.211004,37.211004,37.211004,37.211004,37.233965,37.519764,37.623995,37.617204,37.617572,37.623492,37.595168,37.621579,37.619665,37.614096,37.62051,37.619513,37.614428,37.151365,37.51529,37.514715,37.506262,37.529699,37.571857,37.570123,37.52616,37.482223,37.498995,37.568426,37.5092,37.485619,37.477049,37.488556,37.502292,37.48817,37.506038,37.606909,37.606909,37.606909,37.606909,37.608086,37.568614,37.609946,37.517455,37.54427,37.525163,37.523249,37.559541,37.559541,37.557233,37.483104,37.483104,37.483104,37.483104,37.483104,37.483104,37.476088,37.476088,37.479097,37.483616,37.49162,37.490371,37.504483,37.495455,37.48561,37.206512,37.222996,37.182384,37.214768,37.205874,37.205874,37.205874,37.19081,37.222053,37.199164,37.250898,37.194529,37.194529,37.535924,37.542842,37.525612,37.531199,37.574588,37.574588,37.560727,37.530822,37.538422,37.532601,37.532601,37.532601,37.532601,37.532601,37.546605,37.539949,37.529259,37.529259,37.529259,37.570779,37.482304,37.562146,37.56945,37.56945,37.545159,37.570231,37.569225,37.569225,37.574983,37.574624,37.219906,37.219906,37.245544,37.192328,37.248266,37.198239,37.625289,37.624085,37.624022,37.660314,37.631272,37.633769,37.631577,37.633158,37.633158,37.633158,37.633158,37.633158,37.633158,37.647037,37.647037,37.647037,37.647037,37.647037,37.647037,37.647037,37.647037,37.647037,37.647037,37.647037,37.647037,37.647037,37.635287,37.636823,37.633347,37.633499,37.636841,37.634497,37.635107,37.635826,37.455408,37.565461,37.565461,37.565461,37.565461,37.565461,37.561257,37.538952,37.526187,37.526187,37.62342,37.619854,37.489715,37.48587,37.545644,37.160581,37.524327,37.186147,37.194753,37.547387,37.547387,37.547387,37.547387,37.634479,37.161058,37.632368,37.512398,37.512398,37.512398,37.635916,37.635916,37.632637,37.634281,37.634281,37.63747,37.63668,37.637991,37.639752,37.66265,37.64242,37.64242,37.64242,37.636778,37.638782,37.649606,37.662093,37.662093,37.662093,37.662093,37.662093,37.662093,37.662093,37.662093,37.662093,37.662093,37.662093,37.662093,37.662093,37.662093,37.662093,37.662093,37.662093,37.662093,37.662093,37.662093,37.662093,37.662093,37.662093,37.662093,37.662093,37.662093,37.662093,37.662093,37.662093,37.662093,37.662093,37.662093,37.662093,37.662093,37.662093,37.662093,37.662093,37.662093,37.662093,37.662093,37.662093,37.662093,37.662093,37.640336,37.557197,37.49347,37.479106,37.516656,37.50867,37.544566,37.518587,37.518587,37.516853,37.516853,37.516853,37.516853,37.516853,37.577561,37.547117,37.55248,37.55248,37.55248,37.55248,37.55248,37.55248,37.55248,37.55248,37.55248,37.55248,37.55248,37.55248,37.55248,37.541512,37.541512,37.541512,37.541512,37.541512,37.541512,37.541512,37.541512,37.541512,37.518587,37.526259,37.551879,37.507484,37.507484,37.507484,37.507484,37.507484,37.507484,37.507484,37.561284,37.511445,37.511445,37.511445,37.511445,37.511445,37.511445,37.511445,37.511445,37.511445,37.511445,37.511445,37.564994,37.521138,37.521138,37.579789,37.581721,37.54065,37.547414,37.547414,37.525001,37.524004,37.504295,37.481909,37.481909,37.476052,37.476052,37.476052,37.506891,37.506891,37.506891,37.506891,37.506891,37.480265,37.493641,37.484864,37.484864,37.497656,37.497656,37.497656,37.497656,37.497656,37.53393,37.481469,37.527965,37.527965,37.527965,37.527965,37.527965,37.527965,37.527965,37.527965,37.527965,37.527965,37.527965,37.527965,37.527965,37.527965,37.527965,37.527965,37.527965,37.527965,37.527965,37.527965,37.527965,37.527965,37.527965,37.527965,37.527965,37.525396,37.556388,37.556388,37.556388,37.556388,37.556388,37.528972,37.487362,37.487362,37.487362,37.487362,37.487362,37.487362,37.487362,37.487362,37.487362,37.487362,37.545267,37.566773,37.566773,37.566773,37.566773,37.566773,37.566773,37.566773,37.566773,37.566773,37.566773,37.566773,37.572082,37.571929,37.511508,37.578424,37.517796,37.511086,37.515164,37.532107,37.532107,37.536023,37.544638,37.573771,37.516934,37.516934,37.56017,37.56017,37.56017,37.56017,37.56017,37.56017,37.56017,37.56017,37.56017,37.56017,37.56017,37.552193,37.552193,37.519863,37.519863,37.521336,37.520348,37.520348,37.546731,37.183012,37.231602,37.168487,37.202524,37.171244,37.182015,37.191079,37.236139,37.205192,37.215262,37.181458,37.208453,37.205084,37.20574,37.249856,37.249856,37.204302,37.193047,37.193047,37.162746,37.213205,37.222412,37.222412,37.199425,37.191897,37.191897,37.17173,37.151706,37.149865,37.157024,37.214274,37.203494,37.216942,37.216942,37.216942,37.157563,37.195229,37.217247,37.216259,37.15503,37.202919,37.202919,37.153673,37.223832,37.223832,37.165747,37.202551,37.175008,37.175008,37.175008,37.175008,37.175008,37.175008,37.175008,37.175008,37.175008,37.175008,37.224371,37.252488,37.1704,37.212261,37.210025,37.210025,37.173697,37.190486,37.200044,37.200044,37.200044,37.200044,37.589877,37.622738,37.620707,37.621525,37.61088,37.596336,37.621947,37.621947,37.621723,37.621202,37.622549,37.611464,37.620698,37.620698,37.597172,37.602885,37.624256,37.624256,37.624256,37.616521,37.630131,37.612829,37.621947,37.621947,37.621947,37.621947,37.600729,37.600729,37.616396,37.621507,37.618031,37.599166,37.625594,37.625594,37.625594,37.625594,37.618821,37.618821,37.595249,37.595249,37.595249,37.619764,37.619764,37.62369,37.62369,37.62369,37.623313,37.623313,37.623313,37.623313,37.623313,37.623313,37.623313,37.623313,37.635754,37.635781,37.63641,37.634416,37.605903,37.633832,37.608643,37.611051,37.611051,37.537434,37.632682,37.634326,37.53738,37.53738,37.53738,37.53738,37.539087,37.539087,37.539087,37.539087,37.539087,37.635161,37.63305,37.540245,37.539742,37.539742,37.539742,37.539742,37.539742,37.539742,37.539742,37.539742,37.539742,37.539742,37.539742,37.539742,37.539742,37.539742,37.539742,37.539742,37.539742,37.539742,37.471102,37.471102,37.471102,37.471102,37.471102,37.471102,37.471102,37.471102,37.471102,37.471102,37.471102,37.471102,37.471102,37.471102,37.471102,37.471102,37.471102,37.471102,37.471102,37.471102,37.471102,37.471102,37.471102,37.471102,37.471102,37.471102,37.426096,37.465847,37.480265,37.487532,37.490389,37.445168,37.445168,37.433642,37.465326,37.439409,37.481001,37.481001,37.481001,37.481001,37.481001,37.481001,37.481001,37.481001,37.481001,37.481001,37.476169,37.476169,37.476169,37.476169,37.476169,37.476169,37.476169,37.476169,37.476169,37.476169,37.476169,37.476169,37.476169,37.476169,37.476169,37.476169,37.476169,37.191151,37.160959,37.171253,37.187109,37.187109,37.187109,37.525872,37.526295,37.208453,37.170427,37.599157,37.55248,37.637991,37.476169,37.481469,37.662093,37.636365,37.43269,37.556864,37.526007,37.200044,37.190801,37.617941,37.642042,37.637569,37.482744,37.552741,37.633697,37.211004,37.478603,37.476088,37.479097,37.633158,37.635817,37.471533,37.211201,37.476052,37.552453,37.512766,37.190064,37.159836,37.618031,37.540245,37.445168,37.658347,37.171253,37.171253,37.633347,37.631847,37.510502,37.622405,37.54356,37.53738,37.556388,37.542949,37.542949,37.542949,37.542949,37.542949,37.542949,37.539742,37.539742,37.540245,37.632646,37.539087,37.539087,37.539087,37.539087,37.539087,37.539087,37.539087,37.539087,37.539087,37.539087,37.476411,37.634182,37.635224,37.53738,37.53738,37.53738,37.53738,37.53738,37.53738,37.53738,37.53738,37.53738,37.53738,37.540245,37.540245,37.540245,37.540245,37.567159,37.171658,37.544638,37.551879,37.547405,37.590542,37.594063,37.63668,37.497656,37.504555,37.483104,37.483104,37.483104,37.489239,37.618543,37.480849,37.637569,37.656362,37.550459,37.578855,37.521138,37.582826,37.543327,37.445168,37.634299,37.624256,37.559829,37.559829,37.525863,37.20759,37.535871,37.527417,37.525872,37.542949,37.632143,37.556388,37.556388,37.604241,37.173697,37.597998,37.506262,37.577903,37.513305,37.572378,37.657682,37.526259,37.556388,37.487622,37.556388,37.634182,37.602714,37.634479,37.635593,37.48561,37.511472,37.610449,37.636671,37.536544,37.215891,37.566467,37.51529,37.518587,37.566386,37.565335,37.637982,37.633158,37.544638,37.552741,37.518587,37.622405,37.622405,37.622405,37.483714,37.552184,37.5736,37.55328,37.516,37.535871,37.491485,37.550657,37.631936,37.63676,37.63676,37.572378,37.508292,37.565335,37.204249,37.206108,37.22932,37.235474,37.190801,37.160366,37.510511,37.545267,37.486733,37.162773,37.475486,37.473635,37.601807,37.216735,37.492778,37.491763,37.490712,37.473258,37.473581,37.487622,37.16572,37.590865,37.211004,37.22994,37.209055,37.21855,37.22093,37.622082,37.618767,37.600118,37.623492,37.515632,37.515632,37.51529,37.5425,37.599983,37.599983,37.483104,37.210968,37.190352,37.205632,37.233543,37.222386,37.211821,37.232599,37.205506,37.203494,37.200925,37.542842,37.539949,37.154787,37.155551,37.155551,37.625289,37.626951,37.153691,37.153332,37.150035,37.155156,37.155614,37.154913,37.63668,37.63668,37.638611,37.518587,37.518587,37.518587,37.518587,37.517383,37.516853,37.516853,37.516853,37.516853,37.516853,37.511014,37.55248,37.490551,37.526259,37.526259,37.51149,37.556388,37.572082,37.543533,37.54215,37.541251,37.512766,37.536931,37.152263,37.1537,37.159171,37.255327,37.156296,37.213205,37.175089,37.171532,37.171532,37.215891,37.15503,37.200152,37.217247,37.153673,37.175008,37.60779,37.618543,37.620447,37.620339,37.600729,37.609128,37.607862,37.607862,37.597998,37.597998,37.595339,37.62369,37.537434,37.537434,37.537434,37.537434,37.537434,37.539087,37.53738,37.53738,37.540245,37.540245,37.540245,37.540245,37.540245,37.540245,37.540245,37.540245,37.635575,37.535071,37.535071,37.535071,37.535071,37.535071,37.539742,37.539742,37.539742,37.471102,37.471102,37.471102,37.471102,37.485646,37.485646,37.485646,37.542949,37.542949,37.539742,37.539742,37.539742,37.539742,37.539742,37.539742,37.539742,37.539742,37.539742,37.539742,37.539742,37.539742,37.539742,37.539742,37.539742,37.539742,37.539742,37.539742,37.539742,37.539742,37.539742,37.486553,37.486553,37.486553,37.540757,37.473402,37.465892,37.438233,37.438233,37.453612,37.451447,37.452309,37.479897,37.539742,37.541512,37.217247,37.622378,37.511014,37.486005,37.539742,37.62369,37.204653,37.515164,37.539742,37.512766,37.533858,37.539742,37.539742,37.51573,37.532107,37.539742,37.539742,37.559388,37.621552,37.521138,37.539742,37.539742,37.162692,37.539742,37.539742,37.539742,37.539742,37.618767,37.486733,37.452947,37.490712,37.539742,37.539742,37.539742,37.542949,37.637569,37.158722,37.539742,37.539742,37.539742,37.514563,37.619683,37.546803,37.516952,37.595097,37.544997,37.634182,37.639357,37.533966,37.520141,37.507017,37.572378,37.56989,37.565335,37.572378,37.642042,37.17667,37.180991,37.162692,37.523465,37.523465,37.439472,37.491584,37.469764,37.494952,37.487622,37.511508,37.560377,37.560377,37.618965,37.54356,37.249155,37.171119,37.559541,37.48587,37.526726,37.50946,37.63668,37.63668,37.63668,37.66265,37.572396,37.55248,37.55248,37.541512,37.541512,37.541512,37.541512,37.541512,37.541512,37.541512,37.541512,37.541512,37.541512,37.541512,37.541512,37.541512,37.541512,37.541512,37.55248,37.55248,37.519872,37.507484,37.507484,37.507484,37.507484,37.507484,37.511445,37.511445,37.511445,37.511445,37.537973,37.547414,37.511445,37.511445,37.521138,37.527965,37.55778,37.556388,37.556388,37.520842,37.190064,37.183659,37.168127,37.173697,37.173697,37.622306,37.620698,37.624256,37.618776,37.595249,37.595249,37.595339,37.539087,37.540245,37.535071,37.535071,37.535071,37.535071,37.535071,37.50522,37.50522,37.475486,37.493263,37.433642,37.445168,37.481954,37.486553,37.486553,37.658347,37.485807,37.474641,37.488943,37.454034,37.559388,37.559388,37.484577,37.484577,37.484577,37.609425,37.609425,37.436445,37.432322,37.482493,37.482493,37.476636,37.476636,37.452534,37.483319,37.441763,37.487793,37.45584,37.520348,37.54356,37.519872,37.487793,37.572378,37.620698,37.445168,37.513305,37.516952,37.507484,37.507484,37.559388,37.55248,37.559388,37.511445,37.595249,37.511445,37.481001,37.54356,37.526259,37.532107,37.559388,37.582125,37.582125,37.560781,37.512344,37.543327,37.543327,37.547405,37.543201,37.519467,37.608185,37.582826,37.561553,37.659245,37.572378,37.566467,37.565335,37.189696,37.517338,37.598348,37.523465,37.523465,37.488727,37.254824,37.601807,37.601807,37.602714,37.439472,37.471911,37.476519,37.484729,37.484729,37.516449,37.611051,37.146675,37.62051,37.521569,37.521569,37.617204,37.504564,37.481397,37.233992,37.559388,37.559388,37.559388,37.559388,37.67016,37.624085,37.633158,37.640156,37.619854,37.602579,37.153278,37.63668,37.636671,37.662093,37.662093,37.662093,37.662093,37.662093,37.662093,37.662093,37.662093,37.662093,37.662093,37.511445,37.481469,37.481469,37.481469,37.48031,37.48031,37.48031,37.48031,37.527965,37.527965,37.527965,37.556388,37.449677,37.56017,37.191079,37.152191,37.168361,37.199164,37.149712,37.256899,37.200044,37.591072,37.591072,37.591072,37.621354,37.620698,37.621947,37.621947,37.602526,37.599166,37.595249,37.621552,37.621552,37.621552,37.537434,37.537434,37.537434,37.537434,37.537434,37.537434,37.537434,37.537434,37.537434,37.537434,37.537434,37.537434,37.537434,37.537434,37.537434,37.537434,37.537434,37.535071,37.535071,37.535071,37.542949,37.542949,37.539742,37.539742,37.539742,37.471102,37.471102,37.471102,37.471102,37.471102,37.473716,37.485646,37.487532,37.490389,37.443057,37.492895,37.481001,37.481001,37.481001,37.481001,37.481001,37.481001,37.476169,37.476169,37.476169,37.476169,37.476169,37.476169,37.476169,37.476169,37.476169,37.476169,37.476169,37.476169,37.476169,37.476169,37.476169,37.490515,37.488943,37.454034,37.604448,37.567042,37.566386,37.608922,37.608922,37.452651,37.487793,37.454861,37.454861,37.492895,37.458903,37.527965,37.621552,37.476169,37.476169,37.476169,37.528855,37.532107,37.662093,37.471102,37.476169,37.620698,37.484577,37.186201,37.552741,37.560484,37.559388,37.662093,37.662093,37.620698,37.471102,37.200044,37.152191,37.557682,37.633634,37.559388,37.537434,37.620698,37.471102,37.662093,37.662093,37.620698,37.559388,37.662093,37.599166,37.532107,37.476169,37.532107,37.476169,37.476169,37.542949,37.56017,37.621552,37.526618,37.526295,37.537434,37.511508,37.509343,37.620698],\"marker\":{\"color\":\"#636efa\"},\"mode\":\"markers\",\"name\":\"\",\"showlegend\":false,\"subplot\":\"mapbox\",\"type\":\"scattermapbox\"}],                        {\"legend\":{\"tracegroupgap\":0},\"mapbox\":{\"center\":{\"lat\":55.747786900485195,\"lon\":37.50138960740286},\"domain\":{\"x\":[0.0,1.0],\"y\":[0.0,1.0]},\"style\":\"open-street-map\",\"zoom\":11},\"margin\":{\"b\":0,\"l\":0,\"r\":0,\"t\":0},\"template\":{\"data\":{\"bar\":[{\"error_x\":{\"color\":\"#2a3f5f\"},\"error_y\":{\"color\":\"#2a3f5f\"},\"marker\":{\"line\":{\"color\":\"#E5ECF6\",\"width\":0.5},\"pattern\":{\"fillmode\":\"overlay\",\"size\":10,\"solidity\":0.2}},\"type\":\"bar\"}],\"barpolar\":[{\"marker\":{\"line\":{\"color\":\"#E5ECF6\",\"width\":0.5},\"pattern\":{\"fillmode\":\"overlay\",\"size\":10,\"solidity\":0.2}},\"type\":\"barpolar\"}],\"carpet\":[{\"aaxis\":{\"endlinecolor\":\"#2a3f5f\",\"gridcolor\":\"white\",\"linecolor\":\"white\",\"minorgridcolor\":\"white\",\"startlinecolor\":\"#2a3f5f\"},\"baxis\":{\"endlinecolor\":\"#2a3f5f\",\"gridcolor\":\"white\",\"linecolor\":\"white\",\"minorgridcolor\":\"white\",\"startlinecolor\":\"#2a3f5f\"},\"type\":\"carpet\"}],\"choropleth\":[{\"colorbar\":{\"outlinewidth\":0,\"ticks\":\"\"},\"type\":\"choropleth\"}],\"contour\":[{\"colorbar\":{\"outlinewidth\":0,\"ticks\":\"\"},\"colorscale\":[[0.0,\"#0d0887\"],[0.1111111111111111,\"#46039f\"],[0.2222222222222222,\"#7201a8\"],[0.3333333333333333,\"#9c179e\"],[0.4444444444444444,\"#bd3786\"],[0.5555555555555556,\"#d8576b\"],[0.6666666666666666,\"#ed7953\"],[0.7777777777777778,\"#fb9f3a\"],[0.8888888888888888,\"#fdca26\"],[1.0,\"#f0f921\"]],\"type\":\"contour\"}],\"contourcarpet\":[{\"colorbar\":{\"outlinewidth\":0,\"ticks\":\"\"},\"type\":\"contourcarpet\"}],\"heatmap\":[{\"colorbar\":{\"outlinewidth\":0,\"ticks\":\"\"},\"colorscale\":[[0.0,\"#0d0887\"],[0.1111111111111111,\"#46039f\"],[0.2222222222222222,\"#7201a8\"],[0.3333333333333333,\"#9c179e\"],[0.4444444444444444,\"#bd3786\"],[0.5555555555555556,\"#d8576b\"],[0.6666666666666666,\"#ed7953\"],[0.7777777777777778,\"#fb9f3a\"],[0.8888888888888888,\"#fdca26\"],[1.0,\"#f0f921\"]],\"type\":\"heatmap\"}],\"heatmapgl\":[{\"colorbar\":{\"outlinewidth\":0,\"ticks\":\"\"},\"colorscale\":[[0.0,\"#0d0887\"],[0.1111111111111111,\"#46039f\"],[0.2222222222222222,\"#7201a8\"],[0.3333333333333333,\"#9c179e\"],[0.4444444444444444,\"#bd3786\"],[0.5555555555555556,\"#d8576b\"],[0.6666666666666666,\"#ed7953\"],[0.7777777777777778,\"#fb9f3a\"],[0.8888888888888888,\"#fdca26\"],[1.0,\"#f0f921\"]],\"type\":\"heatmapgl\"}],\"histogram\":[{\"marker\":{\"pattern\":{\"fillmode\":\"overlay\",\"size\":10,\"solidity\":0.2}},\"type\":\"histogram\"}],\"histogram2d\":[{\"colorbar\":{\"outlinewidth\":0,\"ticks\":\"\"},\"colorscale\":[[0.0,\"#0d0887\"],[0.1111111111111111,\"#46039f\"],[0.2222222222222222,\"#7201a8\"],[0.3333333333333333,\"#9c179e\"],[0.4444444444444444,\"#bd3786\"],[0.5555555555555556,\"#d8576b\"],[0.6666666666666666,\"#ed7953\"],[0.7777777777777778,\"#fb9f3a\"],[0.8888888888888888,\"#fdca26\"],[1.0,\"#f0f921\"]],\"type\":\"histogram2d\"}],\"histogram2dcontour\":[{\"colorbar\":{\"outlinewidth\":0,\"ticks\":\"\"},\"colorscale\":[[0.0,\"#0d0887\"],[0.1111111111111111,\"#46039f\"],[0.2222222222222222,\"#7201a8\"],[0.3333333333333333,\"#9c179e\"],[0.4444444444444444,\"#bd3786\"],[0.5555555555555556,\"#d8576b\"],[0.6666666666666666,\"#ed7953\"],[0.7777777777777778,\"#fb9f3a\"],[0.8888888888888888,\"#fdca26\"],[1.0,\"#f0f921\"]],\"type\":\"histogram2dcontour\"}],\"mesh3d\":[{\"colorbar\":{\"outlinewidth\":0,\"ticks\":\"\"},\"type\":\"mesh3d\"}],\"parcoords\":[{\"line\":{\"colorbar\":{\"outlinewidth\":0,\"ticks\":\"\"}},\"type\":\"parcoords\"}],\"pie\":[{\"automargin\":true,\"type\":\"pie\"}],\"scatter\":[{\"marker\":{\"colorbar\":{\"outlinewidth\":0,\"ticks\":\"\"}},\"type\":\"scatter\"}],\"scatter3d\":[{\"line\":{\"colorbar\":{\"outlinewidth\":0,\"ticks\":\"\"}},\"marker\":{\"colorbar\":{\"outlinewidth\":0,\"ticks\":\"\"}},\"type\":\"scatter3d\"}],\"scattercarpet\":[{\"marker\":{\"colorbar\":{\"outlinewidth\":0,\"ticks\":\"\"}},\"type\":\"scattercarpet\"}],\"scattergeo\":[{\"marker\":{\"colorbar\":{\"outlinewidth\":0,\"ticks\":\"\"}},\"type\":\"scattergeo\"}],\"scattergl\":[{\"marker\":{\"colorbar\":{\"outlinewidth\":0,\"ticks\":\"\"}},\"type\":\"scattergl\"}],\"scattermapbox\":[{\"marker\":{\"colorbar\":{\"outlinewidth\":0,\"ticks\":\"\"}},\"type\":\"scattermapbox\"}],\"scatterpolar\":[{\"marker\":{\"colorbar\":{\"outlinewidth\":0,\"ticks\":\"\"}},\"type\":\"scatterpolar\"}],\"scatterpolargl\":[{\"marker\":{\"colorbar\":{\"outlinewidth\":0,\"ticks\":\"\"}},\"type\":\"scatterpolargl\"}],\"scatterternary\":[{\"marker\":{\"colorbar\":{\"outlinewidth\":0,\"ticks\":\"\"}},\"type\":\"scatterternary\"}],\"surface\":[{\"colorbar\":{\"outlinewidth\":0,\"ticks\":\"\"},\"colorscale\":[[0.0,\"#0d0887\"],[0.1111111111111111,\"#46039f\"],[0.2222222222222222,\"#7201a8\"],[0.3333333333333333,\"#9c179e\"],[0.4444444444444444,\"#bd3786\"],[0.5555555555555556,\"#d8576b\"],[0.6666666666666666,\"#ed7953\"],[0.7777777777777778,\"#fb9f3a\"],[0.8888888888888888,\"#fdca26\"],[1.0,\"#f0f921\"]],\"type\":\"surface\"}],\"table\":[{\"cells\":{\"fill\":{\"color\":\"#EBF0F8\"},\"line\":{\"color\":\"white\"}},\"header\":{\"fill\":{\"color\":\"#C8D4E3\"},\"line\":{\"color\":\"white\"}},\"type\":\"table\"}]},\"layout\":{\"annotationdefaults\":{\"arrowcolor\":\"#2a3f5f\",\"arrowhead\":0,\"arrowwidth\":1},\"autotypenumbers\":\"strict\",\"coloraxis\":{\"colorbar\":{\"outlinewidth\":0,\"ticks\":\"\"}},\"colorscale\":{\"diverging\":[[0,\"#8e0152\"],[0.1,\"#c51b7d\"],[0.2,\"#de77ae\"],[0.3,\"#f1b6da\"],[0.4,\"#fde0ef\"],[0.5,\"#f7f7f7\"],[0.6,\"#e6f5d0\"],[0.7,\"#b8e186\"],[0.8,\"#7fbc41\"],[0.9,\"#4d9221\"],[1,\"#276419\"]],\"sequential\":[[0.0,\"#0d0887\"],[0.1111111111111111,\"#46039f\"],[0.2222222222222222,\"#7201a8\"],[0.3333333333333333,\"#9c179e\"],[0.4444444444444444,\"#bd3786\"],[0.5555555555555556,\"#d8576b\"],[0.6666666666666666,\"#ed7953\"],[0.7777777777777778,\"#fb9f3a\"],[0.8888888888888888,\"#fdca26\"],[1.0,\"#f0f921\"]],\"sequentialminus\":[[0.0,\"#0d0887\"],[0.1111111111111111,\"#46039f\"],[0.2222222222222222,\"#7201a8\"],[0.3333333333333333,\"#9c179e\"],[0.4444444444444444,\"#bd3786\"],[0.5555555555555556,\"#d8576b\"],[0.6666666666666666,\"#ed7953\"],[0.7777777777777778,\"#fb9f3a\"],[0.8888888888888888,\"#fdca26\"],[1.0,\"#f0f921\"]]},\"colorway\":[\"#636efa\",\"#EF553B\",\"#00cc96\",\"#ab63fa\",\"#FFA15A\",\"#19d3f3\",\"#FF6692\",\"#B6E880\",\"#FF97FF\",\"#FECB52\"],\"font\":{\"color\":\"#2a3f5f\"},\"geo\":{\"bgcolor\":\"white\",\"lakecolor\":\"white\",\"landcolor\":\"#E5ECF6\",\"showlakes\":true,\"showland\":true,\"subunitcolor\":\"white\"},\"hoverlabel\":{\"align\":\"left\"},\"hovermode\":\"closest\",\"mapbox\":{\"style\":\"light\"},\"paper_bgcolor\":\"white\",\"plot_bgcolor\":\"#E5ECF6\",\"polar\":{\"angularaxis\":{\"gridcolor\":\"white\",\"linecolor\":\"white\",\"ticks\":\"\"},\"bgcolor\":\"#E5ECF6\",\"radialaxis\":{\"gridcolor\":\"white\",\"linecolor\":\"white\",\"ticks\":\"\"}},\"scene\":{\"xaxis\":{\"backgroundcolor\":\"#E5ECF6\",\"gridcolor\":\"white\",\"gridwidth\":2,\"linecolor\":\"white\",\"showbackground\":true,\"ticks\":\"\",\"zerolinecolor\":\"white\"},\"yaxis\":{\"backgroundcolor\":\"#E5ECF6\",\"gridcolor\":\"white\",\"gridwidth\":2,\"linecolor\":\"white\",\"showbackground\":true,\"ticks\":\"\",\"zerolinecolor\":\"white\"},\"zaxis\":{\"backgroundcolor\":\"#E5ECF6\",\"gridcolor\":\"white\",\"gridwidth\":2,\"linecolor\":\"white\",\"showbackground\":true,\"ticks\":\"\",\"zerolinecolor\":\"white\"}},\"shapedefaults\":{\"line\":{\"color\":\"#2a3f5f\"}},\"ternary\":{\"aaxis\":{\"gridcolor\":\"white\",\"linecolor\":\"white\",\"ticks\":\"\"},\"baxis\":{\"gridcolor\":\"white\",\"linecolor\":\"white\",\"ticks\":\"\"},\"bgcolor\":\"#E5ECF6\",\"caxis\":{\"gridcolor\":\"white\",\"linecolor\":\"white\",\"ticks\":\"\"}},\"title\":{\"x\":0.05},\"xaxis\":{\"automargin\":true,\"gridcolor\":\"white\",\"linecolor\":\"white\",\"ticks\":\"\",\"title\":{\"standoff\":15},\"zerolinecolor\":\"white\",\"zerolinewidth\":2},\"yaxis\":{\"automargin\":true,\"gridcolor\":\"white\",\"linecolor\":\"white\",\"ticks\":\"\",\"title\":{\"standoff\":15},\"zerolinecolor\":\"white\",\"zerolinewidth\":2}}}},                        {\"responsive\": true}                    ).then(function(){\n",
       "                            \n",
       "var gd = document.getElementById('70283e9d-bce6-4b2f-bae9-60ce791e4594');\n",
       "var x = new MutationObserver(function (mutations, observer) {{\n",
       "        var display = window.getComputedStyle(gd).display;\n",
       "        if (!display || display === 'none') {{\n",
       "            console.log([gd, 'removed!']);\n",
       "            Plotly.purge(gd);\n",
       "            observer.disconnect();\n",
       "        }}\n",
       "}});\n",
       "\n",
       "// Listen for the removal of the full notebook cells\n",
       "var notebookContainer = gd.closest('#notebook-container');\n",
       "if (notebookContainer) {{\n",
       "    x.observe(notebookContainer, {childList: true});\n",
       "}}\n",
       "\n",
       "// Listen for the clearing of the current output cell\n",
       "var outputEl = gd.closest('.output');\n",
       "if (outputEl) {{\n",
       "    x.observe(outputEl, {childList: true});\n",
       "}}\n",
       "\n",
       "                        })                };                });            </script>        </div>"
      ]
     },
     "metadata": {},
     "output_type": "display_data"
    }
   ],
   "source": [
    "# Cтроим карту с визуализацией всех точек\n",
    "\n",
    "fig = px.scatter_mapbox(top10_streets_df, lon='longitude', lat='latitude', zoom=11)\n",
    "fig.update_layout(mapbox_style=\"open-street-map\")\n",
    "fig.update_layout(margin={\"r\":0,\"t\":0,\"l\":0,\"b\":0})\n",
    "fig.show();"
   ]
  },
  {
   "cell_type": "code",
   "execution_count": 1289,
   "metadata": {},
   "outputs": [
    {
     "name": "stdout",
     "output_type": "stream",
     "text": [
      "(1648, 11)\n"
     ]
    },
    {
     "data": {
      "text/html": [
       "<div>\n",
       "<style scoped>\n",
       "    .dataframe tbody tr th:only-of-type {\n",
       "        vertical-align: middle;\n",
       "    }\n",
       "\n",
       "    .dataframe tbody tr th {\n",
       "        vertical-align: top;\n",
       "    }\n",
       "\n",
       "    .dataframe thead th {\n",
       "        text-align: right;\n",
       "    }\n",
       "</style>\n",
       "<table border=\"1\" class=\"dataframe\">\n",
       "  <thead>\n",
       "    <tr style=\"text-align: right;\">\n",
       "      <th></th>\n",
       "      <th>id</th>\n",
       "      <th>object_name</th>\n",
       "      <th>chain</th>\n",
       "      <th>object_type</th>\n",
       "      <th>address</th>\n",
       "      <th>number</th>\n",
       "      <th>street</th>\n",
       "      <th>latitude</th>\n",
       "      <th>longitude</th>\n",
       "      <th>okrug</th>\n",
       "      <th>area</th>\n",
       "    </tr>\n",
       "  </thead>\n",
       "  <tbody>\n",
       "    <tr>\n",
       "      <th>0</th>\n",
       "      <td>155973</td>\n",
       "      <td>андерсон</td>\n",
       "      <td>да</td>\n",
       "      <td>кафе</td>\n",
       "      <td>город Москва, Варшавское шоссе, дом 2</td>\n",
       "      <td>150</td>\n",
       "      <td>Варшавское шоссе</td>\n",
       "      <td>55.70</td>\n",
       "      <td>37.62</td>\n",
       "      <td>ЮАО</td>\n",
       "      <td>Район Чертаново Центральное</td>\n",
       "    </tr>\n",
       "    <tr>\n",
       "      <th>1</th>\n",
       "      <td>23618</td>\n",
       "      <td>сабвей</td>\n",
       "      <td>да</td>\n",
       "      <td>кафе</td>\n",
       "      <td>город Москва, Варшавское шоссе, дом 7, корпус 1</td>\n",
       "      <td>36</td>\n",
       "      <td>Варшавское шоссе</td>\n",
       "      <td>55.70</td>\n",
       "      <td>37.62</td>\n",
       "      <td>ЮАО</td>\n",
       "      <td>Район Чертаново Центральное</td>\n",
       "    </tr>\n",
       "    <tr>\n",
       "      <th>2</th>\n",
       "      <td>155852</td>\n",
       "      <td>ламаджо</td>\n",
       "      <td>нет</td>\n",
       "      <td>кафе</td>\n",
       "      <td>город Москва, Варшавское шоссе, дом 29</td>\n",
       "      <td>30</td>\n",
       "      <td>Варшавское шоссе</td>\n",
       "      <td>55.69</td>\n",
       "      <td>37.62</td>\n",
       "      <td>ЮАО</td>\n",
       "      <td>Район Чертаново Центральное</td>\n",
       "    </tr>\n",
       "    <tr>\n",
       "      <th>3</th>\n",
       "      <td>152556</td>\n",
       "      <td>шаурма в пите</td>\n",
       "      <td>нет</td>\n",
       "      <td>предприятие быстрого обслуживания</td>\n",
       "      <td>город Москва, Варшавское шоссе, дом 72, корпус 2</td>\n",
       "      <td>0</td>\n",
       "      <td>Варшавское шоссе</td>\n",
       "      <td>55.66</td>\n",
       "      <td>37.62</td>\n",
       "      <td>ЮАО</td>\n",
       "      <td>Район Чертаново Центральное</td>\n",
       "    </tr>\n",
       "    <tr>\n",
       "      <th>4</th>\n",
       "      <td>120658</td>\n",
       "      <td>выпечка</td>\n",
       "      <td>нет</td>\n",
       "      <td>кафетерий</td>\n",
       "      <td>город Москва, Варшавское шоссе, дом 100</td>\n",
       "      <td>2</td>\n",
       "      <td>Варшавское шоссе</td>\n",
       "      <td>55.65</td>\n",
       "      <td>37.62</td>\n",
       "      <td>ЮАО</td>\n",
       "      <td>Район Чертаново Центральное</td>\n",
       "    </tr>\n",
       "  </tbody>\n",
       "</table>\n",
       "</div>"
      ],
      "text/plain": [
       "       id    object_name chain                        object_type  \\\n",
       "0  155973      андерсон     да                               кафе   \n",
       "1   23618        сабвей     да                               кафе   \n",
       "2  155852       ламаджо    нет                               кафе   \n",
       "3  152556  шаурма в пите   нет  предприятие быстрого обслуживания   \n",
       "4  120658        выпечка   нет                          кафетерий   \n",
       "\n",
       "                                            address  number            street  \\\n",
       "0             город Москва, Варшавское шоссе, дом 2     150  Варшавское шоссе   \n",
       "1   город Москва, Варшавское шоссе, дом 7, корпус 1      36  Варшавское шоссе   \n",
       "2            город Москва, Варшавское шоссе, дом 29      30  Варшавское шоссе   \n",
       "3  город Москва, Варшавское шоссе, дом 72, корпус 2       0  Варшавское шоссе   \n",
       "4           город Москва, Варшавское шоссе, дом 100       2  Варшавское шоссе   \n",
       "\n",
       "   latitude  longitude okrug                         area  \n",
       "0     55.70      37.62   ЮАО  Район Чертаново Центральное  \n",
       "1     55.70      37.62   ЮАО  Район Чертаново Центральное  \n",
       "2     55.69      37.62   ЮАО  Район Чертаново Центральное  \n",
       "3     55.66      37.62   ЮАО  Район Чертаново Центральное  \n",
       "4     55.65      37.62   ЮАО  Район Чертаново Центральное  "
      ]
     },
     "execution_count": 1289,
     "metadata": {},
     "output_type": "execute_result"
    }
   ],
   "source": [
    "# Подгружаем дополнительный датасет с названиями округов и районов Москвы (объединим по удице)\n",
    "\n",
    "# spreadsheet_id = '1c7LrFVezaaKN44rTpIx00dSzUVOl2rOLAmsSigQokkA'\n",
    "# file_name = 'https://docs.google.com/spreadsheets/d/{}/export?format=csv'.format(spreadsheet_id)\n",
    "# r = requests.get(file_name)\n",
    "# moscows_districts = pd.read_csv(BytesIO(r.content))\n",
    "\n",
    "# moscows_districts = moscows_districts.rename(columns={'streetname' : 'street'})\n",
    "\n",
    "# moscow_districts =  moscows_districts.to_csv(r'C:\\Users\\mirra\\Desktop\\Yandex.praktikum\\Проекты\\DA_Проекты\\DA_Final_versions\\5_Рынок_заведений_общественного_питания_Москвы\\moscow_districts1.csv', sep=';', encoding='utf-8-sig')\n",
    "moscow_districts = pd.read_csv(r'C:\\Users\\mirra\\Desktop\\Yandex.praktikum\\Проекты\\DA_Проекты\\DA_Final_versions\\5_Рынок_заведений_общественного_питания_Москвы\\moscow_districts1.csv', index_col=0, sep=';', encoding='utf-8-sig')\n",
    "\n",
    "# Получили датафрейм с данными об улицах Москвы\n",
    "#print(moscow_districts.shape)\n",
    "#moscow_districts.head()\n",
    "\n",
    "top10_streets_df['street'] = top10_streets_df['street'].str.strip()\n",
    "top10_streets_df = (\n",
    "    top10_streets_df.merge(moscow_districts.drop(['areaid'], axis=1), on='street', how='left')\n",
    "    .drop_duplicates(subset=['id'], keep=\"first\")\n",
    "    .reset_index(drop=True)\n",
    ")\n",
    "print(top10_streets_df.shape)\n",
    "top10_streets_df.head()"
   ]
  },
  {
   "cell_type": "code",
   "execution_count": 1290,
   "metadata": {},
   "outputs": [
    {
     "data": {
      "text/html": [
       "<div>\n",
       "<style scoped>\n",
       "    .dataframe tbody tr th:only-of-type {\n",
       "        vertical-align: middle;\n",
       "    }\n",
       "\n",
       "    .dataframe tbody tr th {\n",
       "        vertical-align: top;\n",
       "    }\n",
       "\n",
       "    .dataframe thead th {\n",
       "        text-align: right;\n",
       "    }\n",
       "</style>\n",
       "<table border=\"1\" class=\"dataframe\">\n",
       "  <thead>\n",
       "    <tr style=\"text-align: right;\">\n",
       "      <th></th>\n",
       "      <th>okrug</th>\n",
       "      <th>area</th>\n",
       "      <th>street</th>\n",
       "      <th>id</th>\n",
       "    </tr>\n",
       "  </thead>\n",
       "  <tbody>\n",
       "    <tr>\n",
       "      <th>0</th>\n",
       "      <td>Зеленоград</td>\n",
       "      <td>Район Крюково</td>\n",
       "      <td>город Зеленоград</td>\n",
       "      <td>232</td>\n",
       "    </tr>\n",
       "    <tr>\n",
       "      <th>1</th>\n",
       "      <td>СВАО</td>\n",
       "      <td>Алексеевский район</td>\n",
       "      <td>проспект Мира</td>\n",
       "      <td>204</td>\n",
       "    </tr>\n",
       "    <tr>\n",
       "      <th>2</th>\n",
       "      <td>ЮЗАО</td>\n",
       "      <td>Академический район</td>\n",
       "      <td>Профсоюзная улица</td>\n",
       "      <td>182</td>\n",
       "    </tr>\n",
       "    <tr>\n",
       "      <th>3</th>\n",
       "      <td>САО</td>\n",
       "      <td>Район Аэропорт</td>\n",
       "      <td>Ленинградский проспект</td>\n",
       "      <td>171</td>\n",
       "    </tr>\n",
       "    <tr>\n",
       "      <th>4</th>\n",
       "      <td>ЦАО</td>\n",
       "      <td>Пресненский район</td>\n",
       "      <td>Пресненская набережная</td>\n",
       "      <td>167</td>\n",
       "    </tr>\n",
       "    <tr>\n",
       "      <th>5</th>\n",
       "      <td>ЮАО</td>\n",
       "      <td>Район Чертаново Центральное</td>\n",
       "      <td>Варшавское шоссе</td>\n",
       "      <td>161</td>\n",
       "    </tr>\n",
       "    <tr>\n",
       "      <th>6</th>\n",
       "      <td>ЗАО</td>\n",
       "      <td>Район Проспект Вернадского</td>\n",
       "      <td>Ленинский проспект</td>\n",
       "      <td>147</td>\n",
       "    </tr>\n",
       "    <tr>\n",
       "      <th>7</th>\n",
       "      <td>ЗАО</td>\n",
       "      <td>Район Проспект Вернадского</td>\n",
       "      <td>проспект Вернадского</td>\n",
       "      <td>132</td>\n",
       "    </tr>\n",
       "    <tr>\n",
       "      <th>8</th>\n",
       "      <td>ЗАО</td>\n",
       "      <td>Район Дорогомилово</td>\n",
       "      <td>Кутузовский проспект</td>\n",
       "      <td>114</td>\n",
       "    </tr>\n",
       "  </tbody>\n",
       "</table>\n",
       "</div>"
      ],
      "text/plain": [
       "        okrug                         area                  street   id\n",
       "0  Зеленоград                Район Крюково        город Зеленоград  232\n",
       "1        СВАО           Алексеевский район           проспект Мира  204\n",
       "2        ЮЗАО          Академический район       Профсоюзная улица  182\n",
       "3         САО               Район Аэропорт  Ленинградский проспект  171\n",
       "4         ЦАО            Пресненский район  Пресненская набережная  167\n",
       "5         ЮАО  Район Чертаново Центральное        Варшавское шоссе  161\n",
       "6         ЗАО   Район Проспект Вернадского      Ленинский проспект  147\n",
       "7         ЗАО   Район Проспект Вернадского    проспект Вернадского  132\n",
       "8         ЗАО           Район Дорогомилово    Кутузовский проспект  114"
      ]
     },
     "execution_count": 1290,
     "metadata": {},
     "output_type": "execute_result"
    }
   ],
   "source": [
    "top10_streets_df['street'] = top10_streets_df['street'].str.strip()\n",
    "top10_streets_area = (\n",
    "    top10_streets_df.groupby(['okrug','area', 'street'])['id'].count().sort_values(ascending=False)\n",
    "    .reset_index()\n",
    ")\n",
    "top10_streets_area"
   ]
  },
  {
   "cell_type": "markdown",
   "metadata": {},
   "source": [
    "**Выводы к задаче 6:**\n",
    "\n",
    "\n",
    "1. Топ-10 улиц с большим количеством объектов общественного питания имют значительную протяженность через несколько районов Москвы и характерное расположение —  соединяют московские кольцевые дороги. Некоторые из них тянутся от садового кольца до МКАДа (например, Ленинский проспект), другие от третьего транспортного кольца до МКАДа (например, Варшавское шоссе). Также эти улицы совпадают с линиями московского метро.\n",
    "2. Поселение Сосенское — это муниципальное образование, которое относится к району новой Москвы (куда входит в т.ч. и Коммунарка), сейчас активно застраивается и заселяется. \n",
    "3. Город Зеленоград один из 12 административных округов Москвы и один из крупнейших городов Подмосковья. "
   ]
  },
  {
   "cell_type": "markdown",
   "metadata": {},
   "source": [
    "### 7. Количество улиц с одним объектом общественного питания."
   ]
  },
  {
   "cell_type": "code",
   "execution_count": null,
   "metadata": {
    "scrolled": true
   },
   "outputs": [],
   "source": [
    "streets_with_one_object = (\n",
    "    df.groupby('street')['object_name'].count()\n",
    "    .sort_values()\n",
    "    .to_frame()\n",
    "    .rename(columns={'object_name': 'object_count', 'street': 'street'})\n",
    "    .reset_index()\n",
    ")\n",
    "\n",
    "streets_with_one_object = streets_with_one_object[streets_with_one_object['object_count'] == 1]\n",
    "streets_with_one_object.head(10)\n",
    "\n",
    "print('Количество улиц с одним заведением общественного питания:', streets_with_one_object['object_count'].count())"
   ]
  },
  {
   "cell_type": "code",
   "execution_count": null,
   "metadata": {
    "scrolled": false
   },
   "outputs": [],
   "source": [
    "streets_with_one_object['street'] = streets_with_one_object['street'].str.strip()\n",
    "districts = streets_with_one_object.merge(moscows_districts, on='street', how='left').groupby('area').agg({'street': 'count'}).rename(columns={'street': 'street_count'}).sort_values('street_count', ascending=False).reset_index()\n",
    "districts"
   ]
  },
  {
   "cell_type": "markdown",
   "metadata": {},
   "source": [
    "**Выводы к задаче 7:**\n",
    "\n",
    "Улицы расположены в различных районах Москвы, но их объединяет следующее:\n",
    "1. Небольшая протяженность;\n",
    "2. Инфраструктура - удаленность от основных транспортных узлов (станций метро, вокзалов и т.д.);\n",
    "3. Не самое выгодное положение, например, поблизости МКАДа, где мало (или совсем отсутствуют) жилые или офисные здания. "
   ]
  },
  {
   "cell_type": "markdown",
   "metadata": {},
   "source": [
    "### 8. Распределение количества посадочных мест для улиц с большим количеством объектов общественного питания."
   ]
  },
  {
   "cell_type": "code",
   "execution_count": null,
   "metadata": {},
   "outputs": [],
   "source": [
    "# # Сохраним датасет с данными топ-10 улиц по количеству объектов общественного питания \n",
    "\n",
    "# top_10_streets_list = top_10_streets['street'].tolist()\n",
    "# top10_streets_df = df.query('street == @top_10_streets_list')"
   ]
  },
  {
   "cell_type": "code",
   "execution_count": null,
   "metadata": {
    "scrolled": false
   },
   "outputs": [],
   "source": [
    "# Визуализируем для наглядности\n",
    "\n",
    "streets_and_seats = pd.crosstab(index=top10_streets_df['street'], columns=[top10_streets_df['object_type']],\n",
    "            margins=True).style.background_gradient(cmap='YlGn')\n",
    "streets_and_seats"
   ]
  },
  {
   "cell_type": "markdown",
   "metadata": {},
   "source": [
    "**Выводы к задаче 8:**\n",
    "\n",
    "1. В Зеленограде столовая является одним из самых популярных видов объектов общественного питания, в городе их 87 (больше, чем кафе). Интересно, что в Зеленограде также относительно много кафетериев (21 заведение), даже больше, чем ресторанов, которых в городе 15.\n",
    "2. Для поселения Сосенское стоит отметить количество закусочных (16 заведений), которые почти не встречаются на других Топ-10 улицах по количеству объектов общественного питания.\n",
    "3. На проспекте Мира находится самое большое количество кафе, возможно, это связано с наличием крупных объектов развлекательной инфраструктуры, таких как ВДНХ, Ботанический сад МГУ «Аптекарский огород». Кроме того, на улице находится 8 отделов кулинарии.\n",
    "4. На Кутузовском и Ленинградском проспектах больше всего ресторанов (по 48 заведений), среди улиц с большим количеством объектов общественного питания."
   ]
  },
  {
   "cell_type": "markdown",
   "metadata": {},
   "source": [
    "### Общий вывод\n"
   ]
  },
  {
   "cell_type": "markdown",
   "metadata": {},
   "source": [
    "Вероятно, стоит рассмотреть следующие виды заведений и места под открытие:\n",
    "\n",
    "1. Кафе с небольшим количеством мест (до 25-30) в поселении Сосенском. Это муниципальное образование, которое относится к району новой Москвы, где уже несколько лет идет строительство новых жилищных комплексов и развивается инфраструктура (в т.ч. туда протянули Сокольническую линию московского метро). За десять лет население п. Сосенского увеличилось втрое. Застройщики отводят первые этажи новых ЖК под коммерческую недвижимость, как правило — это небольшие помещения, которые можно рассмотреть под открытие кафе на 10-30 мест. Кроме того, можно рассмотреть открытие семейного кафе, т.к. в новых районах много молодых семей с детьми. \n",
    "** Риски: высокая конкуренция, большое количество заведений открывается, нужно продумать стратегию, чтобы выделиться, завоевать и удержать посетителей.  \n",
    "\n",
    "2. Кафе на проспекте Вернадского (до 50 мест). На данной улице расположено много крупных университетов (МГУ, МГИМО, РАНХиГС, МИРЭА, МПГУ, Российский университет дружбы народов и другие). При открытии кафе, можно ориентироваться на студентов, преподавателей.\n",
    "** Риски: дорогая аренда, сезонность.\n"
   ]
  },
  {
   "cell_type": "markdown",
   "metadata": {},
   "source": [
    "<a class=\"anchor\" id=\"21-bullet\">"
   ]
  },
  {
   "cell_type": "markdown",
   "metadata": {},
   "source": [
    "<hr style=\"border: 2px solid green;\" />"
   ]
  }
 ],
 "metadata": {
  "ExecuteTimeLog": [
   {
    "duration": 620,
    "start_time": "2021-09-22T10:13:09.481Z"
   },
   {
    "duration": 54,
    "start_time": "2021-09-22T10:13:34.472Z"
   },
   {
    "duration": 16,
    "start_time": "2021-09-22T10:13:43.911Z"
   },
   {
    "duration": 581,
    "start_time": "2021-09-22T10:16:39.769Z"
   },
   {
    "duration": 338,
    "start_time": "2021-09-22T10:16:45.710Z"
   },
   {
    "duration": 348,
    "start_time": "2021-09-22T10:17:21.472Z"
   },
   {
    "duration": 352,
    "start_time": "2021-09-22T10:17:29.031Z"
   },
   {
    "duration": 19,
    "start_time": "2021-09-22T10:17:54.146Z"
   },
   {
    "duration": 16,
    "start_time": "2021-09-22T10:18:11.046Z"
   },
   {
    "duration": 7,
    "start_time": "2021-09-22T10:21:06.172Z"
   },
   {
    "duration": 9,
    "start_time": "2021-09-22T10:21:14.574Z"
   },
   {
    "duration": 11,
    "start_time": "2021-09-22T10:21:55.630Z"
   },
   {
    "duration": 116,
    "start_time": "2021-09-22T10:22:38.817Z"
   },
   {
    "duration": 130,
    "start_time": "2021-09-22T10:22:54.640Z"
   },
   {
    "duration": 138,
    "start_time": "2021-09-22T10:23:06.104Z"
   },
   {
    "duration": 12,
    "start_time": "2021-09-22T10:23:22.369Z"
   },
   {
    "duration": 11,
    "start_time": "2021-09-22T10:24:11.572Z"
   },
   {
    "duration": 253,
    "start_time": "2021-09-22T10:24:17.835Z"
   },
   {
    "duration": 1093,
    "start_time": "2021-09-22T10:25:11.776Z"
   },
   {
    "duration": 812,
    "start_time": "2021-09-22T10:25:31.409Z"
   },
   {
    "duration": 501,
    "start_time": "2021-09-22T10:25:37.330Z"
   },
   {
    "duration": 53,
    "start_time": "2021-09-22T10:25:38.285Z"
   },
   {
    "duration": 10,
    "start_time": "2021-09-22T10:25:38.432Z"
   },
   {
    "duration": 18,
    "start_time": "2021-09-22T10:25:38.571Z"
   },
   {
    "duration": 11,
    "start_time": "2021-09-22T10:25:38.853Z"
   },
   {
    "duration": 367,
    "start_time": "2021-09-22T10:25:38.986Z"
   },
   {
    "duration": 193,
    "start_time": "2021-09-22T10:25:45.641Z"
   },
   {
    "duration": 189,
    "start_time": "2021-09-22T10:28:55.222Z"
   },
   {
    "duration": 10,
    "start_time": "2021-09-22T10:40:35.632Z"
   },
   {
    "duration": 11,
    "start_time": "2021-09-22T10:41:19.146Z"
   },
   {
    "duration": 261,
    "start_time": "2021-09-22T10:41:28.309Z"
   },
   {
    "duration": 268,
    "start_time": "2021-09-22T10:41:32.092Z"
   },
   {
    "duration": 253,
    "start_time": "2021-09-22T10:41:56.451Z"
   },
   {
    "duration": 283,
    "start_time": "2021-09-22T10:42:17.091Z"
   },
   {
    "duration": 395,
    "start_time": "2021-09-22T10:48:37.616Z"
   },
   {
    "duration": 3,
    "start_time": "2021-09-22T10:48:49.420Z"
   },
   {
    "duration": 4,
    "start_time": "2021-09-22T10:48:55.490Z"
   },
   {
    "duration": 5,
    "start_time": "2021-09-22T10:49:01.171Z"
   },
   {
    "duration": 5,
    "start_time": "2021-09-22T10:49:19.649Z"
   },
   {
    "duration": 10,
    "start_time": "2021-09-22T10:49:33.603Z"
   },
   {
    "duration": 13,
    "start_time": "2021-09-22T10:49:43.012Z"
   },
   {
    "duration": 8,
    "start_time": "2021-09-22T10:50:07.028Z"
   },
   {
    "duration": 113,
    "start_time": "2021-09-22T10:50:17.197Z"
   },
   {
    "duration": 7,
    "start_time": "2021-09-22T10:50:30.972Z"
   },
   {
    "duration": 106,
    "start_time": "2021-09-22T10:50:49.443Z"
   },
   {
    "duration": 16,
    "start_time": "2021-09-22T10:50:57.383Z"
   },
   {
    "duration": 4,
    "start_time": "2021-09-22T10:51:09.958Z"
   },
   {
    "duration": 5,
    "start_time": "2021-09-22T10:51:12.829Z"
   },
   {
    "duration": 15,
    "start_time": "2021-09-22T10:51:16.382Z"
   },
   {
    "duration": 16,
    "start_time": "2021-09-22T10:51:54.601Z"
   },
   {
    "duration": 15,
    "start_time": "2021-09-22T10:52:32.848Z"
   },
   {
    "duration": 16,
    "start_time": "2021-09-22T10:52:42.631Z"
   },
   {
    "duration": 14,
    "start_time": "2021-09-22T10:52:49.397Z"
   },
   {
    "duration": 18,
    "start_time": "2021-09-22T10:53:06.935Z"
   },
   {
    "duration": 346,
    "start_time": "2021-09-22T10:54:18.135Z"
   },
   {
    "duration": 379,
    "start_time": "2021-09-22T10:54:28.585Z"
   },
   {
    "duration": 131,
    "start_time": "2021-09-22T10:55:53.130Z"
   },
   {
    "duration": 115,
    "start_time": "2021-09-22T10:56:00.490Z"
   },
   {
    "duration": 13,
    "start_time": "2021-09-22T10:56:10.370Z"
   },
   {
    "duration": 16,
    "start_time": "2021-09-22T10:56:20.263Z"
   },
   {
    "duration": 15,
    "start_time": "2021-09-22T10:57:44.682Z"
   },
   {
    "duration": 414,
    "start_time": "2021-09-22T11:34:03.972Z"
   },
   {
    "duration": 206,
    "start_time": "2021-09-22T11:34:10.596Z"
   },
   {
    "duration": 354,
    "start_time": "2021-09-22T11:34:14.751Z"
   },
   {
    "duration": 257,
    "start_time": "2021-09-22T11:34:20.592Z"
   },
   {
    "duration": 367,
    "start_time": "2021-09-22T11:34:38.408Z"
   },
   {
    "duration": 370,
    "start_time": "2021-09-22T11:37:09.940Z"
   },
   {
    "duration": 280,
    "start_time": "2021-09-22T11:37:14.580Z"
   },
   {
    "duration": 245,
    "start_time": "2021-09-22T11:38:55.549Z"
   },
   {
    "duration": 365,
    "start_time": "2021-09-22T11:39:12.978Z"
   },
   {
    "duration": 375,
    "start_time": "2021-09-22T12:10:15.809Z"
   },
   {
    "duration": 251,
    "start_time": "2021-09-22T12:10:18.882Z"
   },
   {
    "duration": 367,
    "start_time": "2021-09-22T12:10:31.927Z"
   },
   {
    "duration": 250,
    "start_time": "2021-09-22T12:10:41.393Z"
   },
   {
    "duration": 248,
    "start_time": "2021-09-22T12:11:19.793Z"
   },
   {
    "duration": 247,
    "start_time": "2021-09-22T12:11:26.613Z"
   },
   {
    "duration": 247,
    "start_time": "2021-09-22T12:11:31.323Z"
   },
   {
    "duration": 268,
    "start_time": "2021-09-22T12:11:39.059Z"
   },
   {
    "duration": 666,
    "start_time": "2021-09-22T12:12:22.315Z"
   },
   {
    "duration": 342,
    "start_time": "2021-09-22T12:12:31.742Z"
   },
   {
    "duration": 206,
    "start_time": "2021-09-22T12:12:59.994Z"
   },
   {
    "duration": 746,
    "start_time": "2021-09-22T15:31:36.132Z"
   },
   {
    "duration": 848,
    "start_time": "2021-09-22T15:31:44.463Z"
   },
   {
    "duration": 355,
    "start_time": "2021-09-22T18:16:34.292Z"
   },
   {
    "duration": 342,
    "start_time": "2021-09-22T18:17:11.397Z"
   },
   {
    "duration": 3,
    "start_time": "2021-09-22T18:17:31.475Z"
   },
   {
    "duration": 3,
    "start_time": "2021-09-22T18:17:34.701Z"
   },
   {
    "duration": 55,
    "start_time": "2021-09-22T18:17:34.706Z"
   },
   {
    "duration": 9,
    "start_time": "2021-09-22T18:17:34.764Z"
   },
   {
    "duration": 19,
    "start_time": "2021-09-22T18:17:34.775Z"
   },
   {
    "duration": 11,
    "start_time": "2021-09-22T18:17:34.796Z"
   },
   {
    "duration": 272,
    "start_time": "2021-09-22T18:17:34.808Z"
   },
   {
    "duration": 524,
    "start_time": "2021-09-22T18:17:35.081Z"
   },
   {
    "duration": 10,
    "start_time": "2021-09-22T18:17:35.607Z"
   },
   {
    "duration": 222,
    "start_time": "2021-09-22T18:17:35.620Z"
   },
   {
    "duration": 207,
    "start_time": "2021-09-22T18:17:35.844Z"
   },
   {
    "duration": 25,
    "start_time": "2021-09-22T18:17:36.052Z"
   },
   {
    "duration": 337,
    "start_time": "2021-09-22T18:17:48.788Z"
   },
   {
    "duration": 310,
    "start_time": "2021-09-22T18:18:28.932Z"
   },
   {
    "duration": 64,
    "start_time": "2021-09-22T18:18:56.189Z"
   },
   {
    "duration": 616,
    "start_time": "2021-09-22T18:19:08.687Z"
   },
   {
    "duration": 63,
    "start_time": "2021-09-22T18:19:21.863Z"
   },
   {
    "duration": 66,
    "start_time": "2021-09-22T18:19:29.041Z"
   },
   {
    "duration": 52,
    "start_time": "2021-09-22T18:19:29.110Z"
   },
   {
    "duration": 12,
    "start_time": "2021-09-22T18:19:29.165Z"
   },
   {
    "duration": 18,
    "start_time": "2021-09-22T18:19:29.179Z"
   },
   {
    "duration": 11,
    "start_time": "2021-09-22T18:19:29.198Z"
   },
   {
    "duration": 281,
    "start_time": "2021-09-22T18:19:29.211Z"
   },
   {
    "duration": 692,
    "start_time": "2021-09-22T18:19:29.493Z"
   },
   {
    "duration": -629,
    "start_time": "2021-09-22T18:19:30.816Z"
   },
   {
    "duration": -633,
    "start_time": "2021-09-22T18:19:30.821Z"
   },
   {
    "duration": -636,
    "start_time": "2021-09-22T18:19:30.825Z"
   },
   {
    "duration": -639,
    "start_time": "2021-09-22T18:19:30.829Z"
   },
   {
    "duration": 295,
    "start_time": "2021-09-22T18:19:56.440Z"
   },
   {
    "duration": 291,
    "start_time": "2021-09-22T18:20:20.639Z"
   },
   {
    "duration": 312,
    "start_time": "2021-09-22T18:20:28.673Z"
   },
   {
    "duration": 309,
    "start_time": "2021-09-22T18:20:32.267Z"
   },
   {
    "duration": 301,
    "start_time": "2021-09-22T18:20:45.611Z"
   },
   {
    "duration": 3,
    "start_time": "2021-09-22T18:21:42.763Z"
   },
   {
    "duration": 2,
    "start_time": "2021-09-22T18:21:43.846Z"
   },
   {
    "duration": 16,
    "start_time": "2021-09-22T18:21:50.688Z"
   },
   {
    "duration": 221,
    "start_time": "2021-09-22T18:21:51.206Z"
   },
   {
    "duration": 222,
    "start_time": "2021-09-22T18:21:52.122Z"
   },
   {
    "duration": 423,
    "start_time": "2021-09-22T18:22:01.750Z"
   },
   {
    "duration": 203,
    "start_time": "2021-09-22T18:22:06.629Z"
   },
   {
    "duration": 196,
    "start_time": "2021-09-22T18:22:16.760Z"
   },
   {
    "duration": 202,
    "start_time": "2021-09-22T18:22:19.041Z"
   },
   {
    "duration": 241,
    "start_time": "2021-09-22T18:22:35.466Z"
   },
   {
    "duration": 256,
    "start_time": "2021-09-22T18:22:53.575Z"
   },
   {
    "duration": 3,
    "start_time": "2021-09-22T18:23:11.678Z"
   },
   {
    "duration": 11,
    "start_time": "2021-09-22T18:23:41.877Z"
   },
   {
    "duration": 15,
    "start_time": "2021-09-22T18:29:35.234Z"
   },
   {
    "duration": 402,
    "start_time": "2021-09-22T18:30:37.800Z"
   },
   {
    "duration": 18,
    "start_time": "2021-09-22T18:31:02.923Z"
   },
   {
    "duration": 269,
    "start_time": "2021-09-22T18:31:05.939Z"
   },
   {
    "duration": 430,
    "start_time": "2021-09-22T18:31:54.265Z"
   },
   {
    "duration": 125,
    "start_time": "2021-09-22T18:32:19.518Z"
   },
   {
    "duration": 122,
    "start_time": "2021-09-22T18:32:36.245Z"
   },
   {
    "duration": 835,
    "start_time": "2021-09-22T18:33:54.735Z"
   },
   {
    "duration": 436,
    "start_time": "2021-09-22T18:34:01.060Z"
   },
   {
    "duration": 700,
    "start_time": "2021-09-22T18:34:06.472Z"
   },
   {
    "duration": 523,
    "start_time": "2021-09-22T18:34:22.553Z"
   },
   {
    "duration": 315,
    "start_time": "2021-09-22T18:36:20.874Z"
   },
   {
    "duration": 352,
    "start_time": "2021-09-22T18:36:41.367Z"
   },
   {
    "duration": 351,
    "start_time": "2021-09-22T18:37:22.443Z"
   },
   {
    "duration": 16,
    "start_time": "2021-09-22T18:38:58.514Z"
   },
   {
    "duration": 17,
    "start_time": "2021-09-22T18:39:03.379Z"
   },
   {
    "duration": 20,
    "start_time": "2021-09-22T18:39:23.743Z"
   },
   {
    "duration": 118,
    "start_time": "2021-09-22T18:39:57.759Z"
   },
   {
    "duration": 113,
    "start_time": "2021-09-22T18:40:03.264Z"
   },
   {
    "duration": 473,
    "start_time": "2021-09-22T18:41:51.986Z"
   },
   {
    "duration": 11,
    "start_time": "2021-09-22T18:42:03.270Z"
   },
   {
    "duration": 10,
    "start_time": "2021-09-22T18:42:16.912Z"
   },
   {
    "duration": 14,
    "start_time": "2021-09-22T18:42:24.641Z"
   },
   {
    "duration": 4,
    "start_time": "2021-09-22T18:42:35.031Z"
   },
   {
    "duration": 13,
    "start_time": "2021-09-22T18:42:53.757Z"
   },
   {
    "duration": 12,
    "start_time": "2021-09-22T18:43:41.370Z"
   },
   {
    "duration": 18,
    "start_time": "2021-09-22T18:45:19.902Z"
   },
   {
    "duration": 14,
    "start_time": "2021-09-22T18:45:34.300Z"
   },
   {
    "duration": 19,
    "start_time": "2021-09-22T18:45:44.720Z"
   },
   {
    "duration": 660,
    "start_time": "2021-09-22T18:45:51.160Z"
   },
   {
    "duration": 369,
    "start_time": "2021-09-22T18:46:01.794Z"
   },
   {
    "duration": 466,
    "start_time": "2021-09-22T21:25:15.192Z"
   },
   {
    "duration": 410,
    "start_time": "2021-09-22T21:25:17.995Z"
   },
   {
    "duration": 9,
    "start_time": "2021-09-22T21:25:21.716Z"
   },
   {
    "duration": 372,
    "start_time": "2021-09-22T21:26:36.325Z"
   },
   {
    "duration": 591,
    "start_time": "2021-09-22T21:26:50.133Z"
   },
   {
    "duration": 21,
    "start_time": "2021-09-22T21:32:05.756Z"
   },
   {
    "duration": 21,
    "start_time": "2021-09-22T21:32:10.092Z"
   },
   {
    "duration": 1179,
    "start_time": "2021-09-23T10:03:30.196Z"
   },
   {
    "duration": 50,
    "start_time": "2021-09-23T10:03:31.377Z"
   },
   {
    "duration": 10,
    "start_time": "2021-09-23T10:03:31.430Z"
   },
   {
    "duration": 21,
    "start_time": "2021-09-23T10:03:31.442Z"
   },
   {
    "duration": 14,
    "start_time": "2021-09-23T10:03:31.465Z"
   },
   {
    "duration": 3,
    "start_time": "2021-09-23T10:03:31.499Z"
   },
   {
    "duration": 242,
    "start_time": "2021-09-23T10:03:31.503Z"
   },
   {
    "duration": 12,
    "start_time": "2021-09-23T10:03:31.747Z"
   },
   {
    "duration": 265,
    "start_time": "2021-09-23T10:03:31.761Z"
   },
   {
    "duration": 19,
    "start_time": "2021-09-23T10:03:32.028Z"
   },
   {
    "duration": 367,
    "start_time": "2021-09-23T10:03:32.049Z"
   },
   {
    "duration": 760,
    "start_time": "2021-09-23T10:03:32.418Z"
   },
   {
    "duration": -359,
    "start_time": "2021-09-23T10:03:33.539Z"
   },
   {
    "duration": -361,
    "start_time": "2021-09-23T10:03:33.542Z"
   },
   {
    "duration": 20,
    "start_time": "2021-09-23T10:03:38.981Z"
   },
   {
    "duration": 1112,
    "start_time": "2021-09-23T10:04:03.388Z"
   },
   {
    "duration": 52,
    "start_time": "2021-09-23T10:04:04.502Z"
   },
   {
    "duration": 10,
    "start_time": "2021-09-23T10:04:04.556Z"
   },
   {
    "duration": 17,
    "start_time": "2021-09-23T10:04:04.568Z"
   },
   {
    "duration": 22,
    "start_time": "2021-09-23T10:04:04.587Z"
   },
   {
    "duration": 2,
    "start_time": "2021-09-23T10:04:04.610Z"
   },
   {
    "duration": 241,
    "start_time": "2021-09-23T10:04:04.614Z"
   },
   {
    "duration": 13,
    "start_time": "2021-09-23T10:04:04.857Z"
   },
   {
    "duration": 265,
    "start_time": "2021-09-23T10:04:04.872Z"
   },
   {
    "duration": 18,
    "start_time": "2021-09-23T10:04:05.139Z"
   },
   {
    "duration": 378,
    "start_time": "2021-09-23T10:04:05.158Z"
   },
   {
    "duration": 56,
    "start_time": "2021-09-23T10:04:05.538Z"
   },
   {
    "duration": -344,
    "start_time": "2021-09-23T10:04:05.939Z"
   },
   {
    "duration": -345,
    "start_time": "2021-09-23T10:04:05.941Z"
   },
   {
    "duration": 20,
    "start_time": "2021-09-23T10:06:03.830Z"
   },
   {
    "duration": 17335,
    "start_time": "2021-09-27T05:28:47.871Z"
   },
   {
    "duration": 1968,
    "start_time": "2021-09-27T05:29:05.208Z"
   },
   {
    "duration": -119,
    "start_time": "2021-09-27T05:29:07.298Z"
   },
   {
    "duration": -124,
    "start_time": "2021-09-27T05:29:07.304Z"
   },
   {
    "duration": -133,
    "start_time": "2021-09-27T05:29:07.314Z"
   },
   {
    "duration": -137,
    "start_time": "2021-09-27T05:29:07.319Z"
   },
   {
    "duration": -142,
    "start_time": "2021-09-27T05:29:07.325Z"
   },
   {
    "duration": -150,
    "start_time": "2021-09-27T05:29:07.334Z"
   },
   {
    "duration": -157,
    "start_time": "2021-09-27T05:29:07.341Z"
   },
   {
    "duration": -161,
    "start_time": "2021-09-27T05:29:07.346Z"
   },
   {
    "duration": -166,
    "start_time": "2021-09-27T05:29:07.352Z"
   },
   {
    "duration": -171,
    "start_time": "2021-09-27T05:29:07.358Z"
   },
   {
    "duration": -174,
    "start_time": "2021-09-27T05:29:07.362Z"
   },
   {
    "duration": -180,
    "start_time": "2021-09-27T05:29:07.368Z"
   },
   {
    "duration": -184,
    "start_time": "2021-09-27T05:29:07.373Z"
   },
   {
    "duration": -189,
    "start_time": "2021-09-27T05:29:07.379Z"
   },
   {
    "duration": -193,
    "start_time": "2021-09-27T05:29:07.384Z"
   },
   {
    "duration": -211,
    "start_time": "2021-09-27T05:29:07.403Z"
   },
   {
    "duration": -216,
    "start_time": "2021-09-27T05:29:07.409Z"
   },
   {
    "duration": -223,
    "start_time": "2021-09-27T05:29:07.417Z"
   },
   {
    "duration": -229,
    "start_time": "2021-09-27T05:29:07.423Z"
   },
   {
    "duration": -236,
    "start_time": "2021-09-27T05:29:07.431Z"
   },
   {
    "duration": -245,
    "start_time": "2021-09-27T05:29:07.441Z"
   },
   {
    "duration": -252,
    "start_time": "2021-09-27T05:29:07.449Z"
   },
   {
    "duration": -259,
    "start_time": "2021-09-27T05:29:07.457Z"
   },
   {
    "duration": -264,
    "start_time": "2021-09-27T05:29:07.463Z"
   },
   {
    "duration": -271,
    "start_time": "2021-09-27T05:29:07.471Z"
   },
   {
    "duration": -277,
    "start_time": "2021-09-27T05:29:07.477Z"
   },
   {
    "duration": 417,
    "start_time": "2021-09-27T09:28:44.682Z"
   },
   {
    "duration": 1755,
    "start_time": "2021-09-27T09:28:48.866Z"
   },
   {
    "duration": 57,
    "start_time": "2021-09-27T09:28:50.623Z"
   },
   {
    "duration": 13,
    "start_time": "2021-09-27T09:28:50.684Z"
   },
   {
    "duration": 19,
    "start_time": "2021-09-27T09:28:50.699Z"
   },
   {
    "duration": 19,
    "start_time": "2021-09-27T09:28:50.720Z"
   },
   {
    "duration": 288,
    "start_time": "2021-09-27T09:28:50.741Z"
   },
   {
    "duration": 13,
    "start_time": "2021-09-27T09:28:51.032Z"
   },
   {
    "duration": 312,
    "start_time": "2021-09-27T09:28:51.048Z"
   },
   {
    "duration": 24,
    "start_time": "2021-09-27T09:28:51.363Z"
   },
   {
    "duration": 327,
    "start_time": "2021-09-27T09:28:51.389Z"
   },
   {
    "duration": 18,
    "start_time": "2021-09-27T09:28:51.719Z"
   },
   {
    "duration": 394,
    "start_time": "2021-09-27T09:28:51.739Z"
   },
   {
    "duration": 21,
    "start_time": "2021-09-27T09:28:52.135Z"
   },
   {
    "duration": 402,
    "start_time": "2021-09-27T09:28:52.157Z"
   },
   {
    "duration": 25,
    "start_time": "2021-09-27T09:28:52.561Z"
   },
   {
    "duration": 306,
    "start_time": "2021-09-27T09:28:52.587Z"
   },
   {
    "duration": 16,
    "start_time": "2021-09-27T09:28:52.895Z"
   },
   {
    "duration": 464,
    "start_time": "2021-09-27T09:28:52.913Z"
   },
   {
    "duration": 30,
    "start_time": "2021-09-27T09:28:53.380Z"
   },
   {
    "duration": 21,
    "start_time": "2021-09-27T09:28:53.412Z"
   },
   {
    "duration": 398,
    "start_time": "2021-09-27T09:28:53.435Z"
   },
   {
    "duration": 17,
    "start_time": "2021-09-27T09:28:53.835Z"
   },
   {
    "duration": 32,
    "start_time": "2021-09-27T09:28:53.855Z"
   },
   {
    "duration": 21,
    "start_time": "2021-09-27T09:28:53.890Z"
   },
   {
    "duration": 783,
    "start_time": "2021-09-27T09:28:53.912Z"
   },
   {
    "duration": 43,
    "start_time": "2021-09-27T09:28:54.698Z"
   },
   {
    "duration": 602,
    "start_time": "2021-09-27T09:28:54.743Z"
   },
   {
    "duration": 403,
    "start_time": "2021-09-27T09:28:55.347Z"
   },
   {
    "duration": 70,
    "start_time": "2021-09-27T09:28:59.596Z"
   },
   {
    "duration": 55,
    "start_time": "2021-09-27T09:29:00.089Z"
   },
   {
    "duration": 8,
    "start_time": "2021-09-27T09:29:06.818Z"
   },
   {
    "duration": 19,
    "start_time": "2021-09-27T09:29:07.659Z"
   },
   {
    "duration": 19,
    "start_time": "2021-09-27T09:29:10.498Z"
   },
   {
    "duration": 334,
    "start_time": "2021-09-27T09:29:11.072Z"
   },
   {
    "duration": 14,
    "start_time": "2021-09-27T09:29:15.593Z"
   },
   {
    "duration": 293,
    "start_time": "2021-09-27T09:29:16.533Z"
   },
   {
    "duration": 22,
    "start_time": "2021-09-27T09:29:17.377Z"
   },
   {
    "duration": 325,
    "start_time": "2021-09-27T09:29:17.585Z"
   },
   {
    "duration": 17,
    "start_time": "2021-09-27T09:29:17.912Z"
   },
   {
    "duration": 358,
    "start_time": "2021-09-27T09:29:17.951Z"
   },
   {
    "duration": 20,
    "start_time": "2021-09-27T09:29:18.538Z"
   },
   {
    "duration": 372,
    "start_time": "2021-09-27T09:29:18.720Z"
   },
   {
    "duration": 19,
    "start_time": "2021-09-27T09:29:19.340Z"
   },
   {
    "duration": 298,
    "start_time": "2021-09-27T09:29:19.500Z"
   },
   {
    "duration": 23,
    "start_time": "2021-09-27T09:29:20.073Z"
   },
   {
    "duration": 388,
    "start_time": "2021-09-27T09:29:20.293Z"
   },
   {
    "duration": 28,
    "start_time": "2021-09-27T09:29:21.031Z"
   },
   {
    "duration": 21,
    "start_time": "2021-09-27T09:29:21.400Z"
   },
   {
    "duration": 381,
    "start_time": "2021-09-27T09:29:21.620Z"
   },
   {
    "duration": 19,
    "start_time": "2021-09-27T09:29:22.244Z"
   },
   {
    "duration": 7,
    "start_time": "2021-09-27T09:29:22.465Z"
   },
   {
    "duration": 21,
    "start_time": "2021-09-27T09:29:23.108Z"
   },
   {
    "duration": 92,
    "start_time": "2021-09-27T09:29:23.328Z"
   },
   {
    "duration": 37,
    "start_time": "2021-09-27T09:29:23.530Z"
   },
   {
    "duration": 128,
    "start_time": "2021-09-27T09:29:23.734Z"
   },
   {
    "duration": 129,
    "start_time": "2021-09-27T09:29:25.004Z"
   },
   {
    "duration": 20330,
    "start_time": "2021-09-28T04:12:34.019Z"
   },
   {
    "duration": 50,
    "start_time": "2021-09-28T04:12:54.351Z"
   },
   {
    "duration": 9,
    "start_time": "2021-09-28T04:12:54.404Z"
   },
   {
    "duration": 19,
    "start_time": "2021-09-28T04:12:54.415Z"
   },
   {
    "duration": 17,
    "start_time": "2021-09-28T04:12:54.436Z"
   },
   {
    "duration": 228,
    "start_time": "2021-09-28T04:12:54.454Z"
   },
   {
    "duration": 12,
    "start_time": "2021-09-28T04:12:54.683Z"
   },
   {
    "duration": 248,
    "start_time": "2021-09-28T04:12:54.698Z"
   },
   {
    "duration": 17,
    "start_time": "2021-09-28T04:12:54.950Z"
   },
   {
    "duration": 320,
    "start_time": "2021-09-28T04:12:54.969Z"
   },
   {
    "duration": 17,
    "start_time": "2021-09-28T04:12:55.291Z"
   },
   {
    "duration": 367,
    "start_time": "2021-09-28T04:12:55.310Z"
   },
   {
    "duration": 21,
    "start_time": "2021-09-28T04:12:55.679Z"
   },
   {
    "duration": 395,
    "start_time": "2021-09-28T04:12:55.702Z"
   },
   {
    "duration": 20,
    "start_time": "2021-09-28T04:12:56.099Z"
   },
   {
    "duration": 336,
    "start_time": "2021-09-28T04:12:56.120Z"
   },
   {
    "duration": 16,
    "start_time": "2021-09-28T04:12:56.457Z"
   },
   {
    "duration": 447,
    "start_time": "2021-09-28T04:12:56.475Z"
   },
   {
    "duration": 33,
    "start_time": "2021-09-28T04:12:56.924Z"
   },
   {
    "duration": 21,
    "start_time": "2021-09-28T04:12:56.959Z"
   },
   {
    "duration": 371,
    "start_time": "2021-09-28T04:12:56.981Z"
   },
   {
    "duration": 19,
    "start_time": "2021-09-28T04:12:57.354Z"
   },
   {
    "duration": 7,
    "start_time": "2021-09-28T04:12:57.376Z"
   },
   {
    "duration": 20,
    "start_time": "2021-09-28T04:12:57.385Z"
   },
   {
    "duration": 61324,
    "start_time": "2021-09-28T04:12:57.407Z"
   },
   {
    "duration": 49,
    "start_time": "2021-09-28T04:13:58.732Z"
   },
   {
    "duration": 714,
    "start_time": "2021-09-28T04:13:58.783Z"
   },
   {
    "duration": 418,
    "start_time": "2021-09-28T04:13:59.499Z"
   },
   {
    "duration": 115,
    "start_time": "2021-09-28T04:59:18.057Z"
   },
   {
    "duration": 1540,
    "start_time": "2021-09-28T19:02:29.980Z"
   },
   {
    "duration": 365,
    "start_time": "2021-09-28T19:03:17.266Z"
   },
   {
    "duration": 2061,
    "start_time": "2021-09-28T19:03:24.350Z"
   },
   {
    "duration": 64,
    "start_time": "2021-09-28T19:03:26.413Z"
   },
   {
    "duration": 13,
    "start_time": "2021-09-28T19:03:26.480Z"
   },
   {
    "duration": 33,
    "start_time": "2021-09-28T19:03:26.495Z"
   },
   {
    "duration": 33,
    "start_time": "2021-09-28T19:03:26.531Z"
   },
   {
    "duration": 22,
    "start_time": "2021-09-28T19:03:26.567Z"
   },
   {
    "duration": 24,
    "start_time": "2021-09-28T19:03:26.592Z"
   },
   {
    "duration": 418,
    "start_time": "2021-09-28T19:03:26.618Z"
   },
   {
    "duration": 32,
    "start_time": "2021-09-28T19:03:27.040Z"
   },
   {
    "duration": 460,
    "start_time": "2021-09-28T19:03:27.077Z"
   },
   {
    "duration": 39,
    "start_time": "2021-09-28T19:03:27.541Z"
   },
   {
    "duration": 546,
    "start_time": "2021-09-28T19:03:27.583Z"
   },
   {
    "duration": 37,
    "start_time": "2021-09-28T19:03:28.131Z"
   },
   {
    "duration": 567,
    "start_time": "2021-09-28T19:03:28.171Z"
   },
   {
    "duration": 45,
    "start_time": "2021-09-28T19:03:28.741Z"
   },
   {
    "duration": 624,
    "start_time": "2021-09-28T19:03:28.789Z"
   },
   {
    "duration": 44,
    "start_time": "2021-09-28T19:03:29.416Z"
   },
   {
    "duration": 506,
    "start_time": "2021-09-28T19:03:29.463Z"
   },
   {
    "duration": 24,
    "start_time": "2021-09-28T19:03:29.972Z"
   },
   {
    "duration": 724,
    "start_time": "2021-09-28T19:03:29.999Z"
   },
   {
    "duration": 52,
    "start_time": "2021-09-28T19:03:30.726Z"
   },
   {
    "duration": 48,
    "start_time": "2021-09-28T19:03:30.781Z"
   },
   {
    "duration": 617,
    "start_time": "2021-09-28T19:03:30.831Z"
   },
   {
    "duration": 34,
    "start_time": "2021-09-28T19:03:31.451Z"
   },
   {
    "duration": 10,
    "start_time": "2021-09-28T19:03:31.488Z"
   },
   {
    "duration": 57,
    "start_time": "2021-09-28T19:03:31.500Z"
   },
   {
    "duration": 859,
    "start_time": "2021-09-28T19:03:31.563Z"
   },
   {
    "duration": 88,
    "start_time": "2021-09-28T19:03:32.425Z"
   },
   {
    "duration": 842,
    "start_time": "2021-09-28T19:03:32.515Z"
   },
   {
    "duration": 453,
    "start_time": "2021-09-28T19:03:33.361Z"
   },
   {
    "duration": 29,
    "start_time": "2021-09-28T19:07:31.420Z"
   },
   {
    "duration": 8,
    "start_time": "2021-09-28T19:07:49.521Z"
   },
   {
    "duration": 10,
    "start_time": "2021-09-28T19:08:06.511Z"
   },
   {
    "duration": 11,
    "start_time": "2021-09-28T19:08:16.969Z"
   },
   {
    "duration": 549,
    "start_time": "2021-09-28T19:08:27.366Z"
   },
   {
    "duration": 15,
    "start_time": "2021-09-28T19:08:47.965Z"
   },
   {
    "duration": 8,
    "start_time": "2021-09-28T19:09:35.189Z"
   },
   {
    "duration": 8,
    "start_time": "2021-09-28T19:09:47.451Z"
   },
   {
    "duration": 9,
    "start_time": "2021-09-28T19:10:33.523Z"
   },
   {
    "duration": 368,
    "start_time": "2021-09-28T19:10:49.611Z"
   },
   {
    "duration": 11,
    "start_time": "2021-09-28T19:10:58.076Z"
   },
   {
    "duration": 373,
    "start_time": "2021-09-28T19:11:06.258Z"
   },
   {
    "duration": 8,
    "start_time": "2021-09-28T19:11:12.608Z"
   },
   {
    "duration": 8,
    "start_time": "2021-09-28T19:11:41.651Z"
   },
   {
    "duration": 8,
    "start_time": "2021-09-28T19:11:44.209Z"
   },
   {
    "duration": 9,
    "start_time": "2021-09-28T19:11:44.958Z"
   },
   {
    "duration": 16,
    "start_time": "2021-09-28T19:11:51.906Z"
   },
   {
    "duration": 20,
    "start_time": "2021-09-28T19:11:58.045Z"
   },
   {
    "duration": 33,
    "start_time": "2021-09-28T19:14:06.572Z"
   },
   {
    "duration": 138,
    "start_time": "2021-09-28T19:19:48.103Z"
   },
   {
    "duration": 42,
    "start_time": "2021-09-28T19:19:59.370Z"
   },
   {
    "duration": 46,
    "start_time": "2021-09-28T19:20:26.699Z"
   },
   {
    "duration": 36,
    "start_time": "2021-09-28T19:20:41.440Z"
   },
   {
    "duration": 24,
    "start_time": "2021-09-28T19:21:10.781Z"
   },
   {
    "duration": 40,
    "start_time": "2021-09-28T19:21:21.541Z"
   },
   {
    "duration": 13,
    "start_time": "2021-09-28T19:21:52.541Z"
   },
   {
    "duration": 24,
    "start_time": "2021-09-28T19:22:08.979Z"
   },
   {
    "duration": 77,
    "start_time": "2021-09-28T19:23:20.208Z"
   },
   {
    "duration": 79,
    "start_time": "2021-09-28T19:23:31.738Z"
   },
   {
    "duration": 57,
    "start_time": "2021-09-28T19:24:04.980Z"
   },
   {
    "duration": 8,
    "start_time": "2021-09-28T19:24:59.657Z"
   },
   {
    "duration": 8,
    "start_time": "2021-09-28T19:25:09.651Z"
   },
   {
    "duration": 10,
    "start_time": "2021-09-28T19:26:15.376Z"
   },
   {
    "duration": 10,
    "start_time": "2021-09-28T19:26:27.561Z"
   },
   {
    "duration": 11,
    "start_time": "2021-09-28T19:27:23.865Z"
   },
   {
    "duration": 12,
    "start_time": "2021-09-28T19:27:45.342Z"
   },
   {
    "duration": 10,
    "start_time": "2021-09-28T19:28:04.025Z"
   },
   {
    "duration": 35,
    "start_time": "2021-09-28T19:28:39.659Z"
   },
   {
    "duration": 28,
    "start_time": "2021-09-28T19:29:18.418Z"
   },
   {
    "duration": 21,
    "start_time": "2021-09-28T19:29:48.055Z"
   },
   {
    "duration": 71,
    "start_time": "2021-09-28T19:30:35.747Z"
   },
   {
    "duration": 8,
    "start_time": "2021-09-28T19:30:43.517Z"
   },
   {
    "duration": 65,
    "start_time": "2021-09-28T19:30:54.777Z"
   },
   {
    "duration": 9,
    "start_time": "2021-09-28T19:31:03.726Z"
   },
   {
    "duration": 20,
    "start_time": "2021-09-28T19:31:39.935Z"
   },
   {
    "duration": 169,
    "start_time": "2021-09-28T19:34:21.721Z"
   },
   {
    "duration": 8,
    "start_time": "2021-09-28T19:34:36.451Z"
   },
   {
    "duration": 27,
    "start_time": "2021-09-28T19:34:49.738Z"
   },
   {
    "duration": 405,
    "start_time": "2021-09-28T19:35:13.470Z"
   },
   {
    "duration": 428,
    "start_time": "2021-09-28T19:35:16.313Z"
   },
   {
    "duration": 27,
    "start_time": "2021-09-28T19:35:20.022Z"
   },
   {
    "duration": 20,
    "start_time": "2021-09-28T19:37:20.178Z"
   },
   {
    "duration": 43,
    "start_time": "2021-09-28T19:38:20.962Z"
   },
   {
    "duration": 21,
    "start_time": "2021-09-28T19:39:01.255Z"
   },
   {
    "duration": 117,
    "start_time": "2021-09-28T19:40:41.428Z"
   },
   {
    "duration": 21,
    "start_time": "2021-09-28T19:46:36.808Z"
   },
   {
    "duration": 112,
    "start_time": "2021-09-28T19:47:36.781Z"
   },
   {
    "duration": 115,
    "start_time": "2021-09-28T19:47:45.137Z"
   },
   {
    "duration": 121,
    "start_time": "2021-09-28T19:50:58.958Z"
   },
   {
    "duration": 126,
    "start_time": "2021-09-28T19:51:07.249Z"
   },
   {
    "duration": 127,
    "start_time": "2021-09-28T19:51:23.020Z"
   },
   {
    "duration": 118,
    "start_time": "2021-09-28T19:51:45.738Z"
   },
   {
    "duration": 8,
    "start_time": "2021-09-28T19:54:29.148Z"
   },
   {
    "duration": 415,
    "start_time": "2021-09-28T19:54:31.691Z"
   },
   {
    "duration": 344,
    "start_time": "2021-09-28T19:55:54.568Z"
   },
   {
    "duration": 354,
    "start_time": "2021-09-28T19:56:08.810Z"
   },
   {
    "duration": 5,
    "start_time": "2021-09-28T19:56:14.549Z"
   },
   {
    "duration": 5,
    "start_time": "2021-09-28T19:56:16.313Z"
   },
   {
    "duration": 6,
    "start_time": "2021-09-28T19:56:17.788Z"
   },
   {
    "duration": 349,
    "start_time": "2021-09-28T19:56:34.286Z"
   },
   {
    "duration": 5,
    "start_time": "2021-09-28T19:56:42.213Z"
   },
   {
    "duration": 363,
    "start_time": "2021-09-28T19:56:47.025Z"
   },
   {
    "duration": 360,
    "start_time": "2021-09-28T19:56:57.079Z"
   },
   {
    "duration": 24,
    "start_time": "2021-09-28T19:57:12.262Z"
   },
   {
    "duration": 236,
    "start_time": "2021-09-28T19:58:10.680Z"
   },
   {
    "duration": 121,
    "start_time": "2021-09-28T20:00:02.221Z"
   },
   {
    "duration": 124,
    "start_time": "2021-09-28T20:00:17.231Z"
   },
   {
    "duration": 450,
    "start_time": "2021-09-28T20:00:24.076Z"
   },
   {
    "duration": 389,
    "start_time": "2021-09-28T20:00:45.298Z"
   },
   {
    "duration": 406,
    "start_time": "2021-09-28T20:01:03.824Z"
   },
   {
    "duration": 415,
    "start_time": "2021-09-28T20:01:46.824Z"
   },
   {
    "duration": 370,
    "start_time": "2021-09-28T20:02:36.342Z"
   },
   {
    "duration": 365,
    "start_time": "2021-09-28T20:02:55.314Z"
   },
   {
    "duration": 430,
    "start_time": "2021-09-28T20:03:00.688Z"
   },
   {
    "duration": 430,
    "start_time": "2021-09-28T20:06:12.288Z"
   },
   {
    "duration": 789,
    "start_time": "2021-09-28T20:07:23.295Z"
   },
   {
    "duration": 778,
    "start_time": "2021-09-28T20:07:28.621Z"
   },
   {
    "duration": 956,
    "start_time": "2021-09-28T20:07:34.204Z"
   },
   {
    "duration": 1611,
    "start_time": "2021-09-28T20:09:54.969Z"
   },
   {
    "duration": 846,
    "start_time": "2021-09-28T20:10:00.433Z"
   },
   {
    "duration": 4,
    "start_time": "2021-09-28T20:10:19.378Z"
   },
   {
    "duration": 3,
    "start_time": "2021-09-28T20:10:26.927Z"
   },
   {
    "duration": 350,
    "start_time": "2021-09-28T20:10:30.085Z"
   },
   {
    "duration": 127,
    "start_time": "2021-09-28T20:10:34.151Z"
   },
   {
    "duration": 86,
    "start_time": "2021-09-28T20:10:34.281Z"
   },
   {
    "duration": 13,
    "start_time": "2021-09-28T20:10:34.370Z"
   },
   {
    "duration": 31,
    "start_time": "2021-09-28T20:10:34.386Z"
   },
   {
    "duration": 45,
    "start_time": "2021-09-28T20:10:34.420Z"
   },
   {
    "duration": 40,
    "start_time": "2021-09-28T20:10:34.468Z"
   },
   {
    "duration": 24,
    "start_time": "2021-09-28T20:10:34.512Z"
   },
   {
    "duration": 17,
    "start_time": "2021-09-28T20:10:34.542Z"
   },
   {
    "duration": 32,
    "start_time": "2021-09-28T20:10:34.563Z"
   },
   {
    "duration": 169,
    "start_time": "2021-09-28T20:10:34.598Z"
   },
   {
    "duration": 19,
    "start_time": "2021-09-28T20:10:34.769Z"
   },
   {
    "duration": 96,
    "start_time": "2021-09-28T20:10:34.791Z"
   },
   {
    "duration": 29,
    "start_time": "2021-09-28T20:10:34.890Z"
   },
   {
    "duration": 12,
    "start_time": "2021-09-28T20:10:34.922Z"
   },
   {
    "duration": 8,
    "start_time": "2021-09-28T20:10:34.957Z"
   },
   {
    "duration": 21,
    "start_time": "2021-09-28T20:10:34.967Z"
   },
   {
    "duration": 86,
    "start_time": "2021-09-28T20:10:34.991Z"
   },
   {
    "duration": 18,
    "start_time": "2021-09-28T20:10:35.079Z"
   },
   {
    "duration": 192,
    "start_time": "2021-09-28T20:10:35.100Z"
   },
   {
    "duration": 28,
    "start_time": "2021-09-28T20:10:35.294Z"
   },
   {
    "duration": 40,
    "start_time": "2021-09-28T20:10:35.324Z"
   },
   {
    "duration": 53,
    "start_time": "2021-09-28T20:10:35.367Z"
   },
   {
    "duration": 39,
    "start_time": "2021-09-28T20:10:35.426Z"
   },
   {
    "duration": 3,
    "start_time": "2021-09-28T20:10:35.469Z"
   },
   {
    "duration": 10,
    "start_time": "2021-09-28T20:10:35.475Z"
   },
   {
    "duration": 42,
    "start_time": "2021-09-28T20:10:35.487Z"
   },
   {
    "duration": 542,
    "start_time": "2021-09-28T20:10:35.532Z"
   },
   {
    "duration": 36,
    "start_time": "2021-09-28T20:10:36.080Z"
   },
   {
    "duration": 557,
    "start_time": "2021-09-28T20:10:36.119Z"
   },
   {
    "duration": 25,
    "start_time": "2021-09-28T20:10:36.678Z"
   },
   {
    "duration": 524,
    "start_time": "2021-09-28T20:10:36.705Z"
   },
   {
    "duration": 35,
    "start_time": "2021-09-28T20:10:37.231Z"
   },
   {
    "duration": 540,
    "start_time": "2021-09-28T20:10:37.269Z"
   },
   {
    "duration": 29,
    "start_time": "2021-09-28T20:10:37.812Z"
   },
   {
    "duration": 605,
    "start_time": "2021-09-28T20:10:37.858Z"
   },
   {
    "duration": 28,
    "start_time": "2021-09-28T20:10:38.466Z"
   },
   {
    "duration": 478,
    "start_time": "2021-09-28T20:10:38.497Z"
   },
   {
    "duration": 19,
    "start_time": "2021-09-28T20:10:38.978Z"
   },
   {
    "duration": 573,
    "start_time": "2021-09-28T20:10:39.000Z"
   },
   {
    "duration": 38,
    "start_time": "2021-09-28T20:10:39.575Z"
   },
   {
    "duration": 53,
    "start_time": "2021-09-28T20:10:39.615Z"
   },
   {
    "duration": 593,
    "start_time": "2021-09-28T20:10:39.671Z"
   },
   {
    "duration": 26,
    "start_time": "2021-09-28T20:10:40.266Z"
   },
   {
    "duration": 14,
    "start_time": "2021-09-28T20:10:40.295Z"
   },
   {
    "duration": 71,
    "start_time": "2021-09-28T20:10:40.311Z"
   },
   {
    "duration": 140,
    "start_time": "2021-09-28T20:10:40.384Z"
   },
   {
    "duration": 64,
    "start_time": "2021-09-28T20:10:40.526Z"
   },
   {
    "duration": 207,
    "start_time": "2021-09-28T20:10:40.593Z"
   },
   {
    "duration": 369,
    "start_time": "2021-09-28T20:10:40.803Z"
   },
   {
    "duration": 614,
    "start_time": "2021-09-28T20:10:54.390Z"
   },
   {
    "duration": 522,
    "start_time": "2021-09-28T20:10:59.132Z"
   },
   {
    "duration": 220,
    "start_time": "2021-09-28T20:29:14.010Z"
   },
   {
    "duration": 178,
    "start_time": "2021-09-28T20:29:23.521Z"
   },
   {
    "duration": 499,
    "start_time": "2021-09-28T20:29:38.382Z"
   },
   {
    "duration": 176,
    "start_time": "2021-09-28T20:30:00.327Z"
   },
   {
    "duration": 502,
    "start_time": "2021-09-28T20:30:08.600Z"
   },
   {
    "duration": 495,
    "start_time": "2021-09-28T20:30:42.873Z"
   },
   {
    "duration": 794,
    "start_time": "2021-09-28T20:31:08.306Z"
   },
   {
    "duration": 511,
    "start_time": "2021-09-28T20:31:20.901Z"
   },
   {
    "duration": 507,
    "start_time": "2021-09-29T18:13:08.411Z"
   },
   {
    "duration": 2312,
    "start_time": "2021-09-29T18:14:12.985Z"
   },
   {
    "duration": 97,
    "start_time": "2021-09-29T18:14:15.300Z"
   },
   {
    "duration": 20,
    "start_time": "2021-09-29T18:14:15.402Z"
   },
   {
    "duration": 61,
    "start_time": "2021-09-29T18:14:15.425Z"
   },
   {
    "duration": 25,
    "start_time": "2021-09-29T18:14:15.489Z"
   },
   {
    "duration": 19,
    "start_time": "2021-09-29T18:14:15.517Z"
   },
   {
    "duration": 51,
    "start_time": "2021-09-29T18:14:15.539Z"
   },
   {
    "duration": 12,
    "start_time": "2021-09-29T18:14:15.594Z"
   },
   {
    "duration": 82,
    "start_time": "2021-09-29T18:14:15.611Z"
   },
   {
    "duration": 215,
    "start_time": "2021-09-29T18:14:15.697Z"
   },
   {
    "duration": 23,
    "start_time": "2021-09-29T18:14:15.916Z"
   },
   {
    "duration": 112,
    "start_time": "2021-09-29T18:14:15.943Z"
   },
   {
    "duration": 45,
    "start_time": "2021-09-29T18:14:16.058Z"
   },
   {
    "duration": 11,
    "start_time": "2021-09-29T18:14:16.106Z"
   },
   {
    "duration": 12,
    "start_time": "2021-09-29T18:14:16.119Z"
   },
   {
    "duration": 25,
    "start_time": "2021-09-29T18:14:16.168Z"
   },
   {
    "duration": 136,
    "start_time": "2021-09-29T18:14:16.196Z"
   },
   {
    "duration": 34,
    "start_time": "2021-09-29T18:14:16.335Z"
   },
   {
    "duration": 314,
    "start_time": "2021-09-29T18:14:16.372Z"
   },
   {
    "duration": 44,
    "start_time": "2021-09-29T18:14:16.689Z"
   },
   {
    "duration": 43,
    "start_time": "2021-09-29T18:14:16.736Z"
   },
   {
    "duration": 41,
    "start_time": "2021-09-29T18:14:16.781Z"
   },
   {
    "duration": 49,
    "start_time": "2021-09-29T18:14:16.828Z"
   },
   {
    "duration": 4,
    "start_time": "2021-09-29T18:14:16.881Z"
   },
   {
    "duration": 8,
    "start_time": "2021-09-29T18:14:16.887Z"
   },
   {
    "duration": 44,
    "start_time": "2021-09-29T18:14:16.898Z"
   },
   {
    "duration": 448,
    "start_time": "2021-09-29T18:14:16.968Z"
   },
   {
    "duration": 1196,
    "start_time": "2021-09-29T18:14:17.419Z"
   },
   {
    "duration": -717,
    "start_time": "2021-09-29T18:14:19.337Z"
   },
   {
    "duration": -716,
    "start_time": "2021-09-29T18:14:19.339Z"
   },
   {
    "duration": -717,
    "start_time": "2021-09-29T18:14:19.342Z"
   },
   {
    "duration": -718,
    "start_time": "2021-09-29T18:14:19.345Z"
   },
   {
    "duration": -718,
    "start_time": "2021-09-29T18:14:19.347Z"
   },
   {
    "duration": -719,
    "start_time": "2021-09-29T18:14:19.350Z"
   },
   {
    "duration": -719,
    "start_time": "2021-09-29T18:14:19.352Z"
   },
   {
    "duration": -719,
    "start_time": "2021-09-29T18:14:19.354Z"
   },
   {
    "duration": -720,
    "start_time": "2021-09-29T18:14:19.356Z"
   },
   {
    "duration": -689,
    "start_time": "2021-09-29T18:14:19.357Z"
   },
   {
    "duration": -690,
    "start_time": "2021-09-29T18:14:19.359Z"
   },
   {
    "duration": -689,
    "start_time": "2021-09-29T18:14:19.360Z"
   },
   {
    "duration": -690,
    "start_time": "2021-09-29T18:14:19.362Z"
   },
   {
    "duration": -689,
    "start_time": "2021-09-29T18:14:19.363Z"
   },
   {
    "duration": -695,
    "start_time": "2021-09-29T18:14:19.370Z"
   },
   {
    "duration": -695,
    "start_time": "2021-09-29T18:14:19.372Z"
   },
   {
    "duration": -697,
    "start_time": "2021-09-29T18:14:19.375Z"
   },
   {
    "duration": -698,
    "start_time": "2021-09-29T18:14:19.377Z"
   },
   {
    "duration": -697,
    "start_time": "2021-09-29T18:14:19.378Z"
   },
   {
    "duration": -698,
    "start_time": "2021-09-29T18:14:19.380Z"
   },
   {
    "duration": -697,
    "start_time": "2021-09-29T18:14:19.381Z"
   },
   {
    "duration": -697,
    "start_time": "2021-09-29T18:14:19.383Z"
   },
   {
    "duration": 944,
    "start_time": "2021-09-29T18:14:42.109Z"
   },
   {
    "duration": 802,
    "start_time": "2021-09-29T18:14:50.597Z"
   },
   {
    "duration": 737,
    "start_time": "2021-09-29T18:16:51.767Z"
   },
   {
    "duration": 517,
    "start_time": "2021-09-29T18:17:02.754Z"
   },
   {
    "duration": 523,
    "start_time": "2021-09-29T18:17:43.878Z"
   },
   {
    "duration": 20,
    "start_time": "2021-09-29T18:21:30.440Z"
   },
   {
    "duration": 437,
    "start_time": "2021-09-29T18:21:31.218Z"
   },
   {
    "duration": 26,
    "start_time": "2021-09-29T18:21:32.461Z"
   },
   {
    "duration": 525,
    "start_time": "2021-09-29T18:21:33.523Z"
   },
   {
    "duration": 25,
    "start_time": "2021-09-29T18:21:34.675Z"
   },
   {
    "duration": 553,
    "start_time": "2021-09-29T18:21:35.646Z"
   },
   {
    "duration": 28,
    "start_time": "2021-09-29T18:21:40.652Z"
   },
   {
    "duration": 712,
    "start_time": "2021-09-29T18:21:41.181Z"
   },
   {
    "duration": 36,
    "start_time": "2021-09-29T18:25:54.266Z"
   },
   {
    "duration": 341,
    "start_time": "2021-09-29T18:26:17.797Z"
   },
   {
    "duration": 27,
    "start_time": "2021-09-29T18:26:38.761Z"
   },
   {
    "duration": 8,
    "start_time": "2021-09-29T18:27:12.811Z"
   },
   {
    "duration": 16,
    "start_time": "2021-09-29T18:27:44.258Z"
   },
   {
    "duration": 15,
    "start_time": "2021-09-29T18:27:52.813Z"
   },
   {
    "duration": 14,
    "start_time": "2021-09-29T18:28:52.420Z"
   },
   {
    "duration": 104,
    "start_time": "2021-09-29T18:29:11.450Z"
   },
   {
    "duration": 10,
    "start_time": "2021-09-29T18:29:18.046Z"
   },
   {
    "duration": 19,
    "start_time": "2021-09-29T18:29:24.013Z"
   },
   {
    "duration": 119,
    "start_time": "2021-09-29T18:32:32.341Z"
   },
   {
    "duration": 22,
    "start_time": "2021-09-29T18:32:50.701Z"
   },
   {
    "duration": 25,
    "start_time": "2021-09-29T18:33:04.039Z"
   },
   {
    "duration": 27,
    "start_time": "2021-09-29T18:40:55.771Z"
   },
   {
    "duration": 27,
    "start_time": "2021-09-29T18:41:26.079Z"
   },
   {
    "duration": 14,
    "start_time": "2021-09-29T18:41:50.105Z"
   },
   {
    "duration": 18,
    "start_time": "2021-09-29T18:42:39.784Z"
   },
   {
    "duration": 26,
    "start_time": "2021-09-29T18:42:47.887Z"
   },
   {
    "duration": 28,
    "start_time": "2021-09-29T18:43:52.271Z"
   },
   {
    "duration": 623,
    "start_time": "2021-09-29T18:43:54.710Z"
   },
   {
    "duration": 26,
    "start_time": "2021-09-29T18:43:59.610Z"
   },
   {
    "duration": 27,
    "start_time": "2021-09-29T18:44:38.194Z"
   },
   {
    "duration": 1011,
    "start_time": "2021-09-29T18:46:48.225Z"
   },
   {
    "duration": 632,
    "start_time": "2021-09-29T18:47:01.556Z"
   },
   {
    "duration": 305,
    "start_time": "2021-09-29T18:48:03.870Z"
   },
   {
    "duration": 25,
    "start_time": "2021-09-29T18:48:11.775Z"
   },
   {
    "duration": 25,
    "start_time": "2021-09-29T18:48:36.033Z"
   },
   {
    "duration": 1652,
    "start_time": "2021-09-29T18:48:44.940Z"
   },
   {
    "duration": 663,
    "start_time": "2021-09-29T18:48:55.318Z"
   },
   {
    "duration": 17,
    "start_time": "2021-09-29T18:56:35.777Z"
   },
   {
    "duration": 732,
    "start_time": "2021-09-29T18:57:24.176Z"
   },
   {
    "duration": 17,
    "start_time": "2021-09-29T18:57:38.986Z"
   },
   {
    "duration": 592,
    "start_time": "2021-09-29T18:57:39.964Z"
   },
   {
    "duration": 588,
    "start_time": "2021-09-29T18:58:05.510Z"
   },
   {
    "duration": 100,
    "start_time": "2021-09-29T18:59:41.342Z"
   },
   {
    "duration": 591,
    "start_time": "2021-09-29T18:59:49.067Z"
   },
   {
    "duration": 846,
    "start_time": "2021-09-29T19:12:15.601Z"
   },
   {
    "duration": 15,
    "start_time": "2021-09-29T19:12:17.037Z"
   },
   {
    "duration": 586,
    "start_time": "2021-09-29T19:12:17.764Z"
   },
   {
    "duration": 29,
    "start_time": "2021-09-29T19:12:22.384Z"
   },
   {
    "duration": 472,
    "start_time": "2021-09-29T19:12:23.089Z"
   },
   {
    "duration": 6,
    "start_time": "2021-09-29T19:14:15.921Z"
   },
   {
    "duration": 14,
    "start_time": "2021-09-29T19:16:14.522Z"
   },
   {
    "duration": 46,
    "start_time": "2021-09-29T19:17:35.508Z"
   },
   {
    "duration": 9,
    "start_time": "2021-09-29T19:18:01.602Z"
   },
   {
    "duration": 9,
    "start_time": "2021-09-29T19:18:06.786Z"
   },
   {
    "duration": 36,
    "start_time": "2021-09-29T19:19:12.223Z"
   },
   {
    "duration": 26,
    "start_time": "2021-09-29T19:19:15.490Z"
   },
   {
    "duration": 605,
    "start_time": "2021-09-29T19:19:16.246Z"
   },
   {
    "duration": 26,
    "start_time": "2021-09-29T19:19:18.081Z"
   },
   {
    "duration": 13,
    "start_time": "2021-09-29T19:19:18.543Z"
   },
   {
    "duration": 48,
    "start_time": "2021-09-29T19:19:20.610Z"
   },
   {
    "duration": 30,
    "start_time": "2021-09-29T19:19:23.716Z"
   },
   {
    "duration": 1128,
    "start_time": "2021-09-29T19:19:25.339Z"
   },
   {
    "duration": 63,
    "start_time": "2021-09-29T19:19:26.470Z"
   },
   {
    "duration": 7,
    "start_time": "2021-09-29T19:22:58.830Z"
   },
   {
    "duration": 7,
    "start_time": "2021-09-29T19:23:24.477Z"
   },
   {
    "duration": 22,
    "start_time": "2021-09-29T19:24:49.916Z"
   },
   {
    "duration": 76,
    "start_time": "2021-09-29T20:07:25.248Z"
   },
   {
    "duration": 131,
    "start_time": "2021-09-29T20:07:28.433Z"
   },
   {
    "duration": 601,
    "start_time": "2021-09-29T20:11:23.845Z"
   },
   {
    "duration": 336,
    "start_time": "2021-09-29T20:12:04.205Z"
   },
   {
    "duration": 1580,
    "start_time": "2021-09-29T20:12:39.903Z"
   },
   {
    "duration": 132,
    "start_time": "2021-09-29T20:12:44.776Z"
   },
   {
    "duration": 654,
    "start_time": "2021-09-29T20:13:33.467Z"
   },
   {
    "duration": 277,
    "start_time": "2021-09-29T20:13:38.592Z"
   },
   {
    "duration": 367,
    "start_time": "2021-09-29T20:15:21.181Z"
   },
   {
    "duration": 129,
    "start_time": "2021-09-29T20:15:32.922Z"
   },
   {
    "duration": 262,
    "start_time": "2021-09-29T20:28:08.557Z"
   },
   {
    "duration": 206,
    "start_time": "2021-09-29T20:29:30.437Z"
   },
   {
    "duration": 216,
    "start_time": "2021-09-29T20:29:47.608Z"
   },
   {
    "duration": 224,
    "start_time": "2021-09-29T20:29:51.867Z"
   },
   {
    "duration": 212,
    "start_time": "2021-09-29T20:29:56.280Z"
   },
   {
    "duration": 427,
    "start_time": "2021-09-29T20:30:02.974Z"
   },
   {
    "duration": 433,
    "start_time": "2021-09-29T20:30:08.320Z"
   },
   {
    "duration": 249,
    "start_time": "2021-09-29T20:30:11.350Z"
   },
   {
    "duration": 215,
    "start_time": "2021-09-29T20:30:14.576Z"
   },
   {
    "duration": 225,
    "start_time": "2021-09-29T20:30:19.496Z"
   },
   {
    "duration": 70,
    "start_time": "2021-09-29T20:30:20.232Z"
   },
   {
    "duration": 13,
    "start_time": "2021-09-29T20:30:21.747Z"
   },
   {
    "duration": 32,
    "start_time": "2021-09-29T20:30:23.182Z"
   },
   {
    "duration": 27,
    "start_time": "2021-09-29T20:30:24.085Z"
   },
   {
    "duration": 13,
    "start_time": "2021-09-29T20:30:24.728Z"
   },
   {
    "duration": 23,
    "start_time": "2021-09-29T20:30:26.972Z"
   },
   {
    "duration": 13,
    "start_time": "2021-09-29T20:30:27.204Z"
   },
   {
    "duration": 37,
    "start_time": "2021-09-29T20:30:27.402Z"
   },
   {
    "duration": 160,
    "start_time": "2021-09-29T20:30:27.595Z"
   },
   {
    "duration": 24,
    "start_time": "2021-09-29T20:30:28.289Z"
   },
   {
    "duration": 90,
    "start_time": "2021-09-29T20:30:28.881Z"
   },
   {
    "duration": 36,
    "start_time": "2021-09-29T20:30:29.065Z"
   },
   {
    "duration": 9,
    "start_time": "2021-09-29T20:30:29.283Z"
   },
   {
    "duration": 11,
    "start_time": "2021-09-29T20:30:29.479Z"
   },
   {
    "duration": 21,
    "start_time": "2021-09-29T20:30:29.700Z"
   },
   {
    "duration": 80,
    "start_time": "2021-09-29T20:30:29.929Z"
   },
   {
    "duration": 34,
    "start_time": "2021-09-29T20:30:30.492Z"
   },
   {
    "duration": 295,
    "start_time": "2021-09-29T20:30:30.756Z"
   },
   {
    "duration": 33,
    "start_time": "2021-09-29T20:30:31.153Z"
   },
   {
    "duration": 24,
    "start_time": "2021-09-29T20:30:31.573Z"
   },
   {
    "duration": 47,
    "start_time": "2021-09-29T20:30:31.802Z"
   },
   {
    "duration": 27,
    "start_time": "2021-09-29T20:30:32.009Z"
   },
   {
    "duration": 4,
    "start_time": "2021-09-29T20:30:32.245Z"
   },
   {
    "duration": 3,
    "start_time": "2021-09-29T20:30:32.465Z"
   },
   {
    "duration": 28,
    "start_time": "2021-09-29T20:30:34.047Z"
   },
   {
    "duration": 597,
    "start_time": "2021-09-29T20:30:35.675Z"
   },
   {
    "duration": 630,
    "start_time": "2021-09-29T20:30:36.287Z"
   },
   {
    "duration": 213,
    "start_time": "2021-09-29T20:30:47.345Z"
   },
   {
    "duration": 432,
    "start_time": "2021-09-29T20:30:52.135Z"
   },
   {
    "duration": 284,
    "start_time": "2021-09-29T20:30:55.847Z"
   },
   {
    "duration": 233,
    "start_time": "2021-09-29T20:30:59.790Z"
   },
   {
    "duration": 219,
    "start_time": "2021-09-29T20:31:06.737Z"
   },
   {
    "duration": 284,
    "start_time": "2021-09-29T20:31:35.251Z"
   },
   {
    "duration": 276,
    "start_time": "2021-09-29T20:31:40.605Z"
   },
   {
    "duration": 319,
    "start_time": "2021-09-29T20:31:44.074Z"
   },
   {
    "duration": 519,
    "start_time": "2021-09-29T20:31:46.913Z"
   },
   {
    "duration": 531,
    "start_time": "2021-09-29T20:31:52.858Z"
   },
   {
    "duration": 467,
    "start_time": "2021-09-29T20:31:56.126Z"
   },
   {
    "duration": 290,
    "start_time": "2021-09-29T20:32:03.465Z"
   },
   {
    "duration": 296,
    "start_time": "2021-09-29T20:32:09.639Z"
   },
   {
    "duration": 268,
    "start_time": "2021-09-29T20:32:14.729Z"
   },
   {
    "duration": 265,
    "start_time": "2021-09-29T20:32:20.366Z"
   },
   {
    "duration": 264,
    "start_time": "2021-09-29T20:32:26.917Z"
   },
   {
    "duration": 64,
    "start_time": "2021-09-29T20:32:29.941Z"
   },
   {
    "duration": 280,
    "start_time": "2021-09-29T20:32:38.022Z"
   },
   {
    "duration": 259,
    "start_time": "2021-09-29T20:32:41.894Z"
   },
   {
    "duration": 272,
    "start_time": "2021-09-29T20:32:54.530Z"
   },
   {
    "duration": 275,
    "start_time": "2021-09-29T20:33:01.042Z"
   },
   {
    "duration": 287,
    "start_time": "2021-09-29T20:33:04.101Z"
   },
   {
    "duration": 264,
    "start_time": "2021-09-29T20:33:16.003Z"
   },
   {
    "duration": 275,
    "start_time": "2021-09-29T20:33:19.904Z"
   },
   {
    "duration": 413,
    "start_time": "2021-09-29T20:33:46.720Z"
   },
   {
    "duration": 418,
    "start_time": "2021-09-29T20:33:50.529Z"
   },
   {
    "duration": 258,
    "start_time": "2021-09-29T20:33:59.439Z"
   },
   {
    "duration": 551,
    "start_time": "2021-09-29T20:34:09.076Z"
   },
   {
    "duration": 523,
    "start_time": "2021-09-29T20:34:15.023Z"
   },
   {
    "duration": 556,
    "start_time": "2021-09-29T20:34:24.392Z"
   },
   {
    "duration": 436,
    "start_time": "2021-09-29T20:34:38.094Z"
   },
   {
    "duration": 446,
    "start_time": "2021-09-29T20:34:42.611Z"
   },
   {
    "duration": 577,
    "start_time": "2021-09-29T20:34:54.166Z"
   },
   {
    "duration": 750,
    "start_time": "2021-09-29T20:35:02.134Z"
   },
   {
    "duration": 589,
    "start_time": "2021-09-29T20:35:05.746Z"
   },
   {
    "duration": 594,
    "start_time": "2021-09-29T20:35:16.392Z"
   },
   {
    "duration": 17,
    "start_time": "2021-09-29T20:36:29.558Z"
   },
   {
    "duration": 16,
    "start_time": "2021-09-29T20:36:35.597Z"
   },
   {
    "duration": 620,
    "start_time": "2021-09-29T20:36:35.749Z"
   },
   {
    "duration": 577,
    "start_time": "2021-09-29T20:36:46.085Z"
   },
   {
    "duration": 619,
    "start_time": "2021-09-29T20:37:02.464Z"
   },
   {
    "duration": 17,
    "start_time": "2021-09-29T20:37:31.716Z"
   },
   {
    "duration": 572,
    "start_time": "2021-09-29T20:37:33.695Z"
   },
   {
    "duration": 24,
    "start_time": "2021-09-29T20:38:09.484Z"
   },
   {
    "duration": 16,
    "start_time": "2021-09-29T20:38:26.470Z"
   },
   {
    "duration": 16,
    "start_time": "2021-09-29T20:38:30.566Z"
   },
   {
    "duration": 689,
    "start_time": "2021-09-29T20:38:31.081Z"
   },
   {
    "duration": 310,
    "start_time": "2021-09-29T20:39:15.913Z"
   },
   {
    "duration": 1498,
    "start_time": "2021-09-29T20:39:16.542Z"
   },
   {
    "duration": 21,
    "start_time": "2021-09-29T20:39:26.196Z"
   },
   {
    "duration": 617,
    "start_time": "2021-09-29T20:39:28.464Z"
   },
   {
    "duration": 20,
    "start_time": "2021-09-29T20:39:39.335Z"
   },
   {
    "duration": 631,
    "start_time": "2021-09-29T20:39:40.496Z"
   },
   {
    "duration": 45,
    "start_time": "2021-09-29T20:39:48.546Z"
   },
   {
    "duration": 7,
    "start_time": "2021-09-29T20:39:49.132Z"
   },
   {
    "duration": 21,
    "start_time": "2021-09-29T20:43:32.667Z"
   },
   {
    "duration": 17,
    "start_time": "2021-09-29T20:43:53.494Z"
   },
   {
    "duration": 15,
    "start_time": "2021-09-29T20:44:02.916Z"
   },
   {
    "duration": 309,
    "start_time": "2021-09-29T20:47:18.331Z"
   },
   {
    "duration": 291,
    "start_time": "2021-09-29T20:47:32.217Z"
   },
   {
    "duration": 20,
    "start_time": "2021-09-29T20:47:39.119Z"
   },
   {
    "duration": 15,
    "start_time": "2021-09-29T20:47:50.671Z"
   },
   {
    "duration": 7,
    "start_time": "2021-09-29T20:57:38.903Z"
   },
   {
    "duration": 17,
    "start_time": "2021-09-29T20:57:50.644Z"
   },
   {
    "duration": 18,
    "start_time": "2021-09-29T20:58:00.426Z"
   },
   {
    "duration": 172,
    "start_time": "2021-09-29T20:58:36.332Z"
   },
   {
    "duration": 17,
    "start_time": "2021-09-29T20:58:47.690Z"
   },
   {
    "duration": 15,
    "start_time": "2021-09-29T20:58:59.957Z"
   },
   {
    "duration": 17,
    "start_time": "2021-09-29T20:59:31.514Z"
   },
   {
    "duration": 25,
    "start_time": "2021-09-29T21:00:46.270Z"
   },
   {
    "duration": 21,
    "start_time": "2021-09-29T21:00:54.317Z"
   },
   {
    "duration": 23,
    "start_time": "2021-09-29T21:01:09.464Z"
   },
   {
    "duration": 24,
    "start_time": "2021-09-29T21:01:26.777Z"
   },
   {
    "duration": 7013,
    "start_time": "2021-09-29T21:01:36.139Z"
   },
   {
    "duration": 13,
    "start_time": "2021-09-29T21:01:52.702Z"
   },
   {
    "duration": -851,
    "start_time": "2021-09-29T21:02:50.989Z"
   },
   {
    "duration": -869,
    "start_time": "2021-09-29T21:02:51.009Z"
   },
   {
    "duration": -683,
    "start_time": "2021-09-29T21:02:59.815Z"
   },
   {
    "duration": -696,
    "start_time": "2021-09-29T21:02:59.829Z"
   },
   {
    "duration": -732,
    "start_time": "2021-09-29T21:02:59.866Z"
   },
   {
    "duration": -783,
    "start_time": "2021-09-29T21:02:59.919Z"
   },
   {
    "duration": -842,
    "start_time": "2021-09-29T21:02:59.979Z"
   },
   {
    "duration": -883,
    "start_time": "2021-09-29T21:03:00.021Z"
   },
   {
    "duration": -900,
    "start_time": "2021-09-29T21:03:00.040Z"
   },
   {
    "duration": -906,
    "start_time": "2021-09-29T21:03:00.048Z"
   },
   {
    "duration": -912,
    "start_time": "2021-09-29T21:03:00.056Z"
   },
   {
    "duration": -915,
    "start_time": "2021-09-29T21:03:00.061Z"
   },
   {
    "duration": -918,
    "start_time": "2021-09-29T21:03:00.066Z"
   },
   {
    "duration": -920,
    "start_time": "2021-09-29T21:03:00.071Z"
   },
   {
    "duration": -923,
    "start_time": "2021-09-29T21:03:00.077Z"
   },
   {
    "duration": -925,
    "start_time": "2021-09-29T21:03:00.082Z"
   },
   {
    "duration": -929,
    "start_time": "2021-09-29T21:03:00.088Z"
   },
   {
    "duration": -931,
    "start_time": "2021-09-29T21:03:00.092Z"
   },
   {
    "duration": -934,
    "start_time": "2021-09-29T21:03:00.098Z"
   },
   {
    "duration": -937,
    "start_time": "2021-09-29T21:03:00.103Z"
   },
   {
    "duration": -941,
    "start_time": "2021-09-29T21:03:00.109Z"
   },
   {
    "duration": -944,
    "start_time": "2021-09-29T21:03:00.114Z"
   },
   {
    "duration": -947,
    "start_time": "2021-09-29T21:03:00.119Z"
   },
   {
    "duration": -948,
    "start_time": "2021-09-29T21:03:00.123Z"
   },
   {
    "duration": -952,
    "start_time": "2021-09-29T21:03:00.129Z"
   },
   {
    "duration": -1034,
    "start_time": "2021-09-29T21:03:00.213Z"
   },
   {
    "duration": -1048,
    "start_time": "2021-09-29T21:03:00.229Z"
   },
   {
    "duration": -1060,
    "start_time": "2021-09-29T21:03:00.243Z"
   },
   {
    "duration": -1073,
    "start_time": "2021-09-29T21:03:00.258Z"
   },
   {
    "duration": -1076,
    "start_time": "2021-09-29T21:03:00.264Z"
   },
   {
    "duration": -1084,
    "start_time": "2021-09-29T21:03:00.275Z"
   },
   {
    "duration": -1096,
    "start_time": "2021-09-29T21:03:00.289Z"
   },
   {
    "duration": -1101,
    "start_time": "2021-09-29T21:03:00.297Z"
   },
   {
    "duration": -1111,
    "start_time": "2021-09-29T21:03:00.309Z"
   },
   {
    "duration": -1122,
    "start_time": "2021-09-29T21:03:00.322Z"
   },
   {
    "duration": -1157,
    "start_time": "2021-09-29T21:03:00.359Z"
   },
   {
    "duration": -1168,
    "start_time": "2021-09-29T21:03:00.372Z"
   },
   {
    "duration": -1170,
    "start_time": "2021-09-29T21:03:00.376Z"
   },
   {
    "duration": -1183,
    "start_time": "2021-09-29T21:03:00.391Z"
   },
   {
    "duration": -1144,
    "start_time": "2021-09-29T21:03:00.411Z"
   },
   {
    "duration": -1146,
    "start_time": "2021-09-29T21:03:00.415Z"
   },
   {
    "duration": -1148,
    "start_time": "2021-09-29T21:03:00.419Z"
   },
   {
    "duration": -1150,
    "start_time": "2021-09-29T21:03:00.423Z"
   },
   {
    "duration": -1151,
    "start_time": "2021-09-29T21:03:00.426Z"
   },
   {
    "duration": -1152,
    "start_time": "2021-09-29T21:03:00.429Z"
   },
   {
    "duration": -1153,
    "start_time": "2021-09-29T21:03:00.433Z"
   },
   {
    "duration": -1154,
    "start_time": "2021-09-29T21:03:00.436Z"
   },
   {
    "duration": -1154,
    "start_time": "2021-09-29T21:03:00.439Z"
   },
   {
    "duration": -1156,
    "start_time": "2021-09-29T21:03:00.443Z"
   },
   {
    "duration": -1157,
    "start_time": "2021-09-29T21:03:00.446Z"
   },
   {
    "duration": -1159,
    "start_time": "2021-09-29T21:03:00.450Z"
   },
   {
    "duration": -1160,
    "start_time": "2021-09-29T21:03:00.453Z"
   },
   {
    "duration": -1160,
    "start_time": "2021-09-29T21:03:00.456Z"
   },
   {
    "duration": -1160,
    "start_time": "2021-09-29T21:03:00.458Z"
   },
   {
    "duration": -1161,
    "start_time": "2021-09-29T21:03:00.461Z"
   },
   {
    "duration": -1165,
    "start_time": "2021-09-29T21:03:00.467Z"
   },
   {
    "duration": -1166,
    "start_time": "2021-09-29T21:03:00.470Z"
   },
   {
    "duration": -1167,
    "start_time": "2021-09-29T21:03:00.473Z"
   },
   {
    "duration": -1109,
    "start_time": "2021-09-29T21:03:00.476Z"
   },
   {
    "duration": -1109,
    "start_time": "2021-09-29T21:03:00.479Z"
   },
   {
    "duration": -1110,
    "start_time": "2021-09-29T21:03:00.482Z"
   },
   {
    "duration": 7461,
    "start_time": "2021-09-29T21:03:21.341Z"
   },
   {
    "duration": 7118,
    "start_time": "2021-09-29T21:03:46.324Z"
   },
   {
    "duration": 7,
    "start_time": "2021-09-29T21:04:09.223Z"
   },
   {
    "duration": 22,
    "start_time": "2021-09-29T21:04:10.089Z"
   },
   {
    "duration": 6991,
    "start_time": "2021-09-29T21:04:20.252Z"
   },
   {
    "duration": 1717,
    "start_time": "2021-09-30T10:22:55.588Z"
   },
   {
    "duration": 64,
    "start_time": "2021-09-30T10:22:57.307Z"
   },
   {
    "duration": 12,
    "start_time": "2021-09-30T10:22:57.374Z"
   },
   {
    "duration": 17,
    "start_time": "2021-09-30T10:22:57.388Z"
   },
   {
    "duration": 11,
    "start_time": "2021-09-30T10:22:57.406Z"
   },
   {
    "duration": 12,
    "start_time": "2021-09-30T10:22:57.419Z"
   },
   {
    "duration": 14,
    "start_time": "2021-09-30T10:22:57.433Z"
   },
   {
    "duration": 7,
    "start_time": "2021-09-30T10:22:57.478Z"
   },
   {
    "duration": 20,
    "start_time": "2021-09-30T10:22:57.487Z"
   },
   {
    "duration": 109,
    "start_time": "2021-09-30T10:22:57.509Z"
   },
   {
    "duration": 13,
    "start_time": "2021-09-30T10:22:57.619Z"
   },
   {
    "duration": 60,
    "start_time": "2021-09-30T10:22:57.634Z"
   },
   {
    "duration": 20,
    "start_time": "2021-09-30T10:22:57.696Z"
   },
   {
    "duration": 8,
    "start_time": "2021-09-30T10:22:57.717Z"
   },
   {
    "duration": 7,
    "start_time": "2021-09-30T10:22:57.726Z"
   },
   {
    "duration": 12,
    "start_time": "2021-09-30T10:22:57.735Z"
   },
   {
    "duration": 63,
    "start_time": "2021-09-30T10:22:57.749Z"
   },
   {
    "duration": 13,
    "start_time": "2021-09-30T10:22:57.814Z"
   },
   {
    "duration": 130,
    "start_time": "2021-09-30T10:22:57.828Z"
   },
   {
    "duration": 20,
    "start_time": "2021-09-30T10:22:57.959Z"
   },
   {
    "duration": 14,
    "start_time": "2021-09-30T10:22:57.981Z"
   },
   {
    "duration": 27,
    "start_time": "2021-09-30T10:22:57.997Z"
   },
   {
    "duration": 16,
    "start_time": "2021-09-30T10:22:58.027Z"
   },
   {
    "duration": 3,
    "start_time": "2021-09-30T10:22:58.046Z"
   },
   {
    "duration": 2,
    "start_time": "2021-09-30T10:22:58.077Z"
   },
   {
    "duration": 20,
    "start_time": "2021-09-30T10:22:58.081Z"
   },
   {
    "duration": 238,
    "start_time": "2021-09-30T10:22:58.103Z"
   },
   {
    "duration": 322,
    "start_time": "2021-09-30T10:22:58.342Z"
   },
   {
    "duration": 19,
    "start_time": "2021-09-30T10:22:58.666Z"
   },
   {
    "duration": 268,
    "start_time": "2021-09-30T10:22:58.687Z"
   },
   {
    "duration": 39,
    "start_time": "2021-09-30T10:22:58.957Z"
   },
   {
    "duration": 335,
    "start_time": "2021-09-30T10:22:58.998Z"
   },
   {
    "duration": 16,
    "start_time": "2021-09-30T10:22:59.335Z"
   },
   {
    "duration": 329,
    "start_time": "2021-09-30T10:22:59.353Z"
   },
   {
    "duration": 20,
    "start_time": "2021-09-30T10:22:59.683Z"
   },
   {
    "duration": 452,
    "start_time": "2021-09-30T10:22:59.705Z"
   },
   {
    "duration": 22,
    "start_time": "2021-09-30T10:23:00.159Z"
   },
   {
    "duration": 10,
    "start_time": "2021-09-30T10:23:00.183Z"
   },
   {
    "duration": 23,
    "start_time": "2021-09-30T10:23:00.194Z"
   },
   {
    "duration": 387,
    "start_time": "2021-09-30T10:23:00.218Z"
   },
   {
    "duration": 10,
    "start_time": "2021-09-30T10:23:00.607Z"
   },
   {
    "duration": 339,
    "start_time": "2021-09-30T10:23:00.618Z"
   },
   {
    "duration": 22,
    "start_time": "2021-09-30T10:23:00.958Z"
   },
   {
    "duration": 299,
    "start_time": "2021-09-30T10:23:00.982Z"
   },
   {
    "duration": 5,
    "start_time": "2021-09-30T10:23:01.282Z"
   },
   {
    "duration": 489,
    "start_time": "2021-09-30T10:23:01.289Z"
   },
   {
    "duration": -1320,
    "start_time": "2021-09-30T10:23:03.100Z"
   },
   {
    "duration": -1330,
    "start_time": "2021-09-30T10:23:03.111Z"
   },
   {
    "duration": -1341,
    "start_time": "2021-09-30T10:23:03.123Z"
   },
   {
    "duration": -1353,
    "start_time": "2021-09-30T10:23:03.136Z"
   },
   {
    "duration": -1365,
    "start_time": "2021-09-30T10:23:03.149Z"
   },
   {
    "duration": -1374,
    "start_time": "2021-09-30T10:23:03.159Z"
   },
   {
    "duration": -1385,
    "start_time": "2021-09-30T10:23:03.171Z"
   },
   {
    "duration": -1394,
    "start_time": "2021-09-30T10:23:03.182Z"
   },
   {
    "duration": -1404,
    "start_time": "2021-09-30T10:23:03.193Z"
   },
   {
    "duration": -1425,
    "start_time": "2021-09-30T10:23:03.215Z"
   },
   {
    "duration": -1439,
    "start_time": "2021-09-30T10:23:03.230Z"
   },
   {
    "duration": -1448,
    "start_time": "2021-09-30T10:23:03.240Z"
   },
   {
    "duration": -1459,
    "start_time": "2021-09-30T10:23:03.252Z"
   },
   {
    "duration": 450,
    "start_time": "2021-09-30T10:23:10.702Z"
   },
   {
    "duration": 159,
    "start_time": "2021-09-30T10:23:15.285Z"
   },
   {
    "duration": 65,
    "start_time": "2021-09-30T10:23:15.447Z"
   },
   {
    "duration": 9,
    "start_time": "2021-09-30T10:23:15.515Z"
   },
   {
    "duration": 52,
    "start_time": "2021-09-30T10:23:15.526Z"
   },
   {
    "duration": 12,
    "start_time": "2021-09-30T10:23:15.580Z"
   },
   {
    "duration": 11,
    "start_time": "2021-09-30T10:23:15.594Z"
   },
   {
    "duration": 15,
    "start_time": "2021-09-30T10:23:15.606Z"
   },
   {
    "duration": 7,
    "start_time": "2021-09-30T10:23:15.623Z"
   },
   {
    "duration": 49,
    "start_time": "2021-09-30T10:23:15.632Z"
   },
   {
    "duration": 94,
    "start_time": "2021-09-30T10:23:15.683Z"
   },
   {
    "duration": 14,
    "start_time": "2021-09-30T10:23:15.778Z"
   },
   {
    "duration": 51,
    "start_time": "2021-09-30T10:23:15.794Z"
   },
   {
    "duration": 38,
    "start_time": "2021-09-30T10:23:15.847Z"
   },
   {
    "duration": 5,
    "start_time": "2021-09-30T10:23:15.887Z"
   },
   {
    "duration": 8,
    "start_time": "2021-09-30T10:23:15.894Z"
   },
   {
    "duration": 11,
    "start_time": "2021-09-30T10:23:15.904Z"
   },
   {
    "duration": 62,
    "start_time": "2021-09-30T10:23:15.917Z"
   },
   {
    "duration": 14,
    "start_time": "2021-09-30T10:23:15.981Z"
   },
   {
    "duration": 125,
    "start_time": "2021-09-30T10:23:15.997Z"
   },
   {
    "duration": 16,
    "start_time": "2021-09-30T10:23:16.124Z"
   },
   {
    "duration": 14,
    "start_time": "2021-09-30T10:23:16.141Z"
   },
   {
    "duration": 44,
    "start_time": "2021-09-30T10:23:16.157Z"
   },
   {
    "duration": 15,
    "start_time": "2021-09-30T10:23:16.205Z"
   },
   {
    "duration": 3,
    "start_time": "2021-09-30T10:23:16.222Z"
   },
   {
    "duration": 4,
    "start_time": "2021-09-30T10:23:16.227Z"
   },
   {
    "duration": 17,
    "start_time": "2021-09-30T10:23:16.233Z"
   },
   {
    "duration": 326,
    "start_time": "2021-09-30T10:23:16.251Z"
   },
   {
    "duration": 336,
    "start_time": "2021-09-30T10:23:16.579Z"
   },
   {
    "duration": 13,
    "start_time": "2021-09-30T10:23:16.917Z"
   },
   {
    "duration": 277,
    "start_time": "2021-09-30T10:23:16.932Z"
   },
   {
    "duration": 17,
    "start_time": "2021-09-30T10:23:17.211Z"
   },
   {
    "duration": 320,
    "start_time": "2021-09-30T10:23:17.229Z"
   },
   {
    "duration": 27,
    "start_time": "2021-09-30T10:23:17.551Z"
   },
   {
    "duration": 336,
    "start_time": "2021-09-30T10:23:17.579Z"
   },
   {
    "duration": 20,
    "start_time": "2021-09-30T10:23:17.917Z"
   },
   {
    "duration": 368,
    "start_time": "2021-09-30T10:23:17.939Z"
   },
   {
    "duration": 16,
    "start_time": "2021-09-30T10:23:18.309Z"
   },
   {
    "duration": 14,
    "start_time": "2021-09-30T10:23:18.327Z"
   },
   {
    "duration": 39,
    "start_time": "2021-09-30T10:23:18.342Z"
   },
   {
    "duration": 453,
    "start_time": "2021-09-30T10:23:18.382Z"
   },
   {
    "duration": 11,
    "start_time": "2021-09-30T10:23:18.837Z"
   },
   {
    "duration": 336,
    "start_time": "2021-09-30T10:23:18.849Z"
   },
   {
    "duration": 18,
    "start_time": "2021-09-30T10:23:19.187Z"
   },
   {
    "duration": 298,
    "start_time": "2021-09-30T10:23:19.207Z"
   },
   {
    "duration": 5,
    "start_time": "2021-09-30T10:23:19.506Z"
   },
   {
    "duration": 359,
    "start_time": "2021-09-30T10:23:19.513Z"
   },
   {
    "duration": -1242,
    "start_time": "2021-09-30T10:23:21.116Z"
   },
   {
    "duration": -1249,
    "start_time": "2021-09-30T10:23:21.124Z"
   },
   {
    "duration": -1256,
    "start_time": "2021-09-30T10:23:21.132Z"
   },
   {
    "duration": -1262,
    "start_time": "2021-09-30T10:23:21.139Z"
   },
   {
    "duration": -1270,
    "start_time": "2021-09-30T10:23:21.147Z"
   },
   {
    "duration": -1277,
    "start_time": "2021-09-30T10:23:21.155Z"
   },
   {
    "duration": -1283,
    "start_time": "2021-09-30T10:23:21.162Z"
   },
   {
    "duration": -1289,
    "start_time": "2021-09-30T10:23:21.169Z"
   },
   {
    "duration": -1296,
    "start_time": "2021-09-30T10:23:21.176Z"
   },
   {
    "duration": -1303,
    "start_time": "2021-09-30T10:23:21.184Z"
   },
   {
    "duration": -1308,
    "start_time": "2021-09-30T10:23:21.190Z"
   },
   {
    "duration": -1314,
    "start_time": "2021-09-30T10:23:21.197Z"
   },
   {
    "duration": -1320,
    "start_time": "2021-09-30T10:23:21.203Z"
   },
   {
    "duration": 298,
    "start_time": "2021-09-30T10:24:02.542Z"
   },
   {
    "duration": -1371,
    "start_time": "2021-09-30T10:25:40.600Z"
   },
   {
    "duration": 9334,
    "start_time": "2021-09-30T10:25:40.636Z"
   },
   {
    "duration": 5,
    "start_time": "2021-09-30T10:26:03.961Z"
   },
   {
    "duration": 14,
    "start_time": "2021-09-30T10:26:07.157Z"
   },
   {
    "duration": 10,
    "start_time": "2021-09-30T10:29:35.747Z"
   },
   {
    "duration": 11,
    "start_time": "2021-09-30T10:29:45.378Z"
   },
   {
    "duration": 53,
    "start_time": "2021-09-30T10:34:22.299Z"
   },
   {
    "duration": 15,
    "start_time": "2021-09-30T10:34:28.545Z"
   },
   {
    "duration": 50,
    "start_time": "2021-09-30T10:34:31.759Z"
   },
   {
    "duration": 23,
    "start_time": "2021-09-30T10:34:33.936Z"
   },
   {
    "duration": 87,
    "start_time": "2021-09-30T10:34:58.456Z"
   },
   {
    "duration": 25,
    "start_time": "2021-09-30T10:35:00.435Z"
   },
   {
    "duration": 121,
    "start_time": "2021-09-30T10:36:02.797Z"
   },
   {
    "duration": 15,
    "start_time": "2021-09-30T10:36:03.264Z"
   },
   {
    "duration": 50,
    "start_time": "2021-09-30T10:36:15.087Z"
   },
   {
    "duration": 16,
    "start_time": "2021-09-30T10:36:15.629Z"
   },
   {
    "duration": 58,
    "start_time": "2021-09-30T10:36:32.154Z"
   },
   {
    "duration": 18,
    "start_time": "2021-09-30T10:36:32.459Z"
   },
   {
    "duration": 15,
    "start_time": "2021-09-30T10:37:01.839Z"
   },
   {
    "duration": 29,
    "start_time": "2021-09-30T10:37:54.922Z"
   },
   {
    "duration": 16,
    "start_time": "2021-09-30T10:38:01.205Z"
   },
   {
    "duration": 181,
    "start_time": "2021-09-30T10:38:07.754Z"
   },
   {
    "duration": 64,
    "start_time": "2021-09-30T10:38:07.937Z"
   },
   {
    "duration": 9,
    "start_time": "2021-09-30T10:38:08.003Z"
   },
   {
    "duration": 21,
    "start_time": "2021-09-30T10:38:08.014Z"
   },
   {
    "duration": 11,
    "start_time": "2021-09-30T10:38:08.037Z"
   },
   {
    "duration": 40,
    "start_time": "2021-09-30T10:38:08.049Z"
   },
   {
    "duration": 15,
    "start_time": "2021-09-30T10:38:08.091Z"
   },
   {
    "duration": 7,
    "start_time": "2021-09-30T10:38:08.108Z"
   },
   {
    "duration": 20,
    "start_time": "2021-09-30T10:38:08.117Z"
   },
   {
    "duration": 111,
    "start_time": "2021-09-30T10:38:08.139Z"
   },
   {
    "duration": 25,
    "start_time": "2021-09-30T10:38:08.252Z"
   },
   {
    "duration": 48,
    "start_time": "2021-09-30T10:38:08.279Z"
   },
   {
    "duration": 19,
    "start_time": "2021-09-30T10:38:08.329Z"
   },
   {
    "duration": 28,
    "start_time": "2021-09-30T10:38:08.350Z"
   },
   {
    "duration": 5,
    "start_time": "2021-09-30T10:38:08.380Z"
   },
   {
    "duration": 15,
    "start_time": "2021-09-30T10:38:08.387Z"
   },
   {
    "duration": 41,
    "start_time": "2021-09-30T10:38:08.404Z"
   },
   {
    "duration": 31,
    "start_time": "2021-09-30T10:38:08.447Z"
   },
   {
    "duration": 112,
    "start_time": "2021-09-30T10:38:08.480Z"
   },
   {
    "duration": 15,
    "start_time": "2021-09-30T10:38:08.593Z"
   },
   {
    "duration": 12,
    "start_time": "2021-09-30T10:38:08.610Z"
   },
   {
    "duration": 28,
    "start_time": "2021-09-30T10:38:08.624Z"
   },
   {
    "duration": 15,
    "start_time": "2021-09-30T10:38:08.676Z"
   },
   {
    "duration": 57,
    "start_time": "2021-09-30T10:38:08.693Z"
   },
   {
    "duration": 25,
    "start_time": "2021-09-30T10:38:08.752Z"
   },
   {
    "duration": 25,
    "start_time": "2021-09-30T10:38:08.778Z"
   },
   {
    "duration": 2,
    "start_time": "2021-09-30T10:38:08.805Z"
   },
   {
    "duration": 11,
    "start_time": "2021-09-30T10:38:08.808Z"
   },
   {
    "duration": 24,
    "start_time": "2021-09-30T10:38:08.820Z"
   },
   {
    "duration": 306,
    "start_time": "2021-09-30T10:38:08.846Z"
   },
   {
    "duration": 322,
    "start_time": "2021-09-30T10:38:09.154Z"
   },
   {
    "duration": 13,
    "start_time": "2021-09-30T10:38:09.478Z"
   },
   {
    "duration": 362,
    "start_time": "2021-09-30T10:38:09.493Z"
   },
   {
    "duration": 26,
    "start_time": "2021-09-30T10:38:09.857Z"
   },
   {
    "duration": 300,
    "start_time": "2021-09-30T10:38:09.885Z"
   },
   {
    "duration": 16,
    "start_time": "2021-09-30T10:38:10.186Z"
   },
   {
    "duration": 319,
    "start_time": "2021-09-30T10:38:10.203Z"
   },
   {
    "duration": 18,
    "start_time": "2021-09-30T10:38:10.524Z"
   },
   {
    "duration": 361,
    "start_time": "2021-09-30T10:38:10.543Z"
   },
   {
    "duration": 16,
    "start_time": "2021-09-30T10:38:10.906Z"
   },
   {
    "duration": 9,
    "start_time": "2021-09-30T10:38:10.924Z"
   },
   {
    "duration": 42,
    "start_time": "2021-09-30T10:38:10.934Z"
   },
   {
    "duration": 363,
    "start_time": "2021-09-30T10:38:10.978Z"
   },
   {
    "duration": 10,
    "start_time": "2021-09-30T10:38:11.342Z"
   },
   {
    "duration": 434,
    "start_time": "2021-09-30T10:38:11.354Z"
   },
   {
    "duration": 19,
    "start_time": "2021-09-30T10:38:11.790Z"
   },
   {
    "duration": 292,
    "start_time": "2021-09-30T10:38:11.810Z"
   },
   {
    "duration": 6,
    "start_time": "2021-09-30T10:38:12.105Z"
   },
   {
    "duration": 17,
    "start_time": "2021-09-30T10:38:12.112Z"
   },
   {
    "duration": 14,
    "start_time": "2021-09-30T10:38:12.131Z"
   },
   {
    "duration": 363,
    "start_time": "2021-09-30T10:38:12.147Z"
   },
   {
    "duration": 25,
    "start_time": "2021-09-30T10:38:12.512Z"
   },
   {
    "duration": 7,
    "start_time": "2021-09-30T10:38:12.539Z"
   },
   {
    "duration": 36,
    "start_time": "2021-09-30T10:38:12.548Z"
   },
   {
    "duration": 349,
    "start_time": "2021-09-30T10:38:12.586Z"
   },
   {
    "duration": 18,
    "start_time": "2021-09-30T10:38:12.937Z"
   },
   {
    "duration": 22,
    "start_time": "2021-09-30T10:38:12.957Z"
   },
   {
    "duration": 19,
    "start_time": "2021-09-30T10:38:12.980Z"
   },
   {
    "duration": 666,
    "start_time": "2021-09-30T10:38:13.001Z"
   },
   {
    "duration": 44,
    "start_time": "2021-09-30T10:38:13.669Z"
   },
   {
    "duration": 568,
    "start_time": "2021-09-30T10:38:13.715Z"
   },
   {
    "duration": 371,
    "start_time": "2021-09-30T10:38:14.285Z"
   },
   {
    "duration": 36,
    "start_time": "2021-09-30T10:44:28.781Z"
   },
   {
    "duration": 86,
    "start_time": "2021-09-30T10:45:54.337Z"
   },
   {
    "duration": 90,
    "start_time": "2021-09-30T10:46:05.956Z"
   },
   {
    "duration": 129,
    "start_time": "2021-09-30T10:46:09.816Z"
   },
   {
    "duration": 23,
    "start_time": "2021-09-30T10:46:28.320Z"
   },
   {
    "duration": 13,
    "start_time": "2021-09-30T10:46:31.351Z"
   },
   {
    "duration": 20,
    "start_time": "2021-09-30T10:46:56.528Z"
   },
   {
    "duration": 14,
    "start_time": "2021-09-30T10:47:04.449Z"
   },
   {
    "duration": 168,
    "start_time": "2021-09-30T10:47:13.313Z"
   },
   {
    "duration": 53,
    "start_time": "2021-09-30T10:47:13.483Z"
   },
   {
    "duration": 8,
    "start_time": "2021-09-30T10:47:13.538Z"
   },
   {
    "duration": 45,
    "start_time": "2021-09-30T10:47:13.548Z"
   },
   {
    "duration": 9,
    "start_time": "2021-09-30T10:47:13.594Z"
   },
   {
    "duration": 22,
    "start_time": "2021-09-30T10:47:13.605Z"
   },
   {
    "duration": 13,
    "start_time": "2021-09-30T10:47:13.629Z"
   },
   {
    "duration": 35,
    "start_time": "2021-09-30T10:47:13.644Z"
   },
   {
    "duration": 75,
    "start_time": "2021-09-30T10:47:13.681Z"
   },
   {
    "duration": 2,
    "start_time": "2021-09-30T10:47:13.758Z"
   },
   {
    "duration": 37,
    "start_time": "2021-09-30T10:47:13.761Z"
   },
   {
    "duration": 55,
    "start_time": "2021-09-30T10:47:13.799Z"
   },
   {
    "duration": 27,
    "start_time": "2021-09-30T10:47:13.856Z"
   },
   {
    "duration": 8,
    "start_time": "2021-09-30T10:47:13.885Z"
   },
   {
    "duration": 17,
    "start_time": "2021-09-30T10:47:13.895Z"
   },
   {
    "duration": 19,
    "start_time": "2021-09-30T10:47:13.914Z"
   },
   {
    "duration": 81,
    "start_time": "2021-09-30T10:47:13.935Z"
   },
   {
    "duration": 20,
    "start_time": "2021-09-30T10:47:14.018Z"
   },
   {
    "duration": 153,
    "start_time": "2021-09-30T10:47:14.041Z"
   },
   {
    "duration": 24,
    "start_time": "2021-09-30T10:47:14.197Z"
   },
   {
    "duration": 22,
    "start_time": "2021-09-30T10:47:14.223Z"
   },
   {
    "duration": 65,
    "start_time": "2021-09-30T10:47:14.247Z"
   },
   {
    "duration": 24,
    "start_time": "2021-09-30T10:47:14.317Z"
   },
   {
    "duration": 106,
    "start_time": "2021-09-30T10:47:14.344Z"
   },
   {
    "duration": 33,
    "start_time": "2021-09-30T10:47:14.452Z"
   },
   {
    "duration": 49,
    "start_time": "2021-09-30T10:47:14.487Z"
   },
   {
    "duration": 2,
    "start_time": "2021-09-30T10:47:14.539Z"
   },
   {
    "duration": 12,
    "start_time": "2021-09-30T10:47:14.543Z"
   },
   {
    "duration": 38,
    "start_time": "2021-09-30T10:47:14.557Z"
   },
   {
    "duration": 322,
    "start_time": "2021-09-30T10:47:14.597Z"
   },
   {
    "duration": 347,
    "start_time": "2021-09-30T10:47:14.920Z"
   },
   {
    "duration": 16,
    "start_time": "2021-09-30T10:47:15.275Z"
   },
   {
    "duration": 258,
    "start_time": "2021-09-30T10:47:15.296Z"
   },
   {
    "duration": 30,
    "start_time": "2021-09-30T10:47:15.556Z"
   },
   {
    "duration": 311,
    "start_time": "2021-09-30T10:47:15.588Z"
   },
   {
    "duration": 16,
    "start_time": "2021-09-30T10:47:15.900Z"
   },
   {
    "duration": 346,
    "start_time": "2021-09-30T10:47:15.917Z"
   },
   {
    "duration": 29,
    "start_time": "2021-09-30T10:47:16.264Z"
   },
   {
    "duration": 374,
    "start_time": "2021-09-30T10:47:16.295Z"
   },
   {
    "duration": 24,
    "start_time": "2021-09-30T10:47:16.671Z"
   },
   {
    "duration": 9,
    "start_time": "2021-09-30T10:47:16.697Z"
   },
   {
    "duration": 17,
    "start_time": "2021-09-30T10:47:16.708Z"
   },
   {
    "duration": 412,
    "start_time": "2021-09-30T10:47:16.726Z"
   },
   {
    "duration": 11,
    "start_time": "2021-09-30T10:47:17.140Z"
   },
   {
    "duration": 378,
    "start_time": "2021-09-30T10:47:17.153Z"
   },
   {
    "duration": 19,
    "start_time": "2021-09-30T10:47:17.532Z"
   },
   {
    "duration": 314,
    "start_time": "2021-09-30T10:47:17.552Z"
   },
   {
    "duration": 19,
    "start_time": "2021-09-30T10:47:17.876Z"
   },
   {
    "duration": 19,
    "start_time": "2021-09-30T10:47:17.898Z"
   },
   {
    "duration": 20,
    "start_time": "2021-09-30T10:47:17.920Z"
   },
   {
    "duration": 347,
    "start_time": "2021-09-30T10:47:17.941Z"
   },
   {
    "duration": 27,
    "start_time": "2021-09-30T10:47:18.292Z"
   },
   {
    "duration": 13,
    "start_time": "2021-09-30T10:47:18.320Z"
   },
   {
    "duration": 23,
    "start_time": "2021-09-30T10:47:18.335Z"
   },
   {
    "duration": 361,
    "start_time": "2021-09-30T10:47:18.360Z"
   },
   {
    "duration": 17,
    "start_time": "2021-09-30T10:47:18.723Z"
   },
   {
    "duration": 6,
    "start_time": "2021-09-30T10:47:18.742Z"
   },
   {
    "duration": 44,
    "start_time": "2021-09-30T10:47:18.750Z"
   },
   {
    "duration": 85,
    "start_time": "2021-09-30T10:47:18.796Z"
   },
   {
    "duration": 36,
    "start_time": "2021-09-30T10:47:18.883Z"
   },
   {
    "duration": 287,
    "start_time": "2021-09-30T10:47:18.921Z"
   },
   {
    "duration": 125,
    "start_time": "2021-09-30T10:47:19.210Z"
   },
   {
    "duration": 86,
    "start_time": "2021-09-30T10:47:36.807Z"
   },
   {
    "duration": 93,
    "start_time": "2021-09-30T10:48:01.848Z"
   },
   {
    "duration": 2,
    "start_time": "2021-09-30T10:48:02.306Z"
   },
   {
    "duration": 19,
    "start_time": "2021-09-30T10:48:02.771Z"
   },
   {
    "duration": 58,
    "start_time": "2021-09-30T10:48:34.436Z"
   },
   {
    "duration": 15,
    "start_time": "2021-09-30T10:48:47.440Z"
   },
   {
    "duration": 19,
    "start_time": "2021-09-30T10:49:48.240Z"
   },
   {
    "duration": 18,
    "start_time": "2021-09-30T10:49:48.668Z"
   },
   {
    "duration": 23,
    "start_time": "2021-09-30T10:50:06.116Z"
   },
   {
    "duration": 13,
    "start_time": "2021-09-30T10:50:46.318Z"
   },
   {
    "duration": 115,
    "start_time": "2021-09-30T10:51:27.790Z"
   },
   {
    "duration": 3,
    "start_time": "2021-09-30T10:51:28.650Z"
   },
   {
    "duration": 18,
    "start_time": "2021-09-30T10:51:28.784Z"
   },
   {
    "duration": 36,
    "start_time": "2021-09-30T10:52:20.752Z"
   },
   {
    "duration": 19,
    "start_time": "2021-09-30T10:52:42.178Z"
   },
   {
    "duration": 98,
    "start_time": "2021-09-30T10:53:27.144Z"
   },
   {
    "duration": 19,
    "start_time": "2021-09-30T10:53:27.492Z"
   },
   {
    "duration": 67,
    "start_time": "2021-09-30T10:53:49.980Z"
   },
   {
    "duration": 16,
    "start_time": "2021-09-30T10:53:50.312Z"
   },
   {
    "duration": 72,
    "start_time": "2021-09-30T10:54:35.201Z"
   },
   {
    "duration": 14,
    "start_time": "2021-09-30T10:54:35.705Z"
   },
   {
    "duration": 83,
    "start_time": "2021-09-30T10:54:39.807Z"
   },
   {
    "duration": 15,
    "start_time": "2021-09-30T10:54:40.154Z"
   },
   {
    "duration": 87,
    "start_time": "2021-09-30T10:55:16.614Z"
   },
   {
    "duration": 16,
    "start_time": "2021-09-30T10:55:17.140Z"
   },
   {
    "duration": 8,
    "start_time": "2021-09-30T10:55:27.433Z"
   },
   {
    "duration": 15,
    "start_time": "2021-09-30T10:55:53.654Z"
   },
   {
    "duration": 120,
    "start_time": "2021-09-30T10:56:18.137Z"
   },
   {
    "duration": 3,
    "start_time": "2021-09-30T10:56:19.009Z"
   },
   {
    "duration": 14,
    "start_time": "2021-09-30T10:56:24.315Z"
   },
   {
    "duration": 85,
    "start_time": "2021-09-30T10:56:25.668Z"
   },
   {
    "duration": 16,
    "start_time": "2021-09-30T10:56:25.965Z"
   },
   {
    "duration": 20,
    "start_time": "2021-09-30T10:56:26.203Z"
   },
   {
    "duration": 15,
    "start_time": "2021-09-30T10:56:26.405Z"
   },
   {
    "duration": 48,
    "start_time": "2021-09-30T10:56:26.966Z"
   },
   {
    "duration": 192,
    "start_time": "2021-09-30T10:56:30.500Z"
   },
   {
    "duration": 52,
    "start_time": "2021-09-30T10:56:30.694Z"
   },
   {
    "duration": 8,
    "start_time": "2021-09-30T10:56:30.748Z"
   },
   {
    "duration": 44,
    "start_time": "2021-09-30T10:56:30.758Z"
   },
   {
    "duration": 15,
    "start_time": "2021-09-30T10:56:30.804Z"
   },
   {
    "duration": 37,
    "start_time": "2021-09-30T10:56:30.821Z"
   },
   {
    "duration": 23,
    "start_time": "2021-09-30T10:56:30.859Z"
   },
   {
    "duration": 47,
    "start_time": "2021-09-30T10:56:30.885Z"
   },
   {
    "duration": 148,
    "start_time": "2021-09-30T10:56:30.935Z"
   },
   {
    "duration": 16,
    "start_time": "2021-09-30T10:56:31.086Z"
   },
   {
    "duration": 143,
    "start_time": "2021-09-30T10:56:31.104Z"
   },
   {
    "duration": 15,
    "start_time": "2021-09-30T10:56:31.249Z"
   },
   {
    "duration": 49,
    "start_time": "2021-09-30T10:56:31.266Z"
   },
   {
    "duration": 26,
    "start_time": "2021-09-30T10:56:31.317Z"
   },
   {
    "duration": 89,
    "start_time": "2021-09-30T10:56:31.344Z"
   },
   {
    "duration": 9,
    "start_time": "2021-09-30T10:56:31.435Z"
   },
   {
    "duration": 22,
    "start_time": "2021-09-30T10:56:31.445Z"
   },
   {
    "duration": 146,
    "start_time": "2021-09-30T10:56:31.469Z"
   },
   {
    "duration": 18,
    "start_time": "2021-09-30T10:56:31.617Z"
   },
   {
    "duration": 23,
    "start_time": "2021-09-30T10:56:31.637Z"
   },
   {
    "duration": 51,
    "start_time": "2021-09-30T10:56:31.662Z"
   },
   {
    "duration": 17,
    "start_time": "2021-09-30T10:56:31.715Z"
   },
   {
    "duration": 86,
    "start_time": "2021-09-30T10:56:31.737Z"
   },
   {
    "duration": 15,
    "start_time": "2021-09-30T10:56:31.826Z"
   },
   {
    "duration": 70,
    "start_time": "2021-09-30T10:56:31.843Z"
   },
   {
    "duration": 5,
    "start_time": "2021-09-30T10:56:31.915Z"
   },
   {
    "duration": 15,
    "start_time": "2021-09-30T10:56:31.921Z"
   },
   {
    "duration": 25,
    "start_time": "2021-09-30T10:56:31.938Z"
   },
   {
    "duration": 435,
    "start_time": "2021-09-30T10:56:31.965Z"
   },
   {
    "duration": 402,
    "start_time": "2021-09-30T10:56:32.403Z"
   },
   {
    "duration": 14,
    "start_time": "2021-09-30T10:56:32.807Z"
   },
   {
    "duration": 285,
    "start_time": "2021-09-30T10:56:32.823Z"
   },
   {
    "duration": 18,
    "start_time": "2021-09-30T10:56:33.109Z"
   },
   {
    "duration": 372,
    "start_time": "2021-09-30T10:56:33.129Z"
   },
   {
    "duration": 18,
    "start_time": "2021-09-30T10:56:33.503Z"
   },
   {
    "duration": 359,
    "start_time": "2021-09-30T10:56:33.522Z"
   },
   {
    "duration": 19,
    "start_time": "2021-09-30T10:56:33.889Z"
   },
   {
    "duration": 502,
    "start_time": "2021-09-30T10:56:33.910Z"
   },
   {
    "duration": 19,
    "start_time": "2021-09-30T10:56:34.414Z"
   },
   {
    "duration": 10,
    "start_time": "2021-09-30T10:56:34.435Z"
   },
   {
    "duration": 40,
    "start_time": "2021-09-30T10:56:34.446Z"
   },
   {
    "duration": 413,
    "start_time": "2021-09-30T10:56:34.488Z"
   },
   {
    "duration": 10,
    "start_time": "2021-09-30T10:56:34.903Z"
   },
   {
    "duration": 372,
    "start_time": "2021-09-30T10:56:34.915Z"
   },
   {
    "duration": 20,
    "start_time": "2021-09-30T10:56:35.290Z"
   },
   {
    "duration": 301,
    "start_time": "2021-09-30T10:56:35.312Z"
   },
   {
    "duration": 5,
    "start_time": "2021-09-30T10:56:35.615Z"
   },
   {
    "duration": 15,
    "start_time": "2021-09-30T10:56:35.622Z"
   },
   {
    "duration": 13,
    "start_time": "2021-09-30T10:56:35.639Z"
   },
   {
    "duration": 601,
    "start_time": "2021-09-30T10:56:35.654Z"
   },
   {
    "duration": 41,
    "start_time": "2021-09-30T10:56:36.257Z"
   },
   {
    "duration": 5,
    "start_time": "2021-09-30T10:56:36.300Z"
   },
   {
    "duration": 34,
    "start_time": "2021-09-30T10:56:36.308Z"
   },
   {
    "duration": 384,
    "start_time": "2021-09-30T10:56:36.344Z"
   },
   {
    "duration": 21,
    "start_time": "2021-09-30T10:56:36.730Z"
   },
   {
    "duration": 33,
    "start_time": "2021-09-30T10:56:36.753Z"
   },
   {
    "duration": 23,
    "start_time": "2021-09-30T10:56:36.788Z"
   },
   {
    "duration": 96,
    "start_time": "2021-09-30T10:56:36.813Z"
   },
   {
    "duration": 37,
    "start_time": "2021-09-30T10:56:36.911Z"
   },
   {
    "duration": 135,
    "start_time": "2021-09-30T10:56:36.950Z"
   },
   {
    "duration": 140,
    "start_time": "2021-09-30T10:56:37.087Z"
   },
   {
    "duration": 190,
    "start_time": "2021-09-30T11:00:47.309Z"
   },
   {
    "duration": 17,
    "start_time": "2021-09-30T11:00:52.127Z"
   },
   {
    "duration": 17,
    "start_time": "2021-09-30T11:00:54.764Z"
   },
   {
    "duration": 174,
    "start_time": "2021-09-30T11:00:59.668Z"
   },
   {
    "duration": 69,
    "start_time": "2021-09-30T11:00:59.844Z"
   },
   {
    "duration": 11,
    "start_time": "2021-09-30T11:00:59.916Z"
   },
   {
    "duration": 51,
    "start_time": "2021-09-30T11:00:59.929Z"
   },
   {
    "duration": 9,
    "start_time": "2021-09-30T11:00:59.982Z"
   },
   {
    "duration": 23,
    "start_time": "2021-09-30T11:00:59.992Z"
   },
   {
    "duration": 12,
    "start_time": "2021-09-30T11:01:00.017Z"
   },
   {
    "duration": 49,
    "start_time": "2021-09-30T11:01:00.034Z"
   },
   {
    "duration": 143,
    "start_time": "2021-09-30T11:01:00.085Z"
   },
   {
    "duration": 16,
    "start_time": "2021-09-30T11:01:00.230Z"
   },
   {
    "duration": 95,
    "start_time": "2021-09-30T11:01:00.248Z"
   },
   {
    "duration": 15,
    "start_time": "2021-09-30T11:01:00.344Z"
   },
   {
    "duration": 29,
    "start_time": "2021-09-30T11:01:00.361Z"
   },
   {
    "duration": 35,
    "start_time": "2021-09-30T11:01:00.392Z"
   },
   {
    "duration": 57,
    "start_time": "2021-09-30T11:01:00.429Z"
   },
   {
    "duration": 8,
    "start_time": "2021-09-30T11:01:00.488Z"
   },
   {
    "duration": 29,
    "start_time": "2021-09-30T11:01:00.499Z"
   },
   {
    "duration": 125,
    "start_time": "2021-09-30T11:01:00.530Z"
   },
   {
    "duration": 22,
    "start_time": "2021-09-30T11:01:00.657Z"
   },
   {
    "duration": 16,
    "start_time": "2021-09-30T11:01:00.681Z"
   },
   {
    "duration": 50,
    "start_time": "2021-09-30T11:01:00.699Z"
   },
   {
    "duration": 26,
    "start_time": "2021-09-30T11:01:00.752Z"
   },
   {
    "duration": 74,
    "start_time": "2021-09-30T11:01:00.782Z"
   },
   {
    "duration": 42,
    "start_time": "2021-09-30T11:01:00.858Z"
   },
   {
    "duration": 32,
    "start_time": "2021-09-30T11:01:00.902Z"
   },
   {
    "duration": 9,
    "start_time": "2021-09-30T11:01:00.936Z"
   },
   {
    "duration": 6,
    "start_time": "2021-09-30T11:01:00.946Z"
   },
   {
    "duration": 44,
    "start_time": "2021-09-30T11:01:00.954Z"
   },
   {
    "duration": 502,
    "start_time": "2021-09-30T11:01:01.000Z"
   },
   {
    "duration": 519,
    "start_time": "2021-09-30T11:01:01.505Z"
   },
   {
    "duration": 20,
    "start_time": "2021-09-30T11:01:02.027Z"
   },
   {
    "duration": 384,
    "start_time": "2021-09-30T11:01:02.049Z"
   },
   {
    "duration": 28,
    "start_time": "2021-09-30T11:01:02.435Z"
   },
   {
    "duration": 428,
    "start_time": "2021-09-30T11:01:02.465Z"
   },
   {
    "duration": 17,
    "start_time": "2021-09-30T11:01:02.895Z"
   },
   {
    "duration": 351,
    "start_time": "2021-09-30T11:01:02.914Z"
   },
   {
    "duration": 28,
    "start_time": "2021-09-30T11:01:03.267Z"
   },
   {
    "duration": 382,
    "start_time": "2021-09-30T11:01:03.297Z"
   },
   {
    "duration": 21,
    "start_time": "2021-09-30T11:01:03.681Z"
   },
   {
    "duration": 12,
    "start_time": "2021-09-30T11:01:03.704Z"
   },
   {
    "duration": 15,
    "start_time": "2021-09-30T11:01:03.718Z"
   },
   {
    "duration": 586,
    "start_time": "2021-09-30T11:01:03.734Z"
   },
   {
    "duration": 10,
    "start_time": "2021-09-30T11:01:04.323Z"
   },
   {
    "duration": 542,
    "start_time": "2021-09-30T11:01:04.335Z"
   },
   {
    "duration": 28,
    "start_time": "2021-09-30T11:01:04.879Z"
   },
   {
    "duration": 461,
    "start_time": "2021-09-30T11:01:04.909Z"
   },
   {
    "duration": 6,
    "start_time": "2021-09-30T11:01:05.375Z"
   },
   {
    "duration": 21,
    "start_time": "2021-09-30T11:01:05.383Z"
   },
   {
    "duration": 15,
    "start_time": "2021-09-30T11:01:05.406Z"
   },
   {
    "duration": 378,
    "start_time": "2021-09-30T11:01:05.423Z"
   },
   {
    "duration": 29,
    "start_time": "2021-09-30T11:01:05.803Z"
   },
   {
    "duration": 7,
    "start_time": "2021-09-30T11:01:05.834Z"
   },
   {
    "duration": 46,
    "start_time": "2021-09-30T11:01:05.843Z"
   },
   {
    "duration": 375,
    "start_time": "2021-09-30T11:01:05.891Z"
   },
   {
    "duration": 20,
    "start_time": "2021-09-30T11:01:06.276Z"
   },
   {
    "duration": 8,
    "start_time": "2021-09-30T11:01:06.298Z"
   },
   {
    "duration": 22,
    "start_time": "2021-09-30T11:01:06.308Z"
   },
   {
    "duration": 108,
    "start_time": "2021-09-30T11:01:06.332Z"
   },
   {
    "duration": 52,
    "start_time": "2021-09-30T11:01:06.442Z"
   },
   {
    "duration": 123,
    "start_time": "2021-09-30T11:01:06.496Z"
   },
   {
    "duration": 134,
    "start_time": "2021-09-30T11:01:06.620Z"
   },
   {
    "duration": 144,
    "start_time": "2021-09-30T11:01:59.305Z"
   },
   {
    "duration": 14,
    "start_time": "2021-09-30T11:02:02.730Z"
   },
   {
    "duration": 21,
    "start_time": "2021-09-30T11:02:22.769Z"
   },
   {
    "duration": 14,
    "start_time": "2021-09-30T11:02:29.882Z"
   },
   {
    "duration": 20,
    "start_time": "2021-09-30T11:02:45.961Z"
   },
   {
    "duration": 17,
    "start_time": "2021-09-30T11:02:46.354Z"
   },
   {
    "duration": 9,
    "start_time": "2021-09-30T11:02:55.040Z"
   },
   {
    "duration": 152,
    "start_time": "2021-09-30T11:03:19.447Z"
   },
   {
    "duration": 14,
    "start_time": "2021-09-30T11:03:24.232Z"
   },
   {
    "duration": 165,
    "start_time": "2021-09-30T11:04:16.597Z"
   },
   {
    "duration": 15,
    "start_time": "2021-09-30T11:04:20.018Z"
   },
   {
    "duration": 158,
    "start_time": "2021-09-30T11:04:34.396Z"
   },
   {
    "duration": 57,
    "start_time": "2021-09-30T11:04:34.557Z"
   },
   {
    "duration": 8,
    "start_time": "2021-09-30T11:04:34.616Z"
   },
   {
    "duration": 24,
    "start_time": "2021-09-30T11:04:34.626Z"
   },
   {
    "duration": 26,
    "start_time": "2021-09-30T11:04:34.652Z"
   },
   {
    "duration": 17,
    "start_time": "2021-09-30T11:04:34.680Z"
   },
   {
    "duration": 7,
    "start_time": "2021-09-30T11:04:34.698Z"
   },
   {
    "duration": 15,
    "start_time": "2021-09-30T11:04:34.707Z"
   },
   {
    "duration": 190,
    "start_time": "2021-09-30T11:04:34.724Z"
   },
   {
    "duration": 13,
    "start_time": "2021-09-30T11:04:34.916Z"
   },
   {
    "duration": 89,
    "start_time": "2021-09-30T11:04:34.931Z"
   },
   {
    "duration": 14,
    "start_time": "2021-09-30T11:04:35.022Z"
   },
   {
    "duration": 22,
    "start_time": "2021-09-30T11:04:35.037Z"
   },
   {
    "duration": 25,
    "start_time": "2021-09-30T11:04:35.061Z"
   },
   {
    "duration": 21,
    "start_time": "2021-09-30T11:04:35.090Z"
   },
   {
    "duration": 15,
    "start_time": "2021-09-30T11:04:35.112Z"
   },
   {
    "duration": 18,
    "start_time": "2021-09-30T11:04:47.119Z"
   },
   {
    "duration": 19,
    "start_time": "2021-09-30T11:05:04.236Z"
   },
   {
    "duration": 14,
    "start_time": "2021-09-30T11:05:04.737Z"
   },
   {
    "duration": 156,
    "start_time": "2021-09-30T11:05:24.460Z"
   },
   {
    "duration": 15,
    "start_time": "2021-09-30T11:05:28.559Z"
   },
   {
    "duration": 23,
    "start_time": "2021-09-30T11:08:26.965Z"
   },
   {
    "duration": 16,
    "start_time": "2021-09-30T11:08:27.385Z"
   },
   {
    "duration": 34,
    "start_time": "2021-09-30T11:08:46.792Z"
   },
   {
    "duration": 14,
    "start_time": "2021-09-30T11:08:47.050Z"
   },
   {
    "duration": 58,
    "start_time": "2021-09-30T11:09:08.538Z"
   },
   {
    "duration": 13,
    "start_time": "2021-09-30T11:09:08.990Z"
   },
   {
    "duration": 63,
    "start_time": "2021-09-30T11:09:20.380Z"
   },
   {
    "duration": 14,
    "start_time": "2021-09-30T11:09:20.694Z"
   },
   {
    "duration": 63,
    "start_time": "2021-09-30T11:09:33.376Z"
   },
   {
    "duration": 14,
    "start_time": "2021-09-30T11:09:34.057Z"
   },
   {
    "duration": 74,
    "start_time": "2021-09-30T11:09:51.575Z"
   },
   {
    "duration": 21,
    "start_time": "2021-09-30T11:09:51.972Z"
   },
   {
    "duration": 72,
    "start_time": "2021-09-30T11:09:58.854Z"
   },
   {
    "duration": 15,
    "start_time": "2021-09-30T11:09:59.226Z"
   },
   {
    "duration": 80,
    "start_time": "2021-09-30T11:10:13.322Z"
   },
   {
    "duration": 18,
    "start_time": "2021-09-30T11:10:13.682Z"
   },
   {
    "duration": 81,
    "start_time": "2021-09-30T11:10:22.413Z"
   },
   {
    "duration": 15,
    "start_time": "2021-09-30T11:10:22.911Z"
   },
   {
    "duration": 18,
    "start_time": "2021-09-30T11:10:49.772Z"
   },
   {
    "duration": 176,
    "start_time": "2021-09-30T11:11:08.262Z"
   },
   {
    "duration": 15,
    "start_time": "2021-09-30T11:11:13.195Z"
   },
   {
    "duration": 11,
    "start_time": "2021-09-30T11:11:32.700Z"
   },
   {
    "duration": 15,
    "start_time": "2021-09-30T11:11:34.588Z"
   },
   {
    "duration": 11,
    "start_time": "2021-09-30T11:11:36.851Z"
   },
   {
    "duration": 22,
    "start_time": "2021-09-30T11:11:43.577Z"
   },
   {
    "duration": 18,
    "start_time": "2021-09-30T11:11:58.725Z"
   },
   {
    "duration": 17,
    "start_time": "2021-09-30T11:11:59.068Z"
   },
   {
    "duration": 14,
    "start_time": "2021-09-30T11:12:08.462Z"
   },
   {
    "duration": 191,
    "start_time": "2021-09-30T11:12:39.236Z"
   },
   {
    "duration": 15,
    "start_time": "2021-09-30T11:12:47.300Z"
   },
   {
    "duration": 16,
    "start_time": "2021-09-30T11:13:12.770Z"
   },
   {
    "duration": 20,
    "start_time": "2021-09-30T11:13:13.077Z"
   },
   {
    "duration": 19,
    "start_time": "2021-09-30T11:13:29.789Z"
   },
   {
    "duration": 15,
    "start_time": "2021-09-30T11:13:30.310Z"
   },
   {
    "duration": 29,
    "start_time": "2021-09-30T11:13:43.739Z"
   },
   {
    "duration": 16,
    "start_time": "2021-09-30T11:13:44.118Z"
   },
   {
    "duration": 42,
    "start_time": "2021-09-30T11:14:03.704Z"
   },
   {
    "duration": 20,
    "start_time": "2021-09-30T11:14:03.981Z"
   },
   {
    "duration": 24,
    "start_time": "2021-09-30T11:14:12.461Z"
   },
   {
    "duration": 22,
    "start_time": "2021-09-30T11:14:17.366Z"
   },
   {
    "duration": 12,
    "start_time": "2021-09-30T11:14:31.925Z"
   },
   {
    "duration": 29,
    "start_time": "2021-09-30T11:14:38.371Z"
   },
   {
    "duration": 34,
    "start_time": "2021-09-30T11:15:10.229Z"
   },
   {
    "duration": 16,
    "start_time": "2021-09-30T11:15:10.903Z"
   },
   {
    "duration": 19,
    "start_time": "2021-09-30T11:25:15.509Z"
   },
   {
    "duration": 13,
    "start_time": "2021-09-30T11:27:40.696Z"
   },
   {
    "duration": 13,
    "start_time": "2021-09-30T11:28:39.232Z"
   },
   {
    "duration": 13,
    "start_time": "2021-09-30T11:28:50.271Z"
   },
   {
    "duration": 10,
    "start_time": "2021-09-30T11:29:13.738Z"
   },
   {
    "duration": 14,
    "start_time": "2021-09-30T11:29:21.281Z"
   },
   {
    "duration": 407,
    "start_time": "2021-09-30T11:29:36.445Z"
   },
   {
    "duration": 22,
    "start_time": "2021-09-30T11:29:39.774Z"
   },
   {
    "duration": 14,
    "start_time": "2021-09-30T11:29:40.534Z"
   },
   {
    "duration": 188,
    "start_time": "2021-09-30T11:30:27.650Z"
   },
   {
    "duration": 21,
    "start_time": "2021-09-30T11:30:31.219Z"
   },
   {
    "duration": 13,
    "start_time": "2021-09-30T11:30:57.733Z"
   },
   {
    "duration": 13,
    "start_time": "2021-09-30T11:31:10.244Z"
   },
   {
    "duration": 21,
    "start_time": "2021-09-30T11:31:31.307Z"
   },
   {
    "duration": 21,
    "start_time": "2021-09-30T11:31:34.802Z"
   },
   {
    "duration": 192,
    "start_time": "2021-09-30T11:38:07.522Z"
   },
   {
    "duration": 35,
    "start_time": "2021-09-30T11:38:12.431Z"
   },
   {
    "duration": 13,
    "start_time": "2021-09-30T11:40:07.140Z"
   },
   {
    "duration": 27,
    "start_time": "2021-09-30T11:40:51.789Z"
   },
   {
    "duration": 12,
    "start_time": "2021-09-30T11:40:59.035Z"
   },
   {
    "duration": 14,
    "start_time": "2021-09-30T11:45:24.726Z"
   },
   {
    "duration": 199,
    "start_time": "2021-09-30T11:45:47.757Z"
   },
   {
    "duration": 14,
    "start_time": "2021-09-30T11:45:54.359Z"
   },
   {
    "duration": 37,
    "start_time": "2021-09-30T11:46:06.747Z"
   },
   {
    "duration": 15,
    "start_time": "2021-09-30T11:46:07.143Z"
   },
   {
    "duration": 217,
    "start_time": "2021-09-30T11:46:34.294Z"
   },
   {
    "duration": 15,
    "start_time": "2021-09-30T11:46:40.674Z"
   },
   {
    "duration": 15,
    "start_time": "2021-09-30T11:48:07.812Z"
   },
   {
    "duration": 15,
    "start_time": "2021-09-30T11:48:20.612Z"
   },
   {
    "duration": 16,
    "start_time": "2021-09-30T11:48:37.966Z"
   },
   {
    "duration": -1273,
    "start_time": "2021-09-30T11:53:19.065Z"
   },
   {
    "duration": 9731,
    "start_time": "2021-09-30T11:53:25.868Z"
   },
   {
    "duration": 7,
    "start_time": "2021-09-30T11:53:42.522Z"
   },
   {
    "duration": 16,
    "start_time": "2021-09-30T11:53:43.104Z"
   },
   {
    "duration": -1331,
    "start_time": "2021-09-30T11:55:40.455Z"
   },
   {
    "duration": -1353,
    "start_time": "2021-09-30T11:55:40.478Z"
   },
   {
    "duration": -1236,
    "start_time": "2021-09-30T11:56:05.447Z"
   },
   {
    "duration": 418,
    "start_time": "2021-09-30T18:41:09.059Z"
   },
   {
    "duration": 2883,
    "start_time": "2021-09-30T18:41:12.682Z"
   },
   {
    "duration": 66,
    "start_time": "2021-09-30T18:41:15.567Z"
   },
   {
    "duration": 24,
    "start_time": "2021-09-30T18:41:15.637Z"
   },
   {
    "duration": 39,
    "start_time": "2021-09-30T18:41:15.664Z"
   },
   {
    "duration": 12,
    "start_time": "2021-09-30T18:41:15.706Z"
   },
   {
    "duration": 37,
    "start_time": "2021-09-30T18:41:15.720Z"
   },
   {
    "duration": 8,
    "start_time": "2021-09-30T18:41:15.759Z"
   },
   {
    "duration": 23,
    "start_time": "2021-09-30T18:41:15.771Z"
   },
   {
    "duration": 323,
    "start_time": "2021-09-30T18:41:15.797Z"
   },
   {
    "duration": 19,
    "start_time": "2021-09-30T18:41:16.122Z"
   },
   {
    "duration": 122,
    "start_time": "2021-09-30T18:41:16.157Z"
   },
   {
    "duration": 19,
    "start_time": "2021-09-30T18:41:16.281Z"
   },
   {
    "duration": 40,
    "start_time": "2021-09-30T18:41:16.303Z"
   },
   {
    "duration": 28,
    "start_time": "2021-09-30T18:41:16.345Z"
   },
   {
    "duration": 41,
    "start_time": "2021-09-30T18:41:16.376Z"
   },
   {
    "duration": 15,
    "start_time": "2021-09-30T18:41:16.419Z"
   },
   {
    "duration": 27,
    "start_time": "2021-09-30T18:41:16.437Z"
   },
   {
    "duration": 119,
    "start_time": "2021-09-30T18:41:16.467Z"
   },
   {
    "duration": 19,
    "start_time": "2021-09-30T18:41:16.588Z"
   },
   {
    "duration": 30,
    "start_time": "2021-09-30T18:41:16.610Z"
   },
   {
    "duration": 40,
    "start_time": "2021-09-30T18:41:16.643Z"
   },
   {
    "duration": 38,
    "start_time": "2021-09-30T18:41:16.685Z"
   },
   {
    "duration": 61,
    "start_time": "2021-09-30T18:41:16.733Z"
   },
   {
    "duration": 18,
    "start_time": "2021-09-30T18:41:16.799Z"
   },
   {
    "duration": 49,
    "start_time": "2021-09-30T18:41:16.820Z"
   },
   {
    "duration": 18,
    "start_time": "2021-09-30T18:41:16.872Z"
   },
   {
    "duration": 50,
    "start_time": "2021-09-30T18:41:16.893Z"
   },
   {
    "duration": 32,
    "start_time": "2021-09-30T18:41:16.945Z"
   },
   {
    "duration": 38,
    "start_time": "2021-09-30T18:41:16.979Z"
   },
   {
    "duration": 68,
    "start_time": "2021-09-30T18:41:17.020Z"
   },
   {
    "duration": 21,
    "start_time": "2021-09-30T18:41:17.091Z"
   },
   {
    "duration": 118,
    "start_time": "2021-09-30T18:41:17.115Z"
   },
   {
    "duration": 34,
    "start_time": "2021-09-30T18:41:17.235Z"
   },
   {
    "duration": 3,
    "start_time": "2021-09-30T18:41:17.272Z"
   },
   {
    "duration": 22,
    "start_time": "2021-09-30T18:41:17.278Z"
   },
   {
    "duration": 43,
    "start_time": "2021-09-30T18:41:17.302Z"
   },
   {
    "duration": 376,
    "start_time": "2021-09-30T18:41:17.347Z"
   },
   {
    "duration": 535,
    "start_time": "2021-09-30T18:41:17.726Z"
   },
   {
    "duration": 19,
    "start_time": "2021-09-30T18:41:18.264Z"
   },
   {
    "duration": 442,
    "start_time": "2021-09-30T18:41:18.286Z"
   },
   {
    "duration": 37,
    "start_time": "2021-09-30T18:41:18.731Z"
   },
   {
    "duration": 517,
    "start_time": "2021-09-30T18:41:18.771Z"
   },
   {
    "duration": 24,
    "start_time": "2021-09-30T18:41:19.291Z"
   },
   {
    "duration": 554,
    "start_time": "2021-09-30T18:41:19.317Z"
   },
   {
    "duration": 32,
    "start_time": "2021-09-30T18:41:19.873Z"
   },
   {
    "duration": 736,
    "start_time": "2021-09-30T18:41:19.908Z"
   },
   {
    "duration": 35,
    "start_time": "2021-09-30T18:41:20.647Z"
   },
   {
    "duration": 14,
    "start_time": "2021-09-30T18:41:20.684Z"
   },
   {
    "duration": 27,
    "start_time": "2021-09-30T18:41:20.701Z"
   },
   {
    "duration": 636,
    "start_time": "2021-09-30T18:41:20.757Z"
   },
   {
    "duration": 15,
    "start_time": "2021-09-30T18:41:21.395Z"
   },
   {
    "duration": 567,
    "start_time": "2021-09-30T18:41:21.412Z"
   },
   {
    "duration": 27,
    "start_time": "2021-09-30T18:41:21.982Z"
   },
   {
    "duration": 476,
    "start_time": "2021-09-30T18:41:22.012Z"
   },
   {
    "duration": 8,
    "start_time": "2021-09-30T18:41:22.490Z"
   },
   {
    "duration": 35,
    "start_time": "2021-09-30T18:41:22.500Z"
   },
   {
    "duration": 37,
    "start_time": "2021-09-30T18:41:22.538Z"
   },
   {
    "duration": 583,
    "start_time": "2021-09-30T18:41:22.578Z"
   },
   {
    "duration": 40,
    "start_time": "2021-09-30T18:41:23.164Z"
   },
   {
    "duration": 26,
    "start_time": "2021-09-30T18:41:23.207Z"
   },
   {
    "duration": 44,
    "start_time": "2021-09-30T18:41:23.236Z"
   },
   {
    "duration": 587,
    "start_time": "2021-09-30T18:41:23.283Z"
   },
   {
    "duration": 26,
    "start_time": "2021-09-30T18:41:23.873Z"
   },
   {
    "duration": 9,
    "start_time": "2021-09-30T18:41:23.901Z"
   },
   {
    "duration": 62,
    "start_time": "2021-09-30T18:41:23.913Z"
   },
   {
    "duration": 805,
    "start_time": "2021-09-30T18:41:23.978Z"
   },
   {
    "duration": 75,
    "start_time": "2021-09-30T18:41:24.786Z"
   },
   {
    "duration": 916,
    "start_time": "2021-09-30T18:41:24.872Z"
   },
   {
    "duration": 415,
    "start_time": "2021-09-30T18:41:25.790Z"
   },
   {
    "duration": 24,
    "start_time": "2021-09-30T18:41:45.393Z"
   },
   {
    "duration": 121,
    "start_time": "2021-09-30T18:42:00.070Z"
   },
   {
    "duration": 24,
    "start_time": "2021-09-30T18:42:00.194Z"
   },
   {
    "duration": 666,
    "start_time": "2021-09-30T18:42:24.369Z"
   },
   {
    "duration": -569,
    "start_time": "2021-09-30T18:42:25.607Z"
   },
   {
    "duration": 147,
    "start_time": "2021-09-30T18:42:37.770Z"
   },
   {
    "duration": 24,
    "start_time": "2021-09-30T18:42:38.811Z"
   },
   {
    "duration": 138,
    "start_time": "2021-09-30T18:42:49.889Z"
   },
   {
    "duration": 23,
    "start_time": "2021-09-30T18:42:51.185Z"
   },
   {
    "duration": 161,
    "start_time": "2021-09-30T18:43:06.273Z"
   },
   {
    "duration": 25,
    "start_time": "2021-09-30T18:43:06.437Z"
   },
   {
    "duration": 160,
    "start_time": "2021-09-30T18:43:21.719Z"
   },
   {
    "duration": 22,
    "start_time": "2021-09-30T18:43:22.018Z"
   },
   {
    "duration": 187,
    "start_time": "2021-09-30T18:43:36.209Z"
   },
   {
    "duration": 24,
    "start_time": "2021-09-30T18:43:36.518Z"
   },
   {
    "duration": 202,
    "start_time": "2021-09-30T18:44:05.473Z"
   },
   {
    "duration": 22,
    "start_time": "2021-09-30T18:44:08.237Z"
   },
   {
    "duration": 188,
    "start_time": "2021-09-30T18:44:18.089Z"
   },
   {
    "duration": 23,
    "start_time": "2021-09-30T18:44:18.618Z"
   },
   {
    "duration": 195,
    "start_time": "2021-09-30T18:44:35.713Z"
   },
   {
    "duration": 24,
    "start_time": "2021-09-30T18:44:36.181Z"
   },
   {
    "duration": 220,
    "start_time": "2021-09-30T18:44:57.847Z"
   },
   {
    "duration": 22,
    "start_time": "2021-09-30T18:44:58.344Z"
   },
   {
    "duration": 27,
    "start_time": "2021-09-30T18:45:16.905Z"
   },
   {
    "duration": 20,
    "start_time": "2021-09-30T18:45:58.206Z"
   },
   {
    "duration": 19,
    "start_time": "2021-09-30T18:46:11.870Z"
   },
   {
    "duration": 19,
    "start_time": "2021-09-30T18:46:26.727Z"
   },
   {
    "duration": 17,
    "start_time": "2021-09-30T18:46:47.270Z"
   },
   {
    "duration": 22,
    "start_time": "2021-09-30T18:46:51.510Z"
   },
   {
    "duration": 16,
    "start_time": "2021-09-30T18:46:58.812Z"
   },
   {
    "duration": 22,
    "start_time": "2021-09-30T18:46:59.260Z"
   },
   {
    "duration": 17,
    "start_time": "2021-09-30T18:47:05.075Z"
   },
   {
    "duration": 32,
    "start_time": "2021-09-30T18:47:17.988Z"
   },
   {
    "duration": 21,
    "start_time": "2021-09-30T18:47:18.502Z"
   },
   {
    "duration": 28,
    "start_time": "2021-09-30T18:47:24.973Z"
   },
   {
    "duration": 21,
    "start_time": "2021-09-30T18:48:42.490Z"
   },
   {
    "duration": 53,
    "start_time": "2021-09-30T18:49:45.568Z"
   },
   {
    "duration": 22,
    "start_time": "2021-09-30T18:49:50.037Z"
   },
   {
    "duration": 66,
    "start_time": "2021-09-30T18:50:04.201Z"
   },
   {
    "duration": 21,
    "start_time": "2021-09-30T18:50:04.669Z"
   },
   {
    "duration": 67,
    "start_time": "2021-09-30T18:50:12.287Z"
   },
   {
    "duration": 27,
    "start_time": "2021-09-30T18:50:12.737Z"
   },
   {
    "duration": 24,
    "start_time": "2021-09-30T18:50:27.806Z"
   },
   {
    "duration": 91,
    "start_time": "2021-09-30T18:51:11.677Z"
   },
   {
    "duration": 41,
    "start_time": "2021-09-30T18:51:12.589Z"
   },
   {
    "duration": 24,
    "start_time": "2021-09-30T18:51:18.122Z"
   },
   {
    "duration": 104,
    "start_time": "2021-09-30T18:51:29.132Z"
   },
   {
    "duration": 24,
    "start_time": "2021-09-30T18:51:29.613Z"
   },
   {
    "duration": 104,
    "start_time": "2021-09-30T18:51:52.374Z"
   },
   {
    "duration": 27,
    "start_time": "2021-09-30T18:51:52.938Z"
   },
   {
    "duration": 27,
    "start_time": "2021-09-30T18:52:56.500Z"
   },
   {
    "duration": 70,
    "start_time": "2021-09-30T18:53:57.273Z"
   },
   {
    "duration": 24,
    "start_time": "2021-09-30T18:54:04.543Z"
   },
   {
    "duration": 78,
    "start_time": "2021-09-30T18:54:19.157Z"
   },
   {
    "duration": 24,
    "start_time": "2021-09-30T18:54:20.068Z"
   },
   {
    "duration": 92,
    "start_time": "2021-09-30T18:54:43.865Z"
   },
   {
    "duration": 24,
    "start_time": "2021-09-30T18:54:44.292Z"
   },
   {
    "duration": 26,
    "start_time": "2021-09-30T18:54:55.336Z"
   },
   {
    "duration": 19,
    "start_time": "2021-09-30T18:55:52.423Z"
   },
   {
    "duration": 19,
    "start_time": "2021-09-30T18:56:13.259Z"
   },
   {
    "duration": 21,
    "start_time": "2021-09-30T18:56:18.664Z"
   },
   {
    "duration": 29,
    "start_time": "2021-09-30T18:56:30.678Z"
   },
   {
    "duration": 20,
    "start_time": "2021-09-30T18:56:31.009Z"
   },
   {
    "duration": 41,
    "start_time": "2021-09-30T18:56:43.218Z"
   },
   {
    "duration": 20,
    "start_time": "2021-09-30T18:56:43.547Z"
   },
   {
    "duration": 53,
    "start_time": "2021-09-30T18:56:57.661Z"
   },
   {
    "duration": 20,
    "start_time": "2021-09-30T18:56:57.984Z"
   },
   {
    "duration": 26,
    "start_time": "2021-09-30T18:57:02.272Z"
   },
   {
    "duration": 676,
    "start_time": "2021-09-30T18:58:21.835Z"
   },
   {
    "duration": 313,
    "start_time": "2021-09-30T18:58:48.759Z"
   },
   {
    "duration": 29,
    "start_time": "2021-09-30T18:58:55.482Z"
   },
   {
    "duration": 20,
    "start_time": "2021-09-30T19:00:05.601Z"
   },
   {
    "duration": 88,
    "start_time": "2021-09-30T19:01:21.439Z"
   },
   {
    "duration": 20,
    "start_time": "2021-09-30T19:01:29.512Z"
   },
   {
    "duration": 97,
    "start_time": "2021-09-30T19:01:42.677Z"
   },
   {
    "duration": 19,
    "start_time": "2021-09-30T19:01:43.148Z"
   },
   {
    "duration": 130,
    "start_time": "2021-09-30T19:02:10.952Z"
   },
   {
    "duration": 20,
    "start_time": "2021-09-30T19:02:11.342Z"
   },
   {
    "duration": 122,
    "start_time": "2021-09-30T19:02:16.037Z"
   },
   {
    "duration": 19,
    "start_time": "2021-09-30T19:02:16.516Z"
   },
   {
    "duration": 25,
    "start_time": "2021-09-30T19:02:23.070Z"
   },
   {
    "duration": 9,
    "start_time": "2021-09-30T19:04:27.330Z"
   },
   {
    "duration": 10,
    "start_time": "2021-09-30T19:04:38.912Z"
   },
   {
    "duration": 310,
    "start_time": "2021-09-30T19:05:38.285Z"
   },
   {
    "duration": 11,
    "start_time": "2021-09-30T19:06:08.124Z"
   },
   {
    "duration": 372,
    "start_time": "2021-09-30T19:06:12.903Z"
   },
   {
    "duration": 9,
    "start_time": "2021-09-30T19:06:22.685Z"
   },
   {
    "duration": 24,
    "start_time": "2021-09-30T19:06:29.286Z"
   },
   {
    "duration": 15,
    "start_time": "2021-09-30T19:06:48.710Z"
   },
   {
    "duration": 372,
    "start_time": "2021-09-30T19:06:55.242Z"
   },
   {
    "duration": 83,
    "start_time": "2021-09-30T19:06:55.617Z"
   },
   {
    "duration": 13,
    "start_time": "2021-09-30T19:06:55.703Z"
   },
   {
    "duration": 50,
    "start_time": "2021-09-30T19:06:55.719Z"
   },
   {
    "duration": 13,
    "start_time": "2021-09-30T19:06:55.772Z"
   },
   {
    "duration": 22,
    "start_time": "2021-09-30T19:06:55.788Z"
   },
   {
    "duration": 27,
    "start_time": "2021-09-30T19:06:55.812Z"
   },
   {
    "duration": 434,
    "start_time": "2021-09-30T19:06:55.844Z"
   },
   {
    "duration": 22,
    "start_time": "2021-09-30T19:06:56.282Z"
   },
   {
    "duration": 139,
    "start_time": "2021-09-30T19:06:56.307Z"
   },
   {
    "duration": 25,
    "start_time": "2021-09-30T19:06:56.448Z"
   },
   {
    "duration": 30,
    "start_time": "2021-09-30T19:06:56.476Z"
   },
   {
    "duration": 26,
    "start_time": "2021-09-30T19:06:56.508Z"
   },
   {
    "duration": 32,
    "start_time": "2021-09-30T19:06:56.558Z"
   },
   {
    "duration": 14,
    "start_time": "2021-09-30T19:06:56.593Z"
   },
   {
    "duration": 57,
    "start_time": "2021-09-30T19:06:56.610Z"
   },
   {
    "duration": 174,
    "start_time": "2021-09-30T19:06:56.669Z"
   },
   {
    "duration": 25,
    "start_time": "2021-09-30T19:06:56.845Z"
   },
   {
    "duration": 26,
    "start_time": "2021-09-30T19:06:56.872Z"
   },
   {
    "duration": 37,
    "start_time": "2021-09-30T19:06:56.900Z"
   },
   {
    "duration": 32,
    "start_time": "2021-09-30T19:06:56.939Z"
   },
   {
    "duration": 64,
    "start_time": "2021-09-30T19:06:56.974Z"
   },
   {
    "duration": 20,
    "start_time": "2021-09-30T19:06:57.057Z"
   },
   {
    "duration": 31,
    "start_time": "2021-09-30T19:06:57.080Z"
   },
   {
    "duration": 20,
    "start_time": "2021-09-30T19:06:57.114Z"
   },
   {
    "duration": 35,
    "start_time": "2021-09-30T19:06:57.159Z"
   },
   {
    "duration": 38,
    "start_time": "2021-09-30T19:06:57.198Z"
   },
   {
    "duration": 21,
    "start_time": "2021-09-30T19:06:57.258Z"
   },
   {
    "duration": 61,
    "start_time": "2021-09-30T19:06:57.281Z"
   },
   {
    "duration": 23,
    "start_time": "2021-09-30T19:06:57.358Z"
   },
   {
    "duration": 252,
    "start_time": "2021-09-30T19:06:57.384Z"
   },
   {
    "duration": 35,
    "start_time": "2021-09-30T19:06:57.639Z"
   },
   {
    "duration": 36,
    "start_time": "2021-09-30T19:06:57.677Z"
   },
   {
    "duration": 48,
    "start_time": "2021-09-30T19:06:57.715Z"
   },
   {
    "duration": 122,
    "start_time": "2021-09-30T19:06:57.765Z"
   },
   {
    "duration": 23,
    "start_time": "2021-09-30T19:06:57.889Z"
   },
   {
    "duration": 113,
    "start_time": "2021-09-30T19:06:57.914Z"
   },
   {
    "duration": 19,
    "start_time": "2021-09-30T19:06:58.029Z"
   },
   {
    "duration": 68,
    "start_time": "2021-09-30T19:06:58.058Z"
   },
   {
    "duration": 33,
    "start_time": "2021-09-30T19:06:58.128Z"
   },
   {
    "duration": 150,
    "start_time": "2021-09-30T19:06:58.164Z"
   },
   {
    "duration": 27,
    "start_time": "2021-09-30T19:06:58.317Z"
   },
   {
    "duration": 34,
    "start_time": "2021-09-30T19:06:58.357Z"
   },
   {
    "duration": 558,
    "start_time": "2021-09-30T19:06:58.394Z"
   },
   {
    "duration": 554,
    "start_time": "2021-09-30T19:06:58.957Z"
   },
   {
    "duration": 18,
    "start_time": "2021-09-30T19:06:59.513Z"
   },
   {
    "duration": 447,
    "start_time": "2021-09-30T19:06:59.533Z"
   },
   {
    "duration": 26,
    "start_time": "2021-09-30T19:06:59.982Z"
   },
   {
    "duration": 560,
    "start_time": "2021-09-30T19:07:00.011Z"
   },
   {
    "duration": 31,
    "start_time": "2021-09-30T19:07:00.574Z"
   },
   {
    "duration": 634,
    "start_time": "2021-09-30T19:07:00.608Z"
   },
   {
    "duration": 37,
    "start_time": "2021-09-30T19:07:01.244Z"
   },
   {
    "duration": 628,
    "start_time": "2021-09-30T19:07:01.283Z"
   },
   {
    "duration": 44,
    "start_time": "2021-09-30T19:07:01.913Z"
   },
   {
    "duration": 15,
    "start_time": "2021-09-30T19:07:01.960Z"
   },
   {
    "duration": 27,
    "start_time": "2021-09-30T19:07:01.977Z"
   },
   {
    "duration": 667,
    "start_time": "2021-09-30T19:07:02.007Z"
   },
   {
    "duration": 17,
    "start_time": "2021-09-30T19:07:02.677Z"
   },
   {
    "duration": 632,
    "start_time": "2021-09-30T19:07:02.697Z"
   },
   {
    "duration": 46,
    "start_time": "2021-09-30T19:07:03.332Z"
   },
   {
    "duration": 758,
    "start_time": "2021-09-30T19:07:03.380Z"
   },
   {
    "duration": 17,
    "start_time": "2021-09-30T19:07:04.141Z"
   },
   {
    "duration": 43,
    "start_time": "2021-09-30T19:07:04.160Z"
   },
   {
    "duration": 20,
    "start_time": "2021-09-30T19:07:04.206Z"
   },
   {
    "duration": 600,
    "start_time": "2021-09-30T19:07:04.229Z"
   },
   {
    "duration": 48,
    "start_time": "2021-09-30T19:07:04.832Z"
   },
   {
    "duration": 7,
    "start_time": "2021-09-30T19:07:04.883Z"
   },
   {
    "duration": 34,
    "start_time": "2021-09-30T19:07:04.898Z"
   },
   {
    "duration": 650,
    "start_time": "2021-09-30T19:07:04.959Z"
   },
   {
    "duration": 47,
    "start_time": "2021-09-30T19:07:05.612Z"
   },
   {
    "duration": 9,
    "start_time": "2021-09-30T19:07:05.662Z"
   },
   {
    "duration": 40,
    "start_time": "2021-09-30T19:07:05.674Z"
   },
   {
    "duration": 148,
    "start_time": "2021-09-30T19:07:05.716Z"
   },
   {
    "duration": 53,
    "start_time": "2021-09-30T19:07:05.867Z"
   },
   {
    "duration": 195,
    "start_time": "2021-09-30T19:07:05.923Z"
   },
   {
    "duration": 191,
    "start_time": "2021-09-30T19:07:06.120Z"
   },
   {
    "duration": 15,
    "start_time": "2021-09-30T19:07:23.641Z"
   },
   {
    "duration": 510,
    "start_time": "2021-09-30T19:24:32.450Z"
   },
   {
    "duration": 20,
    "start_time": "2021-09-30T19:26:47.986Z"
   },
   {
    "duration": 24,
    "start_time": "2021-09-30T19:27:03.215Z"
   },
   {
    "duration": 7,
    "start_time": "2021-09-30T19:27:10.697Z"
   },
   {
    "duration": 23,
    "start_time": "2021-09-30T19:27:11.139Z"
   },
   {
    "duration": 19,
    "start_time": "2021-09-30T19:27:28.477Z"
   },
   {
    "duration": 25,
    "start_time": "2021-09-30T19:27:34.321Z"
   },
   {
    "duration": 7,
    "start_time": "2021-09-30T19:27:38.070Z"
   },
   {
    "duration": 25,
    "start_time": "2021-09-30T19:27:38.494Z"
   },
   {
    "duration": 22,
    "start_time": "2021-09-30T19:28:00.100Z"
   },
   {
    "duration": 24,
    "start_time": "2021-09-30T19:28:13.082Z"
   },
   {
    "duration": 7,
    "start_time": "2021-09-30T19:28:15.564Z"
   },
   {
    "duration": 24,
    "start_time": "2021-09-30T19:28:15.872Z"
   },
   {
    "duration": 124,
    "start_time": "2021-09-30T19:28:27.756Z"
   },
   {
    "duration": 25,
    "start_time": "2021-09-30T19:28:35.823Z"
   },
   {
    "duration": 24,
    "start_time": "2021-09-30T19:28:39.849Z"
   },
   {
    "duration": 7,
    "start_time": "2021-09-30T19:28:43.246Z"
   },
   {
    "duration": 22,
    "start_time": "2021-09-30T19:28:43.826Z"
   },
   {
    "duration": 21,
    "start_time": "2021-09-30T19:29:12.052Z"
   },
   {
    "duration": 21,
    "start_time": "2021-09-30T19:29:17.887Z"
   },
   {
    "duration": 21,
    "start_time": "2021-09-30T19:29:26.859Z"
   },
   {
    "duration": 24,
    "start_time": "2021-09-30T19:29:34.503Z"
   },
   {
    "duration": 20,
    "start_time": "2021-09-30T19:29:45.556Z"
   },
   {
    "duration": 6,
    "start_time": "2021-09-30T19:29:49.830Z"
   },
   {
    "duration": 22,
    "start_time": "2021-09-30T19:29:50.373Z"
   },
   {
    "duration": -565,
    "start_time": "2021-09-30T19:30:31.862Z"
   },
   {
    "duration": -568,
    "start_time": "2021-09-30T19:30:31.868Z"
   },
   {
    "duration": -554,
    "start_time": "2021-09-30T19:30:43.883Z"
   },
   {
    "duration": -557,
    "start_time": "2021-09-30T19:30:43.887Z"
   },
   {
    "duration": -562,
    "start_time": "2021-09-30T19:30:56.254Z"
   },
   {
    "duration": -565,
    "start_time": "2021-09-30T19:31:13.386Z"
   },
   {
    "duration": -572,
    "start_time": "2021-09-30T19:31:13.395Z"
   },
   {
    "duration": -576,
    "start_time": "2021-09-30T19:31:13.401Z"
   },
   {
    "duration": -577,
    "start_time": "2021-09-30T19:31:13.404Z"
   },
   {
    "duration": -579,
    "start_time": "2021-09-30T19:31:13.407Z"
   },
   {
    "duration": -579,
    "start_time": "2021-09-30T19:31:13.409Z"
   },
   {
    "duration": -582,
    "start_time": "2021-09-30T19:31:13.413Z"
   },
   {
    "duration": -584,
    "start_time": "2021-09-30T19:31:13.417Z"
   },
   {
    "duration": -586,
    "start_time": "2021-09-30T19:31:13.420Z"
   },
   {
    "duration": -588,
    "start_time": "2021-09-30T19:31:13.424Z"
   },
   {
    "duration": -591,
    "start_time": "2021-09-30T19:31:13.428Z"
   },
   {
    "duration": -591,
    "start_time": "2021-09-30T19:31:13.430Z"
   },
   {
    "duration": -593,
    "start_time": "2021-09-30T19:31:13.433Z"
   },
   {
    "duration": -595,
    "start_time": "2021-09-30T19:31:13.436Z"
   },
   {
    "duration": -596,
    "start_time": "2021-09-30T19:31:13.439Z"
   },
   {
    "duration": -597,
    "start_time": "2021-09-30T19:31:13.442Z"
   },
   {
    "duration": -603,
    "start_time": "2021-09-30T19:31:13.449Z"
   },
   {
    "duration": -604,
    "start_time": "2021-09-30T19:31:13.452Z"
   },
   {
    "duration": -605,
    "start_time": "2021-09-30T19:31:13.454Z"
   },
   {
    "duration": -606,
    "start_time": "2021-09-30T19:31:13.457Z"
   },
   {
    "duration": -607,
    "start_time": "2021-09-30T19:31:13.459Z"
   },
   {
    "duration": -607,
    "start_time": "2021-09-30T19:31:13.461Z"
   },
   {
    "duration": -608,
    "start_time": "2021-09-30T19:31:13.463Z"
   },
   {
    "duration": -609,
    "start_time": "2021-09-30T19:31:13.465Z"
   },
   {
    "duration": -610,
    "start_time": "2021-09-30T19:31:13.468Z"
   },
   {
    "duration": -611,
    "start_time": "2021-09-30T19:31:13.470Z"
   },
   {
    "duration": -613,
    "start_time": "2021-09-30T19:31:13.473Z"
   },
   {
    "duration": -613,
    "start_time": "2021-09-30T19:31:13.475Z"
   },
   {
    "duration": -613,
    "start_time": "2021-09-30T19:31:13.477Z"
   },
   {
    "duration": -614,
    "start_time": "2021-09-30T19:31:13.479Z"
   },
   {
    "duration": -615,
    "start_time": "2021-09-30T19:31:13.481Z"
   },
   {
    "duration": -667,
    "start_time": "2021-09-30T19:31:13.534Z"
   },
   {
    "duration": -668,
    "start_time": "2021-09-30T19:31:13.537Z"
   },
   {
    "duration": -669,
    "start_time": "2021-09-30T19:31:13.539Z"
   },
   {
    "duration": -828,
    "start_time": "2021-09-30T19:31:13.699Z"
   },
   {
    "duration": -829,
    "start_time": "2021-09-30T19:31:13.702Z"
   },
   {
    "duration": -831,
    "start_time": "2021-09-30T19:31:13.705Z"
   },
   {
    "duration": -831,
    "start_time": "2021-09-30T19:31:13.706Z"
   },
   {
    "duration": -832,
    "start_time": "2021-09-30T19:31:13.709Z"
   },
   {
    "duration": -833,
    "start_time": "2021-09-30T19:31:13.711Z"
   },
   {
    "duration": -835,
    "start_time": "2021-09-30T19:31:13.714Z"
   },
   {
    "duration": -836,
    "start_time": "2021-09-30T19:31:13.716Z"
   },
   {
    "duration": -836,
    "start_time": "2021-09-30T19:31:13.718Z"
   },
   {
    "duration": -838,
    "start_time": "2021-09-30T19:31:13.721Z"
   },
   {
    "duration": -839,
    "start_time": "2021-09-30T19:31:13.723Z"
   },
   {
    "duration": -840,
    "start_time": "2021-09-30T19:31:13.725Z"
   },
   {
    "duration": -841,
    "start_time": "2021-09-30T19:31:13.728Z"
   },
   {
    "duration": -842,
    "start_time": "2021-09-30T19:31:13.730Z"
   },
   {
    "duration": -843,
    "start_time": "2021-09-30T19:31:13.732Z"
   },
   {
    "duration": -843,
    "start_time": "2021-09-30T19:31:13.734Z"
   },
   {
    "duration": -899,
    "start_time": "2021-09-30T19:31:13.791Z"
   },
   {
    "duration": -1090,
    "start_time": "2021-09-30T19:31:13.983Z"
   },
   {
    "duration": -1096,
    "start_time": "2021-09-30T19:31:13.991Z"
   },
   {
    "duration": -1098,
    "start_time": "2021-09-30T19:31:13.994Z"
   },
   {
    "duration": -1099,
    "start_time": "2021-09-30T19:31:13.996Z"
   },
   {
    "duration": -1039,
    "start_time": "2021-09-30T19:31:13.998Z"
   },
   {
    "duration": -1040,
    "start_time": "2021-09-30T19:31:14.001Z"
   },
   {
    "duration": -1042,
    "start_time": "2021-09-30T19:31:14.004Z"
   },
   {
    "duration": -1044,
    "start_time": "2021-09-30T19:31:14.007Z"
   },
   {
    "duration": -1044,
    "start_time": "2021-09-30T19:31:14.009Z"
   },
   {
    "duration": -1045,
    "start_time": "2021-09-30T19:31:14.011Z"
   },
   {
    "duration": -1045,
    "start_time": "2021-09-30T19:31:14.013Z"
   },
   {
    "duration": -1046,
    "start_time": "2021-09-30T19:31:14.015Z"
   },
   {
    "duration": -1046,
    "start_time": "2021-09-30T19:31:14.017Z"
   },
   {
    "duration": -1047,
    "start_time": "2021-09-30T19:31:14.019Z"
   },
   {
    "duration": -1048,
    "start_time": "2021-09-30T19:31:14.021Z"
   },
   {
    "duration": -1049,
    "start_time": "2021-09-30T19:31:14.024Z"
   },
   {
    "duration": -1049,
    "start_time": "2021-09-30T19:31:14.025Z"
   },
   {
    "duration": -1051,
    "start_time": "2021-09-30T19:31:14.028Z"
   },
   {
    "duration": -1050,
    "start_time": "2021-09-30T19:31:14.029Z"
   },
   {
    "duration": -1051,
    "start_time": "2021-09-30T19:31:14.031Z"
   },
   {
    "duration": -1051,
    "start_time": "2021-09-30T19:31:14.033Z"
   },
   {
    "duration": -1053,
    "start_time": "2021-09-30T19:31:14.036Z"
   },
   {
    "duration": -1054,
    "start_time": "2021-09-30T19:31:14.038Z"
   },
   {
    "duration": -1055,
    "start_time": "2021-09-30T19:31:14.040Z"
   },
   {
    "duration": -1055,
    "start_time": "2021-09-30T19:31:14.042Z"
   },
   {
    "duration": -1056,
    "start_time": "2021-09-30T19:31:14.044Z"
   },
   {
    "duration": 7,
    "start_time": "2021-09-30T19:31:20.115Z"
   },
   {
    "duration": 22,
    "start_time": "2021-09-30T19:31:20.611Z"
   },
   {
    "duration": 18,
    "start_time": "2021-09-30T19:31:36.408Z"
   },
   {
    "duration": 12,
    "start_time": "2021-09-30T19:32:13.994Z"
   },
   {
    "duration": 27,
    "start_time": "2021-09-30T19:32:25.511Z"
   },
   {
    "duration": 16,
    "start_time": "2021-09-30T19:32:48.971Z"
   },
   {
    "duration": 17,
    "start_time": "2021-09-30T19:33:04.650Z"
   },
   {
    "duration": 17,
    "start_time": "2021-09-30T19:33:14.971Z"
   },
   {
    "duration": 22,
    "start_time": "2021-09-30T19:33:55.359Z"
   },
   {
    "duration": 19,
    "start_time": "2021-09-30T19:34:00.409Z"
   },
   {
    "duration": 28,
    "start_time": "2021-09-30T19:34:30.805Z"
   },
   {
    "duration": 493,
    "start_time": "2021-09-30T19:34:31.801Z"
   },
   {
    "duration": 22,
    "start_time": "2021-09-30T19:35:00.166Z"
   },
   {
    "duration": 18,
    "start_time": "2021-09-30T19:35:52.940Z"
   },
   {
    "duration": -562,
    "start_time": "2021-09-30T19:36:21.144Z"
   },
   {
    "duration": 9143,
    "start_time": "2021-09-30T19:36:21.066Z"
   },
   {
    "duration": 11516,
    "start_time": "2021-09-30T19:36:40.093Z"
   },
   {
    "duration": 11235,
    "start_time": "2021-09-30T19:37:26.201Z"
   },
   {
    "duration": 20,
    "start_time": "2021-09-30T19:38:08.220Z"
   },
   {
    "duration": 9893,
    "start_time": "2021-09-30T19:38:12.483Z"
   },
   {
    "duration": 484,
    "start_time": "2021-09-30T19:38:30.009Z"
   },
   {
    "duration": 29,
    "start_time": "2021-09-30T19:47:01.556Z"
   },
   {
    "duration": 14,
    "start_time": "2021-09-30T19:47:22.013Z"
   },
   {
    "duration": 21,
    "start_time": "2021-09-30T19:47:40.769Z"
   },
   {
    "duration": 17,
    "start_time": "2021-09-30T19:47:55.483Z"
   },
   {
    "duration": 22,
    "start_time": "2021-09-30T19:48:01.453Z"
   },
   {
    "duration": 28,
    "start_time": "2021-09-30T19:48:10.517Z"
   },
   {
    "duration": 21,
    "start_time": "2021-09-30T19:48:12.887Z"
   },
   {
    "duration": 16,
    "start_time": "2021-09-30T19:48:22.130Z"
   },
   {
    "duration": 22,
    "start_time": "2021-09-30T19:49:24.125Z"
   },
   {
    "duration": 17,
    "start_time": "2021-09-30T19:49:53.896Z"
   },
   {
    "duration": 26,
    "start_time": "2021-09-30T19:50:05.532Z"
   },
   {
    "duration": 16,
    "start_time": "2021-09-30T19:50:18.960Z"
   },
   {
    "duration": 29,
    "start_time": "2021-09-30T19:50:19.796Z"
   },
   {
    "duration": 20,
    "start_time": "2021-09-30T19:50:58.851Z"
   },
   {
    "duration": 21,
    "start_time": "2021-09-30T19:51:12.350Z"
   },
   {
    "duration": 21,
    "start_time": "2021-09-30T19:51:59.251Z"
   },
   {
    "duration": 21,
    "start_time": "2021-09-30T19:51:59.276Z"
   },
   {
    "duration": 32,
    "start_time": "2021-09-30T19:52:00.758Z"
   },
   {
    "duration": 25,
    "start_time": "2021-09-30T19:52:00.970Z"
   },
   {
    "duration": 16,
    "start_time": "2021-09-30T19:52:01.084Z"
   },
   {
    "duration": 15,
    "start_time": "2021-09-30T19:52:01.229Z"
   },
   {
    "duration": 340,
    "start_time": "2021-09-30T19:52:08.721Z"
   },
   {
    "duration": 66,
    "start_time": "2021-09-30T19:52:09.065Z"
   },
   {
    "duration": 26,
    "start_time": "2021-09-30T19:52:09.135Z"
   },
   {
    "duration": 40,
    "start_time": "2021-09-30T19:52:09.165Z"
   },
   {
    "duration": 14,
    "start_time": "2021-09-30T19:52:09.208Z"
   },
   {
    "duration": 34,
    "start_time": "2021-09-30T19:52:09.225Z"
   },
   {
    "duration": 23,
    "start_time": "2021-09-30T19:52:09.262Z"
   },
   {
    "duration": 353,
    "start_time": "2021-09-30T19:52:09.291Z"
   },
   {
    "duration": 25,
    "start_time": "2021-09-30T19:52:09.648Z"
   },
   {
    "duration": 134,
    "start_time": "2021-09-30T19:52:09.677Z"
   },
   {
    "duration": 21,
    "start_time": "2021-09-30T19:52:09.813Z"
   },
   {
    "duration": 46,
    "start_time": "2021-09-30T19:52:09.837Z"
   },
   {
    "duration": 38,
    "start_time": "2021-09-30T19:52:09.886Z"
   },
   {
    "duration": 48,
    "start_time": "2021-09-30T19:52:09.926Z"
   },
   {
    "duration": 21,
    "start_time": "2021-09-30T19:52:09.977Z"
   },
   {
    "duration": 39,
    "start_time": "2021-09-30T19:52:10.001Z"
   },
   {
    "duration": 122,
    "start_time": "2021-09-30T19:52:10.042Z"
   },
   {
    "duration": 19,
    "start_time": "2021-09-30T19:52:10.167Z"
   },
   {
    "duration": 34,
    "start_time": "2021-09-30T19:52:10.189Z"
   },
   {
    "duration": 48,
    "start_time": "2021-09-30T19:52:10.226Z"
   },
   {
    "duration": 28,
    "start_time": "2021-09-30T19:52:10.277Z"
   },
   {
    "duration": 77,
    "start_time": "2021-09-30T19:52:10.308Z"
   },
   {
    "duration": 22,
    "start_time": "2021-09-30T19:52:10.393Z"
   },
   {
    "duration": 52,
    "start_time": "2021-09-30T19:52:10.419Z"
   },
   {
    "duration": 22,
    "start_time": "2021-09-30T19:52:10.474Z"
   },
   {
    "duration": 36,
    "start_time": "2021-09-30T19:52:10.499Z"
   },
   {
    "duration": 48,
    "start_time": "2021-09-30T19:52:10.537Z"
   },
   {
    "duration": 19,
    "start_time": "2021-09-30T19:52:10.588Z"
   },
   {
    "duration": 76,
    "start_time": "2021-09-30T19:52:10.610Z"
   },
   {
    "duration": 21,
    "start_time": "2021-09-30T19:52:10.689Z"
   },
   {
    "duration": 232,
    "start_time": "2021-09-30T19:52:10.713Z"
   },
   {
    "duration": 25,
    "start_time": "2021-09-30T19:52:10.947Z"
   },
   {
    "duration": 45,
    "start_time": "2021-09-30T19:52:10.974Z"
   },
   {
    "duration": 33,
    "start_time": "2021-09-30T19:52:11.021Z"
   },
   {
    "duration": 110,
    "start_time": "2021-09-30T19:52:11.057Z"
   },
   {
    "duration": 23,
    "start_time": "2021-09-30T19:52:11.170Z"
   },
   {
    "duration": 113,
    "start_time": "2021-09-30T19:52:11.196Z"
   },
   {
    "duration": 19,
    "start_time": "2021-09-30T19:52:11.311Z"
   },
   {
    "duration": 71,
    "start_time": "2021-09-30T19:52:11.332Z"
   },
   {
    "duration": 21,
    "start_time": "2021-09-30T19:52:11.406Z"
   },
   {
    "duration": 159,
    "start_time": "2021-09-30T19:52:11.429Z"
   },
   {
    "duration": 21,
    "start_time": "2021-09-30T19:52:11.590Z"
   },
   {
    "duration": 49,
    "start_time": "2021-09-30T19:52:11.613Z"
   },
   {
    "duration": 48,
    "start_time": "2021-09-30T19:52:11.665Z"
   },
   {
    "duration": 25,
    "start_time": "2021-09-30T19:52:11.716Z"
   },
   {
    "duration": 25,
    "start_time": "2021-09-30T19:52:11.743Z"
   },
   {
    "duration": 41,
    "start_time": "2021-09-30T19:52:11.770Z"
   },
   {
    "duration": 25,
    "start_time": "2021-09-30T19:52:11.813Z"
   },
   {
    "duration": 746,
    "start_time": "2021-09-30T19:52:11.841Z"
   },
   {
    "duration": 571,
    "start_time": "2021-09-30T19:52:12.590Z"
   },
   {
    "duration": 19,
    "start_time": "2021-09-30T19:52:13.163Z"
   },
   {
    "duration": 510,
    "start_time": "2021-09-30T19:52:13.186Z"
   },
   {
    "duration": 26,
    "start_time": "2021-09-30T19:52:13.699Z"
   },
   {
    "duration": 559,
    "start_time": "2021-09-30T19:52:13.727Z"
   },
   {
    "duration": 25,
    "start_time": "2021-09-30T19:52:14.288Z"
   },
   {
    "duration": 680,
    "start_time": "2021-09-30T19:52:14.316Z"
   },
   {
    "duration": 35,
    "start_time": "2021-09-30T19:52:14.998Z"
   },
   {
    "duration": 617,
    "start_time": "2021-09-30T19:52:15.036Z"
   },
   {
    "duration": 27,
    "start_time": "2021-09-30T19:52:15.658Z"
   },
   {
    "duration": 14,
    "start_time": "2021-09-30T19:52:15.687Z"
   },
   {
    "duration": 54,
    "start_time": "2021-09-30T19:52:15.704Z"
   },
   {
    "duration": 639,
    "start_time": "2021-09-30T19:52:15.760Z"
   },
   {
    "duration": 16,
    "start_time": "2021-09-30T19:52:16.402Z"
   },
   {
    "duration": 569,
    "start_time": "2021-09-30T19:52:16.420Z"
   },
   {
    "duration": 29,
    "start_time": "2021-09-30T19:52:16.991Z"
   },
   {
    "duration": 500,
    "start_time": "2021-09-30T19:52:17.022Z"
   },
   {
    "duration": 7,
    "start_time": "2021-09-30T19:52:17.525Z"
   },
   {
    "duration": 54,
    "start_time": "2021-09-30T19:52:17.540Z"
   },
   {
    "duration": 492,
    "start_time": "2021-09-30T19:52:17.597Z"
   },
   {
    "duration": 23,
    "start_time": "2021-09-30T19:52:18.091Z"
   },
   {
    "duration": 615,
    "start_time": "2021-09-30T19:52:18.117Z"
   },
   {
    "duration": 46,
    "start_time": "2021-09-30T19:52:18.734Z"
   },
   {
    "duration": 8,
    "start_time": "2021-09-30T19:52:18.783Z"
   },
   {
    "duration": 30,
    "start_time": "2021-09-30T19:52:18.793Z"
   },
   {
    "duration": 584,
    "start_time": "2021-09-30T19:52:18.858Z"
   },
   {
    "duration": 29,
    "start_time": "2021-09-30T19:52:19.444Z"
   },
   {
    "duration": 9,
    "start_time": "2021-09-30T19:52:19.475Z"
   },
   {
    "duration": 28,
    "start_time": "2021-09-30T19:52:19.486Z"
   },
   {
    "duration": 150,
    "start_time": "2021-09-30T19:52:19.516Z"
   },
   {
    "duration": 53,
    "start_time": "2021-09-30T19:52:19.668Z"
   },
   {
    "duration": 366,
    "start_time": "2021-09-30T19:52:19.723Z"
   },
   {
    "duration": 190,
    "start_time": "2021-09-30T19:52:20.091Z"
   },
   {
    "duration": 21,
    "start_time": "2021-09-30T19:52:26.356Z"
   },
   {
    "duration": 21,
    "start_time": "2021-09-30T19:52:31.966Z"
   },
   {
    "duration": 460,
    "start_time": "2021-09-30T19:52:32.610Z"
   },
   {
    "duration": 21,
    "start_time": "2021-09-30T19:56:38.184Z"
   },
   {
    "duration": 40,
    "start_time": "2021-09-30T19:56:57.485Z"
   },
   {
    "duration": 386,
    "start_time": "2021-09-30T20:16:41.886Z"
   },
   {
    "duration": -562,
    "start_time": "2021-09-30T20:21:46.404Z"
   },
   {
    "duration": 264,
    "start_time": "2021-09-30T20:21:47.246Z"
   },
   {
    "duration": 6938,
    "start_time": "2021-09-30T20:21:47.689Z"
   },
   {
    "duration": 588,
    "start_time": "2021-09-30T20:23:26.699Z"
   },
   {
    "duration": 981,
    "start_time": "2021-09-30T20:24:26.134Z"
   },
   {
    "duration": 15,
    "start_time": "2021-09-30T20:25:37.036Z"
   },
   {
    "duration": 26,
    "start_time": "2021-09-30T20:26:38.658Z"
   },
   {
    "duration": 10,
    "start_time": "2021-09-30T20:26:47.521Z"
   },
   {
    "duration": 7,
    "start_time": "2021-09-30T20:27:39.345Z"
   },
   {
    "duration": 1245,
    "start_time": "2021-09-30T20:28:20.444Z"
   },
   {
    "duration": 376,
    "start_time": "2021-09-30T20:29:27.336Z"
   },
   {
    "duration": 22,
    "start_time": "2021-09-30T20:29:47.668Z"
   },
   {
    "duration": 25,
    "start_time": "2021-09-30T20:29:53.542Z"
   },
   {
    "duration": 28,
    "start_time": "2021-09-30T20:30:13.254Z"
   },
   {
    "duration": 10,
    "start_time": "2021-09-30T20:30:14.587Z"
   },
   {
    "duration": 568,
    "start_time": "2021-09-30T20:30:18.010Z"
   },
   {
    "duration": 367,
    "start_time": "2021-09-30T20:30:24.783Z"
   },
   {
    "duration": 16,
    "start_time": "2021-09-30T20:30:41.045Z"
   },
   {
    "duration": 37,
    "start_time": "2021-09-30T20:30:44.574Z"
   },
   {
    "duration": 13,
    "start_time": "2021-09-30T20:30:48.099Z"
   },
   {
    "duration": 15,
    "start_time": "2021-09-30T20:30:51.448Z"
   },
   {
    "duration": 377,
    "start_time": "2021-09-30T20:30:54.632Z"
   },
   {
    "duration": 381,
    "start_time": "2021-09-30T20:30:57.140Z"
   },
   {
    "duration": 15,
    "start_time": "2021-09-30T20:31:26.554Z"
   },
   {
    "duration": 18,
    "start_time": "2021-09-30T20:32:03.071Z"
   },
   {
    "duration": 14,
    "start_time": "2021-09-30T20:32:09.751Z"
   },
   {
    "duration": 42,
    "start_time": "2021-09-30T20:32:16.182Z"
   },
   {
    "duration": 118,
    "start_time": "2021-09-30T20:32:47.512Z"
   },
   {
    "duration": 112,
    "start_time": "2021-09-30T20:32:51.691Z"
   },
   {
    "duration": 394,
    "start_time": "2021-09-30T20:33:13.120Z"
   },
   {
    "duration": 762,
    "start_time": "2021-09-30T20:43:55.293Z"
   },
   {
    "duration": 15,
    "start_time": "2021-09-30T20:44:09.377Z"
   },
   {
    "duration": 349,
    "start_time": "2021-09-30T20:44:12.653Z"
   },
   {
    "duration": 1310,
    "start_time": "2021-09-30T20:44:15.528Z"
   },
   {
    "duration": 14,
    "start_time": "2021-09-30T20:44:45.845Z"
   },
   {
    "duration": 10520,
    "start_time": "2021-09-30T20:44:57.853Z"
   },
   {
    "duration": 22,
    "start_time": "2021-09-30T20:45:41.418Z"
   },
   {
    "duration": 27,
    "start_time": "2021-09-30T20:53:43.011Z"
   },
   {
    "duration": 167,
    "start_time": "2021-09-30T20:59:31.291Z"
   },
   {
    "duration": 3253,
    "start_time": "2021-09-30T20:59:44.762Z"
   },
   {
    "duration": 3,
    "start_time": "2021-09-30T21:02:06.952Z"
   },
   {
    "duration": 6,
    "start_time": "2021-09-30T21:02:23.627Z"
   },
   {
    "duration": 32,
    "start_time": "2021-09-30T21:06:11.970Z"
   },
   {
    "duration": 130,
    "start_time": "2021-09-30T21:06:12.691Z"
   },
   {
    "duration": 302,
    "start_time": "2021-09-30T21:06:45.489Z"
   },
   {
    "duration": 1033,
    "start_time": "2021-09-30T21:06:45.794Z"
   },
   {
    "duration": 65,
    "start_time": "2021-09-30T21:06:46.830Z"
   },
   {
    "duration": 14,
    "start_time": "2021-09-30T21:06:46.898Z"
   },
   {
    "duration": 43,
    "start_time": "2021-09-30T21:06:46.914Z"
   },
   {
    "duration": 13,
    "start_time": "2021-09-30T21:06:46.960Z"
   },
   {
    "duration": 12,
    "start_time": "2021-09-30T21:06:46.976Z"
   },
   {
    "duration": 18,
    "start_time": "2021-09-30T21:06:46.990Z"
   },
   {
    "duration": 374,
    "start_time": "2021-09-30T21:06:47.013Z"
   },
   {
    "duration": 22,
    "start_time": "2021-09-30T21:06:47.390Z"
   },
   {
    "duration": 158,
    "start_time": "2021-09-30T21:06:47.415Z"
   },
   {
    "duration": 23,
    "start_time": "2021-09-30T21:06:47.576Z"
   },
   {
    "duration": 57,
    "start_time": "2021-09-30T21:06:47.602Z"
   },
   {
    "duration": 21,
    "start_time": "2021-09-30T21:06:47.661Z"
   },
   {
    "duration": 36,
    "start_time": "2021-09-30T21:06:47.684Z"
   },
   {
    "duration": 34,
    "start_time": "2021-09-30T21:06:47.723Z"
   },
   {
    "duration": 22,
    "start_time": "2021-09-30T21:06:47.760Z"
   },
   {
    "duration": 138,
    "start_time": "2021-09-30T21:06:47.784Z"
   },
   {
    "duration": 19,
    "start_time": "2021-09-30T21:06:47.925Z"
   },
   {
    "duration": 33,
    "start_time": "2021-09-30T21:06:47.946Z"
   },
   {
    "duration": 34,
    "start_time": "2021-09-30T21:06:47.981Z"
   },
   {
    "duration": 40,
    "start_time": "2021-09-30T21:06:48.018Z"
   },
   {
    "duration": 63,
    "start_time": "2021-09-30T21:06:48.061Z"
   },
   {
    "duration": 43,
    "start_time": "2021-09-30T21:06:48.127Z"
   },
   {
    "duration": 41,
    "start_time": "2021-09-30T21:06:48.173Z"
   },
   {
    "duration": 21,
    "start_time": "2021-09-30T21:06:48.217Z"
   },
   {
    "duration": 31,
    "start_time": "2021-09-30T21:06:48.262Z"
   },
   {
    "duration": 34,
    "start_time": "2021-09-30T21:06:48.298Z"
   },
   {
    "duration": 22,
    "start_time": "2021-09-30T21:06:48.358Z"
   },
   {
    "duration": 79,
    "start_time": "2021-09-30T21:06:48.383Z"
   },
   {
    "duration": 24,
    "start_time": "2021-09-30T21:06:48.465Z"
   },
   {
    "duration": 244,
    "start_time": "2021-09-30T21:06:48.492Z"
   },
   {
    "duration": 25,
    "start_time": "2021-09-30T21:06:48.739Z"
   },
   {
    "duration": 33,
    "start_time": "2021-09-30T21:06:48.767Z"
   },
   {
    "duration": 26,
    "start_time": "2021-09-30T21:06:48.802Z"
   },
   {
    "duration": 120,
    "start_time": "2021-09-30T21:06:48.859Z"
   },
   {
    "duration": 24,
    "start_time": "2021-09-30T21:06:48.982Z"
   },
   {
    "duration": 118,
    "start_time": "2021-09-30T21:06:49.009Z"
   },
   {
    "duration": 33,
    "start_time": "2021-09-30T21:06:49.129Z"
   },
   {
    "duration": 57,
    "start_time": "2021-09-30T21:06:49.165Z"
   },
   {
    "duration": 41,
    "start_time": "2021-09-30T21:06:49.225Z"
   },
   {
    "duration": 145,
    "start_time": "2021-09-30T21:06:49.269Z"
   },
   {
    "duration": 21,
    "start_time": "2021-09-30T21:06:49.417Z"
   },
   {
    "duration": 31,
    "start_time": "2021-09-30T21:06:49.457Z"
   },
   {
    "duration": 27,
    "start_time": "2021-09-30T21:06:49.491Z"
   },
   {
    "duration": 38,
    "start_time": "2021-09-30T21:06:49.520Z"
   },
   {
    "duration": 18,
    "start_time": "2021-09-30T21:06:49.560Z"
   },
   {
    "duration": 26,
    "start_time": "2021-09-30T21:06:49.580Z"
   },
   {
    "duration": 49,
    "start_time": "2021-09-30T21:06:49.609Z"
   },
   {
    "duration": 530,
    "start_time": "2021-09-30T21:06:49.660Z"
   },
   {
    "duration": 677,
    "start_time": "2021-09-30T21:06:50.193Z"
   },
   {
    "duration": 20,
    "start_time": "2021-09-30T21:06:50.874Z"
   },
   {
    "duration": 445,
    "start_time": "2021-09-30T21:06:50.898Z"
   },
   {
    "duration": 34,
    "start_time": "2021-09-30T21:06:51.345Z"
   },
   {
    "duration": 532,
    "start_time": "2021-09-30T21:06:51.382Z"
   },
   {
    "duration": 24,
    "start_time": "2021-09-30T21:06:51.917Z"
   },
   {
    "duration": 581,
    "start_time": "2021-09-30T21:06:51.958Z"
   },
   {
    "duration": 41,
    "start_time": "2021-09-30T21:06:52.542Z"
   },
   {
    "duration": 619,
    "start_time": "2021-09-30T21:06:52.585Z"
   },
   {
    "duration": 26,
    "start_time": "2021-09-30T21:06:53.206Z"
   },
   {
    "duration": 36,
    "start_time": "2021-09-30T21:06:53.235Z"
   },
   {
    "duration": 23,
    "start_time": "2021-09-30T21:06:53.273Z"
   },
   {
    "duration": 664,
    "start_time": "2021-09-30T21:06:53.298Z"
   },
   {
    "duration": 16,
    "start_time": "2021-09-30T21:06:53.965Z"
   },
   {
    "duration": 577,
    "start_time": "2021-09-30T21:06:53.984Z"
   },
   {
    "duration": 28,
    "start_time": "2021-09-30T21:06:54.563Z"
   },
   {
    "duration": 500,
    "start_time": "2021-09-30T21:06:54.593Z"
   },
   {
    "duration": 7,
    "start_time": "2021-09-30T21:06:55.095Z"
   },
   {
    "duration": 40,
    "start_time": "2021-09-30T21:06:55.105Z"
   },
   {
    "duration": 710,
    "start_time": "2021-09-30T21:06:55.147Z"
   },
   {
    "duration": 20,
    "start_time": "2021-09-30T21:06:55.860Z"
   },
   {
    "duration": 578,
    "start_time": "2021-09-30T21:06:55.883Z"
   },
   {
    "duration": 35,
    "start_time": "2021-09-30T21:06:56.463Z"
   },
   {
    "duration": 36,
    "start_time": "2021-09-30T21:06:56.501Z"
   },
   {
    "duration": 35,
    "start_time": "2021-09-30T21:06:56.540Z"
   },
   {
    "duration": 599,
    "start_time": "2021-09-30T21:06:56.578Z"
   },
   {
    "duration": 25,
    "start_time": "2021-09-30T21:06:57.180Z"
   },
   {
    "duration": 10,
    "start_time": "2021-09-30T21:06:57.207Z"
   },
   {
    "duration": 45,
    "start_time": "2021-09-30T21:06:57.219Z"
   },
   {
    "duration": 28,
    "start_time": "2021-09-30T21:06:57.267Z"
   },
   {
    "duration": 29,
    "start_time": "2021-09-30T21:06:57.303Z"
   },
   {
    "duration": 137,
    "start_time": "2021-09-30T21:06:57.358Z"
   },
   {
    "duration": 84,
    "start_time": "2021-09-30T21:06:57.498Z"
   },
   {
    "duration": 4,
    "start_time": "2021-09-30T21:06:57.585Z"
   },
   {
    "duration": 25,
    "start_time": "2021-09-30T21:06:57.591Z"
   },
   {
    "duration": 24699,
    "start_time": "2021-10-01T02:13:49.394Z"
   },
   {
    "duration": 1080,
    "start_time": "2021-10-01T02:14:14.095Z"
   },
   {
    "duration": 62,
    "start_time": "2021-10-01T02:14:15.179Z"
   },
   {
    "duration": 51,
    "start_time": "2021-10-01T02:14:15.243Z"
   },
   {
    "duration": 27,
    "start_time": "2021-10-01T02:14:15.297Z"
   },
   {
    "duration": 55,
    "start_time": "2021-10-01T02:14:15.326Z"
   },
   {
    "duration": 10,
    "start_time": "2021-10-01T02:14:15.384Z"
   },
   {
    "duration": 17,
    "start_time": "2021-10-01T02:14:15.398Z"
   },
   {
    "duration": 358,
    "start_time": "2021-10-01T02:14:15.418Z"
   },
   {
    "duration": 20,
    "start_time": "2021-10-01T02:14:15.778Z"
   },
   {
    "duration": 137,
    "start_time": "2021-10-01T02:14:15.800Z"
   },
   {
    "duration": 20,
    "start_time": "2021-10-01T02:14:15.939Z"
   },
   {
    "duration": 45,
    "start_time": "2021-10-01T02:14:15.961Z"
   },
   {
    "duration": 20,
    "start_time": "2021-10-01T02:14:16.008Z"
   },
   {
    "duration": 30,
    "start_time": "2021-10-01T02:14:16.030Z"
   },
   {
    "duration": 26,
    "start_time": "2021-10-01T02:14:16.062Z"
   },
   {
    "duration": 18,
    "start_time": "2021-10-01T02:14:16.091Z"
   },
   {
    "duration": 136,
    "start_time": "2021-10-01T02:14:16.112Z"
   },
   {
    "duration": 18,
    "start_time": "2021-10-01T02:14:16.251Z"
   },
   {
    "duration": 18,
    "start_time": "2021-10-01T02:14:16.282Z"
   },
   {
    "duration": 28,
    "start_time": "2021-10-01T02:14:16.303Z"
   },
   {
    "duration": 19,
    "start_time": "2021-10-01T02:14:16.334Z"
   },
   {
    "duration": 52,
    "start_time": "2021-10-01T02:14:16.388Z"
   },
   {
    "duration": 38,
    "start_time": "2021-10-01T02:14:16.444Z"
   },
   {
    "duration": 28,
    "start_time": "2021-10-01T02:14:16.484Z"
   },
   {
    "duration": 19,
    "start_time": "2021-10-01T02:14:16.514Z"
   },
   {
    "duration": 61,
    "start_time": "2021-10-01T02:14:16.536Z"
   },
   {
    "duration": 30,
    "start_time": "2021-10-01T02:14:16.599Z"
   },
   {
    "duration": 23,
    "start_time": "2021-10-01T02:14:16.631Z"
   },
   {
    "duration": 75,
    "start_time": "2021-10-01T02:14:16.657Z"
   },
   {
    "duration": 22,
    "start_time": "2021-10-01T02:14:16.734Z"
   },
   {
    "duration": 250,
    "start_time": "2021-10-01T02:14:16.758Z"
   },
   {
    "duration": 19,
    "start_time": "2021-10-01T02:14:17.010Z"
   },
   {
    "duration": 31,
    "start_time": "2021-10-01T02:14:17.032Z"
   },
   {
    "duration": 22,
    "start_time": "2021-10-01T02:14:17.083Z"
   },
   {
    "duration": 115,
    "start_time": "2021-10-01T02:14:17.107Z"
   },
   {
    "duration": 23,
    "start_time": "2021-10-01T02:14:17.224Z"
   },
   {
    "duration": 108,
    "start_time": "2021-10-01T02:14:17.250Z"
   },
   {
    "duration": 26,
    "start_time": "2021-10-01T02:14:17.360Z"
   },
   {
    "duration": 50,
    "start_time": "2021-10-01T02:14:17.389Z"
   },
   {
    "duration": 20,
    "start_time": "2021-10-01T02:14:17.441Z"
   },
   {
    "duration": 151,
    "start_time": "2021-10-01T02:14:17.463Z"
   },
   {
    "duration": 18,
    "start_time": "2021-10-01T02:14:17.616Z"
   },
   {
    "duration": 45,
    "start_time": "2021-10-01T02:14:17.637Z"
   },
   {
    "duration": 24,
    "start_time": "2021-10-01T02:14:17.685Z"
   },
   {
    "duration": 18,
    "start_time": "2021-10-01T02:14:17.712Z"
   },
   {
    "duration": 49,
    "start_time": "2021-10-01T02:14:17.733Z"
   },
   {
    "duration": 28,
    "start_time": "2021-10-01T02:14:17.785Z"
   },
   {
    "duration": 32,
    "start_time": "2021-10-01T02:14:17.815Z"
   },
   {
    "duration": 393,
    "start_time": "2021-10-01T02:14:17.850Z"
   },
   {
    "duration": 538,
    "start_time": "2021-10-01T02:14:18.247Z"
   },
   {
    "duration": 21,
    "start_time": "2021-10-01T02:14:18.788Z"
   },
   {
    "duration": 502,
    "start_time": "2021-10-01T02:14:18.811Z"
   },
   {
    "duration": 28,
    "start_time": "2021-10-01T02:14:19.316Z"
   },
   {
    "duration": 597,
    "start_time": "2021-10-01T02:14:19.347Z"
   },
   {
    "duration": 38,
    "start_time": "2021-10-01T02:14:19.947Z"
   },
   {
    "duration": 534,
    "start_time": "2021-10-01T02:14:19.988Z"
   },
   {
    "duration": 28,
    "start_time": "2021-10-01T02:14:20.524Z"
   },
   {
    "duration": 582,
    "start_time": "2021-10-01T02:14:20.554Z"
   },
   {
    "duration": 45,
    "start_time": "2021-10-01T02:14:21.140Z"
   },
   {
    "duration": 16,
    "start_time": "2021-10-01T02:14:21.188Z"
   },
   {
    "duration": 24,
    "start_time": "2021-10-01T02:14:21.207Z"
   },
   {
    "duration": 632,
    "start_time": "2021-10-01T02:14:21.234Z"
   },
   {
    "duration": 26,
    "start_time": "2021-10-01T02:14:21.869Z"
   },
   {
    "duration": 538,
    "start_time": "2021-10-01T02:14:21.897Z"
   },
   {
    "duration": 26,
    "start_time": "2021-10-01T02:14:22.437Z"
   },
   {
    "duration": 464,
    "start_time": "2021-10-01T02:14:22.482Z"
   },
   {
    "duration": 7,
    "start_time": "2021-10-01T02:14:22.953Z"
   },
   {
    "duration": 36,
    "start_time": "2021-10-01T02:14:22.963Z"
   },
   {
    "duration": 463,
    "start_time": "2021-10-01T02:14:23.001Z"
   },
   {
    "duration": 31,
    "start_time": "2021-10-01T02:14:23.466Z"
   },
   {
    "duration": 546,
    "start_time": "2021-10-01T02:14:23.500Z"
   },
   {
    "duration": 47,
    "start_time": "2021-10-01T02:14:24.048Z"
   },
   {
    "duration": 6,
    "start_time": "2021-10-01T02:14:24.098Z"
   },
   {
    "duration": 24,
    "start_time": "2021-10-01T02:14:24.106Z"
   },
   {
    "duration": 561,
    "start_time": "2021-10-01T02:14:24.132Z"
   },
   {
    "duration": 25,
    "start_time": "2021-10-01T02:14:24.696Z"
   },
   {
    "duration": 9,
    "start_time": "2021-10-01T02:14:24.723Z"
   },
   {
    "duration": 23,
    "start_time": "2021-10-01T02:14:24.734Z"
   },
   {
    "duration": 30,
    "start_time": "2021-10-01T02:14:24.783Z"
   },
   {
    "duration": 31,
    "start_time": "2021-10-01T02:14:24.815Z"
   },
   {
    "duration": 99019,
    "start_time": "2021-10-01T02:14:24.848Z"
   },
   {
    "duration": 65,
    "start_time": "2021-10-01T02:16:03.870Z"
   },
   {
    "duration": 3,
    "start_time": "2021-10-01T02:16:03.938Z"
   },
   {
    "duration": 8,
    "start_time": "2021-10-01T02:16:03.943Z"
   },
   {
    "duration": 15,
    "start_time": "2021-10-01T02:23:58.143Z"
   },
   {
    "duration": 27,
    "start_time": "2021-10-01T02:27:14.068Z"
   },
   {
    "duration": 30,
    "start_time": "2021-10-01T02:27:34.016Z"
   },
   {
    "duration": 589,
    "start_time": "2021-10-01T02:27:53.618Z"
   },
   {
    "duration": 28,
    "start_time": "2021-10-01T02:28:01.322Z"
   },
   {
    "duration": 30,
    "start_time": "2021-10-01T02:28:24.073Z"
   },
   {
    "duration": 28,
    "start_time": "2021-10-01T02:28:29.672Z"
   },
   {
    "duration": 36,
    "start_time": "2021-10-01T02:29:08.587Z"
   },
   {
    "duration": 20,
    "start_time": "2021-10-01T02:30:28.733Z"
   },
   {
    "duration": 362,
    "start_time": "2021-10-01T02:31:35.555Z"
   },
   {
    "duration": 368,
    "start_time": "2021-10-01T02:31:52.417Z"
   },
   {
    "duration": 21,
    "start_time": "2021-10-01T02:32:02.845Z"
   },
   {
    "duration": 641,
    "start_time": "2021-10-01T02:33:14.659Z"
   },
   {
    "duration": 549,
    "start_time": "2021-10-01T02:33:50.226Z"
   },
   {
    "duration": 744,
    "start_time": "2021-10-01T02:33:57.509Z"
   },
   {
    "duration": 433,
    "start_time": "2021-10-03T11:18:02.368Z"
   },
   {
    "duration": 2286,
    "start_time": "2021-10-03T11:18:06.431Z"
   },
   {
    "duration": 1289,
    "start_time": "2021-10-03T11:18:08.720Z"
   },
   {
    "duration": 64,
    "start_time": "2021-10-03T11:18:10.013Z"
   },
   {
    "duration": 13,
    "start_time": "2021-10-03T11:18:10.080Z"
   },
   {
    "duration": 25,
    "start_time": "2021-10-03T11:18:10.096Z"
   },
   {
    "duration": 35,
    "start_time": "2021-10-03T11:18:10.123Z"
   },
   {
    "duration": 10,
    "start_time": "2021-10-03T11:18:10.160Z"
   },
   {
    "duration": 15,
    "start_time": "2021-10-03T11:18:10.173Z"
   },
   {
    "duration": 577,
    "start_time": "2021-10-03T11:18:10.191Z"
   },
   {
    "duration": 20,
    "start_time": "2021-10-03T11:18:10.771Z"
   },
   {
    "duration": 137,
    "start_time": "2021-10-03T11:18:10.795Z"
   },
   {
    "duration": 26,
    "start_time": "2021-10-03T11:18:10.934Z"
   },
   {
    "duration": 32,
    "start_time": "2021-10-03T11:18:10.963Z"
   },
   {
    "duration": 21,
    "start_time": "2021-10-03T11:18:10.997Z"
   },
   {
    "duration": 59,
    "start_time": "2021-10-03T11:18:11.021Z"
   },
   {
    "duration": 14,
    "start_time": "2021-10-03T11:18:11.082Z"
   },
   {
    "duration": 24,
    "start_time": "2021-10-03T11:18:11.098Z"
   },
   {
    "duration": 153,
    "start_time": "2021-10-03T11:18:11.124Z"
   },
   {
    "duration": 18,
    "start_time": "2021-10-03T11:18:11.280Z"
   },
   {
    "duration": 22,
    "start_time": "2021-10-03T11:18:11.300Z"
   },
   {
    "duration": 48,
    "start_time": "2021-10-03T11:18:11.324Z"
   },
   {
    "duration": 19,
    "start_time": "2021-10-03T11:18:11.375Z"
   },
   {
    "duration": 70,
    "start_time": "2021-10-03T11:18:11.400Z"
   },
   {
    "duration": 25,
    "start_time": "2021-10-03T11:18:11.474Z"
   },
   {
    "duration": 29,
    "start_time": "2021-10-03T11:18:11.502Z"
   },
   {
    "duration": 40,
    "start_time": "2021-10-03T11:18:11.533Z"
   },
   {
    "duration": 34,
    "start_time": "2021-10-03T11:18:11.575Z"
   },
   {
    "duration": 48,
    "start_time": "2021-10-03T11:18:11.611Z"
   },
   {
    "duration": 28,
    "start_time": "2021-10-03T11:18:11.662Z"
   },
   {
    "duration": 66,
    "start_time": "2021-10-03T11:18:11.692Z"
   },
   {
    "duration": 23,
    "start_time": "2021-10-03T11:18:11.760Z"
   },
   {
    "duration": 241,
    "start_time": "2021-10-03T11:18:11.785Z"
   },
   {
    "duration": 20,
    "start_time": "2021-10-03T11:18:12.028Z"
   },
   {
    "duration": 30,
    "start_time": "2021-10-03T11:18:12.058Z"
   },
   {
    "duration": 22,
    "start_time": "2021-10-03T11:18:12.090Z"
   },
   {
    "duration": 132,
    "start_time": "2021-10-03T11:18:12.114Z"
   },
   {
    "duration": 27,
    "start_time": "2021-10-03T11:18:12.249Z"
   },
   {
    "duration": 122,
    "start_time": "2021-10-03T11:18:12.279Z"
   },
   {
    "duration": 19,
    "start_time": "2021-10-03T11:18:12.403Z"
   },
   {
    "duration": 78,
    "start_time": "2021-10-03T11:18:12.424Z"
   },
   {
    "duration": 23,
    "start_time": "2021-10-03T11:18:12.504Z"
   },
   {
    "duration": 149,
    "start_time": "2021-10-03T11:18:12.529Z"
   },
   {
    "duration": 19,
    "start_time": "2021-10-03T11:18:12.681Z"
   },
   {
    "duration": 33,
    "start_time": "2021-10-03T11:18:12.702Z"
   },
   {
    "duration": 37,
    "start_time": "2021-10-03T11:18:12.738Z"
   },
   {
    "duration": 14,
    "start_time": "2021-10-03T11:18:12.777Z"
   },
   {
    "duration": 16,
    "start_time": "2021-10-03T11:18:12.793Z"
   },
   {
    "duration": 53,
    "start_time": "2021-10-03T11:18:12.811Z"
   },
   {
    "duration": 29,
    "start_time": "2021-10-03T11:18:12.866Z"
   },
   {
    "duration": 385,
    "start_time": "2021-10-03T11:18:12.898Z"
   },
   {
    "duration": 1075,
    "start_time": "2021-10-03T11:18:13.286Z"
   },
   {
    "duration": 19,
    "start_time": "2021-10-03T11:18:14.364Z"
   },
   {
    "duration": 524,
    "start_time": "2021-10-03T11:18:14.386Z"
   },
   {
    "duration": 46,
    "start_time": "2021-10-03T11:18:14.913Z"
   },
   {
    "duration": 512,
    "start_time": "2021-10-03T11:18:14.962Z"
   },
   {
    "duration": 24,
    "start_time": "2021-10-03T11:18:15.477Z"
   },
   {
    "duration": 531,
    "start_time": "2021-10-03T11:18:15.503Z"
   },
   {
    "duration": 40,
    "start_time": "2021-10-03T11:18:16.037Z"
   },
   {
    "duration": 582,
    "start_time": "2021-10-03T11:18:16.079Z"
   },
   {
    "duration": 27,
    "start_time": "2021-10-03T11:18:16.663Z"
   },
   {
    "duration": 14,
    "start_time": "2021-10-03T11:18:16.692Z"
   },
   {
    "duration": 58,
    "start_time": "2021-10-03T11:18:16.709Z"
   },
   {
    "duration": 614,
    "start_time": "2021-10-03T11:18:16.770Z"
   },
   {
    "duration": 16,
    "start_time": "2021-10-03T11:18:17.388Z"
   },
   {
    "duration": 572,
    "start_time": "2021-10-03T11:18:17.407Z"
   },
   {
    "duration": 38,
    "start_time": "2021-10-03T11:18:17.982Z"
   },
   {
    "duration": 48,
    "start_time": "2021-10-03T11:18:18.022Z"
   },
   {
    "duration": 485,
    "start_time": "2021-10-03T11:18:18.077Z"
   },
   {
    "duration": 6,
    "start_time": "2021-10-03T11:18:18.565Z"
   },
   {
    "duration": 26,
    "start_time": "2021-10-03T11:18:18.573Z"
   },
   {
    "duration": 475,
    "start_time": "2021-10-03T11:18:18.602Z"
   },
   {
    "duration": 19,
    "start_time": "2021-10-03T11:18:19.080Z"
   },
   {
    "duration": 566,
    "start_time": "2021-10-03T11:18:19.102Z"
   },
   {
    "duration": 19,
    "start_time": "2021-10-03T11:18:19.671Z"
   },
   {
    "duration": 579,
    "start_time": "2021-10-03T11:18:19.692Z"
   },
   {
    "duration": 40,
    "start_time": "2021-10-03T11:18:20.274Z"
   },
   {
    "duration": 19,
    "start_time": "2021-10-03T11:18:20.316Z"
   },
   {
    "duration": 38,
    "start_time": "2021-10-03T11:18:20.337Z"
   },
   {
    "duration": 585,
    "start_time": "2021-10-03T11:18:20.377Z"
   },
   {
    "duration": 25,
    "start_time": "2021-10-03T11:18:20.965Z"
   },
   {
    "duration": 11,
    "start_time": "2021-10-03T11:18:20.993Z"
   },
   {
    "duration": 52,
    "start_time": "2021-10-03T11:18:21.007Z"
   },
   {
    "duration": 29,
    "start_time": "2021-10-03T11:18:21.062Z"
   },
   {
    "duration": 27,
    "start_time": "2021-10-03T11:18:21.094Z"
   },
   {
    "duration": 1006,
    "start_time": "2021-10-03T11:18:21.123Z"
   },
   {
    "duration": 68,
    "start_time": "2021-10-03T11:18:22.133Z"
   },
   {
    "duration": 3,
    "start_time": "2021-10-03T11:18:22.203Z"
   },
   {
    "duration": 26,
    "start_time": "2021-10-03T11:18:22.209Z"
   },
   {
    "duration": 1006,
    "start_time": "2021-10-03T11:18:25.321Z"
   },
   {
    "duration": 641,
    "start_time": "2021-10-03T11:22:23.455Z"
   },
   {
    "duration": 658,
    "start_time": "2021-10-03T11:34:40.213Z"
   },
   {
    "duration": 117,
    "start_time": "2021-10-03T13:06:29.387Z"
   },
   {
    "duration": 924,
    "start_time": "2021-10-03T15:12:42.713Z"
   },
   {
    "duration": 353,
    "start_time": "2021-10-03T15:13:14.676Z"
   },
   {
    "duration": 377,
    "start_time": "2021-10-03T15:13:35.798Z"
   },
   {
    "duration": 349,
    "start_time": "2021-10-03T15:13:56.954Z"
   },
   {
    "duration": 353,
    "start_time": "2021-10-03T15:14:05.717Z"
   },
   {
    "duration": 274,
    "start_time": "2021-10-03T15:15:23.946Z"
   },
   {
    "duration": 4223,
    "start_time": "2021-10-03T15:18:03.317Z"
   },
   {
    "duration": 4676,
    "start_time": "2021-10-03T15:18:14.819Z"
   },
   {
    "duration": -1666,
    "start_time": "2021-10-03T15:18:21.648Z"
   },
   {
    "duration": 73,
    "start_time": "2021-10-03T15:18:24.393Z"
   },
   {
    "duration": 3,
    "start_time": "2021-10-03T15:18:54.089Z"
   },
   {
    "duration": 411,
    "start_time": "2021-10-03T15:21:05.141Z"
   },
   {
    "duration": 7,
    "start_time": "2021-10-03T15:21:11.021Z"
   },
   {
    "duration": 370,
    "start_time": "2021-10-03T15:22:48.111Z"
   },
   {
    "duration": 400,
    "start_time": "2021-10-03T15:23:09.372Z"
   },
   {
    "duration": 122242,
    "start_time": "2021-10-03T15:26:06.738Z"
   },
   {
    "duration": -1630,
    "start_time": "2021-10-03T15:28:10.987Z"
   },
   {
    "duration": 358,
    "start_time": "2021-10-03T15:28:09.978Z"
   },
   {
    "duration": 352,
    "start_time": "2021-10-03T15:28:12.471Z"
   },
   {
    "duration": 745571,
    "start_time": "2021-10-03T15:31:23.408Z"
   },
   {
    "duration": 8361,
    "start_time": "2021-10-03T15:43:49.132Z"
   },
   {
    "duration": 1780,
    "start_time": "2021-10-03T15:43:57.503Z"
   },
   {
    "duration": -1717,
    "start_time": "2021-10-03T15:44:01.012Z"
   },
   {
    "duration": 2549,
    "start_time": "2021-10-03T15:44:10.758Z"
   },
   {
    "duration": 250,
    "start_time": "2021-10-03T15:51:41.575Z"
   },
   {
    "duration": 69,
    "start_time": "2021-10-03T15:51:44.494Z"
   },
   {
    "duration": 13,
    "start_time": "2021-10-03T15:51:49.507Z"
   },
   {
    "duration": 27,
    "start_time": "2021-10-03T15:51:49.722Z"
   },
   {
    "duration": 15,
    "start_time": "2021-10-03T15:51:50.518Z"
   },
   {
    "duration": 10,
    "start_time": "2021-10-03T15:51:50.695Z"
   },
   {
    "duration": 14,
    "start_time": "2021-10-03T15:51:50.854Z"
   },
   {
    "duration": 465,
    "start_time": "2021-10-03T15:51:51.022Z"
   },
   {
    "duration": 21,
    "start_time": "2021-10-03T15:51:51.490Z"
   },
   {
    "duration": 121,
    "start_time": "2021-10-03T15:51:51.671Z"
   },
   {
    "duration": 23,
    "start_time": "2021-10-03T15:51:51.814Z"
   },
   {
    "duration": 34,
    "start_time": "2021-10-03T15:51:51.974Z"
   },
   {
    "duration": 20,
    "start_time": "2021-10-03T15:51:52.154Z"
   },
   {
    "duration": 30,
    "start_time": "2021-10-03T15:51:53.046Z"
   },
   {
    "duration": 12,
    "start_time": "2021-10-03T15:51:53.208Z"
   },
   {
    "duration": 20,
    "start_time": "2021-10-03T15:51:53.748Z"
   },
   {
    "duration": 115,
    "start_time": "2021-10-03T15:51:54.419Z"
   },
   {
    "duration": 20,
    "start_time": "2021-10-03T15:51:54.663Z"
   },
   {
    "duration": 19,
    "start_time": "2021-10-03T15:51:54.874Z"
   },
   {
    "duration": 44,
    "start_time": "2021-10-03T15:51:55.075Z"
   },
   {
    "duration": 29,
    "start_time": "2021-10-03T15:51:55.279Z"
   },
   {
    "duration": 56,
    "start_time": "2021-10-03T15:51:56.670Z"
   },
   {
    "duration": 21,
    "start_time": "2021-10-03T15:51:57.207Z"
   },
   {
    "duration": 35,
    "start_time": "2021-10-03T15:51:57.579Z"
   },
   {
    "duration": 21,
    "start_time": "2021-10-03T15:51:57.784Z"
   },
   {
    "duration": 30,
    "start_time": "2021-10-03T15:51:57.985Z"
   },
   {
    "duration": 33,
    "start_time": "2021-10-03T15:51:58.215Z"
   },
   {
    "duration": 28,
    "start_time": "2021-10-03T15:51:58.504Z"
   },
   {
    "duration": 55,
    "start_time": "2021-10-03T15:51:58.748Z"
   },
   {
    "duration": 24,
    "start_time": "2021-10-03T15:51:58.924Z"
   },
   {
    "duration": 229,
    "start_time": "2021-10-03T15:51:59.105Z"
   },
   {
    "duration": 27,
    "start_time": "2021-10-03T15:51:59.336Z"
   },
   {
    "duration": 29,
    "start_time": "2021-10-03T15:51:59.478Z"
   },
   {
    "duration": 24,
    "start_time": "2021-10-03T15:51:59.645Z"
   },
   {
    "duration": 106,
    "start_time": "2021-10-03T15:51:59.866Z"
   },
   {
    "duration": 25,
    "start_time": "2021-10-03T15:52:00.214Z"
   },
   {
    "duration": 105,
    "start_time": "2021-10-03T15:52:00.422Z"
   },
   {
    "duration": 20,
    "start_time": "2021-10-03T15:52:00.625Z"
   },
   {
    "duration": 58,
    "start_time": "2021-10-03T15:52:00.875Z"
   },
   {
    "duration": 22,
    "start_time": "2021-10-03T15:52:01.466Z"
   },
   {
    "duration": 142,
    "start_time": "2021-10-03T15:52:01.657Z"
   },
   {
    "duration": 23,
    "start_time": "2021-10-03T15:52:01.854Z"
   },
   {
    "duration": 31,
    "start_time": "2021-10-03T15:52:02.219Z"
   },
   {
    "duration": 23,
    "start_time": "2021-10-03T15:52:02.389Z"
   },
   {
    "duration": 18,
    "start_time": "2021-10-03T15:52:02.585Z"
   },
   {
    "duration": 17,
    "start_time": "2021-10-03T15:52:02.743Z"
   },
   {
    "duration": 28,
    "start_time": "2021-10-03T15:52:02.944Z"
   },
   {
    "duration": 24,
    "start_time": "2021-10-03T15:52:03.671Z"
   },
   {
    "duration": 514,
    "start_time": "2021-10-03T15:52:04.008Z"
   },
   {
    "duration": 946,
    "start_time": "2021-10-03T15:52:04.720Z"
   },
   {
    "duration": 19,
    "start_time": "2021-10-03T15:52:06.120Z"
   },
   {
    "duration": 417,
    "start_time": "2021-10-03T15:52:06.374Z"
   },
   {
    "duration": 25,
    "start_time": "2021-10-03T15:52:06.794Z"
   },
   {
    "duration": 538,
    "start_time": "2021-10-03T15:52:06.822Z"
   },
   {
    "duration": 24,
    "start_time": "2021-10-03T15:52:07.363Z"
   },
   {
    "duration": 533,
    "start_time": "2021-10-03T15:52:07.727Z"
   },
   {
    "duration": 30,
    "start_time": "2021-10-03T15:52:08.573Z"
   },
   {
    "duration": 582,
    "start_time": "2021-10-03T15:52:08.804Z"
   },
   {
    "duration": 26,
    "start_time": "2021-10-03T15:52:09.389Z"
   },
   {
    "duration": 15,
    "start_time": "2021-10-03T15:52:09.561Z"
   },
   {
    "duration": 23,
    "start_time": "2021-10-03T15:52:10.063Z"
   },
   {
    "duration": 702,
    "start_time": "2021-10-03T15:52:10.282Z"
   },
   {
    "duration": 16,
    "start_time": "2021-10-03T15:52:16.330Z"
   },
   {
    "duration": 543,
    "start_time": "2021-10-03T15:52:16.917Z"
   },
   {
    "duration": 39,
    "start_time": "2021-10-03T15:52:20.109Z"
   },
   {
    "duration": 26,
    "start_time": "2021-10-03T15:52:21.811Z"
   },
   {
    "duration": 457,
    "start_time": "2021-10-03T15:52:22.569Z"
   },
   {
    "duration": 8,
    "start_time": "2021-10-03T15:52:23.165Z"
   },
   {
    "duration": 21,
    "start_time": "2021-10-03T15:52:23.485Z"
   },
   {
    "duration": 666,
    "start_time": "2021-10-03T15:52:23.869Z"
   },
   {
    "duration": 27,
    "start_time": "2021-10-03T15:52:25.702Z"
   },
   {
    "duration": 639,
    "start_time": "2021-10-03T15:52:26.125Z"
   },
   {
    "duration": 21,
    "start_time": "2021-10-03T15:52:28.573Z"
   },
   {
    "duration": 563,
    "start_time": "2021-10-03T15:52:28.902Z"
   },
   {
    "duration": 39,
    "start_time": "2021-10-03T15:52:30.134Z"
   },
   {
    "duration": 7,
    "start_time": "2021-10-03T15:52:30.489Z"
   },
   {
    "duration": 25,
    "start_time": "2021-10-03T15:52:32.572Z"
   },
   {
    "duration": 957,
    "start_time": "2021-10-03T15:52:33.946Z"
   },
   {
    "duration": 35,
    "start_time": "2021-10-03T15:52:35.291Z"
   },
   {
    "duration": 13,
    "start_time": "2021-10-03T15:52:35.748Z"
   },
   {
    "duration": 380,
    "start_time": "2021-10-03T15:52:36.197Z"
   },
   {
    "duration": 441,
    "start_time": "2021-10-03T15:52:36.625Z"
   },
   {
    "duration": 377,
    "start_time": "2021-10-03T15:52:52.217Z"
   },
   {
    "duration": 1066,
    "start_time": "2021-10-03T15:54:06.822Z"
   },
   {
    "duration": 12,
    "start_time": "2021-10-03T15:54:19.784Z"
   },
   {
    "duration": 14,
    "start_time": "2021-10-03T15:54:20.184Z"
   },
   {
    "duration": 28,
    "start_time": "2021-10-03T15:54:20.971Z"
   },
   {
    "duration": 29,
    "start_time": "2021-10-03T15:54:28.327Z"
   },
   {
    "duration": 924,
    "start_time": "2021-10-03T15:54:28.696Z"
   },
   {
    "duration": 60,
    "start_time": "2021-10-03T15:54:31.570Z"
   },
   {
    "duration": 4,
    "start_time": "2021-10-03T15:54:32.206Z"
   },
   {
    "duration": 5,
    "start_time": "2021-10-03T15:54:32.767Z"
   },
   {
    "duration": 36081,
    "start_time": "2021-10-04T03:10:38.107Z"
   },
   {
    "duration": 1528,
    "start_time": "2021-10-04T03:11:14.191Z"
   },
   {
    "duration": 68,
    "start_time": "2021-10-04T03:11:15.723Z"
   },
   {
    "duration": 29,
    "start_time": "2021-10-04T03:11:15.795Z"
   },
   {
    "duration": 32,
    "start_time": "2021-10-04T03:11:15.827Z"
   },
   {
    "duration": 15,
    "start_time": "2021-10-04T03:11:15.862Z"
   },
   {
    "duration": 40,
    "start_time": "2021-10-04T03:11:15.880Z"
   },
   {
    "duration": 22,
    "start_time": "2021-10-04T03:11:15.924Z"
   },
   {
    "duration": 347,
    "start_time": "2021-10-04T03:11:15.949Z"
   },
   {
    "duration": 32,
    "start_time": "2021-10-04T03:11:16.299Z"
   },
   {
    "duration": 134,
    "start_time": "2021-10-04T03:11:16.334Z"
   },
   {
    "duration": 20,
    "start_time": "2021-10-04T03:11:16.471Z"
   },
   {
    "duration": 43,
    "start_time": "2021-10-04T03:11:16.494Z"
   },
   {
    "duration": 19,
    "start_time": "2021-10-04T03:11:16.540Z"
   },
   {
    "duration": 29,
    "start_time": "2021-10-04T03:11:16.561Z"
   },
   {
    "duration": 10,
    "start_time": "2021-10-04T03:11:16.617Z"
   },
   {
    "duration": 19,
    "start_time": "2021-10-04T03:11:16.630Z"
   },
   {
    "duration": 141,
    "start_time": "2021-10-04T03:11:16.652Z"
   },
   {
    "duration": 25,
    "start_time": "2021-10-04T03:11:16.796Z"
   },
   {
    "duration": 20,
    "start_time": "2021-10-04T03:11:16.824Z"
   },
   {
    "duration": 31,
    "start_time": "2021-10-04T03:11:16.847Z"
   },
   {
    "duration": 49,
    "start_time": "2021-10-04T03:11:16.881Z"
   },
   {
    "duration": 85,
    "start_time": "2021-10-04T03:11:16.936Z"
   },
   {
    "duration": 20,
    "start_time": "2021-10-04T03:11:17.025Z"
   },
   {
    "duration": 30,
    "start_time": "2021-10-04T03:11:17.048Z"
   },
   {
    "duration": 46,
    "start_time": "2021-10-04T03:11:17.081Z"
   },
   {
    "duration": 35,
    "start_time": "2021-10-04T03:11:17.130Z"
   },
   {
    "duration": 50,
    "start_time": "2021-10-04T03:11:17.168Z"
   },
   {
    "duration": 21,
    "start_time": "2021-10-04T03:11:17.220Z"
   },
   {
    "duration": 74,
    "start_time": "2021-10-04T03:11:17.244Z"
   },
   {
    "duration": 21,
    "start_time": "2021-10-04T03:11:17.321Z"
   },
   {
    "duration": 234,
    "start_time": "2021-10-04T03:11:17.344Z"
   },
   {
    "duration": 19,
    "start_time": "2021-10-04T03:11:17.581Z"
   },
   {
    "duration": 28,
    "start_time": "2021-10-04T03:11:17.616Z"
   },
   {
    "duration": 25,
    "start_time": "2021-10-04T03:11:17.647Z"
   },
   {
    "duration": 126,
    "start_time": "2021-10-04T03:11:17.675Z"
   },
   {
    "duration": 31,
    "start_time": "2021-10-04T03:11:17.803Z"
   },
   {
    "duration": 110,
    "start_time": "2021-10-04T03:11:17.837Z"
   },
   {
    "duration": 19,
    "start_time": "2021-10-04T03:11:17.949Z"
   },
   {
    "duration": 74,
    "start_time": "2021-10-04T03:11:17.970Z"
   },
   {
    "duration": 20,
    "start_time": "2021-10-04T03:11:18.046Z"
   },
   {
    "duration": 147,
    "start_time": "2021-10-04T03:11:18.069Z"
   },
   {
    "duration": 19,
    "start_time": "2021-10-04T03:11:18.219Z"
   },
   {
    "duration": 30,
    "start_time": "2021-10-04T03:11:18.241Z"
   },
   {
    "duration": 48,
    "start_time": "2021-10-04T03:11:18.274Z"
   },
   {
    "duration": 16,
    "start_time": "2021-10-04T03:11:18.324Z"
   },
   {
    "duration": 18,
    "start_time": "2021-10-04T03:11:18.342Z"
   },
   {
    "duration": 54,
    "start_time": "2021-10-04T03:11:18.362Z"
   },
   {
    "duration": 31,
    "start_time": "2021-10-04T03:11:18.419Z"
   },
   {
    "duration": 383,
    "start_time": "2021-10-04T03:11:18.453Z"
   },
   {
    "duration": 1116,
    "start_time": "2021-10-04T03:11:18.838Z"
   },
   {
    "duration": 19,
    "start_time": "2021-10-04T03:11:19.957Z"
   },
   {
    "duration": 514,
    "start_time": "2021-10-04T03:11:19.979Z"
   },
   {
    "duration": 35,
    "start_time": "2021-10-04T03:11:20.496Z"
   },
   {
    "duration": 510,
    "start_time": "2021-10-04T03:11:20.533Z"
   },
   {
    "duration": 24,
    "start_time": "2021-10-04T03:11:21.046Z"
   },
   {
    "duration": 546,
    "start_time": "2021-10-04T03:11:21.073Z"
   },
   {
    "duration": 29,
    "start_time": "2021-10-04T03:11:21.622Z"
   },
   {
    "duration": 609,
    "start_time": "2021-10-04T03:11:21.653Z"
   },
   {
    "duration": 27,
    "start_time": "2021-10-04T03:11:22.264Z"
   },
   {
    "duration": 30,
    "start_time": "2021-10-04T03:11:22.294Z"
   },
   {
    "duration": 23,
    "start_time": "2021-10-04T03:11:22.326Z"
   },
   {
    "duration": 606,
    "start_time": "2021-10-04T03:11:22.351Z"
   },
   {
    "duration": 16,
    "start_time": "2021-10-04T03:11:22.959Z"
   },
   {
    "duration": 550,
    "start_time": "2021-10-04T03:11:22.977Z"
   },
   {
    "duration": 38,
    "start_time": "2021-10-04T03:11:23.529Z"
   },
   {
    "duration": 49,
    "start_time": "2021-10-04T03:11:23.569Z"
   },
   {
    "duration": 477,
    "start_time": "2021-10-04T03:11:23.628Z"
   },
   {
    "duration": 11,
    "start_time": "2021-10-04T03:11:24.108Z"
   },
   {
    "duration": 33,
    "start_time": "2021-10-04T03:11:24.121Z"
   },
   {
    "duration": 469,
    "start_time": "2021-10-04T03:11:24.157Z"
   },
   {
    "duration": 23,
    "start_time": "2021-10-04T03:11:24.629Z"
   },
   {
    "duration": 674,
    "start_time": "2021-10-04T03:11:24.655Z"
   },
   {
    "duration": 19,
    "start_time": "2021-10-04T03:11:25.332Z"
   },
   {
    "duration": 566,
    "start_time": "2021-10-04T03:11:25.353Z"
   },
   {
    "duration": 38,
    "start_time": "2021-10-04T03:11:25.921Z"
   },
   {
    "duration": 10,
    "start_time": "2021-10-04T03:11:25.961Z"
   },
   {
    "duration": 54,
    "start_time": "2021-10-04T03:11:25.973Z"
   },
   {
    "duration": 595,
    "start_time": "2021-10-04T03:11:26.029Z"
   },
   {
    "duration": 25,
    "start_time": "2021-10-04T03:11:26.627Z"
   },
   {
    "duration": 10,
    "start_time": "2021-10-04T03:11:26.654Z"
   },
   {
    "duration": 15,
    "start_time": "2021-10-04T03:11:26.667Z"
   },
   {
    "duration": 30,
    "start_time": "2021-10-04T03:11:26.718Z"
   },
   {
    "duration": 29,
    "start_time": "2021-10-04T03:11:26.750Z"
   },
   {
    "duration": 118166,
    "start_time": "2021-10-04T03:11:26.782Z"
   },
   {
    "duration": 73,
    "start_time": "2021-10-04T03:13:24.950Z"
   },
   {
    "duration": 3,
    "start_time": "2021-10-04T03:13:25.025Z"
   },
   {
    "duration": 19,
    "start_time": "2021-10-04T03:13:25.030Z"
   },
   {
    "duration": 13,
    "start_time": "2021-10-04T03:14:07.667Z"
   },
   {
    "duration": 576,
    "start_time": "2021-10-04T03:14:45.696Z"
   },
   {
    "duration": 23,
    "start_time": "2021-10-04T03:14:53.751Z"
   },
   {
    "duration": 15,
    "start_time": "2021-10-04T03:15:43.276Z"
   },
   {
    "duration": 407,
    "start_time": "2022-02-09T18:13:39.776Z"
   },
   {
    "duration": 3020,
    "start_time": "2022-02-09T18:13:47.961Z"
   },
   {
    "duration": 808,
    "start_time": "2022-02-09T18:13:50.983Z"
   },
   {
    "duration": 84,
    "start_time": "2022-02-09T18:13:51.796Z"
   },
   {
    "duration": 15,
    "start_time": "2022-02-09T18:13:51.887Z"
   },
   {
    "duration": 54,
    "start_time": "2022-02-09T18:13:51.906Z"
   },
   {
    "duration": 15,
    "start_time": "2022-02-09T18:13:51.964Z"
   },
   {
    "duration": 16,
    "start_time": "2022-02-09T18:13:51.981Z"
   },
   {
    "duration": 20,
    "start_time": "2022-02-09T18:13:51.999Z"
   },
   {
    "duration": 406,
    "start_time": "2022-02-09T18:13:52.051Z"
   },
   {
    "duration": 19,
    "start_time": "2022-02-09T18:13:52.460Z"
   },
   {
    "duration": 154,
    "start_time": "2022-02-09T18:13:52.482Z"
   },
   {
    "duration": 24,
    "start_time": "2022-02-09T18:13:52.639Z"
   },
   {
    "duration": 31,
    "start_time": "2022-02-09T18:13:52.666Z"
   },
   {
    "duration": 20,
    "start_time": "2022-02-09T18:13:52.699Z"
   },
   {
    "duration": 44,
    "start_time": "2022-02-09T18:13:52.749Z"
   },
   {
    "duration": 17,
    "start_time": "2022-02-09T18:13:52.797Z"
   },
   {
    "duration": 49,
    "start_time": "2022-02-09T18:13:52.817Z"
   },
   {
    "duration": 149,
    "start_time": "2022-02-09T18:13:52.869Z"
   },
   {
    "duration": 28,
    "start_time": "2022-02-09T18:13:53.021Z"
   },
   {
    "duration": 26,
    "start_time": "2022-02-09T18:13:53.051Z"
   },
   {
    "duration": 68,
    "start_time": "2022-02-09T18:13:53.080Z"
   },
   {
    "duration": 22,
    "start_time": "2022-02-09T18:13:53.151Z"
   },
   {
    "duration": 77,
    "start_time": "2022-02-09T18:13:53.176Z"
   },
   {
    "duration": 19,
    "start_time": "2022-02-09T18:13:53.256Z"
   },
   {
    "duration": 33,
    "start_time": "2022-02-09T18:13:53.278Z"
   },
   {
    "duration": 49,
    "start_time": "2022-02-09T18:13:53.315Z"
   },
   {
    "duration": 30,
    "start_time": "2022-02-09T18:13:53.371Z"
   },
   {
    "duration": 73,
    "start_time": "2022-02-09T18:13:53.407Z"
   },
   {
    "duration": 19,
    "start_time": "2022-02-09T18:13:53.483Z"
   },
   {
    "duration": 107,
    "start_time": "2022-02-09T18:13:53.505Z"
   },
   {
    "duration": 44,
    "start_time": "2022-02-09T18:13:53.615Z"
   },
   {
    "duration": 355,
    "start_time": "2022-02-09T18:13:53.662Z"
   },
   {
    "duration": 32,
    "start_time": "2022-02-09T18:13:54.020Z"
   },
   {
    "duration": 32,
    "start_time": "2022-02-09T18:13:54.054Z"
   },
   {
    "duration": 63,
    "start_time": "2022-02-09T18:13:54.089Z"
   },
   {
    "duration": 120,
    "start_time": "2022-02-09T18:13:54.155Z"
   },
   {
    "duration": 23,
    "start_time": "2022-02-09T18:13:54.278Z"
   },
   {
    "duration": 169,
    "start_time": "2022-02-09T18:13:54.304Z"
   },
   {
    "duration": 30,
    "start_time": "2022-02-09T18:13:54.476Z"
   },
   {
    "duration": 79,
    "start_time": "2022-02-09T18:13:54.509Z"
   },
   {
    "duration": 20,
    "start_time": "2022-02-09T18:13:54.591Z"
   },
   {
    "duration": 151,
    "start_time": "2022-02-09T18:13:54.613Z"
   },
   {
    "duration": 20,
    "start_time": "2022-02-09T18:13:54.767Z"
   },
   {
    "duration": 69,
    "start_time": "2022-02-09T18:13:54.790Z"
   },
   {
    "duration": 35,
    "start_time": "2022-02-09T18:13:54.862Z"
   },
   {
    "duration": 24,
    "start_time": "2022-02-09T18:13:54.900Z"
   },
   {
    "duration": 41,
    "start_time": "2022-02-09T18:13:54.926Z"
   },
   {
    "duration": 41,
    "start_time": "2022-02-09T18:13:54.970Z"
   },
   {
    "duration": 67,
    "start_time": "2022-02-09T18:13:55.014Z"
   },
   {
    "duration": 564,
    "start_time": "2022-02-09T18:13:55.084Z"
   },
   {
    "duration": 554,
    "start_time": "2022-02-09T18:13:55.651Z"
   },
   {
    "duration": 19,
    "start_time": "2022-02-09T18:13:56.207Z"
   },
   {
    "duration": 730,
    "start_time": "2022-02-09T18:13:56.230Z"
   },
   {
    "duration": 29,
    "start_time": "2022-02-09T18:13:56.962Z"
   },
   {
    "duration": 654,
    "start_time": "2022-02-09T18:13:56.994Z"
   },
   {
    "duration": 25,
    "start_time": "2022-02-09T18:13:57.651Z"
   },
   {
    "duration": 577,
    "start_time": "2022-02-09T18:13:57.678Z"
   },
   {
    "duration": 41,
    "start_time": "2022-02-09T18:13:58.257Z"
   },
   {
    "duration": 657,
    "start_time": "2022-02-09T18:13:58.301Z"
   },
   {
    "duration": 26,
    "start_time": "2022-02-09T18:13:58.961Z"
   },
   {
    "duration": 15,
    "start_time": "2022-02-09T18:13:58.989Z"
   },
   {
    "duration": 60,
    "start_time": "2022-02-09T18:13:59.006Z"
   },
   {
    "duration": 676,
    "start_time": "2022-02-09T18:13:59.068Z"
   },
   {
    "duration": 16,
    "start_time": "2022-02-09T18:13:59.749Z"
   },
   {
    "duration": 640,
    "start_time": "2022-02-09T18:13:59.767Z"
   },
   {
    "duration": 57,
    "start_time": "2022-02-09T18:14:00.409Z"
   },
   {
    "duration": 29,
    "start_time": "2022-02-09T18:14:00.468Z"
   },
   {
    "duration": 496,
    "start_time": "2022-02-09T18:14:00.500Z"
   },
   {
    "duration": 7,
    "start_time": "2022-02-09T18:14:00.998Z"
   },
   {
    "duration": 45,
    "start_time": "2022-02-09T18:14:01.008Z"
   },
   {
    "duration": 500,
    "start_time": "2022-02-09T18:14:01.055Z"
   },
   {
    "duration": 16,
    "start_time": "2022-02-09T18:14:01.557Z"
   },
   {
    "duration": 37,
    "start_time": "2022-02-09T18:14:01.576Z"
   },
   {
    "duration": 662,
    "start_time": "2022-02-09T18:14:01.616Z"
   },
   {
    "duration": 27,
    "start_time": "2022-02-09T18:14:02.280Z"
   },
   {
    "duration": 740,
    "start_time": "2022-02-09T18:14:02.310Z"
   },
   {
    "duration": 37,
    "start_time": "2022-02-09T18:14:03.052Z"
   },
   {
    "duration": 13,
    "start_time": "2022-02-09T18:14:03.092Z"
   },
   {
    "duration": 54,
    "start_time": "2022-02-09T18:14:03.107Z"
   },
   {
    "duration": 877,
    "start_time": "2022-02-09T18:14:03.164Z"
   },
   {
    "duration": 28,
    "start_time": "2022-02-09T18:14:04.049Z"
   },
   {
    "duration": 13,
    "start_time": "2022-02-09T18:14:04.080Z"
   },
   {
    "duration": 54,
    "start_time": "2022-02-09T18:14:04.096Z"
   },
   {
    "duration": 40,
    "start_time": "2022-02-09T18:14:04.154Z"
   },
   {
    "duration": 73,
    "start_time": "2022-02-09T18:14:04.197Z"
   },
   {
    "duration": 1005,
    "start_time": "2022-02-09T18:14:04.273Z"
   },
   {
    "duration": 100,
    "start_time": "2022-02-09T18:14:05.282Z"
   },
   {
    "duration": 4,
    "start_time": "2022-02-09T18:14:05.385Z"
   },
   {
    "duration": 10,
    "start_time": "2022-02-09T18:14:05.392Z"
   },
   {
    "duration": 24,
    "start_time": "2022-02-09T18:19:34.206Z"
   }
  ],
  "kernelspec": {
   "display_name": "Python 3",
   "language": "python",
   "name": "python3"
  },
  "language_info": {
   "codemirror_mode": {
    "name": "ipython",
    "version": 3
   },
   "file_extension": ".py",
   "mimetype": "text/x-python",
   "name": "python",
   "nbconvert_exporter": "python",
   "pygments_lexer": "ipython3",
   "version": "3.8.8"
  },
  "toc": {
   "base_numbering": 1,
   "nav_menu": {},
   "number_sections": true,
   "sideBar": true,
   "skip_h1_title": true,
   "title_cell": "Table of Contents",
   "title_sidebar": "Contents",
   "toc_cell": false,
   "toc_position": {},
   "toc_section_display": true,
   "toc_window_display": false
  }
 },
 "nbformat": 4,
 "nbformat_minor": 2
}
